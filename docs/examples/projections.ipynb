{
 "cells": [
  {
   "cell_type": "code",
   "execution_count": 7,
   "metadata": {},
   "outputs": [],
   "source": [
    "import pipit"
   ]
  },
  {
   "cell_type": "code",
   "execution_count": 8,
   "metadata": {},
   "outputs": [],
   "source": [
    "executable_path = '../../pipit/tests/data/projections-data/hello-1darray-projections/hello'\n",
    "trace = pipit.trace.Trace.from_projections(executable_path)"
   ]
  },
  {
   "cell_type": "code",
   "execution_count": 9,
   "metadata": {},
   "outputs": [
    {
     "name": "stdout",
     "output_type": "stream",
     "text": [
      "      Function Name     Event Type  Time  Process  \\\n",
      "0       Computation          Entry  1345        0   \n",
      "1              Pack          Entry  1499        0   \n",
      "2              Pack           Exit  1499        0   \n",
      "3            Unpack          Entry  1501        0   \n",
      "4            Unpack           Exit  1501        0   \n",
      "5            Create         Create  1595        0   \n",
      "6         User Stat      User Stat  1604        0   \n",
      "7         User Stat      User Stat  1604        0   \n",
      "8        User Event     User Event  1604        0   \n",
      "9   User Event Pair          Entry  1605        0   \n",
      "10    User Supplied  User Supplied    -1        0   \n",
      "11             Pack          Entry  1621        0   \n",
      "12             Pack           Exit  1621        0   \n",
      "13           Unpack          Entry  1622        0   \n",
      "14           Unpack           Exit  1622        0   \n",
      "\n",
      "                                         Details  Created By  \n",
      "0                                                         -1  \n",
      "1                                                          0  \n",
      "2                                                          0  \n",
      "3                                                          0  \n",
      "4                                                          0  \n",
      "5   CkCheckpointWriteMgr::CkCheckpointWriteMgr()           0  \n",
      "6                        tracing user stat : 0.0           0  \n",
      "7                        tracing user stat : 0.0           0  \n",
      "8                               Time Step Begin            0  \n",
      "9                            For Bracket Events            0  \n",
      "10                                            -2          -1  \n",
      "11                                                         0  \n",
      "12                                                         0  \n",
      "13                                                         0  \n",
      "14                                                         0  \n"
     ]
    }
   ],
   "source": [
    "print(trace.events.head(15))\n"
   ]
  },
  {
   "cell_type": "code",
   "execution_count": 11,
   "metadata": {},
   "outputs": [
    {
     "name": "stdout",
     "output_type": "stream",
     "text": [
      "  Function Name Event Type  Time  Process                  Details  Created By\n",
      "6     User Stat  User Stat  1604        0  tracing user stat : 0.0           0\n",
      "7     User Stat  User Stat  1604        0  tracing user stat : 0.0           0\n"
     ]
    }
   ],
   "source": [
    "df = trace.events\n",
    "print(df.loc[df['Function Name'] == 'User Stat'])"
   ]
  }
 ],
 "metadata": {
  "kernelspec": {
   "display_name": "Python 3.10.6 64-bit",
   "language": "python",
   "name": "python3"
  },
  "language_info": {
   "codemirror_mode": {
    "name": "ipython",
    "version": 3
   },
   "file_extension": ".py",
   "mimetype": "text/x-python",
   "name": "python",
   "nbconvert_exporter": "python",
   "pygments_lexer": "ipython3",
   "version": "3.10.6"
  },
  "orig_nbformat": 4,
  "vscode": {
   "interpreter": {
    "hash": "916dbcbb3f70747c44a77c7bcd40155683ae19c65e1c03b4aa3499c5328201f1"
   }
  }
 },
 "nbformat": 4,
 "nbformat_minor": 2
}
