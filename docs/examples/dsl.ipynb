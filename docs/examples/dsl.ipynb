{
 "cells": [
  {
   "cell_type": "code",
   "execution_count": 1,
   "id": "8227bf9b-a386-4cb0-9eba-a7e258bf1d00",
   "metadata": {},
   "outputs": [],
   "source": [
    "%load_ext autoreload \n",
    "%autoreload 2"
   ]
  },
  {
   "cell_type": "code",
   "execution_count": 2,
   "id": "7c95d344-9406-4c66-978a-e7032df0967b",
   "metadata": {},
   "outputs": [],
   "source": [
    "import sys\n",
    "sys.path.append(\"../..\")"
   ]
  },
  {
   "cell_type": "code",
   "execution_count": 3,
   "id": "a8ea89f2-3d70-486c-9901-aeb4900169cb",
   "metadata": {},
   "outputs": [],
   "source": [
    "import pandas as pd\n",
    "import numpy as np\n",
    "import pipit as pp"
   ]
  },
  {
   "cell_type": "code",
   "execution_count": 4,
   "id": "589e87fd-d8d1-4ddf-a426-b911410379c4",
   "metadata": {},
   "outputs": [],
   "source": [
    "trace = pp.Trace.from_otf2(\"../../pipit/tests/data/ping-pong-otf2/\")\n",
    "pandas_df = trace.events[[\"Timestamp (ns)\", \"Name\", \"Event Type\", \"Process\", \"Thread\"]].copy()\n",
    "pandas_df[\"Process\"] = pandas_df[\"Process\"].astype(int)\n",
    "pandas_df[\"Thread\"] = pandas_df[\"Thread\"].astype(int)"
   ]
  },
  {
   "cell_type": "code",
   "execution_count": null,
   "id": "f57deca6-f97b-4973-a14f-accf773abe5c",
   "metadata": {},
   "outputs": [],
   "source": []
  },
  {
   "cell_type": "code",
   "execution_count": 8,
   "id": "7e533124-b47e-423a-8cd6-34bc592975ce",
   "metadata": {},
   "outputs": [
    {
     "name": "stderr",
     "output_type": "stream",
     "text": [
      "24/02/23 04:22:51 WARN Utils: Your hostname, FEIG5S9893 resolves to a loopback address: 127.0.1.1; using 172.27.119.109 instead (on interface eth0)\n",
      "24/02/23 04:22:51 WARN Utils: Set SPARK_LOCAL_IP if you need to bind to another address\n",
      "Setting default log level to \"WARN\".\n",
      "To adjust logging level use sc.setLogLevel(newLevel). For SparkR, use setLogLevel(newLevel).\n",
      "24/02/23 04:22:53 WARN NativeCodeLoader: Unable to load native-hadoop library for your platform... using builtin-java classes where applicable\n"
     ]
    }
   ],
   "source": [
    "from pyspark.sql import SparkSession\n",
    "spark = SparkSession.builder.getOrCreate()"
   ]
  },
  {
   "cell_type": "code",
   "execution_count": 9,
   "id": "418d40b7-b46b-4eb7-b001-2468a7524eac",
   "metadata": {},
   "outputs": [
    {
     "name": "stderr",
     "output_type": "stream",
     "text": [
      "                                                                                \r"
     ]
    },
    {
     "name": "stdout",
     "output_type": "stream",
     "text": [
      "+--------------------+--------------------+----------+-------+------+\n",
      "|      Timestamp (ns)|                Name|Event Type|Process|Thread|\n",
      "+--------------------+--------------------+----------+-------+------+\n",
      "|                 0.0|        ProgramBegin|   Instant|      1|     0|\n",
      "|  30083.086937435106|int main(int, cha...|     Enter|      1|     0|\n",
      "|   40288.33150186851|            MPI_Init|     Enter|      1|     0|\n",
      "|   307730.9358165928|        ProgramBegin|   Instant|      0|     0|\n",
      "|  336979.73374932166|int main(int, cha...|     Enter|      0|     0|\n",
      "|  346054.77444467926|            MPI_Init|     Enter|      0|     0|\n",
      "| 1.936431381741584E8|            MPI_Init|     Leave|      0|     0|\n",
      "| 1.936438354832178E8|            MPI_Init|     Leave|      1|     0|\n",
      "|1.9365164620379105E8|       MPI_Comm_size|     Enter|      0|     0|\n",
      "|1.9365271483827707E8|       MPI_Comm_size|     Enter|      1|     0|\n",
      "|1.9365316300611198E8|       MPI_Comm_size|     Leave|      0|     0|\n",
      "|1.9365416291198432E8|       MPI_Comm_size|     Leave|      1|     0|\n",
      "|1.9365565441835713E8|       MPI_Comm_rank|     Enter|      0|     0|\n",
      "|1.9365628013511068E8|       MPI_Comm_rank|     Enter|      1|     0|\n",
      "|  1.93656794167867E8|       MPI_Comm_rank|     Leave|      0|     0|\n",
      "| 1.936573463831865E8|       MPI_Comm_rank|     Leave|      1|     0|\n",
      "|1.9366822507270837E8|            MPI_Send|     Enter|      0|     0|\n",
      "| 1.936725845668554E8|             MpiSend|   Instant|      0|     0|\n",
      "|1.9367729295417315E8|            MPI_Recv|     Enter|      1|     0|\n",
      "|1.9368593032723847E8|            MPI_Send|     Leave|      0|     0|\n",
      "+--------------------+--------------------+----------+-------+------+\n",
      "only showing top 20 rows\n",
      "\n"
     ]
    }
   ],
   "source": [
    "df = spark.createDataFrame(pandas_df)\n",
    "df.show()"
   ]
  },
  {
   "cell_type": "code",
   "execution_count": 10,
   "id": "8e41b209-72ce-406c-a1a9-bc26fec4b46c",
   "metadata": {},
   "outputs": [],
   "source": [
    "# # Filter rows where \"Event Type\" is \"Enter\"\n",
    "# filtered_df = df.filter(col(\"Event Type\") == \"Enter\")\n",
    "\n",
    "# # Group by \"Name\" and \"Process\", then sum\n",
    "# grouped_df = filtered_df.groupby([\"Name\", \"Process\"]).sum()\n",
    "\n",
    "# # Group by \"Name\" and calculate the mean\n",
    "# result_df = grouped_df.groupby(\"Name\").mean()\n",
    "\n",
    "# # Show the result\n",
    "# result_df.show()"
   ]
  },
  {
   "cell_type": "code",
   "execution_count": 11,
   "id": "dc03ff84-a325-4b95-98de-8fd0eaaaf50f",
   "metadata": {},
   "outputs": [],
   "source": [
    "from pyspark.sql import functions as F"
   ]
  },
  {
   "cell_type": "code",
   "execution_count": 12,
   "id": "46760cdf-ead2-4b7f-84ec-93065143157d",
   "metadata": {},
   "outputs": [
    {
     "data": {
      "text/plain": [
       "Column<'(Name > 5)'>"
      ]
     },
     "execution_count": 12,
     "metadata": {},
     "output_type": "execute_result"
    }
   ],
   "source": [
    "F.col(\"Name\") > 5"
   ]
  },
  {
   "cell_type": "code",
   "execution_count": 14,
   "id": "befd97be-72d2-47d7-9bb1-85eaf1158b76",
   "metadata": {},
   "outputs": [],
   "source": [
    "# from pipit.dsl import functions as FF\n",
    "# FF.col(\"Name\")"
   ]
  },
  {
   "cell_type": "code",
   "execution_count": null,
   "id": "80b29723-6e66-4f6e-8a76-9dae6b3f4ce1",
   "metadata": {},
   "outputs": [],
   "source": []
  },
  {
   "cell_type": "code",
   "execution_count": 15,
   "id": "82b47390-f7fe-4950-9f54-bdd5a525d73c",
   "metadata": {},
   "outputs": [
    {
     "data": {
      "text/html": [
       "<div><style>\n",
       ".dataframe > thead > tr,\n",
       ".dataframe > tbody > tr {\n",
       "  text-align: right;\n",
       "  white-space: pre-wrap;\n",
       "}\n",
       "</style>\n",
       "<small>shape: (60, 5)</small><table border=\"1\" class=\"dataframe\"><thead><tr><th>Timestamp (ns)</th><th>Name</th><th>Event Type</th><th>Process</th><th>Thread</th></tr><tr><td>f64</td><td>cat</td><td>cat</td><td>i64</td><td>i64</td></tr></thead><tbody><tr><td>307730.935817</td><td>&quot;ProgramBegin&quot;</td><td>&quot;Instant&quot;</td><td>0</td><td>0</td></tr><tr><td>336979.733749</td><td>&quot;int main(int, …</td><td>&quot;Enter&quot;</td><td>0</td><td>0</td></tr><tr><td>346054.774445</td><td>&quot;MPI_Init&quot;</td><td>&quot;Enter&quot;</td><td>0</td><td>0</td></tr><tr><td>1.9364e8</td><td>&quot;MPI_Init&quot;</td><td>&quot;Leave&quot;</td><td>0</td><td>0</td></tr><tr><td>1.9365e8</td><td>&quot;MPI_Comm_size&quot;</td><td>&quot;Enter&quot;</td><td>0</td><td>0</td></tr><tr><td>1.9365e8</td><td>&quot;MPI_Comm_size&quot;</td><td>&quot;Leave&quot;</td><td>0</td><td>0</td></tr><tr><td>1.9366e8</td><td>&quot;MPI_Comm_rank&quot;</td><td>&quot;Enter&quot;</td><td>0</td><td>0</td></tr><tr><td>1.9366e8</td><td>&quot;MPI_Comm_rank&quot;</td><td>&quot;Leave&quot;</td><td>0</td><td>0</td></tr><tr><td>1.9367e8</td><td>&quot;MPI_Send&quot;</td><td>&quot;Enter&quot;</td><td>0</td><td>0</td></tr><tr><td>1.9367e8</td><td>&quot;MpiSend&quot;</td><td>&quot;Instant&quot;</td><td>0</td><td>0</td></tr><tr><td>1.9369e8</td><td>&quot;MPI_Send&quot;</td><td>&quot;Leave&quot;</td><td>0</td><td>0</td></tr><tr><td>1.9369e8</td><td>&quot;MPI_Recv&quot;</td><td>&quot;Enter&quot;</td><td>0</td><td>0</td></tr><tr><td>&hellip;</td><td>&hellip;</td><td>&hellip;</td><td>&hellip;</td><td>&hellip;</td></tr><tr><td>1.9658e8</td><td>&quot;MpiRecv&quot;</td><td>&quot;Instant&quot;</td><td>0</td><td>0</td></tr><tr><td>1.9658e8</td><td>&quot;MPI_Recv&quot;</td><td>&quot;Leave&quot;</td><td>0</td><td>0</td></tr><tr><td>1.9761e8</td><td>&quot;MPI_Send&quot;</td><td>&quot;Enter&quot;</td><td>0</td><td>0</td></tr><tr><td>1.9761e8</td><td>&quot;MpiSend&quot;</td><td>&quot;Instant&quot;</td><td>0</td><td>0</td></tr><tr><td>1.9851e8</td><td>&quot;MPI_Send&quot;</td><td>&quot;Leave&quot;</td><td>0</td><td>0</td></tr><tr><td>1.9851e8</td><td>&quot;MPI_Recv&quot;</td><td>&quot;Enter&quot;</td><td>0</td><td>0</td></tr><tr><td>1.9932e8</td><td>&quot;MpiRecv&quot;</td><td>&quot;Instant&quot;</td><td>0</td><td>0</td></tr><tr><td>1.9932e8</td><td>&quot;MPI_Recv&quot;</td><td>&quot;Leave&quot;</td><td>0</td><td>0</td></tr><tr><td>1.9951e8</td><td>&quot;MPI_Finalize&quot;</td><td>&quot;Enter&quot;</td><td>0</td><td>0</td></tr><tr><td>1.9957e8</td><td>&quot;MPI_Finalize&quot;</td><td>&quot;Leave&quot;</td><td>0</td><td>0</td></tr><tr><td>1.9958e8</td><td>&quot;int main(int, …</td><td>&quot;Leave&quot;</td><td>0</td><td>0</td></tr><tr><td>1.9960e8</td><td>&quot;ProgramEnd&quot;</td><td>&quot;Instant&quot;</td><td>0</td><td>0</td></tr></tbody></table></div>"
      ],
      "text/plain": [
       "shape: (60, 5)\n",
       "┌────────────────┬───────────────────────┬────────────┬─────────┬────────┐\n",
       "│ Timestamp (ns) ┆ Name                  ┆ Event Type ┆ Process ┆ Thread │\n",
       "│ ---            ┆ ---                   ┆ ---        ┆ ---     ┆ ---    │\n",
       "│ f64            ┆ cat                   ┆ cat        ┆ i64     ┆ i64    │\n",
       "╞════════════════╪═══════════════════════╪════════════╪═════════╪════════╡\n",
       "│ 307730.935817  ┆ ProgramBegin          ┆ Instant    ┆ 0       ┆ 0      │\n",
       "│ 336979.733749  ┆ int main(int, char**) ┆ Enter      ┆ 0       ┆ 0      │\n",
       "│ 346054.774445  ┆ MPI_Init              ┆ Enter      ┆ 0       ┆ 0      │\n",
       "│ 1.9364e8       ┆ MPI_Init              ┆ Leave      ┆ 0       ┆ 0      │\n",
       "│ …              ┆ …                     ┆ …          ┆ …       ┆ …      │\n",
       "│ 1.9951e8       ┆ MPI_Finalize          ┆ Enter      ┆ 0       ┆ 0      │\n",
       "│ 1.9957e8       ┆ MPI_Finalize          ┆ Leave      ┆ 0       ┆ 0      │\n",
       "│ 1.9958e8       ┆ int main(int, char**) ┆ Leave      ┆ 0       ┆ 0      │\n",
       "│ 1.9960e8       ┆ ProgramEnd            ┆ Instant    ┆ 0       ┆ 0      │\n",
       "└────────────────┴───────────────────────┴────────────┴─────────┴────────┘"
      ]
     },
     "execution_count": 15,
     "metadata": {},
     "output_type": "execute_result"
    }
   ],
   "source": [
    "import polars as pl\n",
    "\n",
    "polars_df = pl.from_pandas(pandas_df)\n",
    "\n",
    "polars_df.filter(pl.col(\"Process\") == 0)"
   ]
  },
  {
   "cell_type": "code",
   "execution_count": 16,
   "id": "332e4d51-05aa-4f0c-bf4c-fbb126ebfa48",
   "metadata": {},
   "outputs": [
    {
     "data": {
      "text/plain": [
       "Column<'Process'>"
      ]
     },
     "execution_count": 16,
     "metadata": {},
     "output_type": "execute_result"
    }
   ],
   "source": [
    "F.col(\"Process\")"
   ]
  },
  {
   "cell_type": "code",
   "execution_count": 17,
   "id": "b231ee0c-63e1-487a-9345-b8d3b9e1030e",
   "metadata": {},
   "outputs": [
    {
     "data": {
      "text/plain": [
       "Column<'sum((Process + Process))'>"
      ]
     },
     "execution_count": 17,
     "metadata": {},
     "output_type": "execute_result"
    }
   ],
   "source": [
    "F.sum(F.col(\"Process\") + F.col(\"Process\"))"
   ]
  },
  {
   "cell_type": "code",
   "execution_count": 18,
   "id": "561ee564-9f02-4492-ac10-c4c42a617674",
   "metadata": {},
   "outputs": [
    {
     "data": {
      "text/html": [
       "[(col(\"Process\")) + (col(\"Process\"))]"
      ],
      "text/plain": [
       "<polars.expr.expr.Expr at 0x7f4215b81610>"
      ]
     },
     "execution_count": 18,
     "metadata": {},
     "output_type": "execute_result"
    }
   ],
   "source": [
    "pl.col(\"Process\") + pl.col(\"Process\")"
   ]
  },
  {
   "cell_type": "code",
   "execution_count": 19,
   "id": "5830e0a6-513f-4d44-9c27-b8a0bc6ac63a",
   "metadata": {},
   "outputs": [
    {
     "data": {
      "text/plain": [
       "polars.expr.expr.Expr"
      ]
     },
     "execution_count": 19,
     "metadata": {},
     "output_type": "execute_result"
    }
   ],
   "source": [
    "type(pl.col(\"Process\"))"
   ]
  },
  {
   "cell_type": "code",
   "execution_count": null,
   "id": "93ff366e-5066-48f0-a6b7-25db5ba1a377",
   "metadata": {},
   "outputs": [],
   "source": []
  },
  {
   "cell_type": "code",
   "execution_count": null,
   "id": "0ae199ef-b182-4bcf-b863-d97e37a40af9",
   "metadata": {},
   "outputs": [],
   "source": []
  },
  {
   "cell_type": "code",
   "execution_count": null,
   "id": "52edfe92-4a3e-4fa6-8d28-9519c69f2c64",
   "metadata": {},
   "outputs": [],
   "source": []
  },
  {
   "cell_type": "code",
   "execution_count": null,
   "id": "aa085f75-83cb-41bc-b201-2d60c59e0246",
   "metadata": {},
   "outputs": [],
   "source": []
  },
  {
   "cell_type": "code",
   "execution_count": null,
   "id": "f9fe7210-fc41-4566-9040-6a47ab2e3b69",
   "metadata": {},
   "outputs": [],
   "source": []
  },
  {
   "cell_type": "code",
   "execution_count": null,
   "id": "e424703d-6d03-4af7-aace-468c210d2e46",
   "metadata": {},
   "outputs": [],
   "source": []
  },
  {
   "cell_type": "code",
   "execution_count": null,
   "id": "3a25be67-34c0-4e1d-96bb-fd094f24bd1f",
   "metadata": {},
   "outputs": [],
   "source": []
  },
  {
   "cell_type": "code",
   "execution_count": 55,
   "id": "3867d2a2-ff3e-4c8c-9c09-46a167a0fde4",
   "metadata": {},
   "outputs": [
    {
     "data": {
      "text/plain": [
       "'pandas'"
      ]
     },
     "execution_count": 55,
     "metadata": {},
     "output_type": "execute_result"
    }
   ],
   "source": [
    "from pipit.util.config import set_option, get_option\n",
    "\n",
    "set_option(\"backend\", \"pandas\")\n",
    "get_option(\"backend\")"
   ]
  },
  {
   "cell_type": "code",
   "execution_count": 61,
   "id": "156df562-4431-40b8-b6b0-b7cfbe6206d0",
   "metadata": {},
   "outputs": [],
   "source": [
    "from pipit.dsl.dataset import create_dataset\n",
    "\n",
    "ds = create_dataset()"
   ]
  },
  {
   "cell_type": "code",
   "execution_count": 63,
   "id": "845b7e12-b6be-4319-bd88-ef4c9b080758",
   "metadata": {},
   "outputs": [
    {
     "name": "stdout",
     "output_type": "stream",
     "text": [
      "(Empty dataset)\n",
      "\n"
     ]
    }
   ],
   "source": [
    "ds.show()"
   ]
  },
  {
   "cell_type": "code",
   "execution_count": 64,
   "id": "7fa7fe70-0c61-4503-9b27-3bae52d2f1c3",
   "metadata": {},
   "outputs": [],
   "source": [
    "# simulating a reader\n",
    "row = pandas_df.iloc[0]\n",
    "evt = Event(timestamp=row[\"Timestamp (ns)\"], process=row[\"Process\"], thread=row[\"Thread\"], name=row[\"Name\"], event_type=row[\"Event Type\"])\n",
    "ds.push_event(evt)"
   ]
  },
  {
   "cell_type": "code",
   "execution_count": 65,
   "id": "5abbffd5-3246-4331-9a40-86b5a6eda0d7",
   "metadata": {},
   "outputs": [
    {
     "name": "stdout",
     "output_type": "stream",
     "text": [
      "(Empty dataset)\n",
      "\n"
     ]
    }
   ],
   "source": [
    "ds.show()"
   ]
  },
  {
   "cell_type": "code",
   "execution_count": 66,
   "id": "bca1c384-0239-46b6-94d0-86439635eb80",
   "metadata": {},
   "outputs": [
    {
     "name": "stdout",
     "output_type": "stream",
     "text": [
      "+----+-------------+--------------+--------------+-----------+----------+\n",
      "|    |   timestamp | name         | event_type   |   process |   thread |\n",
      "|----+-------------+--------------+--------------+-----------+----------|\n",
      "|  0 |           0 | ProgramBegin | Instant      |         1 |        0 |\n",
      "+----+-------------+--------------+--------------+-----------+----------+\n"
     ]
    }
   ],
   "source": [
    "ds.flush()\n",
    "ds.show()"
   ]
  },
  {
   "cell_type": "code",
   "execution_count": 68,
   "id": "2910c4d8-e40d-4683-b0d4-7943a6be34a6",
   "metadata": {},
   "outputs": [],
   "source": [
    "for i in range(1, len(pandas_df)):\n",
    "    row = pandas_df.iloc[i]\n",
    "    evt = Event(timestamp=row[\"Timestamp (ns)\"], process=row[\"Process\"], thread=row[\"Thread\"], name=row[\"Name\"], event_type=row[\"Event Type\"])\n",
    "    ds.push_event(evt)\n",
    "ds.flush()"
   ]
  },
  {
   "cell_type": "code",
   "execution_count": 69,
   "id": "9f348bdb-cb8f-4564-80c2-5ce6811eb75d",
   "metadata": {},
   "outputs": [
    {
     "name": "stdout",
     "output_type": "stream",
     "text": [
      "+-----+------------------+-----------------------+--------------+-----------+----------+\n",
      "|     |        timestamp | name                  | event_type   |   process |   thread |\n",
      "|-----+------------------+-----------------------+--------------+-----------+----------|\n",
      "|   0 |      0           | ProgramBegin          | Instant      |         1 |        0 |\n",
      "|   0 |  30083.1         | int main(int, char**) | Enter        |         1 |        0 |\n",
      "|   1 |  40288.3         | MPI_Init              | Enter        |         1 |        0 |\n",
      "|   2 | 307731           | ProgramBegin          | Instant      |         0 |        0 |\n",
      "|   3 | 336980           | int main(int, char**) | Enter        |         0 |        0 |\n",
      "|   4 | 346055           | MPI_Init              | Enter        |         0 |        0 |\n",
      "|   5 |      1.93643e+08 | MPI_Init              | Leave        |         0 |        0 |\n",
      "|   6 |      1.93644e+08 | MPI_Init              | Leave        |         1 |        0 |\n",
      "|   7 |      1.93652e+08 | MPI_Comm_size         | Enter        |         0 |        0 |\n",
      "|   8 |      1.93653e+08 | MPI_Comm_size         | Enter        |         1 |        0 |\n",
      "|   9 |      1.93653e+08 | MPI_Comm_size         | Leave        |         0 |        0 |\n",
      "|  10 |      1.93654e+08 | MPI_Comm_size         | Leave        |         1 |        0 |\n",
      "|  11 |      1.93656e+08 | MPI_Comm_rank         | Enter        |         0 |        0 |\n",
      "|  12 |      1.93656e+08 | MPI_Comm_rank         | Enter        |         1 |        0 |\n",
      "|  13 |      1.93657e+08 | MPI_Comm_rank         | Leave        |         0 |        0 |\n",
      "|  14 |      1.93657e+08 | MPI_Comm_rank         | Leave        |         1 |        0 |\n",
      "|  15 |      1.93668e+08 | MPI_Send              | Enter        |         0 |        0 |\n",
      "|  16 |      1.93673e+08 | MpiSend               | Instant      |         0 |        0 |\n",
      "|  17 |      1.93677e+08 | MPI_Recv              | Enter        |         1 |        0 |\n",
      "|  18 |      1.93686e+08 | MPI_Send              | Leave        |         0 |        0 |\n",
      "|  19 |      1.93687e+08 | MPI_Recv              | Enter        |         0 |        0 |\n",
      "|  20 |      1.93692e+08 | MpiRecv               | Instant      |         1 |        0 |\n",
      "|  21 |      1.93696e+08 | MPI_Recv              | Leave        |         1 |        0 |\n",
      "|  22 |      1.93699e+08 | MPI_Send              | Enter        |         1 |        0 |\n",
      "|  23 |      1.937e+08   | MpiSend               | Instant      |         1 |        0 |\n",
      "|  24 |      1.93713e+08 | MPI_Send              | Leave        |         1 |        0 |\n",
      "|  25 |      1.93716e+08 | MpiRecv               | Instant      |         0 |        0 |\n",
      "|  26 |      1.93719e+08 | MPI_Recv              | Leave        |         0 |        0 |\n",
      "|  27 |      1.93726e+08 | MPI_Recv              | Enter        |         1 |        0 |\n",
      "|  28 |      1.93744e+08 | MPI_Send              | Enter        |         0 |        0 |\n",
      "|  29 |      1.93744e+08 | MpiSend               | Instant      |         0 |        0 |\n",
      "|  30 |      1.93765e+08 | MPI_Send              | Leave        |         0 |        0 |\n",
      "|  31 |      1.93765e+08 | MpiRecv               | Instant      |         1 |        0 |\n",
      "|  32 |      1.93765e+08 | MPI_Recv              | Enter        |         0 |        0 |\n",
      "|  33 |      1.93765e+08 | MPI_Recv              | Leave        |         1 |        0 |\n",
      "|  34 |      1.93765e+08 | MPI_Send              | Enter        |         1 |        0 |\n",
      "|  35 |      1.93766e+08 | MpiSend               | Instant      |         1 |        0 |\n",
      "|  36 |      1.93784e+08 | MPI_Send              | Leave        |         1 |        0 |\n",
      "|  37 |      1.93784e+08 | MpiRecv               | Instant      |         0 |        0 |\n",
      "|  38 |      1.93785e+08 | MPI_Recv              | Leave        |         0 |        0 |\n",
      "|  39 |      1.93811e+08 | MPI_Recv              | Enter        |         1 |        0 |\n",
      "|  40 |      1.93826e+08 | MPI_Send              | Enter        |         0 |        0 |\n",
      "|  41 |      1.93826e+08 | MpiSend               | Instant      |         0 |        0 |\n",
      "|  42 |      1.93851e+08 | MpiRecv               | Instant      |         1 |        0 |\n",
      "|  43 |      1.93852e+08 | MPI_Recv              | Leave        |         1 |        0 |\n",
      "|  44 |      1.93852e+08 | MPI_Send              | Enter        |         1 |        0 |\n",
      "|  45 |      1.93852e+08 | MpiSend               | Instant      |         1 |        0 |\n",
      "|  46 |      1.93855e+08 | MPI_Send              | Leave        |         0 |        0 |\n",
      "|  47 |      1.93855e+08 | MPI_Recv              | Enter        |         0 |        0 |\n",
      "|  48 |      1.9389e+08  | MpiRecv               | Instant      |         0 |        0 |\n",
      "|  49 |      1.9389e+08  | MPI_Send              | Leave        |         1 |        0 |\n",
      "|  50 |      1.9389e+08  | MPI_Recv              | Leave        |         0 |        0 |\n",
      "|  51 |      1.93942e+08 | MPI_Send              | Enter        |         0 |        0 |\n",
      "|  52 |      1.93943e+08 | MpiSend               | Instant      |         0 |        0 |\n",
      "|  53 |      1.93955e+08 | MPI_Recv              | Enter        |         1 |        0 |\n",
      "|  54 |      1.93993e+08 | MpiRecv               | Instant      |         1 |        0 |\n",
      "|  55 |      1.93993e+08 | MPI_Recv              | Leave        |         1 |        0 |\n",
      "|  56 |      1.93993e+08 | MPI_Send              | Enter        |         1 |        0 |\n",
      "|  57 |      1.93994e+08 | MpiSend               | Instant      |         1 |        0 |\n",
      "|  58 |      1.93996e+08 | MPI_Send              | Leave        |         0 |        0 |\n",
      "|  59 |      1.93996e+08 | MPI_Recv              | Enter        |         0 |        0 |\n",
      "|  60 |      1.9405e+08  | MpiRecv               | Instant      |         0 |        0 |\n",
      "|  61 |      1.9405e+08  | MPI_Send              | Leave        |         1 |        0 |\n",
      "|  62 |      1.9405e+08  | MPI_Recv              | Leave        |         0 |        0 |\n",
      "|  63 |      1.94205e+08 | MPI_Send              | Enter        |         0 |        0 |\n",
      "|  64 |      1.94206e+08 | MpiSend               | Instant      |         0 |        0 |\n",
      "|  65 |      1.9422e+08  | MPI_Recv              | Enter        |         1 |        0 |\n",
      "|  66 |      1.943e+08   | MpiRecv               | Instant      |         1 |        0 |\n",
      "|  67 |      1.943e+08   | MPI_Recv              | Leave        |         1 |        0 |\n",
      "|  68 |      1.943e+08   | MPI_Send              | Enter        |         1 |        0 |\n",
      "|  69 |      1.94301e+08 | MpiSend               | Instant      |         1 |        0 |\n",
      "|  70 |      1.94303e+08 | MPI_Send              | Leave        |         0 |        0 |\n",
      "|  71 |      1.94303e+08 | MPI_Recv              | Enter        |         0 |        0 |\n",
      "|  72 |      1.94409e+08 | MpiRecv               | Instant      |         0 |        0 |\n",
      "|  73 |      1.94409e+08 | MPI_Send              | Leave        |         1 |        0 |\n",
      "|  74 |      1.94409e+08 | MPI_Recv              | Leave        |         0 |        0 |\n",
      "|  75 |      1.94675e+08 | MPI_Send              | Enter        |         0 |        0 |\n",
      "|  76 |      1.94676e+08 | MpiSend               | Instant      |         0 |        0 |\n",
      "|  77 |      1.94762e+08 | MPI_Recv              | Enter        |         1 |        0 |\n",
      "|  78 |      1.94907e+08 | MpiRecv               | Instant      |         1 |        0 |\n",
      "|  79 |      1.94908e+08 | MPI_Recv              | Leave        |         1 |        0 |\n",
      "|  80 |      1.94909e+08 | MPI_Send              | Enter        |         1 |        0 |\n",
      "|  81 |      1.94909e+08 | MpiSend               | Instant      |         1 |        0 |\n",
      "|  82 |      1.94911e+08 | MPI_Send              | Leave        |         0 |        0 |\n",
      "|  83 |      1.94912e+08 | MPI_Recv              | Enter        |         0 |        0 |\n",
      "|  84 |      1.95132e+08 | MPI_Send              | Leave        |         1 |        0 |\n",
      "|  85 |      1.95132e+08 | MpiRecv               | Instant      |         0 |        0 |\n",
      "|  86 |      1.95132e+08 | MPI_Recv              | Leave        |         0 |        0 |\n",
      "|  87 |      1.95718e+08 | MPI_Send              | Enter        |         0 |        0 |\n",
      "|  88 |      1.95719e+08 | MpiSend               | Instant      |         0 |        0 |\n",
      "|  89 |      1.95859e+08 | MPI_Recv              | Enter        |         1 |        0 |\n",
      "|  90 |      1.96136e+08 | MpiRecv               | Instant      |         1 |        0 |\n",
      "|  91 |      1.96137e+08 | MPI_Recv              | Leave        |         1 |        0 |\n",
      "|  92 |      1.96137e+08 | MPI_Send              | Enter        |         1 |        0 |\n",
      "|  93 |      1.96137e+08 | MpiSend               | Instant      |         1 |        0 |\n",
      "|  94 |      1.9614e+08  | MPI_Send              | Leave        |         0 |        0 |\n",
      "|  95 |      1.9614e+08  | MPI_Recv              | Enter        |         0 |        0 |\n",
      "|  96 |      1.96584e+08 | MPI_Send              | Leave        |         1 |        0 |\n",
      "|  97 |      1.96584e+08 | MpiRecv               | Instant      |         0 |        0 |\n",
      "|  98 |      1.96584e+08 | MPI_Recv              | Leave        |         0 |        0 |\n",
      "|  99 |      1.97613e+08 | MPI_Send              | Enter        |         0 |        0 |\n",
      "| 100 |      1.97614e+08 | MpiSend               | Instant      |         0 |        0 |\n",
      "| 101 |      1.97951e+08 | MPI_Recv              | Enter        |         1 |        0 |\n",
      "| 102 |      1.98502e+08 | MpiRecv               | Instant      |         1 |        0 |\n",
      "| 103 |      1.98503e+08 | MPI_Recv              | Leave        |         1 |        0 |\n",
      "| 104 |      1.98503e+08 | MPI_Send              | Enter        |         1 |        0 |\n",
      "| 105 |      1.98504e+08 | MpiSend               | Instant      |         1 |        0 |\n",
      "| 106 |      1.98506e+08 | MPI_Send              | Leave        |         0 |        0 |\n",
      "| 107 |      1.98507e+08 | MPI_Recv              | Enter        |         0 |        0 |\n",
      "| 108 |      1.9932e+08  | MPI_Send              | Leave        |         1 |        0 |\n",
      "| 109 |      1.9932e+08  | MpiRecv               | Instant      |         0 |        0 |\n",
      "| 110 |      1.99321e+08 | MPI_Recv              | Leave        |         0 |        0 |\n",
      "| 111 |      1.99515e+08 | MPI_Finalize          | Enter        |         0 |        0 |\n",
      "| 112 |      1.9953e+08  | MPI_Finalize          | Enter        |         1 |        0 |\n",
      "| 113 |      1.99574e+08 | MPI_Finalize          | Leave        |         0 |        0 |\n",
      "| 114 |      1.99575e+08 | MPI_Finalize          | Leave        |         1 |        0 |\n",
      "| 115 |      1.99575e+08 | int main(int, char**) | Leave        |         0 |        0 |\n",
      "| 116 |      1.99577e+08 | int main(int, char**) | Leave        |         1 |        0 |\n",
      "| 117 |      1.99603e+08 | ProgramEnd            | Instant      |         0 |        0 |\n",
      "| 118 |      1.99604e+08 | ProgramEnd            | Instant      |         1 |        0 |\n",
      "| 119 |  30083.1         | int main(int, char**) | Enter        |         1 |        0 |\n",
      "| 120 |  40288.3         | MPI_Init              | Enter        |         1 |        0 |\n",
      "| 121 | 307731           | ProgramBegin          | Instant      |         0 |        0 |\n",
      "| 122 | 336980           | int main(int, char**) | Enter        |         0 |        0 |\n",
      "| 123 | 346055           | MPI_Init              | Enter        |         0 |        0 |\n",
      "| 124 |      1.93643e+08 | MPI_Init              | Leave        |         0 |        0 |\n",
      "| 125 |      1.93644e+08 | MPI_Init              | Leave        |         1 |        0 |\n",
      "| 126 |      1.93652e+08 | MPI_Comm_size         | Enter        |         0 |        0 |\n",
      "| 127 |      1.93653e+08 | MPI_Comm_size         | Enter        |         1 |        0 |\n",
      "| 128 |      1.93653e+08 | MPI_Comm_size         | Leave        |         0 |        0 |\n",
      "| 129 |      1.93654e+08 | MPI_Comm_size         | Leave        |         1 |        0 |\n",
      "| 130 |      1.93656e+08 | MPI_Comm_rank         | Enter        |         0 |        0 |\n",
      "| 131 |      1.93656e+08 | MPI_Comm_rank         | Enter        |         1 |        0 |\n",
      "| 132 |      1.93657e+08 | MPI_Comm_rank         | Leave        |         0 |        0 |\n",
      "| 133 |      1.93657e+08 | MPI_Comm_rank         | Leave        |         1 |        0 |\n",
      "| 134 |      1.93668e+08 | MPI_Send              | Enter        |         0 |        0 |\n",
      "| 135 |      1.93673e+08 | MpiSend               | Instant      |         0 |        0 |\n",
      "| 136 |      1.93677e+08 | MPI_Recv              | Enter        |         1 |        0 |\n",
      "| 137 |      1.93686e+08 | MPI_Send              | Leave        |         0 |        0 |\n",
      "| 138 |      1.93687e+08 | MPI_Recv              | Enter        |         0 |        0 |\n",
      "| 139 |      1.93692e+08 | MpiRecv               | Instant      |         1 |        0 |\n",
      "| 140 |      1.93696e+08 | MPI_Recv              | Leave        |         1 |        0 |\n",
      "| 141 |      1.93699e+08 | MPI_Send              | Enter        |         1 |        0 |\n",
      "| 142 |      1.937e+08   | MpiSend               | Instant      |         1 |        0 |\n",
      "| 143 |      1.93713e+08 | MPI_Send              | Leave        |         1 |        0 |\n",
      "| 144 |      1.93716e+08 | MpiRecv               | Instant      |         0 |        0 |\n",
      "| 145 |      1.93719e+08 | MPI_Recv              | Leave        |         0 |        0 |\n",
      "| 146 |      1.93726e+08 | MPI_Recv              | Enter        |         1 |        0 |\n",
      "| 147 |      1.93744e+08 | MPI_Send              | Enter        |         0 |        0 |\n",
      "| 148 |      1.93744e+08 | MpiSend               | Instant      |         0 |        0 |\n",
      "| 149 |      1.93765e+08 | MPI_Send              | Leave        |         0 |        0 |\n",
      "| 150 |      1.93765e+08 | MpiRecv               | Instant      |         1 |        0 |\n",
      "| 151 |      1.93765e+08 | MPI_Recv              | Enter        |         0 |        0 |\n",
      "| 152 |      1.93765e+08 | MPI_Recv              | Leave        |         1 |        0 |\n",
      "| 153 |      1.93765e+08 | MPI_Send              | Enter        |         1 |        0 |\n",
      "| 154 |      1.93766e+08 | MpiSend               | Instant      |         1 |        0 |\n",
      "| 155 |      1.93784e+08 | MPI_Send              | Leave        |         1 |        0 |\n",
      "| 156 |      1.93784e+08 | MpiRecv               | Instant      |         0 |        0 |\n",
      "| 157 |      1.93785e+08 | MPI_Recv              | Leave        |         0 |        0 |\n",
      "| 158 |      1.93811e+08 | MPI_Recv              | Enter        |         1 |        0 |\n",
      "| 159 |      1.93826e+08 | MPI_Send              | Enter        |         0 |        0 |\n",
      "| 160 |      1.93826e+08 | MpiSend               | Instant      |         0 |        0 |\n",
      "| 161 |      1.93851e+08 | MpiRecv               | Instant      |         1 |        0 |\n",
      "| 162 |      1.93852e+08 | MPI_Recv              | Leave        |         1 |        0 |\n",
      "| 163 |      1.93852e+08 | MPI_Send              | Enter        |         1 |        0 |\n",
      "| 164 |      1.93852e+08 | MpiSend               | Instant      |         1 |        0 |\n",
      "| 165 |      1.93855e+08 | MPI_Send              | Leave        |         0 |        0 |\n",
      "| 166 |      1.93855e+08 | MPI_Recv              | Enter        |         0 |        0 |\n",
      "| 167 |      1.9389e+08  | MpiRecv               | Instant      |         0 |        0 |\n",
      "| 168 |      1.9389e+08  | MPI_Send              | Leave        |         1 |        0 |\n",
      "| 169 |      1.9389e+08  | MPI_Recv              | Leave        |         0 |        0 |\n",
      "| 170 |      1.93942e+08 | MPI_Send              | Enter        |         0 |        0 |\n",
      "| 171 |      1.93943e+08 | MpiSend               | Instant      |         0 |        0 |\n",
      "| 172 |      1.93955e+08 | MPI_Recv              | Enter        |         1 |        0 |\n",
      "| 173 |      1.93993e+08 | MpiRecv               | Instant      |         1 |        0 |\n",
      "| 174 |      1.93993e+08 | MPI_Recv              | Leave        |         1 |        0 |\n",
      "| 175 |      1.93993e+08 | MPI_Send              | Enter        |         1 |        0 |\n",
      "| 176 |      1.93994e+08 | MpiSend               | Instant      |         1 |        0 |\n",
      "| 177 |      1.93996e+08 | MPI_Send              | Leave        |         0 |        0 |\n",
      "| 178 |      1.93996e+08 | MPI_Recv              | Enter        |         0 |        0 |\n",
      "| 179 |      1.9405e+08  | MpiRecv               | Instant      |         0 |        0 |\n",
      "| 180 |      1.9405e+08  | MPI_Send              | Leave        |         1 |        0 |\n",
      "| 181 |      1.9405e+08  | MPI_Recv              | Leave        |         0 |        0 |\n",
      "| 182 |      1.94205e+08 | MPI_Send              | Enter        |         0 |        0 |\n",
      "| 183 |      1.94206e+08 | MpiSend               | Instant      |         0 |        0 |\n",
      "| 184 |      1.9422e+08  | MPI_Recv              | Enter        |         1 |        0 |\n",
      "| 185 |      1.943e+08   | MpiRecv               | Instant      |         1 |        0 |\n",
      "| 186 |      1.943e+08   | MPI_Recv              | Leave        |         1 |        0 |\n",
      "| 187 |      1.943e+08   | MPI_Send              | Enter        |         1 |        0 |\n",
      "| 188 |      1.94301e+08 | MpiSend               | Instant      |         1 |        0 |\n",
      "| 189 |      1.94303e+08 | MPI_Send              | Leave        |         0 |        0 |\n",
      "| 190 |      1.94303e+08 | MPI_Recv              | Enter        |         0 |        0 |\n",
      "| 191 |      1.94409e+08 | MpiRecv               | Instant      |         0 |        0 |\n",
      "| 192 |      1.94409e+08 | MPI_Send              | Leave        |         1 |        0 |\n",
      "| 193 |      1.94409e+08 | MPI_Recv              | Leave        |         0 |        0 |\n",
      "| 194 |      1.94675e+08 | MPI_Send              | Enter        |         0 |        0 |\n",
      "| 195 |      1.94676e+08 | MpiSend               | Instant      |         0 |        0 |\n",
      "| 196 |      1.94762e+08 | MPI_Recv              | Enter        |         1 |        0 |\n",
      "| 197 |      1.94907e+08 | MpiRecv               | Instant      |         1 |        0 |\n",
      "| 198 |      1.94908e+08 | MPI_Recv              | Leave        |         1 |        0 |\n",
      "| 199 |      1.94909e+08 | MPI_Send              | Enter        |         1 |        0 |\n",
      "|   0 |      1.94909e+08 | MpiSend               | Instant      |         1 |        0 |\n",
      "|   1 |      1.94911e+08 | MPI_Send              | Leave        |         0 |        0 |\n",
      "|   2 |      1.94912e+08 | MPI_Recv              | Enter        |         0 |        0 |\n",
      "|   3 |      1.95132e+08 | MPI_Send              | Leave        |         1 |        0 |\n",
      "|   4 |      1.95132e+08 | MpiRecv               | Instant      |         0 |        0 |\n",
      "|   5 |      1.95132e+08 | MPI_Recv              | Leave        |         0 |        0 |\n",
      "|   6 |      1.95718e+08 | MPI_Send              | Enter        |         0 |        0 |\n",
      "|   7 |      1.95719e+08 | MpiSend               | Instant      |         0 |        0 |\n",
      "|   8 |      1.95859e+08 | MPI_Recv              | Enter        |         1 |        0 |\n",
      "|   9 |      1.96136e+08 | MpiRecv               | Instant      |         1 |        0 |\n",
      "|  10 |      1.96137e+08 | MPI_Recv              | Leave        |         1 |        0 |\n",
      "|  11 |      1.96137e+08 | MPI_Send              | Enter        |         1 |        0 |\n",
      "|  12 |      1.96137e+08 | MpiSend               | Instant      |         1 |        0 |\n",
      "|  13 |      1.9614e+08  | MPI_Send              | Leave        |         0 |        0 |\n",
      "|  14 |      1.9614e+08  | MPI_Recv              | Enter        |         0 |        0 |\n",
      "|  15 |      1.96584e+08 | MPI_Send              | Leave        |         1 |        0 |\n",
      "|  16 |      1.96584e+08 | MpiRecv               | Instant      |         0 |        0 |\n",
      "|  17 |      1.96584e+08 | MPI_Recv              | Leave        |         0 |        0 |\n",
      "|  18 |      1.97613e+08 | MPI_Send              | Enter        |         0 |        0 |\n",
      "|  19 |      1.97614e+08 | MpiSend               | Instant      |         0 |        0 |\n",
      "|  20 |      1.97951e+08 | MPI_Recv              | Enter        |         1 |        0 |\n",
      "|  21 |      1.98502e+08 | MpiRecv               | Instant      |         1 |        0 |\n",
      "|  22 |      1.98503e+08 | MPI_Recv              | Leave        |         1 |        0 |\n",
      "|  23 |      1.98503e+08 | MPI_Send              | Enter        |         1 |        0 |\n",
      "|  24 |      1.98504e+08 | MpiSend               | Instant      |         1 |        0 |\n",
      "|  25 |      1.98506e+08 | MPI_Send              | Leave        |         0 |        0 |\n",
      "|  26 |      1.98507e+08 | MPI_Recv              | Enter        |         0 |        0 |\n",
      "|  27 |      1.9932e+08  | MPI_Send              | Leave        |         1 |        0 |\n",
      "|  28 |      1.9932e+08  | MpiRecv               | Instant      |         0 |        0 |\n",
      "|  29 |      1.99321e+08 | MPI_Recv              | Leave        |         0 |        0 |\n",
      "|  30 |      1.99515e+08 | MPI_Finalize          | Enter        |         0 |        0 |\n",
      "|  31 |      1.9953e+08  | MPI_Finalize          | Enter        |         1 |        0 |\n",
      "|  32 |      1.99574e+08 | MPI_Finalize          | Leave        |         0 |        0 |\n",
      "|  33 |      1.99575e+08 | MPI_Finalize          | Leave        |         1 |        0 |\n",
      "|  34 |      1.99575e+08 | int main(int, char**) | Leave        |         0 |        0 |\n",
      "|  35 |      1.99577e+08 | int main(int, char**) | Leave        |         1 |        0 |\n",
      "|  36 |      1.99603e+08 | ProgramEnd            | Instant      |         0 |        0 |\n",
      "|  37 |      1.99604e+08 | ProgramEnd            | Instant      |         1 |        0 |\n",
      "+-----+------------------+-----------------------+--------------+-----------+----------+\n"
     ]
    }
   ],
   "source": [
    "ds.show()"
   ]
  },
  {
   "cell_type": "code",
   "execution_count": 72,
   "id": "c8a7099f-c446-4800-b55a-c263b742a814",
   "metadata": {},
   "outputs": [
    {
     "name": "stdout",
     "output_type": "stream",
     "text": [
      "+-----+------------------+-----------------------+--------------+-----------+----------+\n",
      "|     |        timestamp | name                  | event_type   |   process |   thread |\n",
      "|-----+------------------+-----------------------+--------------+-----------+----------|\n",
      "|   2 | 307731           | ProgramBegin          | Instant      |         0 |        0 |\n",
      "|   3 | 336980           | int main(int, char**) | Enter        |         0 |        0 |\n",
      "|   4 | 346055           | MPI_Init              | Enter        |         0 |        0 |\n",
      "|   5 |      1.93643e+08 | MPI_Init              | Leave        |         0 |        0 |\n",
      "|   7 |      1.93652e+08 | MPI_Comm_size         | Enter        |         0 |        0 |\n",
      "|   9 |      1.93653e+08 | MPI_Comm_size         | Leave        |         0 |        0 |\n",
      "|  11 |      1.93656e+08 | MPI_Comm_rank         | Enter        |         0 |        0 |\n",
      "|  13 |      1.93657e+08 | MPI_Comm_rank         | Leave        |         0 |        0 |\n",
      "|  15 |      1.93668e+08 | MPI_Send              | Enter        |         0 |        0 |\n",
      "|  16 |      1.93673e+08 | MpiSend               | Instant      |         0 |        0 |\n",
      "|  18 |      1.93686e+08 | MPI_Send              | Leave        |         0 |        0 |\n",
      "|  19 |      1.93687e+08 | MPI_Recv              | Enter        |         0 |        0 |\n",
      "|  25 |      1.93716e+08 | MpiRecv               | Instant      |         0 |        0 |\n",
      "|  26 |      1.93719e+08 | MPI_Recv              | Leave        |         0 |        0 |\n",
      "|  28 |      1.93744e+08 | MPI_Send              | Enter        |         0 |        0 |\n",
      "|  29 |      1.93744e+08 | MpiSend               | Instant      |         0 |        0 |\n",
      "|  30 |      1.93765e+08 | MPI_Send              | Leave        |         0 |        0 |\n",
      "|  32 |      1.93765e+08 | MPI_Recv              | Enter        |         0 |        0 |\n",
      "|  37 |      1.93784e+08 | MpiRecv               | Instant      |         0 |        0 |\n",
      "|  38 |      1.93785e+08 | MPI_Recv              | Leave        |         0 |        0 |\n",
      "|  40 |      1.93826e+08 | MPI_Send              | Enter        |         0 |        0 |\n",
      "|  41 |      1.93826e+08 | MpiSend               | Instant      |         0 |        0 |\n",
      "|  46 |      1.93855e+08 | MPI_Send              | Leave        |         0 |        0 |\n",
      "|  47 |      1.93855e+08 | MPI_Recv              | Enter        |         0 |        0 |\n",
      "|  48 |      1.9389e+08  | MpiRecv               | Instant      |         0 |        0 |\n",
      "|  50 |      1.9389e+08  | MPI_Recv              | Leave        |         0 |        0 |\n",
      "|  51 |      1.93942e+08 | MPI_Send              | Enter        |         0 |        0 |\n",
      "|  52 |      1.93943e+08 | MpiSend               | Instant      |         0 |        0 |\n",
      "|  58 |      1.93996e+08 | MPI_Send              | Leave        |         0 |        0 |\n",
      "|  59 |      1.93996e+08 | MPI_Recv              | Enter        |         0 |        0 |\n",
      "|  60 |      1.9405e+08  | MpiRecv               | Instant      |         0 |        0 |\n",
      "|  62 |      1.9405e+08  | MPI_Recv              | Leave        |         0 |        0 |\n",
      "|  63 |      1.94205e+08 | MPI_Send              | Enter        |         0 |        0 |\n",
      "|  64 |      1.94206e+08 | MpiSend               | Instant      |         0 |        0 |\n",
      "|  70 |      1.94303e+08 | MPI_Send              | Leave        |         0 |        0 |\n",
      "|  71 |      1.94303e+08 | MPI_Recv              | Enter        |         0 |        0 |\n",
      "|  72 |      1.94409e+08 | MpiRecv               | Instant      |         0 |        0 |\n",
      "|  74 |      1.94409e+08 | MPI_Recv              | Leave        |         0 |        0 |\n",
      "|  75 |      1.94675e+08 | MPI_Send              | Enter        |         0 |        0 |\n",
      "|  76 |      1.94676e+08 | MpiSend               | Instant      |         0 |        0 |\n",
      "|  82 |      1.94911e+08 | MPI_Send              | Leave        |         0 |        0 |\n",
      "|  83 |      1.94912e+08 | MPI_Recv              | Enter        |         0 |        0 |\n",
      "|  85 |      1.95132e+08 | MpiRecv               | Instant      |         0 |        0 |\n",
      "|  86 |      1.95132e+08 | MPI_Recv              | Leave        |         0 |        0 |\n",
      "|  87 |      1.95718e+08 | MPI_Send              | Enter        |         0 |        0 |\n",
      "|  88 |      1.95719e+08 | MpiSend               | Instant      |         0 |        0 |\n",
      "|  94 |      1.9614e+08  | MPI_Send              | Leave        |         0 |        0 |\n",
      "|  95 |      1.9614e+08  | MPI_Recv              | Enter        |         0 |        0 |\n",
      "|  97 |      1.96584e+08 | MpiRecv               | Instant      |         0 |        0 |\n",
      "|  98 |      1.96584e+08 | MPI_Recv              | Leave        |         0 |        0 |\n",
      "|  99 |      1.97613e+08 | MPI_Send              | Enter        |         0 |        0 |\n",
      "| 100 |      1.97614e+08 | MpiSend               | Instant      |         0 |        0 |\n",
      "| 106 |      1.98506e+08 | MPI_Send              | Leave        |         0 |        0 |\n",
      "| 107 |      1.98507e+08 | MPI_Recv              | Enter        |         0 |        0 |\n",
      "| 109 |      1.9932e+08  | MpiRecv               | Instant      |         0 |        0 |\n",
      "| 110 |      1.99321e+08 | MPI_Recv              | Leave        |         0 |        0 |\n",
      "| 111 |      1.99515e+08 | MPI_Finalize          | Enter        |         0 |        0 |\n",
      "| 113 |      1.99574e+08 | MPI_Finalize          | Leave        |         0 |        0 |\n",
      "| 115 |      1.99575e+08 | int main(int, char**) | Leave        |         0 |        0 |\n",
      "| 117 |      1.99603e+08 | ProgramEnd            | Instant      |         0 |        0 |\n",
      "| 121 | 307731           | ProgramBegin          | Instant      |         0 |        0 |\n",
      "| 122 | 336980           | int main(int, char**) | Enter        |         0 |        0 |\n",
      "| 123 | 346055           | MPI_Init              | Enter        |         0 |        0 |\n",
      "| 124 |      1.93643e+08 | MPI_Init              | Leave        |         0 |        0 |\n",
      "| 126 |      1.93652e+08 | MPI_Comm_size         | Enter        |         0 |        0 |\n",
      "| 128 |      1.93653e+08 | MPI_Comm_size         | Leave        |         0 |        0 |\n",
      "| 130 |      1.93656e+08 | MPI_Comm_rank         | Enter        |         0 |        0 |\n",
      "| 132 |      1.93657e+08 | MPI_Comm_rank         | Leave        |         0 |        0 |\n",
      "| 134 |      1.93668e+08 | MPI_Send              | Enter        |         0 |        0 |\n",
      "| 135 |      1.93673e+08 | MpiSend               | Instant      |         0 |        0 |\n",
      "| 137 |      1.93686e+08 | MPI_Send              | Leave        |         0 |        0 |\n",
      "| 138 |      1.93687e+08 | MPI_Recv              | Enter        |         0 |        0 |\n",
      "| 144 |      1.93716e+08 | MpiRecv               | Instant      |         0 |        0 |\n",
      "| 145 |      1.93719e+08 | MPI_Recv              | Leave        |         0 |        0 |\n",
      "| 147 |      1.93744e+08 | MPI_Send              | Enter        |         0 |        0 |\n",
      "| 148 |      1.93744e+08 | MpiSend               | Instant      |         0 |        0 |\n",
      "| 149 |      1.93765e+08 | MPI_Send              | Leave        |         0 |        0 |\n",
      "| 151 |      1.93765e+08 | MPI_Recv              | Enter        |         0 |        0 |\n",
      "| 156 |      1.93784e+08 | MpiRecv               | Instant      |         0 |        0 |\n",
      "| 157 |      1.93785e+08 | MPI_Recv              | Leave        |         0 |        0 |\n",
      "| 159 |      1.93826e+08 | MPI_Send              | Enter        |         0 |        0 |\n",
      "| 160 |      1.93826e+08 | MpiSend               | Instant      |         0 |        0 |\n",
      "| 165 |      1.93855e+08 | MPI_Send              | Leave        |         0 |        0 |\n",
      "| 166 |      1.93855e+08 | MPI_Recv              | Enter        |         0 |        0 |\n",
      "| 167 |      1.9389e+08  | MpiRecv               | Instant      |         0 |        0 |\n",
      "| 169 |      1.9389e+08  | MPI_Recv              | Leave        |         0 |        0 |\n",
      "| 170 |      1.93942e+08 | MPI_Send              | Enter        |         0 |        0 |\n",
      "| 171 |      1.93943e+08 | MpiSend               | Instant      |         0 |        0 |\n",
      "| 177 |      1.93996e+08 | MPI_Send              | Leave        |         0 |        0 |\n",
      "| 178 |      1.93996e+08 | MPI_Recv              | Enter        |         0 |        0 |\n",
      "| 179 |      1.9405e+08  | MpiRecv               | Instant      |         0 |        0 |\n",
      "| 181 |      1.9405e+08  | MPI_Recv              | Leave        |         0 |        0 |\n",
      "| 182 |      1.94205e+08 | MPI_Send              | Enter        |         0 |        0 |\n",
      "| 183 |      1.94206e+08 | MpiSend               | Instant      |         0 |        0 |\n",
      "| 189 |      1.94303e+08 | MPI_Send              | Leave        |         0 |        0 |\n",
      "| 190 |      1.94303e+08 | MPI_Recv              | Enter        |         0 |        0 |\n",
      "| 191 |      1.94409e+08 | MpiRecv               | Instant      |         0 |        0 |\n",
      "| 193 |      1.94409e+08 | MPI_Recv              | Leave        |         0 |        0 |\n",
      "| 194 |      1.94675e+08 | MPI_Send              | Enter        |         0 |        0 |\n",
      "| 195 |      1.94676e+08 | MpiSend               | Instant      |         0 |        0 |\n",
      "|   1 |      1.94911e+08 | MPI_Send              | Leave        |         0 |        0 |\n",
      "|   2 |      1.94912e+08 | MPI_Recv              | Enter        |         0 |        0 |\n",
      "|   4 |      1.95132e+08 | MpiRecv               | Instant      |         0 |        0 |\n",
      "|   5 |      1.95132e+08 | MPI_Recv              | Leave        |         0 |        0 |\n",
      "|   6 |      1.95718e+08 | MPI_Send              | Enter        |         0 |        0 |\n",
      "|   7 |      1.95719e+08 | MpiSend               | Instant      |         0 |        0 |\n",
      "|  13 |      1.9614e+08  | MPI_Send              | Leave        |         0 |        0 |\n",
      "|  14 |      1.9614e+08  | MPI_Recv              | Enter        |         0 |        0 |\n",
      "|  16 |      1.96584e+08 | MpiRecv               | Instant      |         0 |        0 |\n",
      "|  17 |      1.96584e+08 | MPI_Recv              | Leave        |         0 |        0 |\n",
      "|  18 |      1.97613e+08 | MPI_Send              | Enter        |         0 |        0 |\n",
      "|  19 |      1.97614e+08 | MpiSend               | Instant      |         0 |        0 |\n",
      "|  25 |      1.98506e+08 | MPI_Send              | Leave        |         0 |        0 |\n",
      "|  26 |      1.98507e+08 | MPI_Recv              | Enter        |         0 |        0 |\n",
      "|  28 |      1.9932e+08  | MpiRecv               | Instant      |         0 |        0 |\n",
      "|  29 |      1.99321e+08 | MPI_Recv              | Leave        |         0 |        0 |\n",
      "|  30 |      1.99515e+08 | MPI_Finalize          | Enter        |         0 |        0 |\n",
      "|  32 |      1.99574e+08 | MPI_Finalize          | Leave        |         0 |        0 |\n",
      "|  34 |      1.99575e+08 | int main(int, char**) | Leave        |         0 |        0 |\n",
      "|  36 |      1.99603e+08 | ProgramEnd            | Instant      |         0 |        0 |\n",
      "+-----+------------------+-----------------------+--------------+-----------+----------+\n"
     ]
    }
   ],
   "source": [
    "ds.filter(\"process == 0\").show()"
   ]
  },
  {
   "cell_type": "code",
   "execution_count": null,
   "id": "9329829b-dd15-4c0b-b45c-b1e90f783259",
   "metadata": {},
   "outputs": [],
   "source": []
  },
  {
   "cell_type": "code",
   "execution_count": null,
   "id": "1af5e3eb-681d-4533-b754-0e35e4eb2caa",
   "metadata": {},
   "outputs": [],
   "source": []
  },
  {
   "cell_type": "code",
   "execution_count": null,
   "id": "a21f8da4-bf39-4045-b867-e011dce8c5fb",
   "metadata": {},
   "outputs": [],
   "source": []
  },
  {
   "cell_type": "code",
   "execution_count": null,
   "id": "b17a269a-614c-4bf5-87c8-c9efd5d3b9e5",
   "metadata": {},
   "outputs": [],
   "source": []
  },
  {
   "cell_type": "code",
   "execution_count": null,
   "id": "f029f767-1bc9-4445-a6a6-d3ca9ce9b0e8",
   "metadata": {},
   "outputs": [],
   "source": []
  },
  {
   "cell_type": "code",
   "execution_count": null,
   "id": "cdc8241c-77f5-4cd0-ac7c-6e739215b976",
   "metadata": {},
   "outputs": [],
   "source": []
  },
  {
   "cell_type": "code",
   "execution_count": null,
   "id": "1a7d7e24-89cd-4179-8840-cf985f324465",
   "metadata": {},
   "outputs": [],
   "source": []
  },
  {
   "cell_type": "code",
   "execution_count": null,
   "id": "cd102d8e-fb67-4d0c-8cf3-5fea626260f2",
   "metadata": {},
   "outputs": [],
   "source": []
  },
  {
   "cell_type": "code",
   "execution_count": null,
   "id": "5630103a-993a-4a61-b27c-92381b051ce7",
   "metadata": {},
   "outputs": [],
   "source": []
  },
  {
   "cell_type": "code",
   "execution_count": 36,
   "id": "41a8a7bc-f36c-422e-8112-50baa73b7679",
   "metadata": {},
   "outputs": [],
   "source": [
    "from pipit.dsl._pandas import PandasInterface\n",
    "from pipit.dsl.event import Event\n",
    "from pipit.dsl.expr import Column\n",
    "\n",
    "ds = PandasInterface()"
   ]
  },
  {
   "cell_type": "code",
   "execution_count": 37,
   "id": "9d86ff20-1e2a-4ddd-8be4-6dc920c95595",
   "metadata": {},
   "outputs": [
    {
     "name": "stdout",
     "output_type": "stream",
     "text": [
      "(Empty dataset)\n",
      "\n"
     ]
    }
   ],
   "source": [
    "ds.show()"
   ]
  },
  {
   "cell_type": "code",
   "execution_count": 45,
   "id": "758fe965-9a2d-4784-afcb-ff7cfd0b0d76",
   "metadata": {},
   "outputs": [
    {
     "data": {
      "text/plain": [
       "Event<'0.0 Instant ProgramBegin 1 0'>"
      ]
     },
     "execution_count": 45,
     "metadata": {},
     "output_type": "execute_result"
    }
   ],
   "source": []
  },
  {
   "cell_type": "code",
   "execution_count": 46,
   "id": "442e7108-7e6b-41b0-ba7d-0223df5971e3",
   "metadata": {},
   "outputs": [],
   "source": [
    "ds.push_event(evt)"
   ]
  },
  {
   "cell_type": "code",
   "execution_count": 47,
   "id": "c28b4093-a877-4a95-9f87-c8664a8111a5",
   "metadata": {},
   "outputs": [
    {
     "name": "stdout",
     "output_type": "stream",
     "text": [
      "+----+-------------+--------------+--------------+-----------+----------+\n",
      "|    |   timestamp | name         | event_type   |   process |   thread |\n",
      "|----+-------------+--------------+--------------+-----------+----------|\n",
      "|  0 |           0 | ProgramBegin | Instant      |         1 |        0 |\n",
      "|  0 |           0 | ProgramBegin | Instant      |         1 |        0 |\n",
      "+----+-------------+--------------+--------------+-----------+----------+\n"
     ]
    }
   ],
   "source": [
    "ds.flush()\n",
    "ds.show()"
   ]
  },
  {
   "cell_type": "code",
   "execution_count": 48,
   "id": "89ee11d6-ec30-4f91-95ab-0b1d4fb47090",
   "metadata": {},
   "outputs": [],
   "source": []
  },
  {
   "cell_type": "code",
   "execution_count": 49,
   "id": "8c6cbfd8-9ee9-44fd-8fe6-a63b8bdaae7a",
   "metadata": {
    "scrolled": true
   },
   "outputs": [
    {
     "name": "stdout",
     "output_type": "stream",
     "text": [
      "+-----+------------------+-----------------------+--------------+-----------+----------+\n",
      "|     |        timestamp | name                  | event_type   |   process |   thread |\n",
      "|-----+------------------+-----------------------+--------------+-----------+----------|\n",
      "|   0 |      0           | ProgramBegin          | Instant      |         1 |        0 |\n",
      "|   0 |      0           | ProgramBegin          | Instant      |         1 |        0 |\n",
      "|   0 |  30083.1         | int main(int, char**) | Enter        |         1 |        0 |\n",
      "|   1 |  40288.3         | MPI_Init              | Enter        |         1 |        0 |\n",
      "|   2 | 307731           | ProgramBegin          | Instant      |         0 |        0 |\n",
      "|   3 | 336980           | int main(int, char**) | Enter        |         0 |        0 |\n",
      "|   4 | 346055           | MPI_Init              | Enter        |         0 |        0 |\n",
      "|   5 |      1.93643e+08 | MPI_Init              | Leave        |         0 |        0 |\n",
      "|   6 |      1.93644e+08 | MPI_Init              | Leave        |         1 |        0 |\n",
      "|   7 |      1.93652e+08 | MPI_Comm_size         | Enter        |         0 |        0 |\n",
      "|   8 |      1.93653e+08 | MPI_Comm_size         | Enter        |         1 |        0 |\n",
      "|   9 |      1.93653e+08 | MPI_Comm_size         | Leave        |         0 |        0 |\n",
      "|  10 |      1.93654e+08 | MPI_Comm_size         | Leave        |         1 |        0 |\n",
      "|  11 |      1.93656e+08 | MPI_Comm_rank         | Enter        |         0 |        0 |\n",
      "|  12 |      1.93656e+08 | MPI_Comm_rank         | Enter        |         1 |        0 |\n",
      "|  13 |      1.93657e+08 | MPI_Comm_rank         | Leave        |         0 |        0 |\n",
      "|  14 |      1.93657e+08 | MPI_Comm_rank         | Leave        |         1 |        0 |\n",
      "|  15 |      1.93668e+08 | MPI_Send              | Enter        |         0 |        0 |\n",
      "|  16 |      1.93673e+08 | MpiSend               | Instant      |         0 |        0 |\n",
      "|  17 |      1.93677e+08 | MPI_Recv              | Enter        |         1 |        0 |\n",
      "|  18 |      1.93686e+08 | MPI_Send              | Leave        |         0 |        0 |\n",
      "|  19 |      1.93687e+08 | MPI_Recv              | Enter        |         0 |        0 |\n",
      "|  20 |      1.93692e+08 | MpiRecv               | Instant      |         1 |        0 |\n",
      "|  21 |      1.93696e+08 | MPI_Recv              | Leave        |         1 |        0 |\n",
      "|  22 |      1.93699e+08 | MPI_Send              | Enter        |         1 |        0 |\n",
      "|  23 |      1.937e+08   | MpiSend               | Instant      |         1 |        0 |\n",
      "|  24 |      1.93713e+08 | MPI_Send              | Leave        |         1 |        0 |\n",
      "|  25 |      1.93716e+08 | MpiRecv               | Instant      |         0 |        0 |\n",
      "|  26 |      1.93719e+08 | MPI_Recv              | Leave        |         0 |        0 |\n",
      "|  27 |      1.93726e+08 | MPI_Recv              | Enter        |         1 |        0 |\n",
      "|  28 |      1.93744e+08 | MPI_Send              | Enter        |         0 |        0 |\n",
      "|  29 |      1.93744e+08 | MpiSend               | Instant      |         0 |        0 |\n",
      "|  30 |      1.93765e+08 | MPI_Send              | Leave        |         0 |        0 |\n",
      "|  31 |      1.93765e+08 | MpiRecv               | Instant      |         1 |        0 |\n",
      "|  32 |      1.93765e+08 | MPI_Recv              | Enter        |         0 |        0 |\n",
      "|  33 |      1.93765e+08 | MPI_Recv              | Leave        |         1 |        0 |\n",
      "|  34 |      1.93765e+08 | MPI_Send              | Enter        |         1 |        0 |\n",
      "|  35 |      1.93766e+08 | MpiSend               | Instant      |         1 |        0 |\n",
      "|  36 |      1.93784e+08 | MPI_Send              | Leave        |         1 |        0 |\n",
      "|  37 |      1.93784e+08 | MpiRecv               | Instant      |         0 |        0 |\n",
      "|  38 |      1.93785e+08 | MPI_Recv              | Leave        |         0 |        0 |\n",
      "|  39 |      1.93811e+08 | MPI_Recv              | Enter        |         1 |        0 |\n",
      "|  40 |      1.93826e+08 | MPI_Send              | Enter        |         0 |        0 |\n",
      "|  41 |      1.93826e+08 | MpiSend               | Instant      |         0 |        0 |\n",
      "|  42 |      1.93851e+08 | MpiRecv               | Instant      |         1 |        0 |\n",
      "|  43 |      1.93852e+08 | MPI_Recv              | Leave        |         1 |        0 |\n",
      "|  44 |      1.93852e+08 | MPI_Send              | Enter        |         1 |        0 |\n",
      "|  45 |      1.93852e+08 | MpiSend               | Instant      |         1 |        0 |\n",
      "|  46 |      1.93855e+08 | MPI_Send              | Leave        |         0 |        0 |\n",
      "|  47 |      1.93855e+08 | MPI_Recv              | Enter        |         0 |        0 |\n",
      "|  48 |      1.9389e+08  | MpiRecv               | Instant      |         0 |        0 |\n",
      "|  49 |      1.9389e+08  | MPI_Send              | Leave        |         1 |        0 |\n",
      "|  50 |      1.9389e+08  | MPI_Recv              | Leave        |         0 |        0 |\n",
      "|  51 |      1.93942e+08 | MPI_Send              | Enter        |         0 |        0 |\n",
      "|  52 |      1.93943e+08 | MpiSend               | Instant      |         0 |        0 |\n",
      "|  53 |      1.93955e+08 | MPI_Recv              | Enter        |         1 |        0 |\n",
      "|  54 |      1.93993e+08 | MpiRecv               | Instant      |         1 |        0 |\n",
      "|  55 |      1.93993e+08 | MPI_Recv              | Leave        |         1 |        0 |\n",
      "|  56 |      1.93993e+08 | MPI_Send              | Enter        |         1 |        0 |\n",
      "|  57 |      1.93994e+08 | MpiSend               | Instant      |         1 |        0 |\n",
      "|  58 |      1.93996e+08 | MPI_Send              | Leave        |         0 |        0 |\n",
      "|  59 |      1.93996e+08 | MPI_Recv              | Enter        |         0 |        0 |\n",
      "|  60 |      1.9405e+08  | MpiRecv               | Instant      |         0 |        0 |\n",
      "|  61 |      1.9405e+08  | MPI_Send              | Leave        |         1 |        0 |\n",
      "|  62 |      1.9405e+08  | MPI_Recv              | Leave        |         0 |        0 |\n",
      "|  63 |      1.94205e+08 | MPI_Send              | Enter        |         0 |        0 |\n",
      "|  64 |      1.94206e+08 | MpiSend               | Instant      |         0 |        0 |\n",
      "|  65 |      1.9422e+08  | MPI_Recv              | Enter        |         1 |        0 |\n",
      "|  66 |      1.943e+08   | MpiRecv               | Instant      |         1 |        0 |\n",
      "|  67 |      1.943e+08   | MPI_Recv              | Leave        |         1 |        0 |\n",
      "|  68 |      1.943e+08   | MPI_Send              | Enter        |         1 |        0 |\n",
      "|  69 |      1.94301e+08 | MpiSend               | Instant      |         1 |        0 |\n",
      "|  70 |      1.94303e+08 | MPI_Send              | Leave        |         0 |        0 |\n",
      "|  71 |      1.94303e+08 | MPI_Recv              | Enter        |         0 |        0 |\n",
      "|  72 |      1.94409e+08 | MpiRecv               | Instant      |         0 |        0 |\n",
      "|  73 |      1.94409e+08 | MPI_Send              | Leave        |         1 |        0 |\n",
      "|  74 |      1.94409e+08 | MPI_Recv              | Leave        |         0 |        0 |\n",
      "|  75 |      1.94675e+08 | MPI_Send              | Enter        |         0 |        0 |\n",
      "|  76 |      1.94676e+08 | MpiSend               | Instant      |         0 |        0 |\n",
      "|  77 |      1.94762e+08 | MPI_Recv              | Enter        |         1 |        0 |\n",
      "|  78 |      1.94907e+08 | MpiRecv               | Instant      |         1 |        0 |\n",
      "|  79 |      1.94908e+08 | MPI_Recv              | Leave        |         1 |        0 |\n",
      "|  80 |      1.94909e+08 | MPI_Send              | Enter        |         1 |        0 |\n",
      "|  81 |      1.94909e+08 | MpiSend               | Instant      |         1 |        0 |\n",
      "|  82 |      1.94911e+08 | MPI_Send              | Leave        |         0 |        0 |\n",
      "|  83 |      1.94912e+08 | MPI_Recv              | Enter        |         0 |        0 |\n",
      "|  84 |      1.95132e+08 | MPI_Send              | Leave        |         1 |        0 |\n",
      "|  85 |      1.95132e+08 | MpiRecv               | Instant      |         0 |        0 |\n",
      "|  86 |      1.95132e+08 | MPI_Recv              | Leave        |         0 |        0 |\n",
      "|  87 |      1.95718e+08 | MPI_Send              | Enter        |         0 |        0 |\n",
      "|  88 |      1.95719e+08 | MpiSend               | Instant      |         0 |        0 |\n",
      "|  89 |      1.95859e+08 | MPI_Recv              | Enter        |         1 |        0 |\n",
      "|  90 |      1.96136e+08 | MpiRecv               | Instant      |         1 |        0 |\n",
      "|  91 |      1.96137e+08 | MPI_Recv              | Leave        |         1 |        0 |\n",
      "|  92 |      1.96137e+08 | MPI_Send              | Enter        |         1 |        0 |\n",
      "|  93 |      1.96137e+08 | MpiSend               | Instant      |         1 |        0 |\n",
      "|  94 |      1.9614e+08  | MPI_Send              | Leave        |         0 |        0 |\n",
      "|  95 |      1.9614e+08  | MPI_Recv              | Enter        |         0 |        0 |\n",
      "|  96 |      1.96584e+08 | MPI_Send              | Leave        |         1 |        0 |\n",
      "|  97 |      1.96584e+08 | MpiRecv               | Instant      |         0 |        0 |\n",
      "|  98 |      1.96584e+08 | MPI_Recv              | Leave        |         0 |        0 |\n",
      "|  99 |      1.97613e+08 | MPI_Send              | Enter        |         0 |        0 |\n",
      "| 100 |      1.97614e+08 | MpiSend               | Instant      |         0 |        0 |\n",
      "| 101 |      1.97951e+08 | MPI_Recv              | Enter        |         1 |        0 |\n",
      "| 102 |      1.98502e+08 | MpiRecv               | Instant      |         1 |        0 |\n",
      "| 103 |      1.98503e+08 | MPI_Recv              | Leave        |         1 |        0 |\n",
      "| 104 |      1.98503e+08 | MPI_Send              | Enter        |         1 |        0 |\n",
      "| 105 |      1.98504e+08 | MpiSend               | Instant      |         1 |        0 |\n",
      "| 106 |      1.98506e+08 | MPI_Send              | Leave        |         0 |        0 |\n",
      "| 107 |      1.98507e+08 | MPI_Recv              | Enter        |         0 |        0 |\n",
      "| 108 |      1.9932e+08  | MPI_Send              | Leave        |         1 |        0 |\n",
      "| 109 |      1.9932e+08  | MpiRecv               | Instant      |         0 |        0 |\n",
      "| 110 |      1.99321e+08 | MPI_Recv              | Leave        |         0 |        0 |\n",
      "| 111 |      1.99515e+08 | MPI_Finalize          | Enter        |         0 |        0 |\n",
      "| 112 |      1.9953e+08  | MPI_Finalize          | Enter        |         1 |        0 |\n",
      "| 113 |      1.99574e+08 | MPI_Finalize          | Leave        |         0 |        0 |\n",
      "| 114 |      1.99575e+08 | MPI_Finalize          | Leave        |         1 |        0 |\n",
      "| 115 |      1.99575e+08 | int main(int, char**) | Leave        |         0 |        0 |\n",
      "| 116 |      1.99577e+08 | int main(int, char**) | Leave        |         1 |        0 |\n",
      "| 117 |      1.99603e+08 | ProgramEnd            | Instant      |         0 |        0 |\n",
      "| 118 |      1.99604e+08 | ProgramEnd            | Instant      |         1 |        0 |\n",
      "+-----+------------------+-----------------------+--------------+-----------+----------+\n"
     ]
    }
   ],
   "source": [
    "ds.flush()\n",
    "ds.show()"
   ]
  },
  {
   "cell_type": "code",
   "execution_count": 50,
   "id": "f8ed98f9-5364-403a-b3f9-551bf8138052",
   "metadata": {
    "scrolled": true
   },
   "outputs": [
    {
     "name": "stdout",
     "output_type": "stream",
     "text": [
      "+-----+------------------+-----------------------+--------------+-----------+----------+\n",
      "|     |        timestamp | name                  | event_type   |   process |   thread |\n",
      "|-----+------------------+-----------------------+--------------+-----------+----------|\n",
      "|   2 | 307731           | ProgramBegin          | Instant      |         0 |        0 |\n",
      "|   3 | 336980           | int main(int, char**) | Enter        |         0 |        0 |\n",
      "|   4 | 346055           | MPI_Init              | Enter        |         0 |        0 |\n",
      "|   5 |      1.93643e+08 | MPI_Init              | Leave        |         0 |        0 |\n",
      "|   7 |      1.93652e+08 | MPI_Comm_size         | Enter        |         0 |        0 |\n",
      "|   9 |      1.93653e+08 | MPI_Comm_size         | Leave        |         0 |        0 |\n",
      "|  11 |      1.93656e+08 | MPI_Comm_rank         | Enter        |         0 |        0 |\n",
      "|  13 |      1.93657e+08 | MPI_Comm_rank         | Leave        |         0 |        0 |\n",
      "|  15 |      1.93668e+08 | MPI_Send              | Enter        |         0 |        0 |\n",
      "|  16 |      1.93673e+08 | MpiSend               | Instant      |         0 |        0 |\n",
      "|  18 |      1.93686e+08 | MPI_Send              | Leave        |         0 |        0 |\n",
      "|  19 |      1.93687e+08 | MPI_Recv              | Enter        |         0 |        0 |\n",
      "|  25 |      1.93716e+08 | MpiRecv               | Instant      |         0 |        0 |\n",
      "|  26 |      1.93719e+08 | MPI_Recv              | Leave        |         0 |        0 |\n",
      "|  28 |      1.93744e+08 | MPI_Send              | Enter        |         0 |        0 |\n",
      "|  29 |      1.93744e+08 | MpiSend               | Instant      |         0 |        0 |\n",
      "|  30 |      1.93765e+08 | MPI_Send              | Leave        |         0 |        0 |\n",
      "|  32 |      1.93765e+08 | MPI_Recv              | Enter        |         0 |        0 |\n",
      "|  37 |      1.93784e+08 | MpiRecv               | Instant      |         0 |        0 |\n",
      "|  38 |      1.93785e+08 | MPI_Recv              | Leave        |         0 |        0 |\n",
      "|  40 |      1.93826e+08 | MPI_Send              | Enter        |         0 |        0 |\n",
      "|  41 |      1.93826e+08 | MpiSend               | Instant      |         0 |        0 |\n",
      "|  46 |      1.93855e+08 | MPI_Send              | Leave        |         0 |        0 |\n",
      "|  47 |      1.93855e+08 | MPI_Recv              | Enter        |         0 |        0 |\n",
      "|  48 |      1.9389e+08  | MpiRecv               | Instant      |         0 |        0 |\n",
      "|  50 |      1.9389e+08  | MPI_Recv              | Leave        |         0 |        0 |\n",
      "|  51 |      1.93942e+08 | MPI_Send              | Enter        |         0 |        0 |\n",
      "|  52 |      1.93943e+08 | MpiSend               | Instant      |         0 |        0 |\n",
      "|  58 |      1.93996e+08 | MPI_Send              | Leave        |         0 |        0 |\n",
      "|  59 |      1.93996e+08 | MPI_Recv              | Enter        |         0 |        0 |\n",
      "|  60 |      1.9405e+08  | MpiRecv               | Instant      |         0 |        0 |\n",
      "|  62 |      1.9405e+08  | MPI_Recv              | Leave        |         0 |        0 |\n",
      "|  63 |      1.94205e+08 | MPI_Send              | Enter        |         0 |        0 |\n",
      "|  64 |      1.94206e+08 | MpiSend               | Instant      |         0 |        0 |\n",
      "|  70 |      1.94303e+08 | MPI_Send              | Leave        |         0 |        0 |\n",
      "|  71 |      1.94303e+08 | MPI_Recv              | Enter        |         0 |        0 |\n",
      "|  72 |      1.94409e+08 | MpiRecv               | Instant      |         0 |        0 |\n",
      "|  74 |      1.94409e+08 | MPI_Recv              | Leave        |         0 |        0 |\n",
      "|  75 |      1.94675e+08 | MPI_Send              | Enter        |         0 |        0 |\n",
      "|  76 |      1.94676e+08 | MpiSend               | Instant      |         0 |        0 |\n",
      "|  82 |      1.94911e+08 | MPI_Send              | Leave        |         0 |        0 |\n",
      "|  83 |      1.94912e+08 | MPI_Recv              | Enter        |         0 |        0 |\n",
      "|  85 |      1.95132e+08 | MpiRecv               | Instant      |         0 |        0 |\n",
      "|  86 |      1.95132e+08 | MPI_Recv              | Leave        |         0 |        0 |\n",
      "|  87 |      1.95718e+08 | MPI_Send              | Enter        |         0 |        0 |\n",
      "|  88 |      1.95719e+08 | MpiSend               | Instant      |         0 |        0 |\n",
      "|  94 |      1.9614e+08  | MPI_Send              | Leave        |         0 |        0 |\n",
      "|  95 |      1.9614e+08  | MPI_Recv              | Enter        |         0 |        0 |\n",
      "|  97 |      1.96584e+08 | MpiRecv               | Instant      |         0 |        0 |\n",
      "|  98 |      1.96584e+08 | MPI_Recv              | Leave        |         0 |        0 |\n",
      "|  99 |      1.97613e+08 | MPI_Send              | Enter        |         0 |        0 |\n",
      "| 100 |      1.97614e+08 | MpiSend               | Instant      |         0 |        0 |\n",
      "| 106 |      1.98506e+08 | MPI_Send              | Leave        |         0 |        0 |\n",
      "| 107 |      1.98507e+08 | MPI_Recv              | Enter        |         0 |        0 |\n",
      "| 109 |      1.9932e+08  | MpiRecv               | Instant      |         0 |        0 |\n",
      "| 110 |      1.99321e+08 | MPI_Recv              | Leave        |         0 |        0 |\n",
      "| 111 |      1.99515e+08 | MPI_Finalize          | Enter        |         0 |        0 |\n",
      "| 113 |      1.99574e+08 | MPI_Finalize          | Leave        |         0 |        0 |\n",
      "| 115 |      1.99575e+08 | int main(int, char**) | Leave        |         0 |        0 |\n",
      "| 117 |      1.99603e+08 | ProgramEnd            | Instant      |         0 |        0 |\n",
      "+-----+------------------+-----------------------+--------------+-----------+----------+\n"
     ]
    }
   ],
   "source": [
    "ds.filter(\"process == 0\").show()"
   ]
  }
 ],
 "metadata": {
  "kernelspec": {
   "display_name": "Python 3 (ipykernel)",
   "language": "python",
   "name": "python3"
  },
  "language_info": {
   "codemirror_mode": {
    "name": "ipython",
    "version": 3
   },
   "file_extension": ".py",
   "mimetype": "text/x-python",
   "name": "python",
   "nbconvert_exporter": "python",
   "pygments_lexer": "ipython3",
   "version": "3.8.10"
  }
 },
 "nbformat": 4,
 "nbformat_minor": 5
}
