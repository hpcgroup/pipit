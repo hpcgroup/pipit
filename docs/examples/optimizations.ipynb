{
 "cells": [
  {
   "cell_type": "code",
   "execution_count": 2,
   "id": "566a9617-f536-499a-90e6-5f173cb12d22",
   "metadata": {},
   "outputs": [],
   "source": [
    "%load_ext autoreload\n",
    "%autoreload 2"
   ]
  },
  {
   "cell_type": "code",
   "execution_count": 9,
   "id": "edd71f67-e35a-45ea-ae39-afb74ecd4af2",
   "metadata": {},
   "outputs": [],
   "source": [
    "import sys\n",
    "sys.path.append(\"../..\")"
   ]
  },
  {
   "cell_type": "code",
   "execution_count": 10,
   "id": "0ed7301d-86cd-46bd-b176-3e10cd9212f1",
   "metadata": {},
   "outputs": [],
   "source": [
    "import pipit as pp\n",
    "import pandas as pd\n",
    "import numpy as np"
   ]
  },
  {
   "cell_type": "code",
   "execution_count": 11,
   "id": "29f51157-546f-4be7-8e52-29b2d3689654",
   "metadata": {},
   "outputs": [],
   "source": [
    "trace = pp.Trace.from_otf2(\"/home/rakrish/Downloads/tortuga-otf2-16/\")"
   ]
  },
  {
   "cell_type": "code",
   "execution_count": 12,
   "id": "f9bc8740-ce99-4dd3-92fc-18e076efd79a",
   "metadata": {},
   "outputs": [
    {
     "data": {
      "text/html": [
       "<div>\n",
       "<style scoped>\n",
       "    .dataframe tbody tr th:only-of-type {\n",
       "        vertical-align: middle;\n",
       "    }\n",
       "\n",
       "    .dataframe tbody tr th {\n",
       "        vertical-align: top;\n",
       "    }\n",
       "\n",
       "    .dataframe thead th {\n",
       "        text-align: right;\n",
       "    }\n",
       "</style>\n",
       "<table border=\"1\" class=\"dataframe\">\n",
       "  <thead>\n",
       "    <tr style=\"text-align: right;\">\n",
       "      <th></th>\n",
       "      <th>Timestamp (ns)</th>\n",
       "      <th>Event Type</th>\n",
       "      <th>Name</th>\n",
       "      <th>Thread</th>\n",
       "      <th>Process</th>\n",
       "      <th>Attributes</th>\n",
       "    </tr>\n",
       "  </thead>\n",
       "  <tbody>\n",
       "    <tr>\n",
       "      <th>0</th>\n",
       "      <td>0.000000e+00</td>\n",
       "      <td>Instant</td>\n",
       "      <td>ProgramBegin</td>\n",
       "      <td>0</td>\n",
       "      <td>6</td>\n",
       "      <td>{'attributes': {'Attribute 2': 35468}, 'progra...</td>\n",
       "    </tr>\n",
       "    <tr>\n",
       "      <th>1</th>\n",
       "      <td>4.868378e+01</td>\n",
       "      <td>Instant</td>\n",
       "      <td>ProgramBegin</td>\n",
       "      <td>0</td>\n",
       "      <td>7</td>\n",
       "      <td>{'attributes': {'Attribute 2': 35471}, 'progra...</td>\n",
       "    </tr>\n",
       "    <tr>\n",
       "      <th>2</th>\n",
       "      <td>2.539193e+02</td>\n",
       "      <td>Instant</td>\n",
       "      <td>ProgramBegin</td>\n",
       "      <td>0</td>\n",
       "      <td>5</td>\n",
       "      <td>{'attributes': {'Attribute 2': 35465}, 'progra...</td>\n",
       "    </tr>\n",
       "    <tr>\n",
       "      <th>3</th>\n",
       "      <td>3.035577e+02</td>\n",
       "      <td>Instant</td>\n",
       "      <td>ProgramBegin</td>\n",
       "      <td>0</td>\n",
       "      <td>4</td>\n",
       "      <td>{'attributes': {'Attribute 2': 35462}, 'progra...</td>\n",
       "    </tr>\n",
       "    <tr>\n",
       "      <th>4</th>\n",
       "      <td>4.946367e+04</td>\n",
       "      <td>Instant</td>\n",
       "      <td>ProgramBegin</td>\n",
       "      <td>0</td>\n",
       "      <td>3</td>\n",
       "      <td>{'attributes': {'Attribute 2': 35460}, 'progra...</td>\n",
       "    </tr>\n",
       "    <tr>\n",
       "      <th>...</th>\n",
       "      <td>...</td>\n",
       "      <td>...</td>\n",
       "      <td>...</td>\n",
       "      <td>...</td>\n",
       "      <td>...</td>\n",
       "      <td>...</td>\n",
       "    </tr>\n",
       "    <tr>\n",
       "      <th>95611</th>\n",
       "      <td>1.748975e+09</td>\n",
       "      <td>Instant</td>\n",
       "      <td>MeasurementOnOff</td>\n",
       "      <td>0</td>\n",
       "      <td>4</td>\n",
       "      <td>{'measurement_mode': 'MeasurementMode.OFF'}</td>\n",
       "    </tr>\n",
       "    <tr>\n",
       "      <th>95612</th>\n",
       "      <td>1.749001e+09</td>\n",
       "      <td>Leave</td>\n",
       "      <td>run</td>\n",
       "      <td>0</td>\n",
       "      <td>12</td>\n",
       "      <td>None</td>\n",
       "    </tr>\n",
       "    <tr>\n",
       "      <th>95613</th>\n",
       "      <td>1.749008e+09</td>\n",
       "      <td>Instant</td>\n",
       "      <td>MeasurementOnOff</td>\n",
       "      <td>0</td>\n",
       "      <td>12</td>\n",
       "      <td>{'measurement_mode': 'MeasurementMode.OFF'}</td>\n",
       "    </tr>\n",
       "    <tr>\n",
       "      <th>95614</th>\n",
       "      <td>1.749750e+09</td>\n",
       "      <td>Leave</td>\n",
       "      <td>run</td>\n",
       "      <td>0</td>\n",
       "      <td>0</td>\n",
       "      <td>None</td>\n",
       "    </tr>\n",
       "    <tr>\n",
       "      <th>95615</th>\n",
       "      <td>1.749759e+09</td>\n",
       "      <td>Instant</td>\n",
       "      <td>MeasurementOnOff</td>\n",
       "      <td>0</td>\n",
       "      <td>0</td>\n",
       "      <td>{'measurement_mode': 'MeasurementMode.OFF'}</td>\n",
       "    </tr>\n",
       "  </tbody>\n",
       "</table>\n",
       "<p>95616 rows × 6 columns</p>\n",
       "</div>"
      ],
      "text/plain": [
       "       Timestamp (ns) Event Type              Name Thread Process  \\\n",
       "0        0.000000e+00    Instant      ProgramBegin      0       6   \n",
       "1        4.868378e+01    Instant      ProgramBegin      0       7   \n",
       "2        2.539193e+02    Instant      ProgramBegin      0       5   \n",
       "3        3.035577e+02    Instant      ProgramBegin      0       4   \n",
       "4        4.946367e+04    Instant      ProgramBegin      0       3   \n",
       "...               ...        ...               ...    ...     ...   \n",
       "95611    1.748975e+09    Instant  MeasurementOnOff      0       4   \n",
       "95612    1.749001e+09      Leave               run      0      12   \n",
       "95613    1.749008e+09    Instant  MeasurementOnOff      0      12   \n",
       "95614    1.749750e+09      Leave               run      0       0   \n",
       "95615    1.749759e+09    Instant  MeasurementOnOff      0       0   \n",
       "\n",
       "                                              Attributes  \n",
       "0      {'attributes': {'Attribute 2': 35468}, 'progra...  \n",
       "1      {'attributes': {'Attribute 2': 35471}, 'progra...  \n",
       "2      {'attributes': {'Attribute 2': 35465}, 'progra...  \n",
       "3      {'attributes': {'Attribute 2': 35462}, 'progra...  \n",
       "4      {'attributes': {'Attribute 2': 35460}, 'progra...  \n",
       "...                                                  ...  \n",
       "95611        {'measurement_mode': 'MeasurementMode.OFF'}  \n",
       "95612                                               None  \n",
       "95613        {'measurement_mode': 'MeasurementMode.OFF'}  \n",
       "95614                                               None  \n",
       "95615        {'measurement_mode': 'MeasurementMode.OFF'}  \n",
       "\n",
       "[95616 rows x 6 columns]"
      ]
     },
     "execution_count": 12,
     "metadata": {},
     "output_type": "execute_result"
    }
   ],
   "source": [
    "trace.events"
   ]
  },
  {
   "cell_type": "code",
   "execution_count": 17,
   "id": "dc2e7767-c405-4751-964d-5d39b31fc4e0",
   "metadata": {},
   "outputs": [
    {
     "data": {
      "text/plain": [
       "['Timestamp (ns)']"
      ]
     },
     "execution_count": 17,
     "metadata": {},
     "output_type": "execute_result"
    }
   ],
   "source": [
    "trace.numeric_cols"
   ]
  },
  {
   "cell_type": "code",
   "execution_count": 6,
   "id": "5f0c9be8-f81e-4d8c-8c77-cd46d9008292",
   "metadata": {},
   "outputs": [],
   "source": [
    "import polars as pl"
   ]
  },
  {
   "cell_type": "code",
   "execution_count": 12,
   "id": "57a0f92f-6b48-4dd4-b713-0e1608871576",
   "metadata": {},
   "outputs": [],
   "source": [
    "def pd_to_polars(df):\n",
    "    \"\"\"\n",
    "    Convert a Pandas DataFrame to Polars DataFrame and handle columns\n",
    "    with int and float categorical dtypes.\n",
    "    \"\"\"\n",
    "    df = df.copy()\n",
    "    for col in df.columns:\n",
    "        if isinstance(df[col].dtype, pd.CategoricalDtype):\n",
    "            if pd.api.types.is_integer_dtype(df[col].cat.categories.dtype):\n",
    "                df[col] = df[col].astype(int)\n",
    "                print(f\"Column [{col}] cast to int\")\n",
    "            elif pd.api.types.is_float_dtype(df[col].cat.categories.dtype):\n",
    "                df[col] = df[col].astype(float)\n",
    "                print(f\"Column [{col}] cast to float\")\n",
    "\n",
    "    return pl.from_pandas(df)"
   ]
  },
  {
   "cell_type": "code",
   "execution_count": 31,
   "id": "7540207a-67b1-45f6-a924-2723a23cf554",
   "metadata": {},
   "outputs": [
    {
     "name": "stdout",
     "output_type": "stream",
     "text": [
      "Column [Thread] cast to int\n",
      "Column [Process] cast to int\n"
     ]
    }
   ],
   "source": [
    "pdf = pd_to_polars(trace.events[[\"Timestamp (ns)\", \"Event Type\", \"Name\", \"Thread\", \"Process\"]])\n",
    "pdf = pdf.with_row_index(\"index\")"
   ]
  },
  {
   "cell_type": "code",
   "execution_count": 32,
   "id": "4c68b924-ac20-4bc1-9cd8-58faae3a25df",
   "metadata": {},
   "outputs": [
    {
     "data": {
      "text/html": [
       "<div><style>\n",
       ".dataframe > thead > tr,\n",
       ".dataframe > tbody > tr {\n",
       "  text-align: right;\n",
       "  white-space: pre-wrap;\n",
       "}\n",
       "</style>\n",
       "<small>shape: (95_616, 6)</small><table border=\"1\" class=\"dataframe\"><thead><tr><th>index</th><th>Timestamp (ns)</th><th>Event Type</th><th>Name</th><th>Thread</th><th>Process</th></tr><tr><td>u32</td><td>f64</td><td>cat</td><td>cat</td><td>i64</td><td>i64</td></tr></thead><tbody><tr><td>0</td><td>0.0</td><td>&quot;Instant&quot;</td><td>&quot;ProgramBegin&quot;</td><td>0</td><td>6</td></tr><tr><td>1</td><td>48.683779</td><td>&quot;Instant&quot;</td><td>&quot;ProgramBegin&quot;</td><td>0</td><td>7</td></tr><tr><td>2</td><td>253.919318</td><td>&quot;Instant&quot;</td><td>&quot;ProgramBegin&quot;</td><td>0</td><td>5</td></tr><tr><td>3</td><td>303.557681</td><td>&quot;Instant&quot;</td><td>&quot;ProgramBegin&quot;</td><td>0</td><td>4</td></tr><tr><td>4</td><td>49463.674098</td><td>&quot;Instant&quot;</td><td>&quot;ProgramBegin&quot;</td><td>0</td><td>3</td></tr><tr><td>&hellip;</td><td>&hellip;</td><td>&hellip;</td><td>&hellip;</td><td>&hellip;</td><td>&hellip;</td></tr><tr><td>95611</td><td>1.7490e9</td><td>&quot;Instant&quot;</td><td>&quot;MeasurementOnO…</td><td>0</td><td>4</td></tr><tr><td>95612</td><td>1.7490e9</td><td>&quot;Leave&quot;</td><td>&quot;run&quot;</td><td>0</td><td>12</td></tr><tr><td>95613</td><td>1.7490e9</td><td>&quot;Instant&quot;</td><td>&quot;MeasurementOnO…</td><td>0</td><td>12</td></tr><tr><td>95614</td><td>1.7498e9</td><td>&quot;Leave&quot;</td><td>&quot;run&quot;</td><td>0</td><td>0</td></tr><tr><td>95615</td><td>1.7498e9</td><td>&quot;Instant&quot;</td><td>&quot;MeasurementOnO…</td><td>0</td><td>0</td></tr></tbody></table></div>"
      ],
      "text/plain": [
       "shape: (95_616, 6)\n",
       "┌───────┬────────────────┬────────────┬──────────────────┬────────┬─────────┐\n",
       "│ index ┆ Timestamp (ns) ┆ Event Type ┆ Name             ┆ Thread ┆ Process │\n",
       "│ ---   ┆ ---            ┆ ---        ┆ ---              ┆ ---    ┆ ---     │\n",
       "│ u32   ┆ f64            ┆ cat        ┆ cat              ┆ i64    ┆ i64     │\n",
       "╞═══════╪════════════════╪════════════╪══════════════════╪════════╪═════════╡\n",
       "│ 0     ┆ 0.0            ┆ Instant    ┆ ProgramBegin     ┆ 0      ┆ 6       │\n",
       "│ 1     ┆ 48.683779      ┆ Instant    ┆ ProgramBegin     ┆ 0      ┆ 7       │\n",
       "│ 2     ┆ 253.919318     ┆ Instant    ┆ ProgramBegin     ┆ 0      ┆ 5       │\n",
       "│ 3     ┆ 303.557681     ┆ Instant    ┆ ProgramBegin     ┆ 0      ┆ 4       │\n",
       "│ 4     ┆ 49463.674098   ┆ Instant    ┆ ProgramBegin     ┆ 0      ┆ 3       │\n",
       "│ …     ┆ …              ┆ …          ┆ …                ┆ …      ┆ …       │\n",
       "│ 95611 ┆ 1.7490e9       ┆ Instant    ┆ MeasurementOnOff ┆ 0      ┆ 4       │\n",
       "│ 95612 ┆ 1.7490e9       ┆ Leave      ┆ run              ┆ 0      ┆ 12      │\n",
       "│ 95613 ┆ 1.7490e9       ┆ Instant    ┆ MeasurementOnOff ┆ 0      ┆ 12      │\n",
       "│ 95614 ┆ 1.7498e9       ┆ Leave      ┆ run              ┆ 0      ┆ 0       │\n",
       "│ 95615 ┆ 1.7498e9       ┆ Instant    ┆ MeasurementOnOff ┆ 0      ┆ 0       │\n",
       "└───────┴────────────────┴────────────┴──────────────────┴────────┴─────────┘"
      ]
     },
     "execution_count": 32,
     "metadata": {},
     "output_type": "execute_result"
    }
   ],
   "source": [
    "pdf"
   ]
  },
  {
   "cell_type": "code",
   "execution_count": 40,
   "id": "65ebd235-ef65-48de-8a99-0cd5d65b5980",
   "metadata": {},
   "outputs": [
    {
     "name": "stdout",
     "output_type": "stream",
     "text": [
      "56.7 µs ± 356 ns per loop (mean ± std. dev. of 7 runs, 10,000 loops each)\n"
     ]
    }
   ],
   "source": [
    "%%timeit\n",
    "trace.events.iloc[200]"
   ]
  },
  {
   "cell_type": "code",
   "execution_count": 39,
   "id": "132eab6f-c3c4-47b4-9cf5-bcd487829051",
   "metadata": {},
   "outputs": [
    {
     "name": "stdout",
     "output_type": "stream",
     "text": [
      "1.37 µs ± 34.2 ns per loop (mean ± std. dev. of 7 runs, 1,000,000 loops each)\n"
     ]
    }
   ],
   "source": [
    "%%timeit\n",
    "pdf[200]"
   ]
  },
  {
   "cell_type": "code",
   "execution_count": 41,
   "id": "f17878bf-5340-4582-b4eb-dee94f6fac19",
   "metadata": {},
   "outputs": [
    {
     "name": "stdout",
     "output_type": "stream",
     "text": [
      "499 µs ± 39.6 µs per loop (mean ± std. dev. of 7 runs, 1,000 loops each)\n"
     ]
    }
   ],
   "source": [
    "%%timeit\n",
    "trace.events[trace.events[\"Process\"] == 0]"
   ]
  },
  {
   "cell_type": "code",
   "execution_count": 44,
   "id": "18531dd9-c226-4231-92b3-d45bb1e1256e",
   "metadata": {},
   "outputs": [
    {
     "name": "stdout",
     "output_type": "stream",
     "text": [
      "104 µs ± 3.87 µs per loop (mean ± std. dev. of 7 runs, 10,000 loops each)\n"
     ]
    }
   ],
   "source": [
    "%%timeit\n",
    "pdf.filter(pl.col(\"Process\") == 0)"
   ]
  },
  {
   "cell_type": "code",
   "execution_count": null,
   "id": "0977b85e-c440-4b77-b416-7a2204597915",
   "metadata": {},
   "outputs": [],
   "source": []
  },
  {
   "cell_type": "code",
   "execution_count": null,
   "id": "51c921ad-2331-43cb-8658-7aba897fd29e",
   "metadata": {},
   "outputs": [],
   "source": []
  },
  {
   "cell_type": "code",
   "execution_count": null,
   "id": "17c56d0b-834a-470f-84a4-67d337bfd51f",
   "metadata": {},
   "outputs": [],
   "source": []
  },
  {
   "cell_type": "code",
   "execution_count": 34,
   "id": "79606004-ecdf-4ab9-abb6-e802b34811c0",
   "metadata": {},
   "outputs": [
    {
     "name": "stdout",
     "output_type": "stream",
     "text": [
      "61.5 µs ± 1.76 µs per loop (mean ± std. dev. of 7 runs, 10,000 loops each)\n"
     ]
    }
   ],
   "source": [
    "%%timeit\n",
    "pdf.filter(pl.col(\"index\") == 200)"
   ]
  },
  {
   "cell_type": "code",
   "execution_count": null,
   "id": "f5f04c0f-df77-44a9-a850-d18bdd00910c",
   "metadata": {},
   "outputs": [],
   "source": []
  },
  {
   "cell_type": "code",
   "execution_count": 35,
   "id": "496de308-4fb6-4339-a43c-ea984f45de13",
   "metadata": {},
   "outputs": [
    {
     "name": "stdout",
     "output_type": "stream",
     "text": [
      "65.7 µs ± 693 ns per loop (mean ± std. dev. of 7 runs, 10,000 loops each)\n"
     ]
    }
   ],
   "source": [
    "%%timeit\n",
    "pdf.row( by_predicate=(pl.col(\"index\") == 200) )"
   ]
  },
  {
   "cell_type": "code",
   "execution_count": 38,
   "id": "0aa4533f-dcb3-4184-b827-b0409655086f",
   "metadata": {},
   "outputs": [
    {
     "name": "stdout",
     "output_type": "stream",
     "text": [
      "1.35 µs ± 4.2 ns per loop (mean ± std. dev. of 7 runs, 1,000,000 loops each)\n"
     ]
    }
   ],
   "source": [
    "%%timeit\n",
    "pdf[200]"
   ]
  },
  {
   "cell_type": "code",
   "execution_count": 46,
   "id": "8b6c5118-c2b8-41a5-ae5e-3ec44efa48b9",
   "metadata": {},
   "outputs": [
    {
     "data": {
      "text/html": [
       "<div><style>\n",
       ".dataframe > thead > tr,\n",
       ".dataframe > tbody > tr {\n",
       "  text-align: right;\n",
       "  white-space: pre-wrap;\n",
       "}\n",
       "</style>\n",
       "<small>shape: (64_832, 6)</small><table border=\"1\" class=\"dataframe\"><thead><tr><th>index</th><th>Timestamp (ns)</th><th>Event Type</th><th>Name</th><th>Thread</th><th>Process</th></tr><tr><td>u32</td><td>f64</td><td>cat</td><td>cat</td><td>i64</td><td>i64</td></tr></thead><tbody><tr><td>8</td><td>59333.11707</td><td>&quot;Enter&quot;</td><td>&quot;MPI_Init&quot;</td><td>0</td><td>5</td></tr><tr><td>9</td><td>59384.664601</td><td>&quot;Enter&quot;</td><td>&quot;MPI_Init&quot;</td><td>0</td><td>7</td></tr><tr><td>10</td><td>59404.710863</td><td>&quot;Enter&quot;</td><td>&quot;MPI_Init&quot;</td><td>0</td><td>4</td></tr><tr><td>11</td><td>59503.987589</td><td>&quot;Enter&quot;</td><td>&quot;MPI_Init&quot;</td><td>0</td><td>6</td></tr><tr><td>12</td><td>89863.574038</td><td>&quot;Enter&quot;</td><td>&quot;MPI_Init&quot;</td><td>0</td><td>2</td></tr><tr><td>&hellip;</td><td>&hellip;</td><td>&hellip;</td><td>&hellip;</td><td>&hellip;</td><td>&hellip;</td></tr><tr><td>95606</td><td>1.7489e9</td><td>&quot;Leave&quot;</td><td>&quot;run&quot;</td><td>0</td><td>3</td></tr><tr><td>95608</td><td>1.7489e9</td><td>&quot;Leave&quot;</td><td>&quot;run&quot;</td><td>0</td><td>9</td></tr><tr><td>95610</td><td>1.7490e9</td><td>&quot;Leave&quot;</td><td>&quot;run&quot;</td><td>0</td><td>4</td></tr><tr><td>95612</td><td>1.7490e9</td><td>&quot;Leave&quot;</td><td>&quot;run&quot;</td><td>0</td><td>12</td></tr><tr><td>95614</td><td>1.7498e9</td><td>&quot;Leave&quot;</td><td>&quot;run&quot;</td><td>0</td><td>0</td></tr></tbody></table></div>"
      ],
      "text/plain": [
       "shape: (64_832, 6)\n",
       "┌───────┬────────────────┬────────────┬──────────┬────────┬─────────┐\n",
       "│ index ┆ Timestamp (ns) ┆ Event Type ┆ Name     ┆ Thread ┆ Process │\n",
       "│ ---   ┆ ---            ┆ ---        ┆ ---      ┆ ---    ┆ ---     │\n",
       "│ u32   ┆ f64            ┆ cat        ┆ cat      ┆ i64    ┆ i64     │\n",
       "╞═══════╪════════════════╪════════════╪══════════╪════════╪═════════╡\n",
       "│ 8     ┆ 59333.11707    ┆ Enter      ┆ MPI_Init ┆ 0      ┆ 5       │\n",
       "│ 9     ┆ 59384.664601   ┆ Enter      ┆ MPI_Init ┆ 0      ┆ 7       │\n",
       "│ 10    ┆ 59404.710863   ┆ Enter      ┆ MPI_Init ┆ 0      ┆ 4       │\n",
       "│ 11    ┆ 59503.987589   ┆ Enter      ┆ MPI_Init ┆ 0      ┆ 6       │\n",
       "│ 12    ┆ 89863.574038   ┆ Enter      ┆ MPI_Init ┆ 0      ┆ 2       │\n",
       "│ …     ┆ …              ┆ …          ┆ …        ┆ …      ┆ …       │\n",
       "│ 95606 ┆ 1.7489e9       ┆ Leave      ┆ run      ┆ 0      ┆ 3       │\n",
       "│ 95608 ┆ 1.7489e9       ┆ Leave      ┆ run      ┆ 0      ┆ 9       │\n",
       "│ 95610 ┆ 1.7490e9       ┆ Leave      ┆ run      ┆ 0      ┆ 4       │\n",
       "│ 95612 ┆ 1.7490e9       ┆ Leave      ┆ run      ┆ 0      ┆ 12      │\n",
       "│ 95614 ┆ 1.7498e9       ┆ Leave      ┆ run      ┆ 0      ┆ 0       │\n",
       "└───────┴────────────────┴────────────┴──────────┴────────┴─────────┘"
      ]
     },
     "execution_count": 46,
     "metadata": {},
     "output_type": "execute_result"
    }
   ],
   "source": [
    "pdf.filter(pl.col(\"Event Type\").is_in([\"Enter\", \"Leave\"]))"
   ]
  },
  {
   "cell_type": "code",
   "execution_count": 47,
   "id": "af443916-11ef-4d76-b52a-136fe75a9802",
   "metadata": {},
   "outputs": [],
   "source": [
    "import polars as pl\n",
    "import numpy as np\n",
    "\n",
    "def new_match_events(df):\n",
    "    matching_events = np.full(df.height(), np.nan)\n",
    "    matching_times = np.full(df.height(), np.nan)\n",
    "\n",
    "    # Only pairing enter and leave rows\n",
    "    enter_leave_df = df.filter(pl.col(\"Event Type\").is_in([\"Enter\", \"Leave\"]))\n",
    "\n",
    "    # List of processes and/or threads to iterate over\n",
    "    if \"Thread\" in df.columns:\n",
    "        exec_locations = set(zip(df[\"Process\"].to_list(), df[\"Thread\"].to_list()))\n",
    "        has_thread = True\n",
    "    else:\n",
    "        exec_locations = set(df[\"Process\"].to_list())\n",
    "        has_thread = False\n",
    "\n",
    "    for curr_loc in exec_locations:\n",
    "        # Only filter by thread if the trace has a thread column\n",
    "        if has_thread:\n",
    "            curr_process, curr_thread = curr_loc\n",
    "            filtered_df = enter_leave_df.filter(\n",
    "                (df[\"Process\"] == curr_process) & (df[\"Thread\"] == curr_thread)\n",
    "            )\n",
    "        else:\n",
    "            filtered_df = enter_leave_df.filter(df[\"Process\"] == curr_loc)\n",
    "\n",
    "        stack = []\n",
    "\n",
    "        # Iterate through all events of filtered DataFrame\n",
    "        for row in filtered_df.iterrows():\n",
    "            curr_df_index = row.get_column(\"row\").get(0)\n",
    "            curr_timestamp = row.get_column(\"Timestamp (ns)\").get(0)\n",
    "            evt_type = row.get_column(\"Event Type\").get(0)\n",
    "            curr_name = row.get_column(\"Name\").get(0)\n",
    "\n",
    "            if evt_type == \"Enter\":\n",
    "                # Add current dataframe index and timestamp to stack\n",
    "                stack.append((curr_df_index, curr_timestamp, curr_name))\n",
    "            else:\n",
    "                # We want to iterate through the stack in reverse order\n",
    "                # until we find the corresponding \"Enter\" Event\n",
    "                enter_name = None\n",
    "                i = len(stack) - 1\n",
    "                while enter_name != curr_name and i > -1:\n",
    "                    enter_df_index, enter_timestamp, enter_name = stack[i]\n",
    "                    i -= 1\n",
    "\n",
    "                if enter_name == curr_name:\n",
    "                    # Remove matched event from the stack\n",
    "                    del stack[i + 1]\n",
    "\n",
    "                    # Fill in the lists with the matching values if event found\n",
    "                    matching_events[enter_df_index] = curr_df_index\n",
    "                    matching_events[curr_df_index] = enter_df_index\n",
    "\n",
    "                    matching_times[enter_df_index] = curr_timestamp\n",
    "                    matching_times[curr_df_index] = enter_timestamp\n",
    "                else:\n",
    "                    continue\n",
    "\n",
    "    df = df.with_column(\"_matching_event\", pl.Series.new(\"Int32\", matching_events))\n",
    "    df = df.with_column(\"_matching_timestamp\", pl.Series.new(\"Int32\", matching_times))\n",
    "    return df"
   ]
  },
  {
   "cell_type": "code",
   "execution_count": null,
   "id": "79a6c28b-7715-48b9-98b0-241e6c9d34e2",
   "metadata": {},
   "outputs": [],
   "source": []
  },
  {
   "cell_type": "code",
   "execution_count": 14,
   "id": "0c116d02-e55d-4d51-b108-b1c95d956fae",
   "metadata": {},
   "outputs": [
    {
     "name": "stdout",
     "output_type": "stream",
     "text": [
      "92.8 ms ± 1.67 ms per loop (mean ± std. dev. of 7 runs, 10 loops each)\n"
     ]
    }
   ],
   "source": [
    "%%timeit\n",
    "trace._match_events()"
   ]
  },
  {
   "cell_type": "code",
   "execution_count": 15,
   "id": "43c0da70-99ba-4d55-92fe-503df91bdf60",
   "metadata": {},
   "outputs": [
    {
     "name": "stdout",
     "output_type": "stream",
     "text": [
      "The slowest run took 20.56 times longer than the fastest. This could mean that an intermediate result is being cached.\n",
      "3.06 µs ± 4.39 µs per loop (mean ± std. dev. of 7 runs, 1 loop each)\n"
     ]
    }
   ],
   "source": [
    "%%timeit\n",
    "trace._match_caller_callee()"
   ]
  },
  {
   "cell_type": "code",
   "execution_count": 16,
   "id": "90b5fd2f-4efe-42b2-ae87-b038f0e6354f",
   "metadata": {},
   "outputs": [
    {
     "ename": "NameError",
     "evalue": "name 'df' is not defined",
     "output_type": "error",
     "traceback": [
      "\u001b[0;31m---------------------------------------------------------------------------\u001b[0m",
      "\u001b[0;31mNameError\u001b[0m                                 Traceback (most recent call last)",
      "Cell \u001b[0;32mIn[16], line 1\u001b[0m\n\u001b[0;32m----> 1\u001b[0m \u001b[43mdf\u001b[49m\n",
      "\u001b[0;31mNameError\u001b[0m: name 'df' is not defined"
     ]
    }
   ],
   "source": [
    "df"
   ]
  },
  {
   "cell_type": "code",
   "execution_count": 51,
   "id": "65eb2204-bcff-42aa-9e9c-8d68d9370e40",
   "metadata": {},
   "outputs": [],
   "source": [
    "def pl_match_events(df):\n",
    "    matching_events = np.full(df.height, np.nan)\n",
    "    matching_times = np.full(df.height, np.nan)\n",
    "\n",
    "    # Only pairing enter and leave rows\n",
    "    enter_leave_df = df.filter(pl.col(\"Event Type\").is_in([\"Enter\", \"Leave\"]))\n",
    "\n",
    "    # List of processes and/or threads to iterate over\n",
    "    if \"Thread\" in df.columns:\n",
    "        exec_locations = set(zip(df[\"Process\"].to_list(), df[\"Thread\"].to_list()))\n",
    "        has_thread = True\n",
    "    else:\n",
    "        exec_locations = set(df[\"Process\"].to_list())\n",
    "        has_thread = False\n",
    "\n",
    "    for curr_loc in exec_locations:\n",
    "        # Only filter by thread if the trace has a thread column\n",
    "        if has_thread:\n",
    "            curr_process, curr_thread = curr_loc\n",
    "            filtered_df = enter_leave_df.filter(\n",
    "                (df[\"Process\"] == curr_process) & (df[\"Thread\"] == curr_thread)\n",
    "            )\n",
    "        else:\n",
    "            filtered_df = enter_leave_df.filter(df[\"Process\"] == curr_loc)\n",
    "\n",
    "        stack = []\n",
    "\n",
    "        # Iterate through all events of filtered DataFrame\n",
    "        for row in filtered_df.iterrows():\n",
    "            curr_df_index = row.get_column(\"row\").get(0)\n",
    "            curr_timestamp = row.get_column(\"Timestamp (ns)\").get(0)\n",
    "            evt_type = row.get_column(\"Event Type\").get(0)\n",
    "            curr_name = row.get_column(\"Name\").get(0)\n",
    "\n",
    "            if evt_type == \"Enter\":\n",
    "                # Add current dataframe index and timestamp to stack\n",
    "                stack.append((curr_df_index, curr_timestamp, curr_name))\n",
    "            else:\n",
    "                # We want to iterate through the stack in reverse order\n",
    "                # until we find the corresponding \"Enter\" Event\n",
    "                enter_name = None\n",
    "                i = len(stack) - 1\n",
    "                while enter_name != curr_name and i > -1:\n",
    "                    enter_df_index, enter_timestamp, enter_name = stack[i]\n",
    "                    i -= 1\n",
    "\n",
    "                if enter_name == curr_name:\n",
    "                    # Remove matched event from the stack\n",
    "                    del stack[i + 1]\n",
    "\n",
    "                    # Fill in the lists with the matching values if event found\n",
    "                    matching_events[enter_df_index] = curr_df_index\n",
    "                    matching_events[curr_df_index] = enter_df_index\n",
    "\n",
    "                    matching_times[enter_df_index] = curr_timestamp\n",
    "                    matching_times[curr_df_index] = enter_timestamp\n",
    "                else:\n",
    "                    continue\n",
    "\n",
    "    df = df.with_column(\"_matching_event\", pl.Series.new(\"Int32\", matching_events))\n",
    "    df = df.with_column(\"_matching_timestamp\", pl.Series.new(\"Int32\", matching_times))\n",
    "    return df"
   ]
  },
  {
   "cell_type": "code",
   "execution_count": 52,
   "id": "bc1a7564-2838-4fec-b705-24351dc77004",
   "metadata": {},
   "outputs": [
    {
     "ename": "ShapeError",
     "evalue": "filter's length: 95616 differs from that of the series: 64832",
     "output_type": "error",
     "traceback": [
      "\u001b[0;31m---------------------------------------------------------------------------\u001b[0m",
      "\u001b[0;31mShapeError\u001b[0m                                Traceback (most recent call last)",
      "Cell \u001b[0;32mIn[52], line 1\u001b[0m\n\u001b[0;32m----> 1\u001b[0m \u001b[43mpl_match_events\u001b[49m\u001b[43m(\u001b[49m\u001b[43mpdf\u001b[49m\u001b[43m)\u001b[49m\n",
      "Cell \u001b[0;32mIn[51], line 20\u001b[0m, in \u001b[0;36mpl_match_events\u001b[0;34m(df)\u001b[0m\n\u001b[1;32m     18\u001b[0m \u001b[38;5;28;01mif\u001b[39;00m has_thread:\n\u001b[1;32m     19\u001b[0m     curr_process, curr_thread \u001b[38;5;241m=\u001b[39m curr_loc\n\u001b[0;32m---> 20\u001b[0m     filtered_df \u001b[38;5;241m=\u001b[39m \u001b[43menter_leave_df\u001b[49m\u001b[38;5;241;43m.\u001b[39;49m\u001b[43mfilter\u001b[49m\u001b[43m(\u001b[49m\n\u001b[1;32m     21\u001b[0m \u001b[43m        \u001b[49m\u001b[43m(\u001b[49m\u001b[43mdf\u001b[49m\u001b[43m[\u001b[49m\u001b[38;5;124;43m\"\u001b[39;49m\u001b[38;5;124;43mProcess\u001b[39;49m\u001b[38;5;124;43m\"\u001b[39;49m\u001b[43m]\u001b[49m\u001b[43m \u001b[49m\u001b[38;5;241;43m==\u001b[39;49m\u001b[43m \u001b[49m\u001b[43mcurr_process\u001b[49m\u001b[43m)\u001b[49m\u001b[43m \u001b[49m\u001b[38;5;241;43m&\u001b[39;49m\u001b[43m \u001b[49m\u001b[43m(\u001b[49m\u001b[43mdf\u001b[49m\u001b[43m[\u001b[49m\u001b[38;5;124;43m\"\u001b[39;49m\u001b[38;5;124;43mThread\u001b[39;49m\u001b[38;5;124;43m\"\u001b[39;49m\u001b[43m]\u001b[49m\u001b[43m \u001b[49m\u001b[38;5;241;43m==\u001b[39;49m\u001b[43m \u001b[49m\u001b[43mcurr_thread\u001b[49m\u001b[43m)\u001b[49m\n\u001b[1;32m     22\u001b[0m \u001b[43m    \u001b[49m\u001b[43m)\u001b[49m\n\u001b[1;32m     23\u001b[0m \u001b[38;5;28;01melse\u001b[39;00m:\n\u001b[1;32m     24\u001b[0m     filtered_df \u001b[38;5;241m=\u001b[39m enter_leave_df\u001b[38;5;241m.\u001b[39mfilter(df[\u001b[38;5;124m\"\u001b[39m\u001b[38;5;124mProcess\u001b[39m\u001b[38;5;124m\"\u001b[39m] \u001b[38;5;241m==\u001b[39m curr_loc)\n",
      "File \u001b[0;32m~/projects/pipit/.env/lib/python3.11/site-packages/polars/dataframe/frame.py:3740\u001b[0m, in \u001b[0;36mDataFrame.filter\u001b[0;34m(self, *predicates, **constraints)\u001b[0m\n\u001b[1;32m   3642\u001b[0m \u001b[38;5;28;01mdef\u001b[39;00m \u001b[38;5;21mfilter\u001b[39m(\n\u001b[1;32m   3643\u001b[0m     \u001b[38;5;28mself\u001b[39m,\n\u001b[1;32m   3644\u001b[0m     \u001b[38;5;241m*\u001b[39mpredicates: (\n\u001b[0;32m   (...)\u001b[0m\n\u001b[1;32m   3651\u001b[0m     \u001b[38;5;241m*\u001b[39m\u001b[38;5;241m*\u001b[39mconstraints: Any,\n\u001b[1;32m   3652\u001b[0m ) \u001b[38;5;241m-\u001b[39m\u001b[38;5;241m>\u001b[39m DataFrame:\n\u001b[1;32m   3653\u001b[0m \u001b[38;5;250m    \u001b[39m\u001b[38;5;124;03m\"\"\"\u001b[39;00m\n\u001b[1;32m   3654\u001b[0m \u001b[38;5;124;03m    Filter the rows in the DataFrame based on one or more predicate expressions.\u001b[39;00m\n\u001b[1;32m   3655\u001b[0m \n\u001b[0;32m   (...)\u001b[0m\n\u001b[1;32m   3738\u001b[0m \u001b[38;5;124;03m    └─────┴─────┴─────┘\u001b[39;00m\n\u001b[1;32m   3739\u001b[0m \u001b[38;5;124;03m    \"\"\"\u001b[39;00m\n\u001b[0;32m-> 3740\u001b[0m     \u001b[38;5;28;01mreturn\u001b[39;00m \u001b[38;5;28;43mself\u001b[39;49m\u001b[38;5;241;43m.\u001b[39;49m\u001b[43mlazy\u001b[49m\u001b[43m(\u001b[49m\u001b[43m)\u001b[49m\u001b[38;5;241;43m.\u001b[39;49m\u001b[43mfilter\u001b[49m\u001b[43m(\u001b[49m\u001b[38;5;241;43m*\u001b[39;49m\u001b[43mpredicates\u001b[49m\u001b[43m,\u001b[49m\u001b[43m \u001b[49m\u001b[38;5;241;43m*\u001b[39;49m\u001b[38;5;241;43m*\u001b[39;49m\u001b[43mconstraints\u001b[49m\u001b[43m)\u001b[49m\u001b[38;5;241;43m.\u001b[39;49m\u001b[43mcollect\u001b[49m\u001b[43m(\u001b[49m\u001b[43m_eager\u001b[49m\u001b[38;5;241;43m=\u001b[39;49m\u001b[38;5;28;43;01mTrue\u001b[39;49;00m\u001b[43m)\u001b[49m\n",
      "File \u001b[0;32m~/projects/pipit/.env/lib/python3.11/site-packages/polars/lazyframe/frame.py:1700\u001b[0m, in \u001b[0;36mLazyFrame.collect\u001b[0;34m(self, type_coercion, predicate_pushdown, projection_pushdown, simplify_expression, slice_pushdown, comm_subplan_elim, comm_subexpr_elim, no_optimization, streaming, background, _eager)\u001b[0m\n\u001b[1;32m   1697\u001b[0m \u001b[38;5;28;01mif\u001b[39;00m background:\n\u001b[1;32m   1698\u001b[0m     \u001b[38;5;28;01mreturn\u001b[39;00m InProcessQuery(ldf\u001b[38;5;241m.\u001b[39mcollect_concurrently())\n\u001b[0;32m-> 1700\u001b[0m \u001b[38;5;28;01mreturn\u001b[39;00m wrap_df(ldf\u001b[38;5;241m.\u001b[39mcollect())\n",
      "\u001b[0;31mShapeError\u001b[0m: filter's length: 95616 differs from that of the series: 64832"
     ]
    }
   ],
   "source": [
    "pl_match_events(pdf)"
   ]
  },
  {
   "cell_type": "code",
   "execution_count": null,
   "id": "462e795d-73ab-4d86-be1d-5aa1353fddff",
   "metadata": {},
   "outputs": [],
   "source": []
  },
  {
   "cell_type": "code",
   "execution_count": null,
   "id": "a47c6a4c-dd2d-4484-8487-a3c58e29d3bd",
   "metadata": {},
   "outputs": [],
   "source": []
  },
  {
   "cell_type": "code",
   "execution_count": null,
   "id": "1bb3589a-36b3-414f-af84-4f35d431f246",
   "metadata": {},
   "outputs": [],
   "source": []
  },
  {
   "cell_type": "code",
   "execution_count": 40,
   "id": "45301862-bccc-4dcc-bd8e-c3c88f0847f4",
   "metadata": {},
   "outputs": [],
   "source": [
    "def original_match_events(df):\n",
    "    matching_events = [float(\"nan\")] * len(df)\n",
    "    matching_times = [float(\"nan\")] * len(df)\n",
    "    \n",
    "    # only pairing enter and leave rows\n",
    "    enter_leave_df = df.loc[\n",
    "        df[\"Event Type\"].isin([\"Enter\", \"Leave\"])\n",
    "    ]\n",
    "    \n",
    "    # list of processes and/or threads to iterate over\n",
    "    if \"Thread\" in df.columns:\n",
    "        exec_locations = set(zip(df[\"Process\"], df[\"Thread\"]))\n",
    "        has_thread = True\n",
    "    else:\n",
    "        exec_locations = set(df[\"Process\"])\n",
    "        has_thread = False\n",
    "    \n",
    "    for curr_loc in exec_locations:\n",
    "        # only filter by thread if the trace has a thread column\n",
    "        if has_thread:\n",
    "            curr_process, curr_thread = curr_loc\n",
    "            filtered_df = enter_leave_df.loc[\n",
    "                (enter_leave_df[\"Process\"] == curr_process)\n",
    "                & (enter_leave_df[\"Thread\"] == curr_thread)\n",
    "            ]\n",
    "        else:\n",
    "            filtered_df = enter_leave_df.loc[\n",
    "                (enter_leave_df[\"Process\"] == curr_loc)\n",
    "            ]\n",
    "    \n",
    "        stack = []\n",
    "    \n",
    "        # Note: The reason that we are creating lists that are\n",
    "        # copies of the dataframe columns below and iterating over\n",
    "        # those instead of using pandas iterrows is due to an\n",
    "        # observed improvement in performance when using lists.\n",
    "    \n",
    "        event_types = list(filtered_df[\"Event Type\"])\n",
    "        df_indices, timestamps, names = (\n",
    "            list(filtered_df.index),\n",
    "            list(filtered_df[\"Timestamp (ns)\"]),\n",
    "            list(filtered_df.Name),\n",
    "        )\n",
    "    \n",
    "        # Iterate through all events of filtered DataFrame\n",
    "        for i in range(len(filtered_df)):\n",
    "            curr_df_index, curr_timestamp, evt_type, curr_name = (\n",
    "                df_indices[i],\n",
    "                timestamps[i],\n",
    "                event_types[i],\n",
    "                names[i],\n",
    "            )\n",
    "    \n",
    "            if evt_type == \"Enter\":\n",
    "                # Add current dataframe index and timestamp to stack\n",
    "                stack.append((curr_df_index, curr_timestamp, curr_name))\n",
    "            else:\n",
    "                # we want to iterate through the stack in reverse order\n",
    "                # until we find the corresponding \"Enter\" Event\n",
    "                enter_name, i = None, len(stack) - 1\n",
    "                while enter_name != curr_name and i > -1:\n",
    "                    enter_df_index, enter_timestamp, enter_name = stack[i]\n",
    "                    i -= 1\n",
    "    \n",
    "                if enter_name == curr_name:\n",
    "                    # remove matched event from the stack\n",
    "                    del stack[i + 1]\n",
    "    \n",
    "                    # Fill in the lists with the matching values if event found\n",
    "                    matching_events[enter_df_index] = curr_df_index\n",
    "                    matching_events[curr_df_index] = enter_df_index\n",
    "    \n",
    "                    matching_times[enter_df_index] = curr_timestamp\n",
    "                    matching_times[curr_df_index] = enter_timestamp\n",
    "                else:\n",
    "                    continue\n",
    "    \n",
    "    df[\"_matching_event\"] = matching_events\n",
    "    df[\"_matching_timestamp\"] = matching_times\n",
    "    \n",
    "    df = df.astype({\"_matching_event\": \"Int32\"})\n",
    "\n",
    "def new_match_events(df):\n",
    "    matching_events = np.full(len(df), np.nan)\n",
    "    matching_times = np.full(len(df), np.nan)\n",
    "    \n",
    "    # only pairing enter and leave rows\n",
    "    enter_leave_df = df.loc[\n",
    "        df[\"Event Type\"].isin([\"Enter\", \"Leave\"])\n",
    "    ]\n",
    "    \n",
    "    # list of processes and/or threads to iterate over\n",
    "    if \"Thread\" in df.columns:\n",
    "        exec_locations = set(zip(df[\"Process\"], df[\"Thread\"]))\n",
    "        has_thread = True\n",
    "    else:\n",
    "        exec_locations = set(df[\"Process\"])\n",
    "        has_thread = False\n",
    "    \n",
    "    for curr_loc in exec_locations:\n",
    "        # only filter by thread if the trace has a thread column\n",
    "        if has_thread:\n",
    "            curr_process, curr_thread = curr_loc\n",
    "            filtered_df = enter_leave_df.loc[\n",
    "                (enter_leave_df[\"Process\"] == curr_process)\n",
    "                & (enter_leave_df[\"Thread\"] == curr_thread)\n",
    "            ]\n",
    "        else:\n",
    "            filtered_df = enter_leave_df.loc[\n",
    "                (enter_leave_df[\"Process\"] == curr_loc)\n",
    "            ]\n",
    "    \n",
    "        stack = []\n",
    "    \n",
    "        # Note: The reason that we are creating lists that are\n",
    "        # copies of the dataframe columns below and iterating over\n",
    "        # those instead of using pandas iterrows is due to an\n",
    "        # observed improvement in performance when using lists.\n",
    "    \n",
    "        event_types = list(filtered_df[\"Event Type\"])\n",
    "        df_indices, timestamps, names = (\n",
    "            list(filtered_df.index),\n",
    "            list(filtered_df[\"Timestamp (ns)\"]),\n",
    "            list(filtered_df.Name),\n",
    "        )\n",
    "    \n",
    "        # Iterate through all events of filtered DataFrame\n",
    "        for i in range(len(filtered_df)):\n",
    "            curr_df_index, curr_timestamp, evt_type, curr_name = (\n",
    "                df_indices[i],\n",
    "                timestamps[i],\n",
    "                event_types[i],\n",
    "                names[i],\n",
    "            )\n",
    "    \n",
    "            if evt_type == \"Enter\":\n",
    "                # Add current dataframe index and timestamp to stack\n",
    "                stack.append((curr_df_index, curr_timestamp, curr_name))\n",
    "            else:\n",
    "                # we want to iterate through the stack in reverse order\n",
    "                # until we find the corresponding \"Enter\" Event\n",
    "                enter_name, i = None, len(stack) - 1\n",
    "                while enter_name != curr_name and i > -1:\n",
    "                    enter_df_index, enter_timestamp, enter_name = stack[i]\n",
    "                    i -= 1\n",
    "    \n",
    "                if enter_name == curr_name:\n",
    "                    # remove matched event from the stack\n",
    "                    del stack[i + 1]\n",
    "    \n",
    "                    # Fill in the lists with the matching values if event found\n",
    "                    matching_events[enter_df_index] = curr_df_index\n",
    "                    matching_events[curr_df_index] = enter_df_index\n",
    "    \n",
    "                    matching_times[enter_df_index] = curr_timestamp\n",
    "                    matching_times[curr_df_index] = enter_timestamp\n",
    "                else:\n",
    "                    continue\n",
    "    \n",
    "    df[\"_matching_event\"] = matching_events\n",
    "    df[\"_matching_timestamp\"] = matching_times\n",
    "    \n",
    "    df = df.astype({\"_matching_event\": \"Int32\"})\n",
    "\n",
    "\n"
   ]
  },
  {
   "cell_type": "code",
   "execution_count": null,
   "id": "06d26932-d12d-4ea6-bb72-9b4080ce9e89",
   "metadata": {},
   "outputs": [],
   "source": []
  },
  {
   "cell_type": "code",
   "execution_count": 30,
   "id": "59f7d421-ab46-4368-a143-7b18e1235890",
   "metadata": {},
   "outputs": [
    {
     "name": "stdout",
     "output_type": "stream",
     "text": [
      "93.6 ms ± 1.45 ms per loop (mean ± std. dev. of 7 runs, 10 loops each)\n"
     ]
    }
   ],
   "source": [
    "%%timeit\n",
    "original_match_events(trace.events)"
   ]
  },
  {
   "cell_type": "code",
   "execution_count": 35,
   "id": "c48b11c6-7b19-46c8-a5b4-3d93610d785e",
   "metadata": {},
   "outputs": [
    {
     "name": "stdout",
     "output_type": "stream",
     "text": [
      "69.2 ms ± 965 µs per loop (mean ± std. dev. of 7 runs, 10 loops each)\n"
     ]
    }
   ],
   "source": [
    "%%timeit\n",
    "new_match_events(trace.events)"
   ]
  },
  {
   "cell_type": "code",
   "execution_count": 55,
   "id": "a480742e-bbfa-4e47-a559-de6b9dddd0a6",
   "metadata": {},
   "outputs": [],
   "source": [
    "dfs = [ v.reset_index() for k, v in df.groupby(\"Process\", observed=True) ]"
   ]
  },
  {
   "cell_type": "code",
   "execution_count": 56,
   "id": "d825728f-537c-490b-b2d6-532a5b420fc4",
   "metadata": {},
   "outputs": [
    {
     "data": {
      "text/html": [
       "<div>\n",
       "<style scoped>\n",
       "    .dataframe tbody tr th:only-of-type {\n",
       "        vertical-align: middle;\n",
       "    }\n",
       "\n",
       "    .dataframe tbody tr th {\n",
       "        vertical-align: top;\n",
       "    }\n",
       "\n",
       "    .dataframe thead th {\n",
       "        text-align: right;\n",
       "    }\n",
       "</style>\n",
       "<table border=\"1\" class=\"dataframe\">\n",
       "  <thead>\n",
       "    <tr style=\"text-align: right;\">\n",
       "      <th></th>\n",
       "      <th>index</th>\n",
       "      <th>Timestamp (ns)</th>\n",
       "      <th>Event Type</th>\n",
       "      <th>Name</th>\n",
       "      <th>Thread</th>\n",
       "      <th>Process</th>\n",
       "      <th>Attributes</th>\n",
       "      <th>_matching_event</th>\n",
       "      <th>_matching_timestamp</th>\n",
       "    </tr>\n",
       "  </thead>\n",
       "  <tbody>\n",
       "    <tr>\n",
       "      <th>0</th>\n",
       "      <td>5</td>\n",
       "      <td>4.959588e+04</td>\n",
       "      <td>Instant</td>\n",
       "      <td>ProgramBegin</td>\n",
       "      <td>0</td>\n",
       "      <td>0</td>\n",
       "      <td>{'attributes': {'Attribute 2': 35455}, 'progra...</td>\n",
       "      <td>&lt;NA&gt;</td>\n",
       "      <td>NaN</td>\n",
       "    </tr>\n",
       "    <tr>\n",
       "      <th>1</th>\n",
       "      <td>15</td>\n",
       "      <td>9.251779e+04</td>\n",
       "      <td>Enter</td>\n",
       "      <td>MPI_Init</td>\n",
       "      <td>0</td>\n",
       "      <td>0</td>\n",
       "      <td>{'region': 'Region 36'}</td>\n",
       "      <td>39</td>\n",
       "      <td>5.509727e+08</td>\n",
       "    </tr>\n",
       "    <tr>\n",
       "      <th>2</th>\n",
       "      <td>39</td>\n",
       "      <td>5.509727e+08</td>\n",
       "      <td>Leave</td>\n",
       "      <td>MPI_Init</td>\n",
       "      <td>0</td>\n",
       "      <td>0</td>\n",
       "      <td>None</td>\n",
       "      <td>15</td>\n",
       "      <td>9.251779e+04</td>\n",
       "    </tr>\n",
       "    <tr>\n",
       "      <th>3</th>\n",
       "      <td>53</td>\n",
       "      <td>5.509812e+08</td>\n",
       "      <td>Instant</td>\n",
       "      <td>MeasurementOnOff</td>\n",
       "      <td>0</td>\n",
       "      <td>0</td>\n",
       "      <td>{'measurement_mode': 'MeasurementMode.OFF'}</td>\n",
       "      <td>&lt;NA&gt;</td>\n",
       "      <td>NaN</td>\n",
       "    </tr>\n",
       "    <tr>\n",
       "      <th>4</th>\n",
       "      <td>124</td>\n",
       "      <td>8.267803e+08</td>\n",
       "      <td>Instant</td>\n",
       "      <td>MeasurementOnOff</td>\n",
       "      <td>0</td>\n",
       "      <td>0</td>\n",
       "      <td>{'measurement_mode': 'MeasurementMode.ON'}</td>\n",
       "      <td>&lt;NA&gt;</td>\n",
       "      <td>NaN</td>\n",
       "    </tr>\n",
       "    <tr>\n",
       "      <th>...</th>\n",
       "      <td>...</td>\n",
       "      <td>...</td>\n",
       "      <td>...</td>\n",
       "      <td>...</td>\n",
       "      <td>...</td>\n",
       "      <td>...</td>\n",
       "      <td>...</td>\n",
       "      <td>...</td>\n",
       "      <td>...</td>\n",
       "    </tr>\n",
       "    <tr>\n",
       "      <th>5971</th>\n",
       "      <td>95538</td>\n",
       "      <td>1.748623e+09</td>\n",
       "      <td>Instant</td>\n",
       "      <td>MpiCollectiveEnd</td>\n",
       "      <td>0</td>\n",
       "      <td>0</td>\n",
       "      <td>{'collective_op': 'CollectiveOp.ALLREDUCE', 'c...</td>\n",
       "      <td>&lt;NA&gt;</td>\n",
       "      <td>NaN</td>\n",
       "    </tr>\n",
       "    <tr>\n",
       "      <th>5972</th>\n",
       "      <td>95563</td>\n",
       "      <td>1.748624e+09</td>\n",
       "      <td>Leave</td>\n",
       "      <td>MPI_Allreduce</td>\n",
       "      <td>0</td>\n",
       "      <td>0</td>\n",
       "      <td>None</td>\n",
       "      <td>95533</td>\n",
       "      <td>1.748600e+09</td>\n",
       "    </tr>\n",
       "    <tr>\n",
       "      <th>5973</th>\n",
       "      <td>95583</td>\n",
       "      <td>1.748661e+09</td>\n",
       "      <td>Leave</td>\n",
       "      <td>writeSingleField</td>\n",
       "      <td>0</td>\n",
       "      <td>0</td>\n",
       "      <td>None</td>\n",
       "      <td>95119</td>\n",
       "      <td>1.414827e+09</td>\n",
       "    </tr>\n",
       "    <tr>\n",
       "      <th>5974</th>\n",
       "      <td>95614</td>\n",
       "      <td>1.749750e+09</td>\n",
       "      <td>Leave</td>\n",
       "      <td>run</td>\n",
       "      <td>0</td>\n",
       "      <td>0</td>\n",
       "      <td>None</td>\n",
       "      <td>125</td>\n",
       "      <td>8.268101e+08</td>\n",
       "    </tr>\n",
       "    <tr>\n",
       "      <th>5975</th>\n",
       "      <td>95615</td>\n",
       "      <td>1.749759e+09</td>\n",
       "      <td>Instant</td>\n",
       "      <td>MeasurementOnOff</td>\n",
       "      <td>0</td>\n",
       "      <td>0</td>\n",
       "      <td>{'measurement_mode': 'MeasurementMode.OFF'}</td>\n",
       "      <td>&lt;NA&gt;</td>\n",
       "      <td>NaN</td>\n",
       "    </tr>\n",
       "  </tbody>\n",
       "</table>\n",
       "<p>5976 rows × 9 columns</p>\n",
       "</div>"
      ],
      "text/plain": [
       "      index  Timestamp (ns) Event Type              Name Thread Process  \\\n",
       "0         5    4.959588e+04    Instant      ProgramBegin      0       0   \n",
       "1        15    9.251779e+04      Enter          MPI_Init      0       0   \n",
       "2        39    5.509727e+08      Leave          MPI_Init      0       0   \n",
       "3        53    5.509812e+08    Instant  MeasurementOnOff      0       0   \n",
       "4       124    8.267803e+08    Instant  MeasurementOnOff      0       0   \n",
       "...     ...             ...        ...               ...    ...     ...   \n",
       "5971  95538    1.748623e+09    Instant  MpiCollectiveEnd      0       0   \n",
       "5972  95563    1.748624e+09      Leave     MPI_Allreduce      0       0   \n",
       "5973  95583    1.748661e+09      Leave  writeSingleField      0       0   \n",
       "5974  95614    1.749750e+09      Leave               run      0       0   \n",
       "5975  95615    1.749759e+09    Instant  MeasurementOnOff      0       0   \n",
       "\n",
       "                                             Attributes  _matching_event  \\\n",
       "0     {'attributes': {'Attribute 2': 35455}, 'progra...             <NA>   \n",
       "1                               {'region': 'Region 36'}               39   \n",
       "2                                                  None               15   \n",
       "3           {'measurement_mode': 'MeasurementMode.OFF'}             <NA>   \n",
       "4            {'measurement_mode': 'MeasurementMode.ON'}             <NA>   \n",
       "...                                                 ...              ...   \n",
       "5971  {'collective_op': 'CollectiveOp.ALLREDUCE', 'c...             <NA>   \n",
       "5972                                               None            95533   \n",
       "5973                                               None            95119   \n",
       "5974                                               None              125   \n",
       "5975        {'measurement_mode': 'MeasurementMode.OFF'}             <NA>   \n",
       "\n",
       "      _matching_timestamp  \n",
       "0                     NaN  \n",
       "1            5.509727e+08  \n",
       "2            9.251779e+04  \n",
       "3                     NaN  \n",
       "4                     NaN  \n",
       "...                   ...  \n",
       "5971                  NaN  \n",
       "5972         1.748600e+09  \n",
       "5973         1.414827e+09  \n",
       "5974         8.268101e+08  \n",
       "5975                  NaN  \n",
       "\n",
       "[5976 rows x 9 columns]"
      ]
     },
     "execution_count": 56,
     "metadata": {},
     "output_type": "execute_result"
    }
   ],
   "source": [
    "dfs[0]"
   ]
  },
  {
   "cell_type": "code",
   "execution_count": null,
   "id": "a53d1516-cd7e-4a44-86b6-cfd789587140",
   "metadata": {},
   "outputs": [],
   "source": []
  }
 ],
 "metadata": {
  "kernelspec": {
   "display_name": "Python 3 (ipykernel)",
   "language": "python",
   "name": "python3"
  },
  "language_info": {
   "codemirror_mode": {
    "name": "ipython",
    "version": 3
   },
   "file_extension": ".py",
   "mimetype": "text/x-python",
   "name": "python",
   "nbconvert_exporter": "python",
   "pygments_lexer": "ipython3",
   "version": "3.11.6"
  }
 },
 "nbformat": 4,
 "nbformat_minor": 5
}
