{
 "cells": [
  {
   "cell_type": "code",
   "execution_count": 1,
   "id": "3a487ed5-3a6a-44d2-91b2-875e09779d02",
   "metadata": {},
   "outputs": [],
   "source": [
    "%load_ext autoreload\n",
    "%autoreload 2"
   ]
  },
  {
   "cell_type": "code",
   "execution_count": 3,
   "id": "9baf26af-b93f-4efe-bd2d-d089a67cc861",
   "metadata": {},
   "outputs": [],
   "source": [
    "import sys\n",
    "sys.path.append(\"../..\")"
   ]
  },
  {
   "cell_type": "code",
   "execution_count": 5,
   "id": "10f31fbf-6765-4588-a2ad-889dc5d73a3c",
   "metadata": {},
   "outputs": [],
   "source": [
    "import pipit as pp"
   ]
  },
  {
   "cell_type": "code",
   "execution_count": 6,
   "id": "ce030810-ec45-4ebe-b45c-5b84f3c8ec63",
   "metadata": {},
   "outputs": [],
   "source": [
    "class DataFrame:\n",
    "    def __init__(self, data, columns=None):\n",
    "        self.data = data\n",
    "        self.columns = columns if columns else list(data[0].keys())\n",
    "\n",
    "    def __repr__(self):\n",
    "        pass\n",
    "\n",
    "    def to_dict(self):\n",
    "        pass\n",
    "\n",
    "    def select(self, columns):\n",
    "        pass\n",
    "\n",
    "    def head(self, n=5):\n",
    "        pass\n",
    "\n",
    "    def tail(self, n=5):\n",
    "        pass\n",
    "\n",
    "    def filter(self, expr):\n",
    "        pass\n",
    "\n",
    "    def groupby(self, columns):\n",
    "        pass\n",
    "\n",
    "    def get(self, index):\n",
    "        pass\n",
    "\n",
    "    def "
   ]
  },
  {
   "cell_type": "code",
   "execution_count": 7,
   "id": "748866cf-966f-4fd6-be16-0260aca98e7b",
   "metadata": {},
   "outputs": [
    {
     "name": "stdout",
     "output_type": "stream",
     "text": [
      "{'Name': ['Alice', 'Bob', 'Charlie'], 'Age': [30, 25, 35], 'City': ['New York', 'Los Angeles', 'Chicago']}\n",
      "{'Name': ['Alice', 'Bob', 'Charlie'], 'Age': [30, 25, 35], 'City': ['New York', 'Los Angeles', 'Chicago']}\n",
      "{'Name': ['Alice', 'Bob', 'Charlie'], 'Age': [30, 25, 35]}\n"
     ]
    }
   ],
   "source": [
    "# Example Usage:\n",
    "data = [\n",
    "    {\"Name\": \"Alice\", \"Age\": 30, \"City\": \"New York\"},\n",
    "    {\"Name\": \"Bob\", \"Age\": 25, \"City\": \"Los Angeles\"},\n",
    "    {\"Name\": \"Charlie\", \"Age\": 35, \"City\": \"Chicago\"},\n",
    "]\n",
    "\n",
    "df = DataFrame(data)\n",
    "\n",
    "print(df.head())\n",
    "print(df.tail())\n"
   ]
  },
  {
   "cell_type": "code",
   "execution_count": 8,
   "id": "62dd4953-dfd4-4673-b363-e1277eaa6798",
   "metadata": {},
   "outputs": [
    {
     "data": {
      "text/plain": [
       "[{'Name': 'Alice', 'Age': 30, 'City': 'New York'},\n",
       " {'Name': 'Bob', 'Age': 25, 'City': 'Los Angeles'},\n",
       " {'Name': 'Charlie', 'Age': 35, 'City': 'Chicago'}]"
      ]
     },
     "execution_count": 8,
     "metadata": {},
     "output_type": "execute_result"
    }
   ],
   "source": [
    "df.select([\"Name\", \"Age\"]).data"
   ]
  }
 ],
 "metadata": {
  "kernelspec": {
   "display_name": "Python 3 (ipykernel)",
   "language": "python",
   "name": "python3"
  },
  "language_info": {
   "codemirror_mode": {
    "name": "ipython",
    "version": 3
   },
   "file_extension": ".py",
   "mimetype": "text/x-python",
   "name": "python",
   "nbconvert_exporter": "python",
   "pygments_lexer": "ipython3",
   "version": "3.8.10"
  }
 },
 "nbformat": 4,
 "nbformat_minor": 5
}
