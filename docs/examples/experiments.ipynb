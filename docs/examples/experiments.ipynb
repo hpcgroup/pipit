{
 "cells": [
  {
   "cell_type": "markdown",
   "id": "afbab7da-d8b9-49f8-a02f-c7885f3dd91b",
   "metadata": {},
   "source": [
    "# experiments.ipynb\n",
    "\n",
    "This notebook contains experiments using various methods and libraries to see what gets us the best running time and memory usage."
   ]
  },
  {
   "cell_type": "code",
   "execution_count": 1,
   "id": "8241c42f-4c68-4f23-bd0b-ef2a9259ec12",
   "metadata": {},
   "outputs": [],
   "source": [
    "%load_ext autoreload\n",
    "%autoreload 2"
   ]
  },
  {
   "cell_type": "code",
   "execution_count": 15,
   "id": "8db48bba-8b05-46f0-957e-9d4d66f0d513",
   "metadata": {},
   "outputs": [],
   "source": [
    "import sys\n",
    "sys.path.append(\"../..\")\n",
    "\n",
    "import pipit as pp\n",
    "import pandas as pd\n",
    "import dask\n",
    "import numpy as np\n",
    "import sqlite3\n",
    "import polars\n",
    "from operator import itemgetter\n",
    "import duckdb\n",
    "import json\n",
    "import otf2\n",
    "from otf2.events import *"
   ]
  },
  {
   "cell_type": "markdown",
   "id": "50010249-040c-4821-8a86-a23f7402e04f",
   "metadata": {},
   "source": [
    "Let's read in the sw4lite-32 OTF2 dataset:"
   ]
  },
  {
   "cell_type": "code",
   "execution_count": 3,
   "id": "00e84f51-f161-4435-b4ae-315d4e451ee0",
   "metadata": {},
   "outputs": [
    {
     "data": {
      "text/html": [
       "<div>\n",
       "<style scoped>\n",
       "    .dataframe tbody tr th:only-of-type {\n",
       "        vertical-align: middle;\n",
       "    }\n",
       "\n",
       "    .dataframe tbody tr th {\n",
       "        vertical-align: top;\n",
       "    }\n",
       "\n",
       "    .dataframe thead th {\n",
       "        text-align: right;\n",
       "    }\n",
       "</style>\n",
       "<table border=\"1\" class=\"dataframe\">\n",
       "  <thead>\n",
       "    <tr style=\"text-align: right;\">\n",
       "      <th></th>\n",
       "      <th>Timestamp (ns)</th>\n",
       "      <th>Event Type</th>\n",
       "      <th>Name</th>\n",
       "      <th>Thread</th>\n",
       "      <th>Process</th>\n",
       "      <th>Attributes</th>\n",
       "    </tr>\n",
       "  </thead>\n",
       "  <tbody>\n",
       "    <tr>\n",
       "      <th>0</th>\n",
       "      <td>4.772924e-01</td>\n",
       "      <td>Instant</td>\n",
       "      <td>ProgramBegin</td>\n",
       "      <td>0</td>\n",
       "      <td>14</td>\n",
       "      <td>{'program_name': '/g/g92/bhowmik1/sw4lite/sw4l...</td>\n",
       "    </tr>\n",
       "    <tr>\n",
       "      <th>1</th>\n",
       "      <td>1.484379e+02</td>\n",
       "      <td>Instant</td>\n",
       "      <td>ProgramBegin</td>\n",
       "      <td>0</td>\n",
       "      <td>15</td>\n",
       "      <td>{'program_name': '/g/g92/bhowmik1/sw4lite/sw4l...</td>\n",
       "    </tr>\n",
       "    <tr>\n",
       "      <th>2</th>\n",
       "      <td>1.740208e+03</td>\n",
       "      <td>Instant</td>\n",
       "      <td>ProgramBegin</td>\n",
       "      <td>0</td>\n",
       "      <td>12</td>\n",
       "      <td>{'program_name': '/g/g92/bhowmik1/sw4lite/sw4l...</td>\n",
       "    </tr>\n",
       "    <tr>\n",
       "      <th>3</th>\n",
       "      <td>2.002576e+04</td>\n",
       "      <td>Instant</td>\n",
       "      <td>ProgramBegin</td>\n",
       "      <td>0</td>\n",
       "      <td>13</td>\n",
       "      <td>{'program_name': '/g/g92/bhowmik1/sw4lite/sw4l...</td>\n",
       "    </tr>\n",
       "    <tr>\n",
       "      <th>4</th>\n",
       "      <td>2.014269e+04</td>\n",
       "      <td>Enter</td>\n",
       "      <td>MPI_Init</td>\n",
       "      <td>0</td>\n",
       "      <td>14</td>\n",
       "      <td>{'region': 'Region 36'}</td>\n",
       "    </tr>\n",
       "    <tr>\n",
       "      <th>...</th>\n",
       "      <td>...</td>\n",
       "      <td>...</td>\n",
       "      <td>...</td>\n",
       "      <td>...</td>\n",
       "      <td>...</td>\n",
       "      <td>...</td>\n",
       "    </tr>\n",
       "    <tr>\n",
       "      <th>9533</th>\n",
       "      <td>4.699147e+09</td>\n",
       "      <td>Leave</td>\n",
       "      <td>MPI_Sendrecv</td>\n",
       "      <td>0</td>\n",
       "      <td>25</td>\n",
       "      <td>None</td>\n",
       "    </tr>\n",
       "    <tr>\n",
       "      <th>9534</th>\n",
       "      <td>4.704243e+09</td>\n",
       "      <td>Leave</td>\n",
       "      <td>TRACER_Loop</td>\n",
       "      <td>0</td>\n",
       "      <td>25</td>\n",
       "      <td>None</td>\n",
       "    </tr>\n",
       "    <tr>\n",
       "      <th>9535</th>\n",
       "      <td>4.704245e+09</td>\n",
       "      <td>Instant</td>\n",
       "      <td>MeasurementOnOff</td>\n",
       "      <td>0</td>\n",
       "      <td>25</td>\n",
       "      <td>{'measurement_mode': 'MeasurementMode.OFF'}</td>\n",
       "    </tr>\n",
       "    <tr>\n",
       "      <th>9536</th>\n",
       "      <td>4.704403e+09</td>\n",
       "      <td>Leave</td>\n",
       "      <td>TRACER_Loop</td>\n",
       "      <td>0</td>\n",
       "      <td>1</td>\n",
       "      <td>None</td>\n",
       "    </tr>\n",
       "    <tr>\n",
       "      <th>9537</th>\n",
       "      <td>4.704406e+09</td>\n",
       "      <td>Instant</td>\n",
       "      <td>MeasurementOnOff</td>\n",
       "      <td>0</td>\n",
       "      <td>1</td>\n",
       "      <td>{'measurement_mode': 'MeasurementMode.OFF'}</td>\n",
       "    </tr>\n",
       "  </tbody>\n",
       "</table>\n",
       "<p>9538 rows × 6 columns</p>\n",
       "</div>"
      ],
      "text/plain": [
       "      Timestamp (ns) Event Type              Name Thread Process  \\\n",
       "0       4.772924e-01    Instant      ProgramBegin      0      14   \n",
       "1       1.484379e+02    Instant      ProgramBegin      0      15   \n",
       "2       1.740208e+03    Instant      ProgramBegin      0      12   \n",
       "3       2.002576e+04    Instant      ProgramBegin      0      13   \n",
       "4       2.014269e+04      Enter          MPI_Init      0      14   \n",
       "...              ...        ...               ...    ...     ...   \n",
       "9533    4.699147e+09      Leave      MPI_Sendrecv      0      25   \n",
       "9534    4.704243e+09      Leave       TRACER_Loop      0      25   \n",
       "9535    4.704245e+09    Instant  MeasurementOnOff      0      25   \n",
       "9536    4.704403e+09      Leave       TRACER_Loop      0       1   \n",
       "9537    4.704406e+09    Instant  MeasurementOnOff      0       1   \n",
       "\n",
       "                                             Attributes  \n",
       "0     {'program_name': '/g/g92/bhowmik1/sw4lite/sw4l...  \n",
       "1     {'program_name': '/g/g92/bhowmik1/sw4lite/sw4l...  \n",
       "2     {'program_name': '/g/g92/bhowmik1/sw4lite/sw4l...  \n",
       "3     {'program_name': '/g/g92/bhowmik1/sw4lite/sw4l...  \n",
       "4                               {'region': 'Region 36'}  \n",
       "...                                                 ...  \n",
       "9533                                               None  \n",
       "9534                                               None  \n",
       "9535        {'measurement_mode': 'MeasurementMode.OFF'}  \n",
       "9536                                               None  \n",
       "9537        {'measurement_mode': 'MeasurementMode.OFF'}  \n",
       "\n",
       "[9538 rows x 6 columns]"
      ]
     },
     "execution_count": 3,
     "metadata": {},
     "output_type": "execute_result"
    }
   ],
   "source": [
    "trace = pp.Trace.from_otf2(\"/home/rakrish/trace-data/sw4lite-32/\")\n",
    "\n",
    "# DataFrame (stored column-wise)\n",
    "df = trace.events\n",
    "df"
   ]
  },
  {
   "cell_type": "code",
   "execution_count": 4,
   "id": "d0efb3a3-f198-452e-8ff6-34b9f95cceff",
   "metadata": {},
   "outputs": [],
   "source": [
    "# List of dictionaries (stored row-wise)\n",
    "events = df.to_dict(orient=\"records\")"
   ]
  },
  {
   "cell_type": "markdown",
   "id": "204d041c-43d9-46b7-af7d-d0d35e29b4fc",
   "metadata": {},
   "source": [
    "## Experiment 1: Summing the \"Timestamp (ns)\" column"
   ]
  },
  {
   "cell_type": "code",
   "execution_count": 5,
   "id": "089a9b67-0085-442a-b48a-72b9e7d380d4",
   "metadata": {},
   "outputs": [
    {
     "name": "stdout",
     "output_type": "stream",
     "text": [
      "47.3 µs ± 1.28 µs per loop (mean ± std. dev. of 7 runs, 10,000 loops each)\n"
     ]
    }
   ],
   "source": [
    "%%timeit\n",
    "df[\"Timestamp (ns)\"].sum()"
   ]
  },
  {
   "cell_type": "code",
   "execution_count": 6,
   "id": "156c8e5a-5142-4efd-943a-4e21120e2fdf",
   "metadata": {},
   "outputs": [
    {
     "name": "stdout",
     "output_type": "stream",
     "text": [
      "155 µs ± 1.69 µs per loop (mean ± std. dev. of 7 runs, 10,000 loops each)\n"
     ]
    }
   ],
   "source": [
    "%%timeit\n",
    "sum(df[\"Timestamp (ns)\"].tolist())"
   ]
  },
  {
   "cell_type": "code",
   "execution_count": 85,
   "id": "0677d6bb-fdfe-4862-96b2-3d978b78a371",
   "metadata": {},
   "outputs": [
    {
     "name": "stdout",
     "output_type": "stream",
     "text": [
      "427 ms ± 7.57 ms per loop (mean ± std. dev. of 7 runs, 1 loop each)\n"
     ]
    }
   ],
   "source": [
    "%%timeit\n",
    "sum([event[\"Timestamp (ns)\"] for _, event in df.iterrows()])"
   ]
  },
  {
   "cell_type": "code",
   "execution_count": 74,
   "id": "b5f990dc-9914-4ab4-bb09-24c3d9b25662",
   "metadata": {},
   "outputs": [
    {
     "name": "stdout",
     "output_type": "stream",
     "text": [
      "439 ms ± 14 ms per loop (mean ± std. dev. of 7 runs, 1 loop each)\n"
     ]
    }
   ],
   "source": [
    "%%timeit\n",
    "total = 0\n",
    "for idx, event in df.iterrows():\n",
    "    total += event[\"Timestamp (ns)\"]"
   ]
  },
  {
   "cell_type": "code",
   "execution_count": 78,
   "id": "1f554d92-ed0c-496a-acd5-9e5140c2bce3",
   "metadata": {},
   "outputs": [
    {
     "name": "stdout",
     "output_type": "stream",
     "text": [
      "473 µs ± 11.3 µs per loop (mean ± std. dev. of 7 runs, 1,000 loops each)\n"
     ]
    }
   ],
   "source": [
    "%%timeit\n",
    "sum(evt[\"Timestamp (ns)\"] for evt in events)"
   ]
  },
  {
   "cell_type": "code",
   "execution_count": 79,
   "id": "e3d07559-d2f4-442b-81bc-1699e3ace6a2",
   "metadata": {},
   "outputs": [
    {
     "name": "stdout",
     "output_type": "stream",
     "text": [
      "434 µs ± 22.3 µs per loop (mean ± std. dev. of 7 runs, 1,000 loops each)\n"
     ]
    }
   ],
   "source": [
    "%%timeit\n",
    "sum(map(itemgetter(\"Timestamp (ns)\"), events))"
   ]
  },
  {
   "cell_type": "markdown",
   "id": "9b8e39db-5139-4bcd-ad0e-55450721f0b5",
   "metadata": {},
   "source": [
    "What results do we see here?\n",
    "\n",
    "If we sum a column using Pandas (column-oriented), we get ~50 us.\n",
    "\n",
    "If we sum a column using Python list of dicts (row-oriented), we get ~434 us (9.88x slower).\n",
    "\n",
    "\n",
    "However, if we do this operation without vectorization (using row-by-row iteration), using Pandas we get ~427 ms.\n",
    "\n",
    "Using Python list of dicts, this is still ~434 us, which is (983x faster).\n",
    "\n",
    "In this case, it is **worth moving to a row-oriented format.**"
   ]
  },
  {
   "cell_type": "markdown",
   "id": "c3d06e95-c30a-47f8-b30e-65189ef92880",
   "metadata": {},
   "source": [
    "## What if we used NumPy arrays?"
   ]
  },
  {
   "cell_type": "code",
   "execution_count": 8,
   "id": "8dbde3f8-d9c1-4776-aaee-1809e25e89f7",
   "metadata": {},
   "outputs": [],
   "source": [
    "ts = df[\"Timestamp (ns)\"].to_numpy()"
   ]
  },
  {
   "cell_type": "code",
   "execution_count": 9,
   "id": "3a58769d-af2a-4942-9f9d-427fb72bffe3",
   "metadata": {},
   "outputs": [
    {
     "name": "stdout",
     "output_type": "stream",
     "text": [
      "3.54 µs ± 137 ns per loop (mean ± std. dev. of 7 runs, 100,000 loops each)\n"
     ]
    }
   ],
   "source": [
    "%%timeit\n",
    "ts.sum()"
   ]
  },
  {
   "cell_type": "code",
   "execution_count": 13,
   "id": "537904a2-bc50-4bd2-9909-5ef7035799e5",
   "metadata": {},
   "outputs": [
    {
     "name": "stdout",
     "output_type": "stream",
     "text": [
      "666 µs ± 20.6 µs per loop (mean ± std. dev. of 7 runs, 1,000 loops each)\n"
     ]
    }
   ],
   "source": [
    "%%timeit\n",
    "total = 0\n",
    "for t in ts:\n",
    "    total += t"
   ]
  },
  {
   "cell_type": "code",
   "execution_count": 14,
   "id": "51c0f55d-eb03-4371-bd97-4a1a5713ad8a",
   "metadata": {},
   "outputs": [
    {
     "name": "stdout",
     "output_type": "stream",
     "text": [
      "1.05 ms ± 22.6 µs per loop (mean ± std. dev. of 7 runs, 1,000 loops each)\n"
     ]
    }
   ],
   "source": [
    "%%timeit\n",
    "total = 0\n",
    "for i in range(len(ts)):\n",
    "    total += ts[i]"
   ]
  },
  {
   "cell_type": "markdown",
   "id": "bdbce3c1-b399-49c8-b71e-e8c99c31858e",
   "metadata": {},
   "source": [
    "## What if we used DuckDB?\n",
    "\n",
    "DuckDB is also column-oriented, so it's a bad idea to add one row at a time. However, DuckDB lets us do so since it uses SQL.\n",
    "\n",
    "From their doc:\n",
    "\n",
    "> INSERT statements are the standard way of loading data into a relational database. When using INSERT statements, the values are supplied row-by-row. While simple, there is significant overhead involved in parsing and processing individual INSERT statements. This makes lots of individual row-by-row insertions very inefficient for bulk insertion.\n",
    "\n",
    "> As a rule-of-thumb, avoid using lots of individual row-by-row INSERT statements when inserting more than a few rows (i.e., avoid using INSERT > statements as part of a loop). When bulk inserting data, try to maximize the amount of data that is inserted per statement.\n",
    "\n",
    "So, a more efficient way will be doing so in batches, instead of individual event insertions. Thus, we'll need to keep some sort of buffer in Python, and then flush this buffer by inserting into a DuckDB table..\r\n",
    "\r\n"
   ]
  },
  {
   "cell_type": "code",
   "execution_count": 61,
   "id": "34a22dbb-16fe-4425-a461-65266cedf2f8",
   "metadata": {},
   "outputs": [],
   "source": [
    "conn = duckdb.connect(database=':memory:')\n",
    "\n",
    "conn.execute('''\n",
    "    CREATE TABLE IF NOT EXISTS my_table (\n",
    "        \"Timestamp (ns)\" double,\n",
    "        \"Event Type\" varchar,\n",
    "        \"Name\" varchar,\n",
    "        \"Thread\" int32,\n",
    "        \"Process\" varchar,\n",
    "        \"Attributes\" varchar,\n",
    "    )\n",
    "''')\n",
    "for event in events:\n",
    "    timestamp = event[\"Timestamp (ns)\"]\n",
    "    event_type = event[\"Event Type\"]\n",
    "    name = event[\"Name\"]\n",
    "    thread = event[\"Thread\"]\n",
    "    process = event[\"Process\"]\n",
    "    attributes = json.dumps(event[\"Attributes\"])\n",
    "\n",
    "    # Use f-string to dynamically insert values with correct syntax\n",
    "    conn.execute(f\"INSERT INTO my_table VALUES ({timestamp}, '{event_type}', '{name}', {thread}, {process}, '{attributes}')\")"
   ]
  },
  {
   "cell_type": "code",
   "execution_count": 57,
   "id": "ebf8a232-4e7d-460d-9f5d-c00f61d5ed3f",
   "metadata": {},
   "outputs": [
    {
     "name": "stdout",
     "output_type": "stream",
     "text": [
      "288 µs ± 8.63 µs per loop (mean ± std. dev. of 7 runs, 1,000 loops each)\n"
     ]
    }
   ],
   "source": [
    "%%timeit\n",
    "conn.execute('SELECT SUM(\"Timestamp (ns)\") FROM my_table').fetchall()"
   ]
  },
  {
   "cell_type": "markdown",
   "id": "f0b1fc4e-107a-4ccd-9c8f-d3855aec6297",
   "metadata": {},
   "source": [
    "## What if we use Polars?\n",
    "\n",
    "Since polars is column-oriented, it's not recommend to add one row at a time. Instead, we can build a Python list of dicts and then convert that to a Polars DataFrame.\n",
    "\n",
    "In practice, this will duplicate memory, so we should build a small Polars DF at a time, freeing up that memory from the Python list. \n",
    "\n",
    "So effectively, this is the same as the DuckDB approach -- build a buffer in Python, push it on to the DuckDB/Polars table, and flush the buffer."
   ]
  },
  {
   "cell_type": "code",
   "execution_count": 58,
   "id": "b61d0d54-6227-44fc-9aff-1abc4c76d30f",
   "metadata": {},
   "outputs": [
    {
     "data": {
      "text/html": [
       "<div><style>\n",
       ".dataframe > thead > tr,\n",
       ".dataframe > tbody > tr {\n",
       "  text-align: right;\n",
       "  white-space: pre-wrap;\n",
       "}\n",
       "</style>\n",
       "<small>shape: (9_538, 6)</small><table border=\"1\" class=\"dataframe\"><thead><tr><th>Timestamp (ns)</th><th>Event Type</th><th>Name</th><th>Thread</th><th>Process</th><th>Attributes</th></tr><tr><td>f64</td><td>str</td><td>str</td><td>i64</td><td>i64</td><td>struct[4]</td></tr></thead><tbody><tr><td>0.477292</td><td>&quot;Instant&quot;</td><td>&quot;ProgramBegin&quot;</td><td>0</td><td>14</td><td>{&quot;/g/g92/bhowmik1/sw4lite/sw4lite/optimize_c_quartz/sw4lite&quot;,[&quot;tests/trace-collection-input/gaussian-32.in&quot;],null,null}</td></tr><tr><td>148.437925</td><td>&quot;Instant&quot;</td><td>&quot;ProgramBegin&quot;</td><td>0</td><td>15</td><td>{&quot;/g/g92/bhowmik1/sw4lite/sw4lite/optimize_c_quartz/sw4lite&quot;,[&quot;tests/trace-collection-input/gaussian-32.in&quot;],null,null}</td></tr><tr><td>1740.207954</td><td>&quot;Instant&quot;</td><td>&quot;ProgramBegin&quot;</td><td>0</td><td>12</td><td>{&quot;/g/g92/bhowmik1/sw4lite/sw4lite/optimize_c_quartz/sw4lite&quot;,[&quot;tests/trace-collection-input/gaussian-32.in&quot;],null,null}</td></tr><tr><td>20025.75566</td><td>&quot;Instant&quot;</td><td>&quot;ProgramBegin&quot;</td><td>0</td><td>13</td><td>{&quot;/g/g92/bhowmik1/sw4lite/sw4lite/optimize_c_quartz/sw4lite&quot;,[&quot;tests/trace-collection-input/gaussian-32.in&quot;],null,null}</td></tr><tr><td>20142.692289</td><td>&quot;Enter&quot;</td><td>&quot;MPI_Init&quot;</td><td>0</td><td>14</td><td>{null,null,&quot;Region 36&quot;,null}</td></tr><tr><td>20377.520131</td><td>&quot;Enter&quot;</td><td>&quot;MPI_Init&quot;</td><td>0</td><td>12</td><td>{null,null,&quot;Region 36&quot;,null}</td></tr><tr><td>20534.072026</td><td>&quot;Enter&quot;</td><td>&quot;MPI_Init&quot;</td><td>0</td><td>15</td><td>{null,null,&quot;Region 36&quot;,null}</td></tr><tr><td>35336.817362</td><td>&quot;Enter&quot;</td><td>&quot;MPI_Init&quot;</td><td>0</td><td>13</td><td>{null,null,&quot;Region 36&quot;,null}</td></tr><tr><td>80158.388554</td><td>&quot;Instant&quot;</td><td>&quot;ProgramBegin&quot;</td><td>0</td><td>10</td><td>{&quot;/g/g92/bhowmik1/sw4lite/sw4lite/optimize_c_quartz/sw4lite&quot;,[&quot;tests/trace-collection-input/gaussian-32.in&quot;],null,null}</td></tr><tr><td>88742.014404</td><td>&quot;Instant&quot;</td><td>&quot;ProgramBegin&quot;</td><td>0</td><td>9</td><td>{&quot;/g/g92/bhowmik1/sw4lite/sw4lite/optimize_c_quartz/sw4lite&quot;,[&quot;tests/trace-collection-input/gaussian-32.in&quot;],null,null}</td></tr><tr><td>97571.923113</td><td>&quot;Instant&quot;</td><td>&quot;ProgramBegin&quot;</td><td>0</td><td>11</td><td>{&quot;/g/g92/bhowmik1/sw4lite/sw4lite/optimize_c_quartz/sw4lite&quot;,[&quot;tests/trace-collection-input/gaussian-32.in&quot;],null,null}</td></tr><tr><td>101693.342665</td><td>&quot;Instant&quot;</td><td>&quot;ProgramBegin&quot;</td><td>0</td><td>8</td><td>{&quot;/g/g92/bhowmik1/sw4lite/sw4lite/optimize_c_quartz/sw4lite&quot;,[&quot;tests/trace-collection-input/gaussian-32.in&quot;],null,null}</td></tr><tr><td>&hellip;</td><td>&hellip;</td><td>&hellip;</td><td>&hellip;</td><td>&hellip;</td><td>&hellip;</td></tr><tr><td>4.6990e9</td><td>&quot;Leave&quot;</td><td>&quot;TRACER_WallTim…</td><td>0</td><td>0</td><td>{null,null,null,null}</td></tr><tr><td>4.6990e9</td><td>&quot;Instant&quot;</td><td>&quot;MeasurementOnO…</td><td>0</td><td>0</td><td>{null,null,null,&quot;MeasurementMode.OFF&quot;}</td></tr><tr><td>4.6991e9</td><td>&quot;Leave&quot;</td><td>&quot;TRACER_Loop&quot;</td><td>0</td><td>24</td><td>{null,null,null,null}</td></tr><tr><td>4.6991e9</td><td>&quot;Instant&quot;</td><td>&quot;MeasurementOnO…</td><td>0</td><td>24</td><td>{null,null,null,&quot;MeasurementMode.OFF&quot;}</td></tr><tr><td>4.6991e9</td><td>&quot;Instant&quot;</td><td>&quot;MpiRecv&quot;</td><td>0</td><td>1</td><td>{null,null,null,null}</td></tr><tr><td>4.6991e9</td><td>&quot;Leave&quot;</td><td>&quot;MPI_Sendrecv&quot;</td><td>0</td><td>1</td><td>{null,null,null,null}</td></tr><tr><td>4.6991e9</td><td>&quot;Instant&quot;</td><td>&quot;MpiRecv&quot;</td><td>0</td><td>25</td><td>{null,null,null,null}</td></tr><tr><td>4.6991e9</td><td>&quot;Leave&quot;</td><td>&quot;MPI_Sendrecv&quot;</td><td>0</td><td>25</td><td>{null,null,null,null}</td></tr><tr><td>4.7042e9</td><td>&quot;Leave&quot;</td><td>&quot;TRACER_Loop&quot;</td><td>0</td><td>25</td><td>{null,null,null,null}</td></tr><tr><td>4.7042e9</td><td>&quot;Instant&quot;</td><td>&quot;MeasurementOnO…</td><td>0</td><td>25</td><td>{null,null,null,&quot;MeasurementMode.OFF&quot;}</td></tr><tr><td>4.7044e9</td><td>&quot;Leave&quot;</td><td>&quot;TRACER_Loop&quot;</td><td>0</td><td>1</td><td>{null,null,null,null}</td></tr><tr><td>4.7044e9</td><td>&quot;Instant&quot;</td><td>&quot;MeasurementOnO…</td><td>0</td><td>1</td><td>{null,null,null,&quot;MeasurementMode.OFF&quot;}</td></tr></tbody></table></div>"
      ],
      "text/plain": [
       "shape: (9_538, 6)\n",
       "┌────────────────┬────────────┬──────────────────┬────────┬─────────┬──────────────────────────────┐\n",
       "│ Timestamp (ns) ┆ Event Type ┆ Name             ┆ Thread ┆ Process ┆ Attributes                   │\n",
       "│ ---            ┆ ---        ┆ ---              ┆ ---    ┆ ---     ┆ ---                          │\n",
       "│ f64            ┆ str        ┆ str              ┆ i64    ┆ i64     ┆ struct[4]                    │\n",
       "╞════════════════╪════════════╪══════════════════╪════════╪═════════╪══════════════════════════════╡\n",
       "│ 0.477292       ┆ Instant    ┆ ProgramBegin     ┆ 0      ┆ 14      ┆ {\"/g/g92/bhowmik1/sw4lite/sw │\n",
       "│                ┆            ┆                  ┆        ┆         ┆ 4lit…                        │\n",
       "│ 148.437925     ┆ Instant    ┆ ProgramBegin     ┆ 0      ┆ 15      ┆ {\"/g/g92/bhowmik1/sw4lite/sw │\n",
       "│                ┆            ┆                  ┆        ┆         ┆ 4lit…                        │\n",
       "│ 1740.207954    ┆ Instant    ┆ ProgramBegin     ┆ 0      ┆ 12      ┆ {\"/g/g92/bhowmik1/sw4lite/sw │\n",
       "│                ┆            ┆                  ┆        ┆         ┆ 4lit…                        │\n",
       "│ 20025.75566    ┆ Instant    ┆ ProgramBegin     ┆ 0      ┆ 13      ┆ {\"/g/g92/bhowmik1/sw4lite/sw │\n",
       "│                ┆            ┆                  ┆        ┆         ┆ 4lit…                        │\n",
       "│ …              ┆ …          ┆ …                ┆ …      ┆ …       ┆ …                            │\n",
       "│ 4.7042e9       ┆ Leave      ┆ TRACER_Loop      ┆ 0      ┆ 25      ┆ {null,null,null,null}        │\n",
       "│ 4.7042e9       ┆ Instant    ┆ MeasurementOnOff ┆ 0      ┆ 25      ┆ {null,null,null,\"Measurement │\n",
       "│                ┆            ┆                  ┆        ┆         ┆ Mode…                        │\n",
       "│ 4.7044e9       ┆ Leave      ┆ TRACER_Loop      ┆ 0      ┆ 1       ┆ {null,null,null,null}        │\n",
       "│ 4.7044e9       ┆ Instant    ┆ MeasurementOnOff ┆ 0      ┆ 1       ┆ {null,null,null,\"Measurement │\n",
       "│                ┆            ┆                  ┆        ┆         ┆ Mode…                        │\n",
       "└────────────────┴────────────┴──────────────────┴────────┴─────────┴──────────────────────────────┘"
      ]
     },
     "execution_count": 58,
     "metadata": {},
     "output_type": "execute_result"
    }
   ],
   "source": [
    "podf = polars.DataFrame(events)\n",
    "podf"
   ]
  },
  {
   "cell_type": "code",
   "execution_count": 91,
   "id": "58d7a943-8106-425f-86df-ab5640195fee",
   "metadata": {},
   "outputs": [
    {
     "name": "stdout",
     "output_type": "stream",
     "text": [
      "3.38 µs ± 53.7 ns per loop (mean ± std. dev. of 7 runs, 100,000 loops each)\n"
     ]
    }
   ],
   "source": [
    "%%timeit\n",
    "podf[\"Timestamp (ns)\"].sum()"
   ]
  },
  {
   "cell_type": "code",
   "execution_count": 65,
   "id": "f7c271a3-8c4e-483b-bbf6-546cccbecf76",
   "metadata": {},
   "outputs": [
    {
     "name": "stdout",
     "output_type": "stream",
     "text": [
      "7.75 ms ± 176 µs per loop (mean ± std. dev. of 7 runs, 100 loops each)\n"
     ]
    }
   ],
   "source": [
    "%%timeit\n",
    "total = 0\n",
    "for row in podf.iter_rows():\n",
    "    total += row[0]"
   ]
  },
  {
   "cell_type": "code",
   "execution_count": 71,
   "id": "dcce39c1-027c-4996-9d25-91eb8b3c8fbc",
   "metadata": {},
   "outputs": [
    {
     "name": "stdout",
     "output_type": "stream",
     "text": [
      "1.09 ms ± 8.49 µs per loop (mean ± std. dev. of 7 runs, 1,000 loops each)\n"
     ]
    }
   ],
   "source": [
    "%%timeit\n",
    "total = 0\n",
    "for row in podf.select(['Timestamp (ns)']).iter_rows():\n",
    "    total += row[0]"
   ]
  },
  {
   "cell_type": "markdown",
   "id": "8fc08a06-0b3c-4559-96d0-196e1940966c",
   "metadata": {},
   "source": [
    "Notice how this 1.09 ms time is pretty close to iterating through the `ts` numpy array."
   ]
  },
  {
   "cell_type": "code",
   "execution_count": 86,
   "id": "1f3452e6-74a8-4430-b7a9-195a6de11ee2",
   "metadata": {},
   "outputs": [
    {
     "name": "stdout",
     "output_type": "stream",
     "text": [
      "448 µs ± 50.8 µs per loop (mean ± std. dev. of 7 runs, 1,000 loops each)\n"
     ]
    }
   ],
   "source": [
    "%%timeit\n",
    "sum(map(itemgetter(\"Timestamp (ns)\"), events))"
   ]
  },
  {
   "cell_type": "markdown",
   "id": "70752a05-2d71-4252-ba67-7b27d2ea186d",
   "metadata": {},
   "source": [
    "What results do we see here?\n",
    "\n",
    "If we sum a column using Polars (column-oriented), we get ~4 us.\n",
    "\n",
    "If we sum a column using Python list of dicts (row-oriented), we get ~448 us (112x slower).\n",
    "\n",
    "However, if we do this operation without vectorization (using row-by-row iteration), using Polars we get either ~7.75ms or ~1.09 ms, depending on how many columns we're using.\n",
    "\n",
    "Using Python list of dicts, this is still ~448 us, which is (17.3.x faster) or (2.43x faster).\n",
    "\n",
    "In this case, it is **not worth moving to row-wise format**."
   ]
  },
  {
   "cell_type": "markdown",
   "id": "77b4da71-eaf8-40cb-bb09-6f4d93f094f2",
   "metadata": {},
   "source": [
    "## Results table\n",
    "\n",
    "Comparing row orientation vs. column orientation for basic row-by-row iteration:\n",
    "\n",
    "| Method | Orientation | Time |\n",
    "| --- | --- | --- |\n",
    "| List of dicts | Row | 0.448 ms |\n",
    "| Pandas vectorized | Column | 0.05 ms |\n",
    "| Pandas row-by-row, all | Column | 427 ms |\n",
    "| Polars vectorized | Column | 0.004 ms |\n",
    "| Polars row-by-row, all | Column | 7.75 ms |\n",
    "| Polars row-by-row, select | Column | 1.09 ms |\n",
    "\n",
    "(note: we don't include Pandas row-by-row, select because this uses up more memory. We would like to avoid making copies of columns.)\n",
    "\n",
    "If we *really* simplify this, we can include just the best possible times for both row orientation and column orientation:\n",
    "\n",
    "| Method | Orientation | Time | Speedup/slowdown |\n",
    "| --- | --- | --- | --- |\n",
    "| List of dicts | Row | 0.448 ms | 1x |\n",
    "| Polars vectorized | Column | 0.004 ms | 112x |\n",
    "| Polars row-by-row, all | Column | 7.75 ms | 17.3x |\n",
    "| Polars row-by-row, select | Column | 1.09 ms | 2.43x |\n",
    "\n",
    "In other words, by using Polars, we get a 112x speedup for column-wise operations, but only a 2.43x to 17.3x slowdown for row-wise operations. Definitely worth it, especially since most operations are column-wise (this is why OLAP databases are *all* column-oriented).\n",
    "\n",
    "But, I still think that doing stateful calculations while reading is the best way of doing this. Why? **Because events are naturally oriented in row-wise order on the disk.**\n",
    "\n",
    "| Trace format | Orientation |\n",
    "| --- | --- |\n",
    "| CSV | Row-wise |\n",
    "| OTF2 | Row-wise |\n",
    "| HPCToolkit | Row-wise |\n",
    "| Nsight systems | Row-wise |\n",
    "| Projections | Row-wise |\n",
    "| CTF | Row-wise |\n",
    "\n",
    "Based on this, the most natural way to do this seems like the following:\n",
    "\n",
    "1. Read the trace from the disk, event by event (i.e. row-wise). As we read each event, maintain the current state (i.e. call stack, message queue). Write these states into attributes in the dataframe.\n",
    "\n",
    "2. Allow the users to do interactive analysis using dataframe functions. |"
   ]
  },
  {
   "cell_type": "markdown",
   "id": "6ac1bb09-d07f-473e-a558-085d089937f3",
   "metadata": {},
   "source": [
    "# Modified reading procedure\n",
    "\n",
    "Let's modify the OTF2 reader so that we can immediately post-process an event after it has been read from the disk."
   ]
  },
  {
   "cell_type": "code",
   "execution_count": 31,
   "id": "527a61e6-a981-4e3b-97f3-3d9c6476f978",
   "metadata": {},
   "outputs": [
    {
     "name": "stdout",
     "output_type": "stream",
     "text": [
      "Enter int main(int, char**) Location [1]: 'name': 'Master thread', 'type': LocationType.CPU_THREAD, 'number_of_events': 60, 'group': LocationGroup [1] 'MPI Rank 1'\n",
      "Enter MPI_Init Location [1]: 'name': 'Master thread', 'type': LocationType.CPU_THREAD, 'number_of_events': 60, 'group': LocationGroup [1] 'MPI Rank 1'\n",
      "Enter int main(int, char**) Location [0]: 'name': 'Master thread', 'type': LocationType.CPU_THREAD, 'number_of_events': 60, 'group': LocationGroup [0] 'MPI Rank 0'\n",
      "Enter MPI_Init Location [0]: 'name': 'Master thread', 'type': LocationType.CPU_THREAD, 'number_of_events': 60, 'group': LocationGroup [0] 'MPI Rank 0'\n",
      "Enter MPI_Comm_size Location [0]: 'name': 'Master thread', 'type': LocationType.CPU_THREAD, 'number_of_events': 60, 'group': LocationGroup [0] 'MPI Rank 0'\n",
      "Enter MPI_Comm_size Location [1]: 'name': 'Master thread', 'type': LocationType.CPU_THREAD, 'number_of_events': 60, 'group': LocationGroup [1] 'MPI Rank 1'\n",
      "Enter MPI_Comm_rank Location [0]: 'name': 'Master thread', 'type': LocationType.CPU_THREAD, 'number_of_events': 60, 'group': LocationGroup [0] 'MPI Rank 0'\n",
      "Enter MPI_Comm_rank Location [1]: 'name': 'Master thread', 'type': LocationType.CPU_THREAD, 'number_of_events': 60, 'group': LocationGroup [1] 'MPI Rank 1'\n",
      "Enter MPI_Send Location [0]: 'name': 'Master thread', 'type': LocationType.CPU_THREAD, 'number_of_events': 60, 'group': LocationGroup [0] 'MPI Rank 0'\n",
      "Enter MPI_Recv Location [1]: 'name': 'Master thread', 'type': LocationType.CPU_THREAD, 'number_of_events': 60, 'group': LocationGroup [1] 'MPI Rank 1'\n",
      "Enter MPI_Recv Location [0]: 'name': 'Master thread', 'type': LocationType.CPU_THREAD, 'number_of_events': 60, 'group': LocationGroup [0] 'MPI Rank 0'\n",
      "Enter MPI_Send Location [1]: 'name': 'Master thread', 'type': LocationType.CPU_THREAD, 'number_of_events': 60, 'group': LocationGroup [1] 'MPI Rank 1'\n",
      "Enter MPI_Recv Location [1]: 'name': 'Master thread', 'type': LocationType.CPU_THREAD, 'number_of_events': 60, 'group': LocationGroup [1] 'MPI Rank 1'\n",
      "Enter MPI_Send Location [0]: 'name': 'Master thread', 'type': LocationType.CPU_THREAD, 'number_of_events': 60, 'group': LocationGroup [0] 'MPI Rank 0'\n",
      "Enter MPI_Recv Location [0]: 'name': 'Master thread', 'type': LocationType.CPU_THREAD, 'number_of_events': 60, 'group': LocationGroup [0] 'MPI Rank 0'\n",
      "Enter MPI_Send Location [1]: 'name': 'Master thread', 'type': LocationType.CPU_THREAD, 'number_of_events': 60, 'group': LocationGroup [1] 'MPI Rank 1'\n",
      "Enter MPI_Recv Location [1]: 'name': 'Master thread', 'type': LocationType.CPU_THREAD, 'number_of_events': 60, 'group': LocationGroup [1] 'MPI Rank 1'\n",
      "Enter MPI_Send Location [0]: 'name': 'Master thread', 'type': LocationType.CPU_THREAD, 'number_of_events': 60, 'group': LocationGroup [0] 'MPI Rank 0'\n",
      "Enter MPI_Send Location [1]: 'name': 'Master thread', 'type': LocationType.CPU_THREAD, 'number_of_events': 60, 'group': LocationGroup [1] 'MPI Rank 1'\n",
      "Enter MPI_Recv Location [0]: 'name': 'Master thread', 'type': LocationType.CPU_THREAD, 'number_of_events': 60, 'group': LocationGroup [0] 'MPI Rank 0'\n",
      "Enter MPI_Send Location [0]: 'name': 'Master thread', 'type': LocationType.CPU_THREAD, 'number_of_events': 60, 'group': LocationGroup [0] 'MPI Rank 0'\n",
      "Enter MPI_Recv Location [1]: 'name': 'Master thread', 'type': LocationType.CPU_THREAD, 'number_of_events': 60, 'group': LocationGroup [1] 'MPI Rank 1'\n",
      "Enter MPI_Send Location [1]: 'name': 'Master thread', 'type': LocationType.CPU_THREAD, 'number_of_events': 60, 'group': LocationGroup [1] 'MPI Rank 1'\n",
      "Enter MPI_Recv Location [0]: 'name': 'Master thread', 'type': LocationType.CPU_THREAD, 'number_of_events': 60, 'group': LocationGroup [0] 'MPI Rank 0'\n",
      "Enter MPI_Send Location [0]: 'name': 'Master thread', 'type': LocationType.CPU_THREAD, 'number_of_events': 60, 'group': LocationGroup [0] 'MPI Rank 0'\n",
      "Enter MPI_Recv Location [1]: 'name': 'Master thread', 'type': LocationType.CPU_THREAD, 'number_of_events': 60, 'group': LocationGroup [1] 'MPI Rank 1'\n",
      "Enter MPI_Send Location [1]: 'name': 'Master thread', 'type': LocationType.CPU_THREAD, 'number_of_events': 60, 'group': LocationGroup [1] 'MPI Rank 1'\n",
      "Enter MPI_Recv Location [0]: 'name': 'Master thread', 'type': LocationType.CPU_THREAD, 'number_of_events': 60, 'group': LocationGroup [0] 'MPI Rank 0'\n",
      "Enter MPI_Send Location [0]: 'name': 'Master thread', 'type': LocationType.CPU_THREAD, 'number_of_events': 60, 'group': LocationGroup [0] 'MPI Rank 0'\n",
      "Enter MPI_Recv Location [1]: 'name': 'Master thread', 'type': LocationType.CPU_THREAD, 'number_of_events': 60, 'group': LocationGroup [1] 'MPI Rank 1'\n",
      "Enter MPI_Send Location [1]: 'name': 'Master thread', 'type': LocationType.CPU_THREAD, 'number_of_events': 60, 'group': LocationGroup [1] 'MPI Rank 1'\n",
      "Enter MPI_Recv Location [0]: 'name': 'Master thread', 'type': LocationType.CPU_THREAD, 'number_of_events': 60, 'group': LocationGroup [0] 'MPI Rank 0'\n",
      "Enter MPI_Send Location [0]: 'name': 'Master thread', 'type': LocationType.CPU_THREAD, 'number_of_events': 60, 'group': LocationGroup [0] 'MPI Rank 0'\n",
      "Enter MPI_Recv Location [1]: 'name': 'Master thread', 'type': LocationType.CPU_THREAD, 'number_of_events': 60, 'group': LocationGroup [1] 'MPI Rank 1'\n",
      "Enter MPI_Send Location [1]: 'name': 'Master thread', 'type': LocationType.CPU_THREAD, 'number_of_events': 60, 'group': LocationGroup [1] 'MPI Rank 1'\n",
      "Enter MPI_Recv Location [0]: 'name': 'Master thread', 'type': LocationType.CPU_THREAD, 'number_of_events': 60, 'group': LocationGroup [0] 'MPI Rank 0'\n",
      "Enter MPI_Send Location [0]: 'name': 'Master thread', 'type': LocationType.CPU_THREAD, 'number_of_events': 60, 'group': LocationGroup [0] 'MPI Rank 0'\n",
      "Enter MPI_Recv Location [1]: 'name': 'Master thread', 'type': LocationType.CPU_THREAD, 'number_of_events': 60, 'group': LocationGroup [1] 'MPI Rank 1'\n",
      "Enter MPI_Send Location [1]: 'name': 'Master thread', 'type': LocationType.CPU_THREAD, 'number_of_events': 60, 'group': LocationGroup [1] 'MPI Rank 1'\n",
      "Enter MPI_Recv Location [0]: 'name': 'Master thread', 'type': LocationType.CPU_THREAD, 'number_of_events': 60, 'group': LocationGroup [0] 'MPI Rank 0'\n",
      "Enter MPI_Finalize Location [0]: 'name': 'Master thread', 'type': LocationType.CPU_THREAD, 'number_of_events': 60, 'group': LocationGroup [0] 'MPI Rank 0'\n",
      "Enter MPI_Finalize Location [1]: 'name': 'Master thread', 'type': LocationType.CPU_THREAD, 'number_of_events': 60, 'group': LocationGroup [1] 'MPI Rank 1'\n"
     ]
    }
   ],
   "source": [
    "def read_trace(trace_name=\"../../pipit/tests/data/ping-pong-otf2/traces.otf2\"):\n",
    "    events = []\n",
    "    \n",
    "    with otf2.reader.open(trace_name) as trace:\n",
    "        # print(\"Read {} string definitions\".format(len(trace.definitions.strings)))\n",
    "\n",
    "        # for string in trace.definitions.strings:\n",
    "        #     print(\"String definition with value '{}' in trace.\".format(string))\n",
    "\n",
    "        for location, event in trace.events:\n",
    "            # print(type(event))\n",
    "            # print(event)\n",
    "            if isinstance(event, Enter):\n",
    "                print(f\"Enter {event.region.name} {location}\")\n",
    "                # print(\"Encountered enter event into '{event.region.name}' on location {location} at {event.time}\".format(location, event))\n",
    "            # elif isinstance(event, Leave):\n",
    "            #     print(\"Encountered leave event for '{event.region.name}' on location {location} at {event.time}\".format(location, event))\n",
    "            # else:\n",
    "            #     print(\"Encountered event on location {} at {}\".format(location, event.time))\n",
    "\n",
    "read_trace()"
   ]
  },
  {
   "cell_type": "code",
   "execution_count": 25,
   "id": "dff4fcab-0b87-4ba8-a36f-e61a8b4774e6",
   "metadata": {},
   "outputs": [
    {
     "name": "stdout",
     "output_type": "stream",
     "text": [
      "<class 'otf2.events.ProgramBegin'>\n",
      "{'time': 7397466976977800, 'attributes': {Attribute [2] 'ProcessId': 26602}, 'program_name': '/g/g92/bhatele1/umd/traces/score-p/ping-pong.otf2', 'program_arguments': []}\n",
      "<class 'otf2.events.Enter'>\n",
      "{'time': 7397466977040830, 'attributes': None, 'region': Region [3] 'int main(int, char**)'}\n",
      "<class 'otf2.events.Enter'>\n",
      "{'time': 7397466977062212, 'attributes': None, 'region': Region [148] 'MPI_Init'}\n",
      "<class 'otf2.events.ProgramBegin'>\n",
      "{'time': 7397466977622557, 'attributes': {Attribute [2] 'ProcessId': 26601}, 'program_name': '/g/g92/bhatele1/umd/traces/score-p/ping-pong.otf2', 'program_arguments': []}\n",
      "<class 'otf2.events.Enter'>\n",
      "{'time': 7397466977683839, 'attributes': None, 'region': Region [3] 'int main(int, char**)'}\n",
      "<class 'otf2.events.Enter'>\n",
      "{'time': 7397466977702853, 'attributes': None, 'region': Region [148] 'MPI_Init'}\n",
      "<class 'otf2.events.Leave'>\n",
      "{'time': 7397467382698364, 'attributes': None, 'region': Region [148] 'MPI_Init'}\n",
      "<class 'otf2.events.Leave'>\n",
      "{'time': 7397467382699825, 'attributes': None, 'region': Region [148] 'MPI_Init'}\n",
      "<class 'otf2.events.Enter'>\n",
      "{'time': 7397467382716190, 'attributes': None, 'region': Region [37] 'MPI_Comm_size'}\n",
      "<class 'otf2.events.Enter'>\n",
      "{'time': 7397467382718429, 'attributes': None, 'region': Region [37] 'MPI_Comm_size'}\n",
      "<class 'otf2.events.Leave'>\n",
      "{'time': 7397467382719368, 'attributes': None, 'region': Region [37] 'MPI_Comm_size'}\n",
      "<class 'otf2.events.Leave'>\n",
      "{'time': 7397467382721463, 'attributes': None, 'region': Region [37] 'MPI_Comm_size'}\n",
      "<class 'otf2.events.Enter'>\n",
      "{'time': 7397467382724588, 'attributes': None, 'region': Region [34] 'MPI_Comm_rank'}\n",
      "<class 'otf2.events.Enter'>\n",
      "{'time': 7397467382725899, 'attributes': None, 'region': Region [34] 'MPI_Comm_rank'}\n",
      "<class 'otf2.events.Leave'>\n",
      "{'time': 7397467382726976, 'attributes': None, 'region': Region [34] 'MPI_Comm_rank'}\n",
      "<class 'otf2.events.Leave'>\n",
      "{'time': 7397467382728133, 'attributes': None, 'region': Region [34] 'MPI_Comm_rank'}\n",
      "<class 'otf2.events.Enter'>\n",
      "{'time': 7397467382750926, 'attributes': None, 'region': Region [193] 'MPI_Send'}\n",
      "<class 'otf2.events.MpiSend'>\n",
      "{'time': 7397467382760060, 'attributes': None, 'receiver': 1, 'communicator': Comm [1] 'MPI_COMM_WORLD', 'msg_tag': 10, 'msg_length': 16384}\n",
      "<class 'otf2.events.Enter'>\n",
      "{'time': 7397467382769925, 'attributes': None, 'region': Region [176] 'MPI_Recv'}\n",
      "<class 'otf2.events.Leave'>\n",
      "{'time': 7397467382788022, 'attributes': None, 'region': Region [193] 'MPI_Send'}\n",
      "<class 'otf2.events.Enter'>\n",
      "{'time': 7397467382791058, 'attributes': None, 'region': Region [176] 'MPI_Recv'}\n",
      "<class 'otf2.events.MpiRecv'>\n",
      "{'time': 7397467382799971, 'attributes': None, 'sender': 0, 'communicator': Comm [1] 'MPI_COMM_WORLD', 'msg_tag': 10, 'msg_length': 16384}\n",
      "<class 'otf2.events.Leave'>\n",
      "{'time': 7397467382809869, 'attributes': None, 'region': Region [176] 'MPI_Recv'}\n",
      "<class 'otf2.events.Enter'>\n",
      "{'time': 7397467382814755, 'attributes': None, 'region': Region [193] 'MPI_Send'}\n",
      "<class 'otf2.events.MpiSend'>\n",
      "{'time': 7397467382817011, 'attributes': None, 'receiver': 0, 'communicator': Comm [1] 'MPI_COMM_WORLD', 'msg_tag': 20, 'msg_length': 16384}\n",
      "<class 'otf2.events.Leave'>\n",
      "{'time': 7397467382844945, 'attributes': None, 'region': Region [193] 'MPI_Send'}\n",
      "<class 'otf2.events.MpiRecv'>\n",
      "{'time': 7397467382850382, 'attributes': None, 'sender': 1, 'communicator': Comm [1] 'MPI_COMM_WORLD', 'msg_tag': 20, 'msg_length': 16384}\n",
      "<class 'otf2.events.Leave'>\n",
      "{'time': 7397467382857008, 'attributes': None, 'region': Region [176] 'MPI_Recv'}\n",
      "<class 'otf2.events.Enter'>\n",
      "{'time': 7397467382871185, 'attributes': None, 'region': Region [176] 'MPI_Recv'}\n",
      "<class 'otf2.events.Enter'>\n",
      "{'time': 7397467382909410, 'attributes': None, 'region': Region [193] 'MPI_Send'}\n",
      "<class 'otf2.events.MpiSend'>\n",
      "{'time': 7397467382910568, 'attributes': None, 'receiver': 1, 'communicator': Comm [1] 'MPI_COMM_WORLD', 'msg_tag': 10, 'msg_length': 32768}\n",
      "<class 'otf2.events.Leave'>\n",
      "{'time': 7397467382952746, 'attributes': None, 'region': Region [193] 'MPI_Send'}\n",
      "<class 'otf2.events.MpiRecv'>\n",
      "{'time': 7397467382953309, 'attributes': None, 'sender': 0, 'communicator': Comm [1] 'MPI_COMM_WORLD', 'msg_tag': 10, 'msg_length': 32768}\n",
      "<class 'otf2.events.Enter'>\n",
      "{'time': 7397467382953366, 'attributes': None, 'region': Region [176] 'MPI_Recv'}\n",
      "<class 'otf2.events.Leave'>\n",
      "{'time': 7397467382953885, 'attributes': None, 'region': Region [176] 'MPI_Recv'}\n",
      "<class 'otf2.events.Enter'>\n",
      "{'time': 7397467382954467, 'attributes': None, 'region': Region [193] 'MPI_Send'}\n",
      "<class 'otf2.events.MpiSend'>\n",
      "{'time': 7397467382954901, 'attributes': None, 'receiver': 0, 'communicator': Comm [1] 'MPI_COMM_WORLD', 'msg_tag': 20, 'msg_length': 32768}\n",
      "<class 'otf2.events.Leave'>\n",
      "{'time': 7397467382992999, 'attributes': None, 'region': Region [193] 'MPI_Send'}\n",
      "<class 'otf2.events.MpiRecv'>\n",
      "{'time': 7397467382993976, 'attributes': None, 'sender': 1, 'communicator': Comm [1] 'MPI_COMM_WORLD', 'msg_tag': 20, 'msg_length': 32768}\n",
      "<class 'otf2.events.Leave'>\n",
      "{'time': 7397467382994574, 'attributes': None, 'region': Region [176] 'MPI_Recv'}\n",
      "<class 'otf2.events.Enter'>\n",
      "{'time': 7397467383049071, 'attributes': None, 'region': Region [176] 'MPI_Recv'}\n",
      "<class 'otf2.events.Enter'>\n",
      "{'time': 7397467383080590, 'attributes': None, 'region': Region [193] 'MPI_Send'}\n",
      "<class 'otf2.events.MpiSend'>\n",
      "{'time': 7397467383081438, 'attributes': None, 'receiver': 1, 'communicator': Comm [1] 'MPI_COMM_WORLD', 'msg_tag': 10, 'msg_length': 65536}\n",
      "<class 'otf2.events.MpiRecv'>\n",
      "{'time': 7397467383134147, 'attributes': None, 'sender': 0, 'communicator': Comm [1] 'MPI_COMM_WORLD', 'msg_tag': 10, 'msg_length': 65536}\n",
      "<class 'otf2.events.Leave'>\n",
      "{'time': 7397467383135253, 'attributes': None, 'region': Region [176] 'MPI_Recv'}\n",
      "<class 'otf2.events.Enter'>\n",
      "{'time': 7397467383136395, 'attributes': None, 'region': Region [193] 'MPI_Send'}\n",
      "<class 'otf2.events.MpiSend'>\n",
      "{'time': 7397467383136903, 'attributes': None, 'receiver': 0, 'communicator': Comm [1] 'MPI_COMM_WORLD', 'msg_tag': 20, 'msg_length': 65536}\n",
      "<class 'otf2.events.Leave'>\n",
      "{'time': 7397467383142110, 'attributes': None, 'region': Region [193] 'MPI_Send'}\n",
      "<class 'otf2.events.Enter'>\n",
      "{'time': 7397467383142668, 'attributes': None, 'region': Region [176] 'MPI_Recv'}\n",
      "<class 'otf2.events.MpiRecv'>\n",
      "{'time': 7397467383214880, 'attributes': None, 'sender': 1, 'communicator': Comm [1] 'MPI_COMM_WORLD', 'msg_tag': 20, 'msg_length': 65536}\n",
      "<class 'otf2.events.Leave'>\n",
      "{'time': 7397467383215115, 'attributes': None, 'region': Region [193] 'MPI_Send'}\n",
      "<class 'otf2.events.Leave'>\n",
      "{'time': 7397467383215578, 'attributes': None, 'region': Region [176] 'MPI_Recv'}\n",
      "<class 'otf2.events.Enter'>\n",
      "{'time': 7397467383324614, 'attributes': None, 'region': Region [193] 'MPI_Send'}\n",
      "<class 'otf2.events.MpiSend'>\n",
      "{'time': 7397467383325606, 'attributes': None, 'receiver': 1, 'communicator': Comm [1] 'MPI_COMM_WORLD', 'msg_tag': 10, 'msg_length': 131072}\n",
      "<class 'otf2.events.Enter'>\n",
      "{'time': 7397467383350778, 'attributes': None, 'region': Region [176] 'MPI_Recv'}\n",
      "<class 'otf2.events.MpiRecv'>\n",
      "{'time': 7397467383430410, 'attributes': None, 'sender': 0, 'communicator': Comm [1] 'MPI_COMM_WORLD', 'msg_tag': 10, 'msg_length': 131072}\n",
      "<class 'otf2.events.Leave'>\n",
      "{'time': 7397467383431518, 'attributes': None, 'region': Region [176] 'MPI_Recv'}\n",
      "<class 'otf2.events.Enter'>\n",
      "{'time': 7397467383432326, 'attributes': None, 'region': Region [193] 'MPI_Send'}\n",
      "<class 'otf2.events.MpiSend'>\n",
      "{'time': 7397467383432866, 'attributes': None, 'receiver': 0, 'communicator': Comm [1] 'MPI_COMM_WORLD', 'msg_tag': 20, 'msg_length': 131072}\n",
      "<class 'otf2.events.Leave'>\n",
      "{'time': 7397467383437588, 'attributes': None, 'region': Region [193] 'MPI_Send'}\n",
      "<class 'otf2.events.Enter'>\n",
      "{'time': 7397467383438042, 'attributes': None, 'region': Region [176] 'MPI_Recv'}\n",
      "<class 'otf2.events.MpiRecv'>\n",
      "{'time': 7397467383550836, 'attributes': None, 'sender': 1, 'communicator': Comm [1] 'MPI_COMM_WORLD', 'msg_tag': 20, 'msg_length': 131072}\n",
      "<class 'otf2.events.Leave'>\n",
      "{'time': 7397467383551260, 'attributes': None, 'region': Region [193] 'MPI_Send'}\n",
      "<class 'otf2.events.Leave'>\n",
      "{'time': 7397467383551746, 'attributes': None, 'region': Region [176] 'MPI_Recv'}\n",
      "<class 'otf2.events.Enter'>\n",
      "{'time': 7397467383876166, 'attributes': None, 'region': Region [193] 'MPI_Send'}\n",
      "<class 'otf2.events.MpiSend'>\n",
      "{'time': 7397467383877054, 'attributes': None, 'receiver': 1, 'communicator': Comm [1] 'MPI_COMM_WORLD', 'msg_tag': 10, 'msg_length': 262144}\n",
      "<class 'otf2.events.Enter'>\n",
      "{'time': 7397467383907010, 'attributes': None, 'region': Region [176] 'MPI_Recv'}\n",
      "<class 'otf2.events.MpiRecv'>\n",
      "{'time': 7397467384073610, 'attributes': None, 'sender': 0, 'communicator': Comm [1] 'MPI_COMM_WORLD', 'msg_tag': 10, 'msg_length': 262144}\n",
      "<class 'otf2.events.Leave'>\n",
      "{'time': 7397467384074698, 'attributes': None, 'region': Region [176] 'MPI_Recv'}\n",
      "<class 'otf2.events.Enter'>\n",
      "{'time': 7397467384075528, 'attributes': None, 'region': Region [193] 'MPI_Send'}\n",
      "<class 'otf2.events.MpiSend'>\n",
      "{'time': 7397467384076120, 'attributes': None, 'receiver': 0, 'communicator': Comm [1] 'MPI_COMM_WORLD', 'msg_tag': 20, 'msg_length': 262144}\n",
      "<class 'otf2.events.Leave'>\n",
      "{'time': 7397467384080512, 'attributes': None, 'region': Region [193] 'MPI_Send'}\n",
      "<class 'otf2.events.Enter'>\n",
      "{'time': 7397467384081206, 'attributes': None, 'region': Region [176] 'MPI_Recv'}\n",
      "<class 'otf2.events.MpiRecv'>\n",
      "{'time': 7397467384302458, 'attributes': None, 'sender': 1, 'communicator': Comm [1] 'MPI_COMM_WORLD', 'msg_tag': 20, 'msg_length': 262144}\n",
      "<class 'otf2.events.Leave'>\n",
      "{'time': 7397467384302714, 'attributes': None, 'region': Region [193] 'MPI_Send'}\n",
      "<class 'otf2.events.Leave'>\n",
      "{'time': 7397467384303466, 'attributes': None, 'region': Region [176] 'MPI_Recv'}\n",
      "<class 'otf2.events.Enter'>\n",
      "{'time': 7397467384861112, 'attributes': None, 'region': Region [193] 'MPI_Send'}\n",
      "<class 'otf2.events.MpiSend'>\n",
      "{'time': 7397467384862744, 'attributes': None, 'receiver': 1, 'communicator': Comm [1] 'MPI_COMM_WORLD', 'msg_tag': 10, 'msg_length': 524288}\n",
      "<class 'otf2.events.Enter'>\n",
      "{'time': 7397467385043043, 'attributes': None, 'region': Region [176] 'MPI_Recv'}\n",
      "<class 'otf2.events.MpiRecv'>\n",
      "{'time': 7397467385347221, 'attributes': None, 'sender': 0, 'communicator': Comm [1] 'MPI_COMM_WORLD', 'msg_tag': 10, 'msg_length': 524288}\n",
      "<class 'otf2.events.Leave'>\n",
      "{'time': 7397467385349151, 'attributes': None, 'region': Region [176] 'MPI_Recv'}\n",
      "<class 'otf2.events.Enter'>\n",
      "{'time': 7397467385350121, 'attributes': None, 'region': Region [193] 'MPI_Send'}\n",
      "<class 'otf2.events.MpiSend'>\n",
      "{'time': 7397467385350593, 'attributes': None, 'receiver': 0, 'communicator': Comm [1] 'MPI_COMM_WORLD', 'msg_tag': 20, 'msg_length': 524288}\n",
      "<class 'otf2.events.Leave'>\n",
      "{'time': 7397467385355810, 'attributes': None, 'region': Region [193] 'MPI_Send'}\n",
      "<class 'otf2.events.Enter'>\n",
      "{'time': 7397467385356322, 'attributes': None, 'region': Region [176] 'MPI_Recv'}\n",
      "<class 'otf2.events.Leave'>\n",
      "{'time': 7397467385816942, 'attributes': None, 'region': Region [193] 'MPI_Send'}\n",
      "<class 'otf2.events.MpiRecv'>\n",
      "{'time': 7397467385817124, 'attributes': None, 'sender': 1, 'communicator': Comm [1] 'MPI_COMM_WORLD', 'msg_tag': 20, 'msg_length': 524288}\n",
      "<class 'otf2.events.Leave'>\n",
      "{'time': 7397467385818262, 'attributes': None, 'region': Region [176] 'MPI_Recv'}\n",
      "<class 'otf2.events.Enter'>\n",
      "{'time': 7397467387045586, 'attributes': None, 'region': Region [193] 'MPI_Send'}\n",
      "<class 'otf2.events.MpiSend'>\n",
      "{'time': 7397467387047342, 'attributes': None, 'receiver': 1, 'communicator': Comm [1] 'MPI_COMM_WORLD', 'msg_tag': 10, 'msg_length': 1048576}\n",
      "<class 'otf2.events.Enter'>\n",
      "{'time': 7397467387341807, 'attributes': None, 'region': Region [176] 'MPI_Recv'}\n",
      "<class 'otf2.events.MpiRecv'>\n",
      "{'time': 7397467387920730, 'attributes': None, 'sender': 0, 'communicator': Comm [1] 'MPI_COMM_WORLD', 'msg_tag': 10, 'msg_length': 1048576}\n",
      "<class 'otf2.events.Leave'>\n",
      "{'time': 7397467387922534, 'attributes': None, 'region': Region [176] 'MPI_Recv'}\n",
      "<class 'otf2.events.Enter'>\n",
      "{'time': 7397467387923378, 'attributes': None, 'region': Region [193] 'MPI_Send'}\n",
      "<class 'otf2.events.MpiSend'>\n",
      "{'time': 7397467387924004, 'attributes': None, 'receiver': 0, 'communicator': Comm [1] 'MPI_COMM_WORLD', 'msg_tag': 20, 'msg_length': 1048576}\n",
      "<class 'otf2.events.Leave'>\n",
      "{'time': 7397467387929350, 'attributes': None, 'region': Region [193] 'MPI_Send'}\n",
      "<class 'otf2.events.Enter'>\n",
      "{'time': 7397467387929888, 'attributes': None, 'region': Region [176] 'MPI_Recv'}\n",
      "<class 'otf2.events.Leave'>\n",
      "{'time': 7397467388859688, 'attributes': None, 'region': Region [193] 'MPI_Send'}\n",
      "<class 'otf2.events.MpiRecv'>\n",
      "{'time': 7397467388859912, 'attributes': None, 'sender': 1, 'communicator': Comm [1] 'MPI_COMM_WORLD', 'msg_tag': 20, 'msg_length': 1048576}\n",
      "<class 'otf2.events.Leave'>\n",
      "{'time': 7397467388861030, 'attributes': None, 'region': Region [176] 'MPI_Recv'}\n",
      "<class 'otf2.events.Enter'>\n",
      "{'time': 7397467391016528, 'attributes': None, 'region': Region [193] 'MPI_Send'}\n",
      "<class 'otf2.events.MpiSend'>\n",
      "{'time': 7397467391018400, 'attributes': None, 'receiver': 1, 'communicator': Comm [1] 'MPI_COMM_WORLD', 'msg_tag': 10, 'msg_length': 2097152}\n",
      "<class 'otf2.events.Enter'>\n",
      "{'time': 7397467391725217, 'attributes': None, 'region': Region [176] 'MPI_Recv'}\n",
      "<class 'otf2.events.MpiRecv'>\n",
      "{'time': 7397467392878824, 'attributes': None, 'sender': 0, 'communicator': Comm [1] 'MPI_COMM_WORLD', 'msg_tag': 10, 'msg_length': 2097152}\n",
      "<class 'otf2.events.Leave'>\n",
      "{'time': 7397467392880596, 'attributes': None, 'region': Region [176] 'MPI_Recv'}\n",
      "<class 'otf2.events.Enter'>\n",
      "{'time': 7397467392881498, 'attributes': None, 'region': Region [193] 'MPI_Send'}\n",
      "<class 'otf2.events.MpiSend'>\n",
      "{'time': 7397467392882096, 'attributes': None, 'receiver': 0, 'communicator': Comm [1] 'MPI_COMM_WORLD', 'msg_tag': 20, 'msg_length': 2097152}\n",
      "<class 'otf2.events.Leave'>\n",
      "{'time': 7397467392887854, 'attributes': None, 'region': Region [193] 'MPI_Send'}\n",
      "<class 'otf2.events.Enter'>\n",
      "{'time': 7397467392888468, 'attributes': None, 'region': Region [176] 'MPI_Recv'}\n",
      "<class 'otf2.events.Leave'>\n",
      "{'time': 7397467394592322, 'attributes': None, 'region': Region [193] 'MPI_Send'}\n",
      "<class 'otf2.events.MpiRecv'>\n",
      "{'time': 7397467394592454, 'attributes': None, 'sender': 1, 'communicator': Comm [1] 'MPI_COMM_WORLD', 'msg_tag': 20, 'msg_length': 2097152}\n",
      "<class 'otf2.events.Leave'>\n",
      "{'time': 7397467394593582, 'attributes': None, 'region': Region [176] 'MPI_Recv'}\n",
      "<class 'otf2.events.Enter'>\n",
      "{'time': 7397467395000608, 'attributes': None, 'region': Region [104] 'MPI_Finalize'}\n",
      "<class 'otf2.events.Enter'>\n",
      "{'time': 7397467395031844, 'attributes': None, 'region': Region [104] 'MPI_Finalize'}\n",
      "<class 'otf2.events.Leave'>\n",
      "{'time': 7397467395123952, 'attributes': None, 'region': Region [104] 'MPI_Finalize'}\n",
      "<class 'otf2.events.Leave'>\n",
      "{'time': 7397467395126352, 'attributes': None, 'region': Region [104] 'MPI_Finalize'}\n",
      "<class 'otf2.events.Leave'>\n",
      "{'time': 7397467395127294, 'attributes': None, 'region': Region [3] 'int main(int, char**)'}\n",
      "<class 'otf2.events.Leave'>\n",
      "{'time': 7397467395130552, 'attributes': None, 'region': Region [3] 'int main(int, char**)'}\n",
      "<class 'otf2.events.ProgramEnd'>\n",
      "{'time': 7397467395186088, 'attributes': None, 'exit_status': -9223372036854775808}\n",
      "<class 'otf2.events.ProgramEnd'>\n",
      "{'time': 7397467395188508, 'attributes': None, 'exit_status': -9223372036854775808}\n"
     ]
    }
   ],
   "source": []
  },
  {
   "cell_type": "code",
   "execution_count": null,
   "id": "7868c9f2-b4e6-40f2-8d1b-fd37f45587cd",
   "metadata": {},
   "outputs": [],
   "source": []
  },
  {
   "cell_type": "code",
   "execution_count": null,
   "id": "755c4395-4487-48e9-8bcc-5135699918f1",
   "metadata": {},
   "outputs": [],
   "source": []
  }
 ],
 "metadata": {
  "kernelspec": {
   "display_name": "Python 3 (ipykernel)",
   "language": "python",
   "name": "python3"
  },
  "language_info": {
   "codemirror_mode": {
    "name": "ipython",
    "version": 3
   },
   "file_extension": ".py",
   "mimetype": "text/x-python",
   "name": "python",
   "nbconvert_exporter": "python",
   "pygments_lexer": "ipython3",
   "version": "3.8.10"
  }
 },
 "nbformat": 4,
 "nbformat_minor": 5
}
