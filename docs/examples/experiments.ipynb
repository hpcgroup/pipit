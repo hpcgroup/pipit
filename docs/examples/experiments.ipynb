{
 "cells": [
  {
   "cell_type": "markdown",
   "id": "afbab7da-d8b9-49f8-a02f-c7885f3dd91b",
   "metadata": {},
   "source": [
    "# experiments.ipynb\n",
    "\n",
    "This notebook contains experiments using various methods and libraries to see what gets us the best running time and memory usage."
   ]
  },
  {
   "cell_type": "code",
   "execution_count": 1,
   "id": "8241c42f-4c68-4f23-bd0b-ef2a9259ec12",
   "metadata": {},
   "outputs": [],
   "source": [
    "%load_ext autoreload\n",
    "%autoreload 2"
   ]
  },
  {
   "cell_type": "code",
   "execution_count": 31,
   "id": "8db48bba-8b05-46f0-957e-9d4d66f0d513",
   "metadata": {},
   "outputs": [],
   "source": [
    "import sys\n",
    "sys.path.append(\"../..\")\n",
    "\n",
    "import pipit as pp\n",
    "import pandas as pd\n",
    "import dask\n",
    "import numpy as np\n",
    "import sqlite3\n",
    "import polars\n",
    "from operator import itemgetter\n",
    "import duckdb\n",
    "import json"
   ]
  },
  {
   "cell_type": "markdown",
   "id": "50010249-040c-4821-8a86-a23f7402e04f",
   "metadata": {},
   "source": [
    "Let's read in the sw4lite-32 OTF2 dataset:"
   ]
  },
  {
   "cell_type": "code",
   "execution_count": 14,
   "id": "00e84f51-f161-4435-b4ae-315d4e451ee0",
   "metadata": {},
   "outputs": [
    {
     "data": {
      "text/html": [
       "<div>\n",
       "<style scoped>\n",
       "    .dataframe tbody tr th:only-of-type {\n",
       "        vertical-align: middle;\n",
       "    }\n",
       "\n",
       "    .dataframe tbody tr th {\n",
       "        vertical-align: top;\n",
       "    }\n",
       "\n",
       "    .dataframe thead th {\n",
       "        text-align: right;\n",
       "    }\n",
       "</style>\n",
       "<table border=\"1\" class=\"dataframe\">\n",
       "  <thead>\n",
       "    <tr style=\"text-align: right;\">\n",
       "      <th></th>\n",
       "      <th>Timestamp (ns)</th>\n",
       "      <th>Event Type</th>\n",
       "      <th>Name</th>\n",
       "      <th>Thread</th>\n",
       "      <th>Process</th>\n",
       "      <th>Attributes</th>\n",
       "    </tr>\n",
       "  </thead>\n",
       "  <tbody>\n",
       "    <tr>\n",
       "      <th>0</th>\n",
       "      <td>4.772924e-01</td>\n",
       "      <td>Instant</td>\n",
       "      <td>ProgramBegin</td>\n",
       "      <td>0</td>\n",
       "      <td>14</td>\n",
       "      <td>{'program_name': '/g/g92/bhowmik1/sw4lite/sw4l...</td>\n",
       "    </tr>\n",
       "    <tr>\n",
       "      <th>1</th>\n",
       "      <td>1.484379e+02</td>\n",
       "      <td>Instant</td>\n",
       "      <td>ProgramBegin</td>\n",
       "      <td>0</td>\n",
       "      <td>15</td>\n",
       "      <td>{'program_name': '/g/g92/bhowmik1/sw4lite/sw4l...</td>\n",
       "    </tr>\n",
       "    <tr>\n",
       "      <th>2</th>\n",
       "      <td>1.740208e+03</td>\n",
       "      <td>Instant</td>\n",
       "      <td>ProgramBegin</td>\n",
       "      <td>0</td>\n",
       "      <td>12</td>\n",
       "      <td>{'program_name': '/g/g92/bhowmik1/sw4lite/sw4l...</td>\n",
       "    </tr>\n",
       "    <tr>\n",
       "      <th>3</th>\n",
       "      <td>2.002576e+04</td>\n",
       "      <td>Instant</td>\n",
       "      <td>ProgramBegin</td>\n",
       "      <td>0</td>\n",
       "      <td>13</td>\n",
       "      <td>{'program_name': '/g/g92/bhowmik1/sw4lite/sw4l...</td>\n",
       "    </tr>\n",
       "    <tr>\n",
       "      <th>4</th>\n",
       "      <td>2.014269e+04</td>\n",
       "      <td>Enter</td>\n",
       "      <td>MPI_Init</td>\n",
       "      <td>0</td>\n",
       "      <td>14</td>\n",
       "      <td>{'region': 'Region 36'}</td>\n",
       "    </tr>\n",
       "    <tr>\n",
       "      <th>...</th>\n",
       "      <td>...</td>\n",
       "      <td>...</td>\n",
       "      <td>...</td>\n",
       "      <td>...</td>\n",
       "      <td>...</td>\n",
       "      <td>...</td>\n",
       "    </tr>\n",
       "    <tr>\n",
       "      <th>9533</th>\n",
       "      <td>4.699147e+09</td>\n",
       "      <td>Leave</td>\n",
       "      <td>MPI_Sendrecv</td>\n",
       "      <td>0</td>\n",
       "      <td>25</td>\n",
       "      <td>None</td>\n",
       "    </tr>\n",
       "    <tr>\n",
       "      <th>9534</th>\n",
       "      <td>4.704243e+09</td>\n",
       "      <td>Leave</td>\n",
       "      <td>TRACER_Loop</td>\n",
       "      <td>0</td>\n",
       "      <td>25</td>\n",
       "      <td>None</td>\n",
       "    </tr>\n",
       "    <tr>\n",
       "      <th>9535</th>\n",
       "      <td>4.704245e+09</td>\n",
       "      <td>Instant</td>\n",
       "      <td>MeasurementOnOff</td>\n",
       "      <td>0</td>\n",
       "      <td>25</td>\n",
       "      <td>{'measurement_mode': 'MeasurementMode.OFF'}</td>\n",
       "    </tr>\n",
       "    <tr>\n",
       "      <th>9536</th>\n",
       "      <td>4.704403e+09</td>\n",
       "      <td>Leave</td>\n",
       "      <td>TRACER_Loop</td>\n",
       "      <td>0</td>\n",
       "      <td>1</td>\n",
       "      <td>None</td>\n",
       "    </tr>\n",
       "    <tr>\n",
       "      <th>9537</th>\n",
       "      <td>4.704406e+09</td>\n",
       "      <td>Instant</td>\n",
       "      <td>MeasurementOnOff</td>\n",
       "      <td>0</td>\n",
       "      <td>1</td>\n",
       "      <td>{'measurement_mode': 'MeasurementMode.OFF'}</td>\n",
       "    </tr>\n",
       "  </tbody>\n",
       "</table>\n",
       "<p>9538 rows × 6 columns</p>\n",
       "</div>"
      ],
      "text/plain": [
       "      Timestamp (ns) Event Type              Name Thread Process  \\\n",
       "0       4.772924e-01    Instant      ProgramBegin      0      14   \n",
       "1       1.484379e+02    Instant      ProgramBegin      0      15   \n",
       "2       1.740208e+03    Instant      ProgramBegin      0      12   \n",
       "3       2.002576e+04    Instant      ProgramBegin      0      13   \n",
       "4       2.014269e+04      Enter          MPI_Init      0      14   \n",
       "...              ...        ...               ...    ...     ...   \n",
       "9533    4.699147e+09      Leave      MPI_Sendrecv      0      25   \n",
       "9534    4.704243e+09      Leave       TRACER_Loop      0      25   \n",
       "9535    4.704245e+09    Instant  MeasurementOnOff      0      25   \n",
       "9536    4.704403e+09      Leave       TRACER_Loop      0       1   \n",
       "9537    4.704406e+09    Instant  MeasurementOnOff      0       1   \n",
       "\n",
       "                                             Attributes  \n",
       "0     {'program_name': '/g/g92/bhowmik1/sw4lite/sw4l...  \n",
       "1     {'program_name': '/g/g92/bhowmik1/sw4lite/sw4l...  \n",
       "2     {'program_name': '/g/g92/bhowmik1/sw4lite/sw4l...  \n",
       "3     {'program_name': '/g/g92/bhowmik1/sw4lite/sw4l...  \n",
       "4                               {'region': 'Region 36'}  \n",
       "...                                                 ...  \n",
       "9533                                               None  \n",
       "9534                                               None  \n",
       "9535        {'measurement_mode': 'MeasurementMode.OFF'}  \n",
       "9536                                               None  \n",
       "9537        {'measurement_mode': 'MeasurementMode.OFF'}  \n",
       "\n",
       "[9538 rows x 6 columns]"
      ]
     },
     "execution_count": 14,
     "metadata": {},
     "output_type": "execute_result"
    }
   ],
   "source": [
    "trace = pp.Trace.from_otf2(\"/home/rakrish/trace-data/sw4lite-32/\")\n",
    "\n",
    "# DataFrame (stored column-wise)\n",
    "df = trace.events\n",
    "df"
   ]
  },
  {
   "cell_type": "code",
   "execution_count": 15,
   "id": "d0efb3a3-f198-452e-8ff6-34b9f95cceff",
   "metadata": {},
   "outputs": [],
   "source": [
    "# List of dictionaries (stored row-wise)\n",
    "events = df.to_dict(orient=\"records\")"
   ]
  },
  {
   "cell_type": "markdown",
   "id": "204d041c-43d9-46b7-af7d-d0d35e29b4fc",
   "metadata": {},
   "source": [
    "## Experiment 1: Summing the \"Timestamp (ns)\" column"
   ]
  },
  {
   "cell_type": "code",
   "execution_count": 22,
   "id": "089a9b67-0085-442a-b48a-72b9e7d380d4",
   "metadata": {},
   "outputs": [
    {
     "name": "stdout",
     "output_type": "stream",
     "text": [
      "49.5 µs ± 787 ns per loop (mean ± std. dev. of 7 runs, 10,000 loops each)\n"
     ]
    }
   ],
   "source": [
    "%%timeit\n",
    "df[\"Timestamp (ns)\"].sum()"
   ]
  },
  {
   "cell_type": "code",
   "execution_count": 81,
   "id": "156c8e5a-5142-4efd-943a-4e21120e2fdf",
   "metadata": {},
   "outputs": [
    {
     "name": "stdout",
     "output_type": "stream",
     "text": [
      "165 µs ± 3.81 µs per loop (mean ± std. dev. of 7 runs, 10,000 loops each)\n"
     ]
    }
   ],
   "source": [
    "%%timeit\n",
    "sum(df[\"Timestamp (ns)\"].tolist())"
   ]
  },
  {
   "cell_type": "code",
   "execution_count": 85,
   "id": "0677d6bb-fdfe-4862-96b2-3d978b78a371",
   "metadata": {},
   "outputs": [
    {
     "name": "stdout",
     "output_type": "stream",
     "text": [
      "427 ms ± 7.57 ms per loop (mean ± std. dev. of 7 runs, 1 loop each)\n"
     ]
    }
   ],
   "source": [
    "%%timeit\n",
    "sum([event[\"Timestamp (ns)\"] for _, event in df.iterrows()])"
   ]
  },
  {
   "cell_type": "code",
   "execution_count": 74,
   "id": "b5f990dc-9914-4ab4-bb09-24c3d9b25662",
   "metadata": {},
   "outputs": [
    {
     "name": "stdout",
     "output_type": "stream",
     "text": [
      "439 ms ± 14 ms per loop (mean ± std. dev. of 7 runs, 1 loop each)\n"
     ]
    }
   ],
   "source": [
    "%%timeit\n",
    "total = 0\n",
    "for idx, event in df.iterrows():\n",
    "    total += event[\"Timestamp (ns)\"]"
   ]
  },
  {
   "cell_type": "code",
   "execution_count": 78,
   "id": "1f554d92-ed0c-496a-acd5-9e5140c2bce3",
   "metadata": {},
   "outputs": [
    {
     "name": "stdout",
     "output_type": "stream",
     "text": [
      "473 µs ± 11.3 µs per loop (mean ± std. dev. of 7 runs, 1,000 loops each)\n"
     ]
    }
   ],
   "source": [
    "%%timeit\n",
    "sum(evt[\"Timestamp (ns)\"] for evt in events)"
   ]
  },
  {
   "cell_type": "code",
   "execution_count": 79,
   "id": "e3d07559-d2f4-442b-81bc-1699e3ace6a2",
   "metadata": {},
   "outputs": [
    {
     "name": "stdout",
     "output_type": "stream",
     "text": [
      "434 µs ± 22.3 µs per loop (mean ± std. dev. of 7 runs, 1,000 loops each)\n"
     ]
    }
   ],
   "source": [
    "%%timeit\n",
    "sum(map(itemgetter(\"Timestamp (ns)\"), events))"
   ]
  },
  {
   "cell_type": "markdown",
   "id": "9b8e39db-5139-4bcd-ad0e-55450721f0b5",
   "metadata": {},
   "source": [
    "What results do we see here?\n",
    "\n",
    "If we sum a column using Pandas (column-oriented), we get ~50 us.\n",
    "\n",
    "If we sum a column using Python list of dicts (row-oriented), we get ~434 us (9.88x slower).\n",
    "\n",
    "\n",
    "However, if we do this operation without vectorization (using row-by-row iteration), using Pandas we get ~427 ms.\n",
    "\n",
    "Using Python list of dicts, this is still ~434 us, which is (983x faster).\n",
    "\n",
    "In this case, it is **worth moving to a row-oriented format.**"
   ]
  },
  {
   "cell_type": "markdown",
   "id": "bdbce3c1-b399-49c8-b71e-e8c99c31858e",
   "metadata": {},
   "source": [
    "## What if we used DuckDB?\n",
    "\n",
    "DuckDB is also column-oriented, so it's a bad idea to add one row at a time. However, DuckDB lets us do so since it uses SQL.\n",
    "\n",
    "From their doc:\n",
    "\n",
    "> INSERT statements are the standard way of loading data into a relational database. When using INSERT statements, the values are supplied row-by-row. While simple, there is significant overhead involved in parsing and processing individual INSERT statements. This makes lots of individual row-by-row insertions very inefficient for bulk insertion.\n",
    "\n",
    "> As a rule-of-thumb, avoid using lots of individual row-by-row INSERT statements when inserting more than a few rows (i.e., avoid using INSERT > statements as part of a loop). When bulk inserting data, try to maximize the amount of data that is inserted per statement.\n",
    "\n",
    "So, a more efficient way will be doing so in batches, instead of individual event insertions. Thus, we'll need to keep some sort of buffer in Python, and then flush this buffer by inserting into a DuckDB table..\r\n",
    "\r\n"
   ]
  },
  {
   "cell_type": "code",
   "execution_count": 61,
   "id": "34a22dbb-16fe-4425-a461-65266cedf2f8",
   "metadata": {},
   "outputs": [],
   "source": [
    "conn = duckdb.connect(database=':memory:')\n",
    "\n",
    "conn.execute('''\n",
    "    CREATE TABLE IF NOT EXISTS my_table (\n",
    "        \"Timestamp (ns)\" double,\n",
    "        \"Event Type\" varchar,\n",
    "        \"Name\" varchar,\n",
    "        \"Thread\" int32,\n",
    "        \"Process\" varchar,\n",
    "        \"Attributes\" varchar,\n",
    "    )\n",
    "''')\n",
    "for event in events:\n",
    "    timestamp = event[\"Timestamp (ns)\"]\n",
    "    event_type = event[\"Event Type\"]\n",
    "    name = event[\"Name\"]\n",
    "    thread = event[\"Thread\"]\n",
    "    process = event[\"Process\"]\n",
    "    attributes = json.dumps(event[\"Attributes\"])\n",
    "\n",
    "    # Use f-string to dynamically insert values with correct syntax\n",
    "    conn.execute(f\"INSERT INTO my_table VALUES ({timestamp}, '{event_type}', '{name}', {thread}, {process}, '{attributes}')\")"
   ]
  },
  {
   "cell_type": "code",
   "execution_count": 57,
   "id": "ebf8a232-4e7d-460d-9f5d-c00f61d5ed3f",
   "metadata": {},
   "outputs": [
    {
     "name": "stdout",
     "output_type": "stream",
     "text": [
      "288 µs ± 8.63 µs per loop (mean ± std. dev. of 7 runs, 1,000 loops each)\n"
     ]
    }
   ],
   "source": [
    "%%timeit\n",
    "conn.execute('SELECT SUM(\"Timestamp (ns)\") FROM my_table').fetchall()"
   ]
  },
  {
   "cell_type": "markdown",
   "id": "f0b1fc4e-107a-4ccd-9c8f-d3855aec6297",
   "metadata": {},
   "source": [
    "## What if we use Polars?\n",
    "\n",
    "Since polars is column-oriented, it's not recommend to add one row at a time. Instead, we can build a Python list of dicts and then convert that to a Polars DataFrame.\n",
    "\n",
    "In practice, this will duplicate memory, so we should build a small Polars DF at a time, freeing up that memory from the Python list. \n",
    "\n",
    "So effectively, this is the same as the DuckDB approach -- build a buffer in Python, push it on to the DuckDB/Polars table, and flush the buffer."
   ]
  },
  {
   "cell_type": "code",
   "execution_count": 58,
   "id": "b61d0d54-6227-44fc-9aff-1abc4c76d30f",
   "metadata": {},
   "outputs": [
    {
     "data": {
      "text/html": [
       "<div><style>\n",
       ".dataframe > thead > tr,\n",
       ".dataframe > tbody > tr {\n",
       "  text-align: right;\n",
       "  white-space: pre-wrap;\n",
       "}\n",
       "</style>\n",
       "<small>shape: (9_538, 6)</small><table border=\"1\" class=\"dataframe\"><thead><tr><th>Timestamp (ns)</th><th>Event Type</th><th>Name</th><th>Thread</th><th>Process</th><th>Attributes</th></tr><tr><td>f64</td><td>str</td><td>str</td><td>i64</td><td>i64</td><td>struct[4]</td></tr></thead><tbody><tr><td>0.477292</td><td>&quot;Instant&quot;</td><td>&quot;ProgramBegin&quot;</td><td>0</td><td>14</td><td>{&quot;/g/g92/bhowmik1/sw4lite/sw4lite/optimize_c_quartz/sw4lite&quot;,[&quot;tests/trace-collection-input/gaussian-32.in&quot;],null,null}</td></tr><tr><td>148.437925</td><td>&quot;Instant&quot;</td><td>&quot;ProgramBegin&quot;</td><td>0</td><td>15</td><td>{&quot;/g/g92/bhowmik1/sw4lite/sw4lite/optimize_c_quartz/sw4lite&quot;,[&quot;tests/trace-collection-input/gaussian-32.in&quot;],null,null}</td></tr><tr><td>1740.207954</td><td>&quot;Instant&quot;</td><td>&quot;ProgramBegin&quot;</td><td>0</td><td>12</td><td>{&quot;/g/g92/bhowmik1/sw4lite/sw4lite/optimize_c_quartz/sw4lite&quot;,[&quot;tests/trace-collection-input/gaussian-32.in&quot;],null,null}</td></tr><tr><td>20025.75566</td><td>&quot;Instant&quot;</td><td>&quot;ProgramBegin&quot;</td><td>0</td><td>13</td><td>{&quot;/g/g92/bhowmik1/sw4lite/sw4lite/optimize_c_quartz/sw4lite&quot;,[&quot;tests/trace-collection-input/gaussian-32.in&quot;],null,null}</td></tr><tr><td>20142.692289</td><td>&quot;Enter&quot;</td><td>&quot;MPI_Init&quot;</td><td>0</td><td>14</td><td>{null,null,&quot;Region 36&quot;,null}</td></tr><tr><td>20377.520131</td><td>&quot;Enter&quot;</td><td>&quot;MPI_Init&quot;</td><td>0</td><td>12</td><td>{null,null,&quot;Region 36&quot;,null}</td></tr><tr><td>20534.072026</td><td>&quot;Enter&quot;</td><td>&quot;MPI_Init&quot;</td><td>0</td><td>15</td><td>{null,null,&quot;Region 36&quot;,null}</td></tr><tr><td>35336.817362</td><td>&quot;Enter&quot;</td><td>&quot;MPI_Init&quot;</td><td>0</td><td>13</td><td>{null,null,&quot;Region 36&quot;,null}</td></tr><tr><td>80158.388554</td><td>&quot;Instant&quot;</td><td>&quot;ProgramBegin&quot;</td><td>0</td><td>10</td><td>{&quot;/g/g92/bhowmik1/sw4lite/sw4lite/optimize_c_quartz/sw4lite&quot;,[&quot;tests/trace-collection-input/gaussian-32.in&quot;],null,null}</td></tr><tr><td>88742.014404</td><td>&quot;Instant&quot;</td><td>&quot;ProgramBegin&quot;</td><td>0</td><td>9</td><td>{&quot;/g/g92/bhowmik1/sw4lite/sw4lite/optimize_c_quartz/sw4lite&quot;,[&quot;tests/trace-collection-input/gaussian-32.in&quot;],null,null}</td></tr><tr><td>97571.923113</td><td>&quot;Instant&quot;</td><td>&quot;ProgramBegin&quot;</td><td>0</td><td>11</td><td>{&quot;/g/g92/bhowmik1/sw4lite/sw4lite/optimize_c_quartz/sw4lite&quot;,[&quot;tests/trace-collection-input/gaussian-32.in&quot;],null,null}</td></tr><tr><td>101693.342665</td><td>&quot;Instant&quot;</td><td>&quot;ProgramBegin&quot;</td><td>0</td><td>8</td><td>{&quot;/g/g92/bhowmik1/sw4lite/sw4lite/optimize_c_quartz/sw4lite&quot;,[&quot;tests/trace-collection-input/gaussian-32.in&quot;],null,null}</td></tr><tr><td>&hellip;</td><td>&hellip;</td><td>&hellip;</td><td>&hellip;</td><td>&hellip;</td><td>&hellip;</td></tr><tr><td>4.6990e9</td><td>&quot;Leave&quot;</td><td>&quot;TRACER_WallTim…</td><td>0</td><td>0</td><td>{null,null,null,null}</td></tr><tr><td>4.6990e9</td><td>&quot;Instant&quot;</td><td>&quot;MeasurementOnO…</td><td>0</td><td>0</td><td>{null,null,null,&quot;MeasurementMode.OFF&quot;}</td></tr><tr><td>4.6991e9</td><td>&quot;Leave&quot;</td><td>&quot;TRACER_Loop&quot;</td><td>0</td><td>24</td><td>{null,null,null,null}</td></tr><tr><td>4.6991e9</td><td>&quot;Instant&quot;</td><td>&quot;MeasurementOnO…</td><td>0</td><td>24</td><td>{null,null,null,&quot;MeasurementMode.OFF&quot;}</td></tr><tr><td>4.6991e9</td><td>&quot;Instant&quot;</td><td>&quot;MpiRecv&quot;</td><td>0</td><td>1</td><td>{null,null,null,null}</td></tr><tr><td>4.6991e9</td><td>&quot;Leave&quot;</td><td>&quot;MPI_Sendrecv&quot;</td><td>0</td><td>1</td><td>{null,null,null,null}</td></tr><tr><td>4.6991e9</td><td>&quot;Instant&quot;</td><td>&quot;MpiRecv&quot;</td><td>0</td><td>25</td><td>{null,null,null,null}</td></tr><tr><td>4.6991e9</td><td>&quot;Leave&quot;</td><td>&quot;MPI_Sendrecv&quot;</td><td>0</td><td>25</td><td>{null,null,null,null}</td></tr><tr><td>4.7042e9</td><td>&quot;Leave&quot;</td><td>&quot;TRACER_Loop&quot;</td><td>0</td><td>25</td><td>{null,null,null,null}</td></tr><tr><td>4.7042e9</td><td>&quot;Instant&quot;</td><td>&quot;MeasurementOnO…</td><td>0</td><td>25</td><td>{null,null,null,&quot;MeasurementMode.OFF&quot;}</td></tr><tr><td>4.7044e9</td><td>&quot;Leave&quot;</td><td>&quot;TRACER_Loop&quot;</td><td>0</td><td>1</td><td>{null,null,null,null}</td></tr><tr><td>4.7044e9</td><td>&quot;Instant&quot;</td><td>&quot;MeasurementOnO…</td><td>0</td><td>1</td><td>{null,null,null,&quot;MeasurementMode.OFF&quot;}</td></tr></tbody></table></div>"
      ],
      "text/plain": [
       "shape: (9_538, 6)\n",
       "┌────────────────┬────────────┬──────────────────┬────────┬─────────┬──────────────────────────────┐\n",
       "│ Timestamp (ns) ┆ Event Type ┆ Name             ┆ Thread ┆ Process ┆ Attributes                   │\n",
       "│ ---            ┆ ---        ┆ ---              ┆ ---    ┆ ---     ┆ ---                          │\n",
       "│ f64            ┆ str        ┆ str              ┆ i64    ┆ i64     ┆ struct[4]                    │\n",
       "╞════════════════╪════════════╪══════════════════╪════════╪═════════╪══════════════════════════════╡\n",
       "│ 0.477292       ┆ Instant    ┆ ProgramBegin     ┆ 0      ┆ 14      ┆ {\"/g/g92/bhowmik1/sw4lite/sw │\n",
       "│                ┆            ┆                  ┆        ┆         ┆ 4lit…                        │\n",
       "│ 148.437925     ┆ Instant    ┆ ProgramBegin     ┆ 0      ┆ 15      ┆ {\"/g/g92/bhowmik1/sw4lite/sw │\n",
       "│                ┆            ┆                  ┆        ┆         ┆ 4lit…                        │\n",
       "│ 1740.207954    ┆ Instant    ┆ ProgramBegin     ┆ 0      ┆ 12      ┆ {\"/g/g92/bhowmik1/sw4lite/sw │\n",
       "│                ┆            ┆                  ┆        ┆         ┆ 4lit…                        │\n",
       "│ 20025.75566    ┆ Instant    ┆ ProgramBegin     ┆ 0      ┆ 13      ┆ {\"/g/g92/bhowmik1/sw4lite/sw │\n",
       "│                ┆            ┆                  ┆        ┆         ┆ 4lit…                        │\n",
       "│ …              ┆ …          ┆ …                ┆ …      ┆ …       ┆ …                            │\n",
       "│ 4.7042e9       ┆ Leave      ┆ TRACER_Loop      ┆ 0      ┆ 25      ┆ {null,null,null,null}        │\n",
       "│ 4.7042e9       ┆ Instant    ┆ MeasurementOnOff ┆ 0      ┆ 25      ┆ {null,null,null,\"Measurement │\n",
       "│                ┆            ┆                  ┆        ┆         ┆ Mode…                        │\n",
       "│ 4.7044e9       ┆ Leave      ┆ TRACER_Loop      ┆ 0      ┆ 1       ┆ {null,null,null,null}        │\n",
       "│ 4.7044e9       ┆ Instant    ┆ MeasurementOnOff ┆ 0      ┆ 1       ┆ {null,null,null,\"Measurement │\n",
       "│                ┆            ┆                  ┆        ┆         ┆ Mode…                        │\n",
       "└────────────────┴────────────┴──────────────────┴────────┴─────────┴──────────────────────────────┘"
      ]
     },
     "execution_count": 58,
     "metadata": {},
     "output_type": "execute_result"
    }
   ],
   "source": [
    "podf = polars.DataFrame(events)\n",
    "podf"
   ]
  },
  {
   "cell_type": "code",
   "execution_count": 91,
   "id": "58d7a943-8106-425f-86df-ab5640195fee",
   "metadata": {},
   "outputs": [
    {
     "name": "stdout",
     "output_type": "stream",
     "text": [
      "3.38 µs ± 53.7 ns per loop (mean ± std. dev. of 7 runs, 100,000 loops each)\n"
     ]
    }
   ],
   "source": [
    "%%timeit\n",
    "podf[\"Timestamp (ns)\"].sum()"
   ]
  },
  {
   "cell_type": "code",
   "execution_count": 65,
   "id": "f7c271a3-8c4e-483b-bbf6-546cccbecf76",
   "metadata": {},
   "outputs": [
    {
     "name": "stdout",
     "output_type": "stream",
     "text": [
      "7.75 ms ± 176 µs per loop (mean ± std. dev. of 7 runs, 100 loops each)\n"
     ]
    }
   ],
   "source": [
    "%%timeit\n",
    "total = 0\n",
    "for row in podf.iter_rows():\n",
    "    total += row[0]"
   ]
  },
  {
   "cell_type": "code",
   "execution_count": 71,
   "id": "dcce39c1-027c-4996-9d25-91eb8b3c8fbc",
   "metadata": {},
   "outputs": [
    {
     "name": "stdout",
     "output_type": "stream",
     "text": [
      "1.09 ms ± 8.49 µs per loop (mean ± std. dev. of 7 runs, 1,000 loops each)\n"
     ]
    }
   ],
   "source": [
    "%%timeit\n",
    "total = 0\n",
    "for row in podf.select(['Timestamp (ns)']).iter_rows():\n",
    "    total += row[0]"
   ]
  },
  {
   "cell_type": "code",
   "execution_count": 86,
   "id": "1f3452e6-74a8-4430-b7a9-195a6de11ee2",
   "metadata": {},
   "outputs": [
    {
     "name": "stdout",
     "output_type": "stream",
     "text": [
      "448 µs ± 50.8 µs per loop (mean ± std. dev. of 7 runs, 1,000 loops each)\n"
     ]
    }
   ],
   "source": [
    "%%timeit\n",
    "sum(map(itemgetter(\"Timestamp (ns)\"), events))"
   ]
  },
  {
   "cell_type": "markdown",
   "id": "70752a05-2d71-4252-ba67-7b27d2ea186d",
   "metadata": {},
   "source": [
    "What results do we see here?\n",
    "\n",
    "If we sum a column using Polars (column-oriented), we get ~4 us.\n",
    "\n",
    "If we sum a column using Python list of dicts (row-oriented), we get ~448 us (112x slower).\n",
    "\n",
    "However, if we do this operation without vectorization (using row-by-row iteration), using Polars we get either ~7.75ms or ~1.09 ms, depending on how many columns we're using.\n",
    "\n",
    "Using Python list of dicts, this is still ~448 us, which is (17.3.x faster) or (2.43x faster).\n",
    "\n",
    "In this case, it is **not worth moving to row-wise format**."
   ]
  },
  {
   "cell_type": "markdown",
   "id": "6ac1bb09-d07f-473e-a558-085d089937f3",
   "metadata": {},
   "source": [
    "# Is there a better way to calculate exclusive time?\n",
    "\n",
    "Right now, we're doing a $O(n^2)$ operation. Can we do better?"
   ]
  }
 ],
 "metadata": {
  "kernelspec": {
   "display_name": "Python 3 (ipykernel)",
   "language": "python",
   "name": "python3"
  },
  "language_info": {
   "codemirror_mode": {
    "name": "ipython",
    "version": 3
   },
   "file_extension": ".py",
   "mimetype": "text/x-python",
   "name": "python",
   "nbconvert_exporter": "python",
   "pygments_lexer": "ipython3",
   "version": "3.8.10"
  }
 },
 "nbformat": 4,
 "nbformat_minor": 5
}
