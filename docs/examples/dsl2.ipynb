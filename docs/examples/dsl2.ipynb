{
 "cells": [
  {
   "cell_type": "code",
   "execution_count": 1,
   "id": "8227bf9b-a386-4cb0-9eba-a7e258bf1d00",
   "metadata": {},
   "outputs": [],
   "source": [
    "%load_ext autoreload \n",
    "%autoreload 2"
   ]
  },
  {
   "cell_type": "code",
   "execution_count": 2,
   "id": "7c95d344-9406-4c66-978a-e7032df0967b",
   "metadata": {},
   "outputs": [],
   "source": [
    "import sys\n",
    "sys.path.append(\"../..\")"
   ]
  },
  {
   "cell_type": "code",
   "execution_count": 3,
   "id": "a8ea89f2-3d70-486c-9901-aeb4900169cb",
   "metadata": {},
   "outputs": [],
   "source": [
    "import pandas as pd\n",
    "import numpy as np\n",
    "import pipit as pp"
   ]
  },
  {
   "cell_type": "code",
   "execution_count": 4,
   "id": "589e87fd-d8d1-4ddf-a426-b911410379c4",
   "metadata": {},
   "outputs": [],
   "source": [
    "trace = pp.Trace.from_otf2(\"../../pipit/tests/data/ping-pong-otf2/\")\n",
    "pandas_df = trace.events[[\"Timestamp (ns)\", \"Name\", \"Event Type\", \"Process\", \"Thread\"]].copy()\n",
    "pandas_df[\"Process\"] = pandas_df[\"Process\"].astype(int)\n",
    "idx = pandas_df.groupby(['Process']).cumcount()\n",
    "pandas_df[\"idx\"] = idx"
   ]
  },
  {
   "cell_type": "code",
   "execution_count": 5,
   "id": "3867d2a2-ff3e-4c8c-9c09-46a167a0fde4",
   "metadata": {},
   "outputs": [
    {
     "data": {
      "text/plain": [
       "'pandas'"
      ]
     },
     "execution_count": 5,
     "metadata": {},
     "output_type": "execute_result"
    }
   ],
   "source": [
    "pp.set_option(\"backend\", \"pandas\")\n",
    "pp.get_option(\"backend\")"
   ]
  },
  {
   "cell_type": "code",
   "execution_count": 6,
   "id": "156df562-4431-40b8-b6b0-b7cfbe6206d0",
   "metadata": {},
   "outputs": [
    {
     "name": "stdout",
     "output_type": "stream",
     "text": [
      "TraceDataset (0 traces, 0 events)\n"
     ]
    }
   ],
   "source": [
    "ds = pp.dsl2.TraceDataset()\n",
    "ds.show()"
   ]
  },
  {
   "cell_type": "code",
   "execution_count": 7,
   "id": "7fa7fe70-0c61-4503-9b27-3bae52d2f1c3",
   "metadata": {},
   "outputs": [
    {
     "data": {
      "text/plain": [
       "Event(rank=1, idx=0, thread=0, timestamp=0.0, event_type='Instant', name='ProgramBegin')"
      ]
     },
     "execution_count": 7,
     "metadata": {},
     "output_type": "execute_result"
    }
   ],
   "source": [
    "# simulating a reader\n",
    "row = pandas_df.iloc[0]\n",
    "evt = pp.dsl2.Event(\n",
    "    rank=row[\"Process\"],\n",
    "    idx=row[\"idx\"],\n",
    "    thread=row[\"Thread\"],\n",
    "    timestamp=row[\"Timestamp (ns)\"],\n",
    "    event_type=row[\"Event Type\"],\n",
    "    name=row[\"Name\"],\n",
    ")\n",
    "evt"
   ]
  },
  {
   "cell_type": "code",
   "execution_count": 8,
   "id": "5abbffd5-3246-4331-9a40-86b5a6eda0d7",
   "metadata": {},
   "outputs": [
    {
     "name": "stdout",
     "output_type": "stream",
     "text": [
      "TraceDataset (1 trace, 0 events)\n"
     ]
    }
   ],
   "source": [
    "ds.push_event(evt)\n",
    "ds.show()"
   ]
  },
  {
   "cell_type": "code",
   "execution_count": 9,
   "id": "bca1c384-0239-46b6-94d0-86439635eb80",
   "metadata": {},
   "outputs": [
    {
     "name": "stdout",
     "output_type": "stream",
     "text": [
      "+--------+-------+----------+-------------+--------------+--------------+\n",
      "|   rank |   idx |   thread |   timestamp | event_type   | name         |\n",
      "|--------+-------+----------+-------------+--------------+--------------|\n",
      "|      1 |     0 |        0 |           0 | Instant      | ProgramBegin |\n",
      "+--------+-------+----------+-------------+--------------+--------------+\n",
      "TraceDataset (1 trace, 1 event)\n"
     ]
    }
   ],
   "source": [
    "ds.flush()\n",
    "ds.show()"
   ]
  },
  {
   "cell_type": "code",
   "execution_count": 10,
   "id": "2910c4d8-e40d-4683-b0d4-7943a6be34a6",
   "metadata": {},
   "outputs": [
    {
     "name": "stdout",
     "output_type": "stream",
     "text": [
      "+--------+-------+----------+--------------------+--------------+-----------------------+\n",
      "| rank   | idx   | thread   | timestamp          | event_type   | name                  |\n",
      "|--------+-------+----------+--------------------+--------------+-----------------------|\n",
      "| 1      | 0     | 0        | 0.0                | Instant      | ProgramBegin          |\n",
      "| 1      | 1     | 0        | 30083.086937435106 | Enter        | int main(int, char**) |\n",
      "| 1      | 2     | 0        | 40288.33150186851  | Enter        | MPI_Init              |\n",
      "| 0      | 0     | 0        | 307730.9358165928  | Instant      | ProgramBegin          |\n",
      "| 0      | 1     | 0        | 336979.73374932166 | Enter        | int main(int, char**) |\n",
      "| ...    | ...   | ...      | ...                | ...          | ...                   |\n",
      "| 1      | 57    | 0        | 199574793.63126454 | Leave        | MPI_Finalize          |\n",
      "| 0      | 58    | 0        | 199575243.23094556 | Leave        | int main(int, char**) |\n",
      "| 1      | 58    | 0        | 199576798.2158296  | Leave        | int main(int, char**) |\n",
      "| 0      | 59    | 0        | 199603304.5511645  | Instant      | ProgramEnd            |\n",
      "| 1      | 59    | 0        | 199604459.57369962 | Instant      | ProgramEnd            |\n",
      "+--------+-------+----------+--------------------+--------------+-----------------------+\n",
      "TraceDataset (2 traces, 120 events)\n"
     ]
    }
   ],
   "source": [
    "for i in range(1, len(pandas_df)):\n",
    "    row = pandas_df.iloc[i]\n",
    "    evt = pp.dsl2.Event(\n",
    "        rank=row[\"Process\"],\n",
    "        idx=row[\"idx\"],\n",
    "        thread=row[\"Thread\"],\n",
    "        timestamp=row[\"Timestamp (ns)\"],\n",
    "        event_type=row[\"Event Type\"],\n",
    "        name=row[\"Name\"],\n",
    "    )\n",
    "    ds.push_event(evt)\n",
    "\n",
    "ds.flush()\n",
    "ds.show()"
   ]
  },
  {
   "cell_type": "code",
   "execution_count": 11,
   "id": "c8a7099f-c446-4800-b55a-c263b742a814",
   "metadata": {},
   "outputs": [
    {
     "name": "stdout",
     "output_type": "stream",
     "text": [
      "+--------+-------+----------+--------------------+--------------+-----------------------+\n",
      "| rank   | idx   | thread   | timestamp          | event_type   | name                  |\n",
      "|--------+-------+----------+--------------------+--------------+-----------------------|\n",
      "| 0      | 0     | 0        | 307730.9358165928  | Instant      | ProgramBegin          |\n",
      "| 0      | 1     | 0        | 336979.73374932166 | Enter        | int main(int, char**) |\n",
      "| 0      | 2     | 0        | 346054.77444467926 | Enter        | MPI_Init              |\n",
      "| 0      | 3     | 0        | 193643138.1741584  | Leave        | MPI_Init              |\n",
      "| 1      | 3     | 0        | 193643835.4832178  | Leave        | MPI_Init              |\n",
      "| ...    | ...   | ...      | ...                | ...          | ...                   |\n",
      "| 1      | 57    | 0        | 199574793.63126454 | Leave        | MPI_Finalize          |\n",
      "| 0      | 58    | 0        | 199575243.23094556 | Leave        | int main(int, char**) |\n",
      "| 1      | 58    | 0        | 199576798.2158296  | Leave        | int main(int, char**) |\n",
      "| 0      | 59    | 0        | 199603304.5511645  | Instant      | ProgramEnd            |\n",
      "| 1      | 59    | 0        | 199604459.57369962 | Instant      | ProgramEnd            |\n",
      "+--------+-------+----------+--------------------+--------------+-----------------------+\n",
      "TraceDataset (2 traces, 117 events)\n"
     ]
    }
   ],
   "source": [
    "ds.filter(\"timestamp > 1e5\").show()"
   ]
  },
  {
   "cell_type": "code",
   "execution_count": 12,
   "id": "ebf8f71a-6a30-4c90-a9b6-ecb2215192f7",
   "metadata": {},
   "outputs": [
    {
     "name": "stdout",
     "output_type": "stream",
     "text": [
      "+-------+----------+--------------------+--------------+-----------------------+\n",
      "| idx   | thread   | timestamp          | event_type   | name                  |\n",
      "|-------+----------+--------------------+--------------+-----------------------|\n",
      "| 0     | 0        | 307730.9358165928  | Instant      | ProgramBegin          |\n",
      "| 1     | 0        | 336979.73374932166 | Enter        | int main(int, char**) |\n",
      "| 2     | 0        | 346054.77444467926 | Enter        | MPI_Init              |\n",
      "| 3     | 0        | 193643138.1741584  | Leave        | MPI_Init              |\n",
      "| 4     | 0        | 193651646.20379105 | Enter        | MPI_Comm_size         |\n",
      "| ...   | ...      | ...                | ...          | ...                   |\n",
      "| 55    | 0        | 199320512.07918367 | Leave        | MPI_Recv              |\n",
      "| 56    | 0        | 199514778.2785141  | Enter        | MPI_Finalize          |\n",
      "| 57    | 0        | 199573648.15437022 | Leave        | MPI_Finalize          |\n",
      "| 58    | 0        | 199575243.23094556 | Leave        | int main(int, char**) |\n",
      "| 59    | 0        | 199603304.5511645  | Instant      | ProgramEnd            |\n",
      "+-------+----------+--------------------+--------------+-----------------------+\n",
      "_Trace (rank=0, 60 events)\n"
     ]
    }
   ],
   "source": [
    "ds.traces[0].show()"
   ]
  },
  {
   "cell_type": "code",
   "execution_count": 13,
   "id": "bde23e54-6f1b-4620-a90a-903ba8294c27",
   "metadata": {},
   "outputs": [
    {
     "data": {
      "text/plain": [
       "Event(rank=0, idx=54, thread=0, timestamp=199319973.70504335, event_type='Instant', name='MpiRecv')"
      ]
     },
     "execution_count": 13,
     "metadata": {},
     "output_type": "execute_result"
    }
   ],
   "source": [
    "ds.traces[0].loc[54]"
   ]
  },
  {
   "cell_type": "code",
   "execution_count": 14,
   "id": "d1562ea5-8048-4c3c-8813-139ab83fcd33",
   "metadata": {},
   "outputs": [
    {
     "name": "stdout",
     "output_type": "stream",
     "text": [
      "+-------+----------+-------------+--------------+----------+\n",
      "|   idx |   thread |   timestamp | event_type   | name     |\n",
      "|-------+----------+-------------+--------------+----------|\n",
      "|    40 |        0 | 1.94911e+08 | Leave        | MPI_Send |\n",
      "|    41 |        0 | 1.94912e+08 | Enter        | MPI_Recv |\n",
      "|    42 |        0 | 1.95132e+08 | Instant      | MpiRecv  |\n",
      "|    43 |        0 | 1.95132e+08 | Leave        | MPI_Recv |\n",
      "|    44 |        0 | 1.95718e+08 | Enter        | MPI_Send |\n",
      "|    45 |        0 | 1.95719e+08 | Instant      | MpiSend  |\n",
      "|    46 |        0 | 1.9614e+08  | Leave        | MPI_Send |\n",
      "|    47 |        0 | 1.9614e+08  | Enter        | MPI_Recv |\n",
      "|    48 |        0 | 1.96584e+08 | Instant      | MpiRecv  |\n",
      "|    49 |        0 | 1.96584e+08 | Leave        | MPI_Recv |\n",
      "|    50 |        0 | 1.97613e+08 | Enter        | MPI_Send |\n",
      "|    51 |        0 | 1.97614e+08 | Instant      | MpiSend  |\n",
      "|    52 |        0 | 1.98506e+08 | Leave        | MPI_Send |\n",
      "|    53 |        0 | 1.98507e+08 | Enter        | MPI_Recv |\n",
      "|    54 |        0 | 1.9932e+08  | Instant      | MpiRecv  |\n",
      "+-------+----------+-------------+--------------+----------+\n",
      "_Trace (rank=0, 15 events)\n"
     ]
    }
   ],
   "source": [
    "ds.traces[0].loc[40:54].show()"
   ]
  },
  {
   "cell_type": "code",
   "execution_count": 15,
   "id": "857acd69-9a15-454c-96c3-bdc4ba8ef955",
   "metadata": {},
   "outputs": [
    {
     "name": "stdout",
     "output_type": "stream",
     "text": [
      "+--------+-------+----------+--------------------+--------------+-----------------------+\n",
      "| rank   | idx   | thread   | timestamp          | event_type   | name                  |\n",
      "|--------+-------+----------+--------------------+--------------+-----------------------|\n",
      "| 0      | 0     | 0        | 307730.9358165928  | Instant      | ProgramBegin          |\n",
      "| 0      | 1     | 0        | 336979.73374932166 | Enter        | int main(int, char**) |\n",
      "| 0      | 2     | 0        | 346054.77444467926 | Enter        | MPI_Init              |\n",
      "| 0      | 3     | 0        | 193643138.1741584  | Leave        | MPI_Init              |\n",
      "| 0      | 4     | 0        | 193651646.20379105 | Enter        | MPI_Comm_size         |\n",
      "| ...    | ...   | ...      | ...                | ...          | ...                   |\n",
      "| 0      | 55    | 0        | 199320512.07918367 | Leave        | MPI_Recv              |\n",
      "| 0      | 56    | 0        | 199514778.2785141  | Enter        | MPI_Finalize          |\n",
      "| 0      | 57    | 0        | 199573648.15437022 | Leave        | MPI_Finalize          |\n",
      "| 0      | 58    | 0        | 199575243.23094556 | Leave        | int main(int, char**) |\n",
      "| 0      | 59    | 0        | 199603304.5511645  | Instant      | ProgramEnd            |\n",
      "+--------+-------+----------+--------------------+--------------+-----------------------+\n",
      "TraceDataset (1 trace, 60 events)\n"
     ]
    }
   ],
   "source": [
    "ds.loc[0].show()"
   ]
  },
  {
   "cell_type": "code",
   "execution_count": 16,
   "id": "2eeb2fae-2dca-4742-90de-725d45d1e5bb",
   "metadata": {},
   "outputs": [
    {
     "name": "stdout",
     "output_type": "stream",
     "text": [
      "+--------+-------+----------+--------------------+--------------+-----------------------+\n",
      "| rank   | idx   | thread   | timestamp          | event_type   | name                  |\n",
      "|--------+-------+----------+--------------------+--------------+-----------------------|\n",
      "| 1      | 0     | 0        | 0.0                | Instant      | ProgramBegin          |\n",
      "| 1      | 1     | 0        | 30083.086937435106 | Enter        | int main(int, char**) |\n",
      "| 1      | 2     | 0        | 40288.33150186851  | Enter        | MPI_Init              |\n",
      "| 0      | 0     | 0        | 307730.9358165928  | Instant      | ProgramBegin          |\n",
      "| 0      | 1     | 0        | 336979.73374932166 | Enter        | int main(int, char**) |\n",
      "| ...    | ...   | ...      | ...                | ...          | ...                   |\n",
      "| 1      | 57    | 0        | 199574793.63126454 | Leave        | MPI_Finalize          |\n",
      "| 0      | 58    | 0        | 199575243.23094556 | Leave        | int main(int, char**) |\n",
      "| 1      | 58    | 0        | 199576798.2158296  | Leave        | int main(int, char**) |\n",
      "| 0      | 59    | 0        | 199603304.5511645  | Instant      | ProgramEnd            |\n",
      "| 1      | 59    | 0        | 199604459.57369962 | Instant      | ProgramEnd            |\n",
      "+--------+-------+----------+--------------------+--------------+-----------------------+\n",
      "TraceDataset (2 traces, 120 events)\n"
     ]
    }
   ],
   "source": [
    "ds.loc[0:2].show()"
   ]
  },
  {
   "cell_type": "code",
   "execution_count": 17,
   "id": "5e843a24-ff1a-44af-975a-15f83df89b07",
   "metadata": {},
   "outputs": [
    {
     "data": {
      "text/plain": [
       "Event(rank=0, idx=59, thread=0, timestamp=199603304.5511645, event_type='Instant', name='ProgramEnd')"
      ]
     },
     "execution_count": 17,
     "metadata": {},
     "output_type": "execute_result"
    }
   ],
   "source": [
    "ds.loc[0, 59]"
   ]
  }
 ],
 "metadata": {
  "kernelspec": {
   "display_name": "Python 3 (ipykernel)",
   "language": "python",
   "name": "python3"
  },
  "language_info": {
   "codemirror_mode": {
    "name": "ipython",
    "version": 3
   },
   "file_extension": ".py",
   "mimetype": "text/x-python",
   "name": "python",
   "nbconvert_exporter": "python",
   "pygments_lexer": "ipython3",
   "version": "3.8.10"
  }
 },
 "nbformat": 4,
 "nbformat_minor": 5
}
