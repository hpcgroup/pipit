{
 "cells": [
  {
   "cell_type": "code",
   "execution_count": 1,
   "id": "afd7f9b3-33e3-4b1b-9dc8-e9827a686ace",
   "metadata": {},
   "outputs": [],
   "source": [
    "%load_ext autoreload\n",
    "%autoreload 2"
   ]
  },
  {
   "cell_type": "code",
   "execution_count": 4,
   "id": "46fb0f73-2e83-4e71-a1e0-417b0863c81c",
   "metadata": {},
   "outputs": [],
   "source": [
    "import sys\n",
    "sys.path.append(\"../..\")"
   ]
  },
  {
   "cell_type": "code",
   "execution_count": 31,
   "id": "62138bde-e2a7-4d35-9e2a-cea48b616117",
   "metadata": {},
   "outputs": [],
   "source": [
    "from pipit.util import download"
   ]
  },
  {
   "cell_type": "code",
   "execution_count": null,
   "id": "8837b1a7-ce3c-4838-b69b-1d929e1b4408",
   "metadata": {},
   "outputs": [],
   "source": [
    "trace = pp.load_sample(\"laghos-32-otf2\")\n",
    "\n",
    "trace = pp.load_sample(\"LAGHOS\", 32, \"otf2\")\n",
    "\n",
    "trace = pp.load_sample(\"ping-pong\", numranks=2, format=\"otf2\")"
   ]
  },
  {
   "cell_type": "code",
   "execution_count": 32,
   "id": "86445e9f-9e28-42af-8612-1305203d2b06",
   "metadata": {},
   "outputs": [
    {
     "name": "stderr",
     "output_type": "stream",
     "text": [
      "Downloading: 6.78MB [00:11, 608kB/s] \n"
     ]
    }
   ],
   "source": [
    "download.download_data_with_progress(\"https://archive.org/download/32.tar/32.tar.gz\")"
   ]
  },
  {
   "cell_type": "code",
   "execution_count": 34,
   "id": "c7381b06-e816-421a-92f0-353a5bf93b2b",
   "metadata": {},
   "outputs": [
    {
     "data": {
      "text/html": [
       "<div>\n",
       "<style scoped>\n",
       "    .dataframe tbody tr th:only-of-type {\n",
       "        vertical-align: middle;\n",
       "    }\n",
       "\n",
       "    .dataframe tbody tr th {\n",
       "        vertical-align: top;\n",
       "    }\n",
       "\n",
       "    .dataframe thead th {\n",
       "        text-align: right;\n",
       "    }\n",
       "</style>\n",
       "<table border=\"1\" class=\"dataframe\">\n",
       "  <thead>\n",
       "    <tr style=\"text-align: right;\">\n",
       "      <th></th>\n",
       "      <th>Timestamp (ns)</th>\n",
       "      <th>Event Type</th>\n",
       "      <th>Name</th>\n",
       "      <th>Thread</th>\n",
       "      <th>Process</th>\n",
       "      <th>Attributes</th>\n",
       "    </tr>\n",
       "  </thead>\n",
       "  <tbody>\n",
       "    <tr>\n",
       "      <th>0</th>\n",
       "      <td>1.568688e+04</td>\n",
       "      <td>Enter</td>\n",
       "      <td>MPI_Init</td>\n",
       "      <td>0</td>\n",
       "      <td>20</td>\n",
       "      <td>{'region': 'Region 19'}</td>\n",
       "    </tr>\n",
       "    <tr>\n",
       "      <th>1</th>\n",
       "      <td>1.569625e+04</td>\n",
       "      <td>Enter</td>\n",
       "      <td>MPI_Init</td>\n",
       "      <td>0</td>\n",
       "      <td>21</td>\n",
       "      <td>{'region': 'Region 19'}</td>\n",
       "    </tr>\n",
       "    <tr>\n",
       "      <th>2</th>\n",
       "      <td>1.570062e+04</td>\n",
       "      <td>Enter</td>\n",
       "      <td>MPI_Init</td>\n",
       "      <td>0</td>\n",
       "      <td>19</td>\n",
       "      <td>{'region': 'Region 19'}</td>\n",
       "    </tr>\n",
       "    <tr>\n",
       "      <th>3</th>\n",
       "      <td>1.570875e+04</td>\n",
       "      <td>Enter</td>\n",
       "      <td>MPI_Init</td>\n",
       "      <td>0</td>\n",
       "      <td>16</td>\n",
       "      <td>{'region': 'Region 19'}</td>\n",
       "    </tr>\n",
       "    <tr>\n",
       "      <th>4</th>\n",
       "      <td>1.571188e+04</td>\n",
       "      <td>Enter</td>\n",
       "      <td>MPI_Init</td>\n",
       "      <td>0</td>\n",
       "      <td>23</td>\n",
       "      <td>{'region': 'Region 19'}</td>\n",
       "    </tr>\n",
       "    <tr>\n",
       "      <th>...</th>\n",
       "      <td>...</td>\n",
       "      <td>...</td>\n",
       "      <td>...</td>\n",
       "      <td>...</td>\n",
       "      <td>...</td>\n",
       "      <td>...</td>\n",
       "    </tr>\n",
       "    <tr>\n",
       "      <th>1279580</th>\n",
       "      <td>7.969918e+10</td>\n",
       "      <td>Instant</td>\n",
       "      <td>MeasurementOnOff</td>\n",
       "      <td>0</td>\n",
       "      <td>20</td>\n",
       "      <td>{'measurement_mode': 'MeasurementMode.OFF'}</td>\n",
       "    </tr>\n",
       "    <tr>\n",
       "      <th>1279581</th>\n",
       "      <td>7.969918e+10</td>\n",
       "      <td>Instant</td>\n",
       "      <td>MeasurementOnOff</td>\n",
       "      <td>0</td>\n",
       "      <td>18</td>\n",
       "      <td>{'measurement_mode': 'MeasurementMode.OFF'}</td>\n",
       "    </tr>\n",
       "    <tr>\n",
       "      <th>1279582</th>\n",
       "      <td>7.969918e+10</td>\n",
       "      <td>Instant</td>\n",
       "      <td>MeasurementOnOff</td>\n",
       "      <td>0</td>\n",
       "      <td>17</td>\n",
       "      <td>{'measurement_mode': 'MeasurementMode.OFF'}</td>\n",
       "    </tr>\n",
       "    <tr>\n",
       "      <th>1279583</th>\n",
       "      <td>7.969918e+10</td>\n",
       "      <td>Instant</td>\n",
       "      <td>MeasurementOnOff</td>\n",
       "      <td>0</td>\n",
       "      <td>22</td>\n",
       "      <td>{'measurement_mode': 'MeasurementMode.OFF'}</td>\n",
       "    </tr>\n",
       "    <tr>\n",
       "      <th>1279584</th>\n",
       "      <td>7.969970e+10</td>\n",
       "      <td>Instant</td>\n",
       "      <td>MeasurementOnOff</td>\n",
       "      <td>0</td>\n",
       "      <td>0</td>\n",
       "      <td>{'measurement_mode': 'MeasurementMode.OFF'}</td>\n",
       "    </tr>\n",
       "  </tbody>\n",
       "</table>\n",
       "<p>1279585 rows × 6 columns</p>\n",
       "</div>"
      ],
      "text/plain": [
       "         Timestamp (ns) Event Type              Name Thread Process  \\\n",
       "0          1.568688e+04      Enter          MPI_Init      0      20   \n",
       "1          1.569625e+04      Enter          MPI_Init      0      21   \n",
       "2          1.570062e+04      Enter          MPI_Init      0      19   \n",
       "3          1.570875e+04      Enter          MPI_Init      0      16   \n",
       "4          1.571188e+04      Enter          MPI_Init      0      23   \n",
       "...                 ...        ...               ...    ...     ...   \n",
       "1279580    7.969918e+10    Instant  MeasurementOnOff      0      20   \n",
       "1279581    7.969918e+10    Instant  MeasurementOnOff      0      18   \n",
       "1279582    7.969918e+10    Instant  MeasurementOnOff      0      17   \n",
       "1279583    7.969918e+10    Instant  MeasurementOnOff      0      22   \n",
       "1279584    7.969970e+10    Instant  MeasurementOnOff      0       0   \n",
       "\n",
       "                                          Attributes  \n",
       "0                            {'region': 'Region 19'}  \n",
       "1                            {'region': 'Region 19'}  \n",
       "2                            {'region': 'Region 19'}  \n",
       "3                            {'region': 'Region 19'}  \n",
       "4                            {'region': 'Region 19'}  \n",
       "...                                              ...  \n",
       "1279580  {'measurement_mode': 'MeasurementMode.OFF'}  \n",
       "1279581  {'measurement_mode': 'MeasurementMode.OFF'}  \n",
       "1279582  {'measurement_mode': 'MeasurementMode.OFF'}  \n",
       "1279583  {'measurement_mode': 'MeasurementMode.OFF'}  \n",
       "1279584  {'measurement_mode': 'MeasurementMode.OFF'}  \n",
       "\n",
       "[1279585 rows x 6 columns]"
      ]
     },
     "execution_count": 34,
     "metadata": {},
     "output_type": "execute_result"
    }
   ],
   "source": [
    "import pipit as pp\n",
    "\n",
    "trace = pp.Trace.from_otf2(\"./tmp/32\")\n",
    "trace.events"
   ]
  },
  {
   "cell_type": "code",
   "execution_count": 20,
   "id": "c563a22f-3557-4147-8f1c-db0187f81d7e",
   "metadata": {},
   "outputs": [],
   "source": []
  },
  {
   "cell_type": "code",
   "execution_count": null,
   "id": "c6f56477-7915-45d9-a2a9-6261a94cfbf6",
   "metadata": {},
   "outputs": [],
   "source": []
  }
 ],
 "metadata": {
  "kernelspec": {
   "display_name": "Python 3 (ipykernel)",
   "language": "python",
   "name": "python3"
  },
  "language_info": {
   "codemirror_mode": {
    "name": "ipython",
    "version": 3
   },
   "file_extension": ".py",
   "mimetype": "text/x-python",
   "name": "python",
   "nbconvert_exporter": "python",
   "pygments_lexer": "ipython3",
   "version": "3.8.10"
  }
 },
 "nbformat": 4,
 "nbformat_minor": 5
}
