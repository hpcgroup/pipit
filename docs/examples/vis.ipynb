{
 "cells": [
  {
   "cell_type": "code",
   "execution_count": null,
   "metadata": {},
   "outputs": [],
   "source": [
    "# Set up notebook for development\n",
    "%load_ext autoreload\n",
    "%autoreload 2\n",
    "\n",
    "# Set up paths\n",
    "import sys\n",
    "sys.path.append(\"/home/linuxbrew/.linuxbrew/Cellar/otf2/3.0/lib/python3.10/site-packages\")\n",
    "sys.path.append(\"../../.\")\n",
    "del sys.path[0]\n",
    "\n",
    "import pipit as pp"
   ]
  },
  {
   "cell_type": "code",
   "execution_count": null,
   "metadata": {
    "tags": []
   },
   "outputs": [],
   "source": [
    "# Load sample trace into Pipit\n",
    "dirname = \"../../pipit/tests/data/ping-pong-otf2\"\n",
    "trace = pp.Trace.from_otf2(dirname)"
   ]
  },
  {
   "cell_type": "code",
   "execution_count": null,
   "metadata": {},
   "outputs": [],
   "source": [
    "# Timeline view\n",
    "from pipit.vis import timeline\n",
    "timeline(trace, segments=False, points=True)"
   ]
  },
  {
   "cell_type": "code",
   "execution_count": null,
   "metadata": {},
   "outputs": [],
   "source": [
    "# Communication heatmap view\n",
    "from pipit.vis import comm_heatmap\n",
    "comm_heatmap(trace)"
   ]
  },
  {
   "cell_type": "code",
   "execution_count": null,
   "metadata": {},
   "outputs": [],
   "source": [
    "# Communication graph view\n",
    "from pipit.vis import comm_graph\n",
    "comm_graph(trace)"
   ]
  },
  {
   "cell_type": "code",
   "execution_count": null,
   "metadata": {},
   "outputs": [],
   "source": [
    "# Communication over time view\n",
    "from pipit.vis import comm_over_time\n",
    "comm_over_time(trace)"
   ]
  },
  {
   "cell_type": "code",
   "execution_count": null,
   "metadata": {},
   "outputs": [],
   "source": [
    "# Communication summary\n",
    "from pipit.vis import comm_sum\n",
    "comm_sum(trace)"
   ]
  },
  {
   "cell_type": "code",
   "execution_count": null,
   "metadata": {},
   "outputs": [],
   "source": [
    "# Function summary\n",
    "from pipit.vis import function_sum\n",
    "function_sum(trace)"
   ]
  }
 ],
 "metadata": {
  "kernelspec": {
   "display_name": "Python 3 (ipykernel)",
   "language": "python",
   "name": "python3"
  },
  "language_info": {
   "codemirror_mode": {
    "name": "ipython",
    "version": 3
   },
   "file_extension": ".py",
   "mimetype": "text/x-python",
   "name": "python",
   "nbconvert_exporter": "python",
   "pygments_lexer": "ipython3",
   "version": "3.8.10"
  },
  "vscode": {
   "interpreter": {
    "hash": "53f1b643324a9d1a40adb1143c48f338c9da0643d653eb78aa54e35cd5dbd8dd"
   }
  }
 },
 "nbformat": 4,
 "nbformat_minor": 4
}
