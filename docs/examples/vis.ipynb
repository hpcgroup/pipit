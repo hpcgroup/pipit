{
 "cells": [
  {
   "cell_type": "code",
   "execution_count": 6,
   "metadata": {},
   "outputs": [
    {
     "name": "stdout",
     "output_type": "stream",
     "text": [
      "The autoreload extension is already loaded. To reload it, use:\n",
      "  %reload_ext autoreload\n"
     ]
    }
   ],
   "source": [
    "# Set up notebook for development\n",
    "%load_ext autoreload\n",
    "%autoreload 2\n",
    "\n",
    "# Set up paths\n",
    "import sys\n",
    "sys.path.append(\"/home/linuxbrew/.linuxbrew/Cellar/otf2/3.0/lib/python3.10/site-packages\")\n",
    "sys.path.append(\"../../.\")\n",
    "del sys.path[0]\n",
    "\n",
    "import pipit as pp\n",
    "import pandas as pd"
   ]
  },
  {
   "cell_type": "code",
   "execution_count": 66,
   "metadata": {
    "scrolled": false,
    "tags": []
   },
   "outputs": [
    {
     "data": {
      "text/html": [
       "<div>\n",
       "<style scoped>\n",
       "    .dataframe tbody tr th:only-of-type {\n",
       "        vertical-align: middle;\n",
       "    }\n",
       "\n",
       "    .dataframe tbody tr th {\n",
       "        vertical-align: top;\n",
       "    }\n",
       "\n",
       "    .dataframe thead th {\n",
       "        text-align: right;\n",
       "    }\n",
       "</style>\n",
       "<table border=\"1\" class=\"dataframe\">\n",
       "  <thead>\n",
       "    <tr style=\"text-align: right;\">\n",
       "      <th></th>\n",
       "      <th>Event Type</th>\n",
       "      <th>Timestamp (ns)</th>\n",
       "      <th>Name</th>\n",
       "      <th>Process ID</th>\n",
       "      <th>Attributes</th>\n",
       "    </tr>\n",
       "  </thead>\n",
       "  <tbody>\n",
       "    <tr>\n",
       "      <th>0</th>\n",
       "      <td>ProgramBegin</td>\n",
       "      <td>0.000000e+00</td>\n",
       "      <td>N/A</td>\n",
       "      <td>1</td>\n",
       "      <td>{'attributes': {'Attribute 2': 15968}, 'progra...</td>\n",
       "    </tr>\n",
       "    <tr>\n",
       "      <th>1</th>\n",
       "      <td>ProgramBegin</td>\n",
       "      <td>1.295053e+05</td>\n",
       "      <td>N/A</td>\n",
       "      <td>0</td>\n",
       "      <td>{'attributes': {'Attribute 2': 15964}, 'progra...</td>\n",
       "    </tr>\n",
       "    <tr>\n",
       "      <th>2</th>\n",
       "      <td>Entry</td>\n",
       "      <td>1.618990e+05</td>\n",
       "      <td>MPI_Init</td>\n",
       "      <td>0</td>\n",
       "      <td>{'region': 'Region 36'}</td>\n",
       "    </tr>\n",
       "    <tr>\n",
       "      <th>3</th>\n",
       "      <td>Entry</td>\n",
       "      <td>2.519928e+05</td>\n",
       "      <td>MPI_Init</td>\n",
       "      <td>1</td>\n",
       "      <td>{'region': 'Region 36'}</td>\n",
       "    </tr>\n",
       "    <tr>\n",
       "      <th>4</th>\n",
       "      <td>Exit</td>\n",
       "      <td>1.305041e+08</td>\n",
       "      <td>MPI_Init</td>\n",
       "      <td>1</td>\n",
       "      <td>None</td>\n",
       "    </tr>\n",
       "    <tr>\n",
       "      <th>...</th>\n",
       "      <td>...</td>\n",
       "      <td>...</td>\n",
       "      <td>...</td>\n",
       "      <td>...</td>\n",
       "      <td>...</td>\n",
       "    </tr>\n",
       "    <tr>\n",
       "      <th>103</th>\n",
       "      <td>Entry</td>\n",
       "      <td>1.356308e+08</td>\n",
       "      <td>MPI_Finalize</td>\n",
       "      <td>1</td>\n",
       "      <td>{'region': 'Region 17'}</td>\n",
       "    </tr>\n",
       "    <tr>\n",
       "      <th>104</th>\n",
       "      <td>Exit</td>\n",
       "      <td>1.356543e+08</td>\n",
       "      <td>MPI_Finalize</td>\n",
       "      <td>0</td>\n",
       "      <td>None</td>\n",
       "    </tr>\n",
       "    <tr>\n",
       "      <th>105</th>\n",
       "      <td>Exit</td>\n",
       "      <td>1.356546e+08</td>\n",
       "      <td>MPI_Finalize</td>\n",
       "      <td>1</td>\n",
       "      <td>None</td>\n",
       "    </tr>\n",
       "    <tr>\n",
       "      <th>106</th>\n",
       "      <td>ProgramEnd</td>\n",
       "      <td>1.356736e+08</td>\n",
       "      <td>N/A</td>\n",
       "      <td>1</td>\n",
       "      <td>{'exit_status': -9223372036854775808}</td>\n",
       "    </tr>\n",
       "    <tr>\n",
       "      <th>107</th>\n",
       "      <td>ProgramEnd</td>\n",
       "      <td>1.356740e+08</td>\n",
       "      <td>N/A</td>\n",
       "      <td>0</td>\n",
       "      <td>{'exit_status': -9223372036854775808}</td>\n",
       "    </tr>\n",
       "  </tbody>\n",
       "</table>\n",
       "<p>108 rows × 5 columns</p>\n",
       "</div>"
      ],
      "text/plain": [
       "       Event Type  Timestamp (ns)          Name Process ID  \\\n",
       "0    ProgramBegin    0.000000e+00           N/A          1   \n",
       "1    ProgramBegin    1.295053e+05           N/A          0   \n",
       "2           Entry    1.618990e+05      MPI_Init          0   \n",
       "3           Entry    2.519928e+05      MPI_Init          1   \n",
       "4            Exit    1.305041e+08      MPI_Init          1   \n",
       "..            ...             ...           ...        ...   \n",
       "103         Entry    1.356308e+08  MPI_Finalize          1   \n",
       "104          Exit    1.356543e+08  MPI_Finalize          0   \n",
       "105          Exit    1.356546e+08  MPI_Finalize          1   \n",
       "106    ProgramEnd    1.356736e+08           N/A          1   \n",
       "107    ProgramEnd    1.356740e+08           N/A          0   \n",
       "\n",
       "                                            Attributes  \n",
       "0    {'attributes': {'Attribute 2': 15968}, 'progra...  \n",
       "1    {'attributes': {'Attribute 2': 15964}, 'progra...  \n",
       "2                              {'region': 'Region 36'}  \n",
       "3                              {'region': 'Region 36'}  \n",
       "4                                                 None  \n",
       "..                                                 ...  \n",
       "103                            {'region': 'Region 17'}  \n",
       "104                                               None  \n",
       "105                                               None  \n",
       "106              {'exit_status': -9223372036854775808}  \n",
       "107              {'exit_status': -9223372036854775808}  \n",
       "\n",
       "[108 rows x 5 columns]"
      ]
     },
     "execution_count": 66,
     "metadata": {},
     "output_type": "execute_result"
    }
   ],
   "source": [
    "# Load sample trace into Pipit\n",
    "dirname = \"C:/Users/Rakrish/Downloads/pingPong.pkl\"\n",
    "trace = pp.Trace(None, pd.read_pickle(dirname, compression=\"zip\"))\n",
    "trace.events.rename(columns={\"Event\": \"Event Type\", \"Location ID\": \"Process ID\"}, inplace=True)\n",
    "trace.events.drop(columns=[\"Location Type\", \"Location Group ID\", \"Location Group Type\"], inplace=True)\n",
    "trace.events.replace(\"Enter\", \"Entry\", inplace=True)\n",
    "trace.events.replace(\"Leave\", \"Exit\", inplace=True)\n",
    "trace.events"
   ]
  },
  {
   "cell_type": "code",
   "execution_count": 102,
   "metadata": {},
   "outputs": [
    {
     "data": {
      "text/html": [
       "<style>\n",
       "        .container { width:90% !important; }\n",
       "        div.bk-tooltip > div.bk > div.bk:not(:last-child) {\n",
       "            display:none !important;\n",
       "        }\n",
       "        div.bk { cursor: default !important; }\n",
       "        .bk.bk-tooltip-row-label {\n",
       "            color: black;\n",
       "            font-weight: bold;\n",
       "        }\n",
       "        .bk.bk-tooltip-row-value {\n",
       "            font-family: monospace;\n",
       "        }\n",
       "        </style>"
      ],
      "text/plain": [
       "<IPython.core.display.HTML object>"
      ]
     },
     "metadata": {},
     "output_type": "display_data"
    },
    {
     "data": {},
     "metadata": {},
     "output_type": "display_data"
    },
    {
     "data": {},
     "metadata": {},
     "output_type": "display_data"
    },
    {
     "data": {
      "application/vnd.holoviews_exec.v0+json": "",
      "text/html": [
       "<div id='41811'>\n",
       "\n",
       "\n",
       "\n",
       "\n",
       "\n",
       "  <div class=\"bk-root\" id=\"24d4cf1a-25b0-49f7-8884-d69f02f700f2\" data-root-id=\"41811\"></div>\n",
       "</div>\n",
       "<script type=\"application/javascript\">(function(root) {\n",
       "  function embed_document(root) {\n",
       "    var docs_json = {\"2056bad7-c5c6-4131-a0ac-23d254eb2e53\":{\"defs\":[{\"extends\":null,\"module\":null,\"name\":\"ReactiveHTML1\",\"overrides\":[],\"properties\":[]},{\"extends\":null,\"module\":null,\"name\":\"FlexBox1\",\"overrides\":[],\"properties\":[{\"default\":\"flex-start\",\"kind\":null,\"name\":\"align_content\"},{\"default\":\"flex-start\",\"kind\":null,\"name\":\"align_items\"},{\"default\":\"row\",\"kind\":null,\"name\":\"flex_direction\"},{\"default\":\"wrap\",\"kind\":null,\"name\":\"flex_wrap\"},{\"default\":\"flex-start\",\"kind\":null,\"name\":\"justify_content\"}]},{\"extends\":null,\"module\":null,\"name\":\"GridStack1\",\"overrides\":[],\"properties\":[{\"default\":\"warn\",\"kind\":null,\"name\":\"mode\"},{\"default\":null,\"kind\":null,\"name\":\"ncols\"},{\"default\":null,\"kind\":null,\"name\":\"nrows\"},{\"default\":true,\"kind\":null,\"name\":\"allow_resize\"},{\"default\":true,\"kind\":null,\"name\":\"allow_drag\"},{\"default\":[],\"kind\":null,\"name\":\"state\"}]},{\"extends\":null,\"module\":null,\"name\":\"click1\",\"overrides\":[],\"properties\":[{\"default\":\"\",\"kind\":null,\"name\":\"terminal_output\"},{\"default\":\"\",\"kind\":null,\"name\":\"debug_name\"},{\"default\":0,\"kind\":null,\"name\":\"clears\"}]},{\"extends\":null,\"module\":null,\"name\":\"TemplateActions1\",\"overrides\":[],\"properties\":[{\"default\":0,\"kind\":null,\"name\":\"open_modal\"},{\"default\":0,\"kind\":null,\"name\":\"close_modal\"}]},{\"extends\":null,\"module\":null,\"name\":\"MaterialTemplateActions1\",\"overrides\":[],\"properties\":[{\"default\":0,\"kind\":null,\"name\":\"open_modal\"},{\"default\":0,\"kind\":null,\"name\":\"close_modal\"}]}],\"roots\":{\"references\":[{\"attributes\":{\"fill_alpha\":{\"value\":0.2},\"fill_color\":\"rgba(60, 60, 60, 0.3)\",\"hatch_alpha\":{\"value\":0.2},\"hatch_color\":\"rgba(60, 60, 60, 0.3)\",\"line_alpha\":{\"value\":0.2},\"line_color\":\"rgba(60, 60, 60, 0.3)\",\"size\":{\"value\":6},\"x\":{\"field\":\"Timestamp (ms)\"},\"y\":{\"field\":\"Process ID\"}},\"id\":\"41889\",\"type\":\"Scatter\"},{\"attributes\":{\"source\":{\"id\":\"41893\"}},\"id\":\"41900\",\"type\":\"CDSView\"},{\"attributes\":{\"fill_color\":\"rgba(60, 60, 60, 0.3)\",\"hatch_color\":\"rgba(60, 60, 60, 0.3)\",\"line_color\":\"rgba(60, 60, 60, 0.3)\",\"size\":{\"value\":6},\"x\":{\"field\":\"Timestamp (ms)\"},\"y\":{\"field\":\"Process ID\"}},\"id\":\"41887\",\"type\":\"Scatter\"},{\"attributes\":{},\"id\":\"41838\",\"type\":\"SaveTool\"},{\"attributes\":{},\"id\":\"41822\",\"type\":\"LinearScale\"},{\"attributes\":{},\"id\":\"41808\",\"type\":\"DatetimeTickFormatter\"},{\"attributes\":{},\"id\":\"41839\",\"type\":\"ResetTool\"},{\"attributes\":{\"source\":{\"id\":\"41865\"}},\"id\":\"41872\",\"type\":\"CDSView\"},{\"attributes\":{\"axis_label\":\"\",\"coordinates\":null,\"formatter\":{\"id\":\"41808\"},\"group\":null,\"major_label_policy\":{\"id\":\"41853\"},\"ticker\":{\"id\":\"41827\"}},\"id\":\"41826\",\"type\":\"LinearAxis\"},{\"attributes\":{\"axis\":{\"id\":\"41826\"},\"coordinates\":null,\"group\":null,\"ticker\":{\"id\":\"41827\"}},\"id\":\"41829\",\"type\":\"Grid\"},{\"attributes\":{},\"id\":\"41911\",\"type\":\"UnionRenderers\"},{\"attributes\":{\"format\":\"Process %d\"},\"id\":\"41809\",\"type\":\"PrintfTickFormatter\"},{\"attributes\":{\"line_alpha\":0.2,\"line_color\":\"#30a2da\",\"line_width\":2,\"x\":{\"field\":\"x\"},\"y\":{\"field\":\"y\"}},\"id\":\"41898\",\"type\":\"Line\"},{\"attributes\":{\"line_color\":\"#30a2da\",\"line_width\":2,\"x\":{\"field\":\"x\"},\"y\":{\"field\":\"y\"}},\"id\":\"41896\",\"type\":\"Line\"},{\"attributes\":{},\"id\":\"41858\",\"type\":\"AllLabels\"},{\"attributes\":{\"axis_label\":\"\",\"coordinates\":null,\"formatter\":{\"id\":\"41809\"},\"group\":null,\"major_label_policy\":{\"id\":\"41858\"},\"ticker\":{\"id\":\"41850\"}},\"id\":\"41830\",\"type\":\"LinearAxis\"},{\"attributes\":{},\"id\":\"41853\",\"type\":\"AllLabels\"},{\"attributes\":{\"click_policy\":\"mute\",\"coordinates\":null,\"group\":null,\"items\":[{\"id\":\"41881\"}],\"label_text_font_size\":\"8pt\",\"location\":[0,0],\"spacing\":0},\"id\":\"41880\",\"type\":\"Legend\"},{\"attributes\":{\"end\":-0.5,\"reset_end\":-0.5,\"reset_start\":2.5,\"start\":2.5,\"tags\":[[[\"y0\",\"y0\",null]]]},\"id\":\"41814\",\"type\":\"Range1d\"},{\"attributes\":{\"data\":{\"Event_Type\":[\"Entry\",\"Entry\",\"Entry\",\"Entry\",\"Entry\",\"Entry\",\"Entry\",\"Entry\",\"Entry\",\"Entry\",\"Entry\",\"Entry\",\"Entry\",\"Entry\",\"Entry\",\"Entry\",\"Entry\",\"Entry\",\"Entry\"],\"Inc_Time\":{\"__ndarray__\":\"4R0mCngTn0HVXw+t9Q2fQQAYzaUE1fJAACA2DonzAUEAsI9auAn4QABwKTSpX/dAAPQ65S4CEUEAKArqyhf9QAAiS/yaxQZBAH6I3chwBkEA6v5IgF4fQQDOs6WoWgtBAD/Q53oNF0EAg/tiEuAWQYDxHt3+lS9BAGTMXCZSG0EA+fWiL68lQQBjaxtkmiVBAMwdcmkIBUE=\",\"dtype\":\"float64\",\"order\":\"little\",\"shape\":[19]},\"Matching_Timestamp\":{\"__ndarray__\":\"3OvmPCNQYEA6Z5PZIVBgQM737KN0W2BAzr2kZ5dkYEA1G1IcqWdgQCuRmlCqZ2BAYcyHVNt1YEAz4cnmwnVgQLui5fm+e2BAottFk8B7YECzS3Wt4JZgQCQF1b3IlmBAo+jZFeKiYEB79vyq4qJgQHq+pOd52GBAUn1oYF/YYEB0wVmEH+9gQKYvgnEk72BAgCkt2O/0YEA=\",\"dtype\":\"float64\",\"order\":\"little\",\"shape\":[19]},\"Name\":[\"MPI_Init\",\"MPI_Init\",\"MPI_Send\",\"MPI_Send\",\"MPI_Send\",\"MPI_Recv\",\"MPI_Send\",\"MPI_Recv\",\"MPI_Send\",\"MPI_Recv\",\"MPI_Send\",\"MPI_Recv\",\"MPI_Send\",\"MPI_Recv\",\"MPI_Send\",\"MPI_Recv\",\"MPI_Send\",\"MPI_Recv\",\"MPI_Finalize\"],\"Process_ID\":[0,1,0,0,1,0,0,1,1,0,0,1,1,0,0,1,1,0,0],\"Timestamp_left_parenthesis_ms_right_parenthesis\":{\"__ndarray__\":\"mub28Rq5xD94AH1spiDQP7BZZr38WGBAfjN8tuJfYEAZrbyHgmRgQP5dQgaaZGBA9L70e/BsYEBATVa08nFgQIZCs8fGdWBALWtNnd51YECJD9hhboZgQEVEWwmdj2BACLOZAsyWYEDwQ1Vm5JZgQJrdvB9bt2BAwGqBbQzKYEAIDS+tYthgQP+Jd2h92GBAOyFpWmzvYEA=\",\"dtype\":\"float64\",\"order\":\"little\",\"shape\":[19]},\"Timestamp_left_parenthesis_ns_right_parenthesis\":{\"__ndarray__\":\"g1pptlfDA0ENzJxtxsIOQcFfINA6Lp9BFxWgI2M7n0EJ13UXNUSfQdZFQOdhRJ9B1mjtD0lUn0GHOwe01l2fQTrhlQwkZZ9BFNJ3glFln0FhYo856ISfQc+bAL5rlp9BgbhVTh+kn0F9UU/TTaSfQYvzIEY54p9B8r8eQvACoEEJM/F6nBCgQVagNPm1EKBBdepo8ZQmoEE=\",\"dtype\":\"float64\",\"order\":\"little\",\"shape\":[19]},\"fill_color\":[\"MPI_Init\",\"MPI_Init\",\"MPI_Send\",\"MPI_Send\",\"MPI_Send\",\"MPI_Recv\",\"MPI_Send\",\"MPI_Recv\",\"MPI_Send\",\"MPI_Recv\",\"MPI_Send\",\"MPI_Recv\",\"MPI_Send\",\"MPI_Recv\",\"MPI_Send\",\"MPI_Recv\",\"MPI_Send\",\"MPI_Recv\",\"MPI_Finalize\"],\"height\":{\"__ndarray__\":\"AAAAAAAA8D8AAAAAAADwPwAAAAAAAPA/AAAAAAAA8D8AAAAAAADwPwAAAAAAAPA/AAAAAAAA8D8AAAAAAADwPwAAAAAAAPA/AAAAAAAA8D8AAAAAAADwPwAAAAAAAPA/AAAAAAAA8D8AAAAAAADwPwAAAAAAAPA/AAAAAAAA8D8AAAAAAADwPwAAAAAAAPA/AAAAAAAA8D8=\",\"dtype\":\"float64\",\"order\":\"little\",\"shape\":[19]},\"humanized_inc_time\":[\"130ms\",\"130ms\",\"77\\u03bcs\",\"147\\u03bcs\",\"98\\u03bcs\",\"96\\u03bcs\",\"279\\u03bcs\",\"119\\u03bcs\",\"187\\u03bcs\",\"184\\u03bcs\",\"514\\u03bcs\",\"224\\u03bcs\",\"378\\u03bcs\",\"375\\u03bcs\",\"1ms\",\"448\\u03bcs\",\"711\\u03bcs\",\"708\\u03bcs\",\"172\\u03bcs\"],\"width\":{\"__ndarray__\":\"Im4q9vRKYEC6KF2GEUhgQADw8DQ0v7M/AEAposTSwj8A4HCrpDS5PwBomcFSgrg/ANoaJrHV0T8AmJ+ck4G+PwDUgMnI4Mc/ANTB4deHxz8AKjydS3LgPwB8A+fRrsw/ADZrgCYs2D8AFmVPifzXPwBw8PNjj/A/ACQlzuWl3D8AbLQq17zmPwCnpQoJp+Y/ABQhEPcNxj8=\",\"dtype\":\"float64\",\"order\":\"little\",\"shape\":[19]},\"x\":{\"__ndarray__\":\"lWmjg1FVUEC6pcksMlhQQL+oqbA4WmBApngQDz1iYEAnZAfSFWZgQJR3bisiZmBAqkU+6GVxYEA6F5DN2nNgQKByzODCeGBAaKNJmM94YECeraaHp45gQLQkmOMyk2BA1s05DNecYEA2HamI45xgQArOsIPqx2BACfT05jXRYEA+Z8QYweNgQNLc/OzQ42BAXiVLGS7yYEA=\",\"dtype\":\"float64\",\"order\":\"little\",\"shape\":[19]},\"y\":{\"__ndarray__\":\"AAAAAAAAAAAAAAAAAADwPwAAAAAAAAAAAAAAAAAAAAAAAAAAAADwPwAAAAAAAAAAAAAAAAAAAAAAAAAAAADwPwAAAAAAAPA/AAAAAAAAAAAAAAAAAAAAAAAAAAAAAPA/AAAAAAAA8D8AAAAAAAAAAAAAAAAAAAAAAAAAAAAA8D8AAAAAAADwPwAAAAAAAAAAAAAAAAAAAAA=\",\"dtype\":\"float64\",\"order\":\"little\",\"shape\":[19]},\"y0\":{\"__ndarray__\":\"AAAAAAAA4L8AAAAAAADgPwAAAAAAAOC/AAAAAAAA4L8AAAAAAADgPwAAAAAAAOC/AAAAAAAA4L8AAAAAAADgPwAAAAAAAOA/AAAAAAAA4L8AAAAAAADgvwAAAAAAAOA/AAAAAAAA4D8AAAAAAADgvwAAAAAAAOC/AAAAAAAA4D8AAAAAAADgPwAAAAAAAOC/AAAAAAAA4L8=\",\"dtype\":\"float64\",\"order\":\"little\",\"shape\":[19]},\"y1\":{\"__ndarray__\":\"AAAAAAAA4D8AAAAAAAD4PwAAAAAAAOA/AAAAAAAA4D8AAAAAAAD4PwAAAAAAAOA/AAAAAAAA4D8AAAAAAAD4PwAAAAAAAPg/AAAAAAAA4D8AAAAAAADgPwAAAAAAAPg/AAAAAAAA+D8AAAAAAADgPwAAAAAAAOA/AAAAAAAA+D8AAAAAAAD4PwAAAAAAAOA/AAAAAAAA4D8=\",\"dtype\":\"float64\",\"order\":\"little\",\"shape\":[19]}},\"selected\":{\"id\":\"41866\"},\"selection_policy\":{\"id\":\"41877\"}},\"id\":\"41865\",\"type\":\"ColumnDataSource\"},{\"attributes\":{\"callback\":null,\"point_policy\":\"follow_mouse\",\"renderers\":[{\"id\":\"41871\"}],\"tooltips\":[[\"Name\",\"@Name\"],[\"Inc Time\",\"@humanized_inc_time\"]]},\"id\":\"41815\",\"type\":\"HoverTool\"},{\"attributes\":{\"angle\":{\"value\":0.0},\"fill_alpha\":{\"value\":1.0},\"fill_color\":{\"field\":\"fill_color\",\"transform\":{\"id\":\"41864\"}},\"hatch_alpha\":{\"value\":1.0},\"hatch_color\":{\"value\":\"black\"},\"hatch_scale\":{\"value\":12.0},\"hatch_weight\":{\"value\":1.0},\"height\":{\"field\":\"height\"},\"line_alpha\":{\"value\":1.0},\"line_cap\":{\"value\":\"butt\"},\"line_color\":{\"value\":\"white\"},\"line_dash\":{\"value\":[]},\"line_dash_offset\":{\"value\":0},\"line_join\":{\"value\":\"bevel\"},\"line_width\":{\"value\":0.2},\"width\":{\"field\":\"width\"},\"x\":{\"field\":\"x\"},\"y\":{\"field\":\"y\"}},\"id\":\"41882\",\"type\":\"Rect\"},{\"attributes\":{\"coordinates\":null,\"data_source\":{\"id\":\"41893\"},\"glyph\":{\"id\":\"41896\"},\"group\":null,\"hover_glyph\":null,\"muted_glyph\":{\"id\":\"41898\"},\"nonselection_glyph\":{\"id\":\"41897\"},\"selection_glyph\":{\"id\":\"41901\"},\"view\":{\"id\":\"41900\"}},\"id\":\"41899\",\"type\":\"GlyphRenderer\"},{\"attributes\":{},\"id\":\"41877\",\"type\":\"UnionRenderers\"},{\"attributes\":{\"factors\":[\"MPI_Init\",\"MPI_Recv\",\"MPI_Send\",\"MPI_Finalize\"],\"palette\":[\"rgb(139,191,150)\",\"rgb(157,210,150)\",\"rgb(148,94,86)\",\"rgb(116,143,119)\"]},\"id\":\"41864\",\"type\":\"CategoricalColorMapper\"},{\"attributes\":{\"active_scroll\":{\"id\":\"41835\"},\"tools\":[{\"id\":\"41815\"},{\"id\":\"41816\"},{\"id\":\"41834\"},{\"id\":\"41835\"},{\"id\":\"41836\"},{\"id\":\"41837\"},{\"id\":\"41838\"},{\"id\":\"41839\"}]},\"id\":\"41841\",\"type\":\"Toolbar\"},{\"attributes\":{},\"id\":\"41913\",\"type\":\"UnionRenderers\"},{\"attributes\":{},\"id\":\"41824\",\"type\":\"LinearScale\"},{\"attributes\":{\"fill_alpha\":{\"value\":0.1},\"fill_color\":{\"field\":\"fill_color\",\"transform\":{\"id\":\"41864\"}},\"hatch_alpha\":{\"value\":0.1},\"height\":{\"field\":\"height\"},\"line_alpha\":{\"value\":0.1},\"line_color\":{\"value\":\"white\"},\"line_width\":{\"value\":0.2},\"width\":{\"field\":\"width\"},\"x\":{\"field\":\"x\"},\"y\":{\"field\":\"y\"}},\"id\":\"41869\",\"type\":\"Rect\"},{\"attributes\":{\"children\":[{\"id\":\"41817\"}],\"margin\":[0,0,0,0],\"name\":\"Row268080\"},\"id\":\"41811\",\"type\":\"Row\"},{\"attributes\":{},\"id\":\"41894\",\"type\":\"Selection\"},{\"attributes\":{\"label\":{\"field\":\"fill_color\"},\"renderers\":[{\"id\":\"41871\"}]},\"id\":\"41881\",\"type\":\"LegendItem\"},{\"attributes\":{\"coordinates\":null,\"data_source\":{\"id\":\"41884\"},\"glyph\":{\"id\":\"41887\"},\"group\":null,\"hover_glyph\":null,\"muted_glyph\":{\"id\":\"41889\"},\"nonselection_glyph\":{\"id\":\"41888\"},\"selection_glyph\":{\"id\":\"41892\"},\"view\":{\"id\":\"41891\"}},\"id\":\"41890\",\"type\":\"GlyphRenderer\"},{\"attributes\":{\"angle\":{\"value\":0.0},\"fill_alpha\":{\"value\":1.0},\"fill_color\":\"rgba(60, 60, 60, 0.3)\",\"hatch_alpha\":{\"value\":1.0},\"hatch_color\":\"rgba(60, 60, 60, 0.3)\",\"hatch_scale\":{\"value\":12.0},\"hatch_weight\":{\"value\":1.0},\"line_alpha\":{\"value\":1.0},\"line_cap\":{\"value\":\"butt\"},\"line_color\":\"rgba(60, 60, 60, 0.3)\",\"line_dash\":{\"value\":[]},\"line_dash_offset\":{\"value\":0},\"line_join\":{\"value\":\"bevel\"},\"line_width\":{\"value\":1},\"marker\":{\"value\":\"circle\"},\"size\":{\"value\":6},\"x\":{\"field\":\"Timestamp (ms)\"},\"y\":{\"field\":\"Process ID\"}},\"id\":\"41892\",\"type\":\"Scatter\"},{\"attributes\":{\"fill_alpha\":{\"value\":0.2},\"fill_color\":{\"field\":\"fill_color\",\"transform\":{\"id\":\"41864\"}},\"hatch_alpha\":{\"value\":0.2},\"height\":{\"field\":\"height\"},\"line_alpha\":{\"value\":0.2},\"line_color\":{\"value\":\"white\"},\"line_width\":{\"value\":0.2},\"width\":{\"field\":\"width\"},\"x\":{\"field\":\"x\"},\"y\":{\"field\":\"y\"}},\"id\":\"41870\",\"type\":\"Rect\"},{\"attributes\":{\"line_alpha\":0.1,\"line_color\":\"#30a2da\",\"line_width\":2,\"x\":{\"field\":\"x\"},\"y\":{\"field\":\"y\"}},\"id\":\"41897\",\"type\":\"Line\"},{\"attributes\":{\"callback\":null},\"id\":\"41837\",\"type\":\"TapTool\"},{\"attributes\":{\"end\":135.67401513121658,\"js_property_callbacks\":{\"change:end\":[{\"id\":\"41883\"},{\"id\":\"41902\"}],\"change:start\":[{\"id\":\"41883\"},{\"id\":\"41902\"}]},\"reset_end\":135.67401513121658,\"reset_start\":0.0,\"tags\":[[[\"Timestamp (ms)\",\"Timestamp (ms)\",null]]]},\"id\":\"41813\",\"type\":\"Range1d\"},{\"attributes\":{\"args\":{\"x_range\":{\"id\":\"41813\"}},\"code\":\"var data = {};\\nif ((x_range != undefined)) { data[\\\"x0\\\"] = {id: x_range[\\\"id\\\"], value: x_range[\\\"attributes\\\"][\\\"start\\\"]};\\n }if ((x_range != undefined)) { data[\\\"x1\\\"] = {id: x_range[\\\"id\\\"], value: x_range[\\\"attributes\\\"][\\\"end\\\"]};\\n }\\nfunction unique_events(events) {\\n  // Processes the event queue ignoring duplicate events\\n  // of the same type\\n  var unique = [];\\n  var unique_events = [];\\n  for (var i=0; i<events.length; i++) {\\n    var _tmpevent = events[i];\\n    event = _tmpevent[0];\\n    data = _tmpevent[1];\\n    if (unique_events.indexOf(event)===-1) {\\n      unique.unshift(data);\\n      unique_events.push(event);\\n      }\\n  }\\n  return unique;\\n}\\n\\nfunction process_events(comm_status) {\\n  // Iterates over event queue and sends events via Comm\\n  var events = unique_events(comm_status.event_buffer);\\n  for (var i=0; i<events.length; i++) {\\n    var data = events[i];\\n    var comm = window.PyViz.comms[data[\\\"comm_id\\\"]];\\n    comm.send(data);\\n  }\\n  comm_status.event_buffer = [];\\n}\\n\\nfunction on_msg(msg) {\\n  // Receives acknowledgement from Python, processing event\\n  // and unblocking Comm if event queue empty\\n  var metadata = msg.metadata;\\n  var comm_id = metadata.comm_id\\n  var comm_status = window.PyViz.comm_status[comm_id];\\n  if (comm_status.event_buffer.length) {\\n    process_events(comm_status);\\n    comm_status.blocked = true;\\n    comm_status.time = Date.now()+20;\\n  } else {\\n    comm_status.blocked = false;\\n  }\\n  comm_status.event_buffer = [];\\n  if ((metadata.msg_type == \\\"Ready\\\") && metadata.content) {\\n    console.log(\\\"Python callback returned following output:\\\", metadata.content);\\n  } else if (metadata.msg_type == \\\"Error\\\") {\\n    console.log(\\\"Python failed with the following traceback:\\\", metadata.traceback)\\n  }\\n}\\n\\n// Initialize Comm\\nif ((window.PyViz == undefined) || (window.PyViz.comm_manager == undefined)) { return }\\nvar comm = window.PyViz.comm_manager.get_client_comm(\\\"41811\\\", \\\"890c6a270e9542b7bbf968baf6659e5b\\\", on_msg);\\nif (!comm) {\\n  return\\n}\\n\\n// Initialize event queue and timeouts for Comm\\nvar comm_status = window.PyViz.comm_status[\\\"890c6a270e9542b7bbf968baf6659e5b\\\"];\\nif (comm_status === undefined) {\\n  comm_status = {event_buffer: [], blocked: false, time: Date.now()}\\n  window.PyViz.comm_status[\\\"890c6a270e9542b7bbf968baf6659e5b\\\"] = comm_status\\n}\\n\\n// Add current event to queue and process queue if not blocked\\nvar event_name = cb_obj.event_name;\\nif (event_name === undefined) {\\n  // we are a widget not an event... fake a key.\\n  event_name = Object.keys(data).join(',');\\n}\\ndata['comm_id'] = \\\"890c6a270e9542b7bbf968baf6659e5b\\\";\\nvar timeout = comm_status.time + 20000;\\nif ((comm_status.blocked && (Date.now() < timeout))) {\\n  comm_status.event_buffer.unshift([event_name, data]);\\n} else {\\n  comm_status.event_buffer.unshift([event_name, data]);\\n  setTimeout(function() { process_events(comm_status); }, 20);\\n  comm_status.blocked = true;\\n  comm_status.time = Date.now()+20;\\n}\\n\"},\"id\":\"41902\",\"type\":\"CustomJS\"},{\"attributes\":{},\"id\":\"41827\",\"type\":\"BasicTicker\"},{\"attributes\":{\"coordinates\":null,\"data_source\":{\"id\":\"41865\"},\"glyph\":{\"id\":\"41868\"},\"group\":null,\"hover_glyph\":null,\"muted_glyph\":{\"id\":\"41870\"},\"nonselection_glyph\":{\"id\":\"41869\"},\"selection_glyph\":{\"id\":\"41882\"},\"view\":{\"id\":\"41872\"}},\"id\":\"41871\",\"type\":\"GlyphRenderer\"},{\"attributes\":{\"client_comm_id\":\"405b6d184a444b9fa49ceb92af8ee109\",\"comm_id\":\"edfa6445479742dfbc5beb4b8066e3e4\",\"plot_id\":\"41811\"},\"id\":\"42044\",\"type\":\"panel.models.comm_manager.CommManager\"},{\"attributes\":{\"axis\":{\"id\":\"41830\"},\"coordinates\":null,\"dimension\":1,\"group\":null,\"ticker\":{\"id\":\"41850\"},\"visible\":false},\"id\":\"41833\",\"type\":\"Grid\"},{\"attributes\":{\"source\":{\"id\":\"41884\"}},\"id\":\"41891\",\"type\":\"CDSView\"},{\"attributes\":{\"callback\":null,\"renderers\":[{\"id\":\"41890\"}],\"tooltips\":[[\"Event Type\",\"@{Event_Type}\"],[\"Timestamp\",\"@humanized_timestamp\"]]},\"id\":\"41816\",\"type\":\"HoverTool\"},{\"attributes\":{\"minor_ticks\":[],\"ticks\":[1,0]},\"id\":\"41850\",\"type\":\"FixedTicker\"},{\"attributes\":{\"dimensions\":\"width\",\"overlay\":{\"id\":\"41840\"}},\"id\":\"41836\",\"type\":\"BoxZoomTool\"},{\"attributes\":{},\"id\":\"41866\",\"type\":\"Selection\"},{\"attributes\":{\"bottom_units\":\"screen\",\"coordinates\":null,\"fill_alpha\":0.5,\"fill_color\":\"lightgrey\",\"group\":null,\"left_units\":\"screen\",\"level\":\"overlay\",\"line_alpha\":1.0,\"line_color\":\"black\",\"line_dash\":[4,4],\"line_width\":2,\"right_units\":\"screen\",\"syncable\":false,\"top_units\":\"screen\"},\"id\":\"41840\",\"type\":\"BoxAnnotation\"},{\"attributes\":{\"args\":{\"x_range\":{\"id\":\"41813\"}},\"code\":\"var data = {};\\nif ((x_range != undefined)) { data[\\\"x0\\\"] = {id: x_range[\\\"id\\\"], value: x_range[\\\"attributes\\\"][\\\"start\\\"]};\\n }if ((x_range != undefined)) { data[\\\"x1\\\"] = {id: x_range[\\\"id\\\"], value: x_range[\\\"attributes\\\"][\\\"end\\\"]};\\n }\\nfunction unique_events(events) {\\n  // Processes the event queue ignoring duplicate events\\n  // of the same type\\n  var unique = [];\\n  var unique_events = [];\\n  for (var i=0; i<events.length; i++) {\\n    var _tmpevent = events[i];\\n    event = _tmpevent[0];\\n    data = _tmpevent[1];\\n    if (unique_events.indexOf(event)===-1) {\\n      unique.unshift(data);\\n      unique_events.push(event);\\n      }\\n  }\\n  return unique;\\n}\\n\\nfunction process_events(comm_status) {\\n  // Iterates over event queue and sends events via Comm\\n  var events = unique_events(comm_status.event_buffer);\\n  for (var i=0; i<events.length; i++) {\\n    var data = events[i];\\n    var comm = window.PyViz.comms[data[\\\"comm_id\\\"]];\\n    comm.send(data);\\n  }\\n  comm_status.event_buffer = [];\\n}\\n\\nfunction on_msg(msg) {\\n  // Receives acknowledgement from Python, processing event\\n  // and unblocking Comm if event queue empty\\n  var metadata = msg.metadata;\\n  var comm_id = metadata.comm_id\\n  var comm_status = window.PyViz.comm_status[comm_id];\\n  if (comm_status.event_buffer.length) {\\n    process_events(comm_status);\\n    comm_status.blocked = true;\\n    comm_status.time = Date.now()+20;\\n  } else {\\n    comm_status.blocked = false;\\n  }\\n  comm_status.event_buffer = [];\\n  if ((metadata.msg_type == \\\"Ready\\\") && metadata.content) {\\n    console.log(\\\"Python callback returned following output:\\\", metadata.content);\\n  } else if (metadata.msg_type == \\\"Error\\\") {\\n    console.log(\\\"Python failed with the following traceback:\\\", metadata.traceback)\\n  }\\n}\\n\\n// Initialize Comm\\nif ((window.PyViz == undefined) || (window.PyViz.comm_manager == undefined)) { return }\\nvar comm = window.PyViz.comm_manager.get_client_comm(\\\"41811\\\", \\\"9b1d06df3719401891fbecd5b2baf7f9\\\", on_msg);\\nif (!comm) {\\n  return\\n}\\n\\n// Initialize event queue and timeouts for Comm\\nvar comm_status = window.PyViz.comm_status[\\\"9b1d06df3719401891fbecd5b2baf7f9\\\"];\\nif (comm_status === undefined) {\\n  comm_status = {event_buffer: [], blocked: false, time: Date.now()}\\n  window.PyViz.comm_status[\\\"9b1d06df3719401891fbecd5b2baf7f9\\\"] = comm_status\\n}\\n\\n// Add current event to queue and process queue if not blocked\\nvar event_name = cb_obj.event_name;\\nif (event_name === undefined) {\\n  // we are a widget not an event... fake a key.\\n  event_name = Object.keys(data).join(',');\\n}\\ndata['comm_id'] = \\\"9b1d06df3719401891fbecd5b2baf7f9\\\";\\nvar timeout = comm_status.time + 20000;\\nif ((comm_status.blocked && (Date.now() < timeout))) {\\n  comm_status.event_buffer.unshift([event_name, data]);\\n} else {\\n  comm_status.event_buffer.unshift([event_name, data]);\\n  setTimeout(function() { process_events(comm_status); }, 20);\\n  comm_status.blocked = true;\\n  comm_status.time = Date.now()+20;\\n}\\n\"},\"id\":\"41883\",\"type\":\"CustomJS\"},{\"attributes\":{\"line_color\":\"#30a2da\",\"line_width\":2,\"x\":{\"field\":\"x\"},\"y\":{\"field\":\"y\"}},\"id\":\"41901\",\"type\":\"Line\"},{\"attributes\":{\"fill_alpha\":{\"value\":0.1},\"fill_color\":\"rgba(60, 60, 60, 0.3)\",\"hatch_alpha\":{\"value\":0.1},\"hatch_color\":\"rgba(60, 60, 60, 0.3)\",\"line_alpha\":{\"value\":0.1},\"line_color\":\"rgba(60, 60, 60, 0.3)\",\"size\":{\"value\":6},\"x\":{\"field\":\"Timestamp (ms)\"},\"y\":{\"field\":\"Process ID\"}},\"id\":\"41888\",\"type\":\"Scatter\"},{\"attributes\":{\"dimensions\":\"width\"},\"id\":\"41835\",\"type\":\"WheelZoomTool\"},{\"attributes\":{},\"id\":\"41885\",\"type\":\"Selection\"},{\"attributes\":{\"dimensions\":\"width\"},\"id\":\"41834\",\"type\":\"PanTool\"},{\"attributes\":{\"coordinates\":null,\"group\":null,\"text\":\"Overview timeline\",\"text_color\":\"black\",\"text_font_size\":\"10pt\"},\"id\":\"41818\",\"type\":\"Title\"},{\"attributes\":{\"data\":{\"x\":{\"__ndarray__\":\"\",\"dtype\":\"float64\",\"order\":\"little\",\"shape\":[0]},\"y\":{\"__ndarray__\":\"\",\"dtype\":\"float64\",\"order\":\"little\",\"shape\":[0]}},\"selected\":{\"id\":\"41894\"},\"selection_policy\":{\"id\":\"41913\"}},\"id\":\"41893\",\"type\":\"ColumnDataSource\"},{\"attributes\":{\"above\":[{\"id\":\"41826\"}],\"below\":[],\"center\":[{\"id\":\"41829\"},{\"id\":\"41833\"}],\"height\":160,\"left\":[{\"id\":\"41830\"}],\"margin\":[5,5,5,5],\"min_border_bottom\":10,\"min_border_left\":10,\"min_border_right\":10,\"min_border_top\":10,\"renderers\":[{\"id\":\"41871\"},{\"id\":\"41890\"},{\"id\":\"41899\"}],\"right\":[{\"id\":\"41880\"}],\"sizing_mode\":\"stretch_width\",\"title\":{\"id\":\"41818\"},\"toolbar\":{\"id\":\"41841\"},\"toolbar_location\":\"above\",\"width\":null,\"x_range\":{\"id\":\"41813\"},\"x_scale\":{\"id\":\"41822\"},\"y_range\":{\"id\":\"41814\"},\"y_scale\":{\"id\":\"41824\"}},\"id\":\"41817\",\"subtype\":\"Figure\",\"type\":\"Plot\"},{\"attributes\":{\"data\":{\"Event_Type\":[\"ProgramBegin\",\"ProgramBegin\",\"MpiSend\",\"MpiRecv\",\"MpiSend\",\"MpiRecv\",\"MpiSend\",\"MpiRecv\",\"MpiSend\",\"MpiRecv\",\"MpiSend\",\"MpiRecv\",\"MpiSend\",\"MpiRecv\",\"MpiSend\",\"MpiRecv\",\"MpiSend\",\"MpiRecv\",\"MpiSend\",\"MpiRecv\",\"MpiSend\",\"MpiRecv\",\"MpiSend\",\"MpiRecv\",\"MpiSend\",\"MpiRecv\",\"MpiSend\",\"MpiRecv\",\"MpiSend\",\"MpiRecv\",\"MpiSend\",\"MpiRecv\",\"MpiSend\",\"MpiRecv\",\"ProgramEnd\",\"ProgramEnd\"],\"Inc_Time\":{\"__ndarray__\":\"AAAAAAAA+H8AAAAAAAD4fwAAAAAAAPh/AAAAAAAA+H8AAAAAAAD4fwAAAAAAAPh/AAAAAAAA+H8AAAAAAAD4fwAAAAAAAPh/AAAAAAAA+H8AAAAAAAD4fwAAAAAAAPh/AAAAAAAA+H8AAAAAAAD4fwAAAAAAAPh/AAAAAAAA+H8AAAAAAAD4fwAAAAAAAPh/AAAAAAAA+H8AAAAAAAD4fwAAAAAAAPh/AAAAAAAA+H8AAAAAAAD4fwAAAAAAAPh/AAAAAAAA+H8AAAAAAAD4fwAAAAAAAPh/AAAAAAAA+H8AAAAAAAD4fwAAAAAAAPh/AAAAAAAA+H8AAAAAAAD4fwAAAAAAAPh/AAAAAAAA+H8AAAAAAAD4fwAAAAAAAPh/\",\"dtype\":\"float64\",\"order\":\"little\",\"shape\":[36]},\"Matching_Timestamp\":{\"__ndarray__\":\"AAAAAAAA+H8AAAAAAAD4fwAAAAAAAPh/AAAAAAAA+H8AAAAAAAD4fwAAAAAAAPh/AAAAAAAA+H8AAAAAAAD4fwAAAAAAAPh/AAAAAAAA+H8AAAAAAAD4fwAAAAAAAPh/AAAAAAAA+H8AAAAAAAD4fwAAAAAAAPh/AAAAAAAA+H8AAAAAAAD4fwAAAAAAAPh/AAAAAAAA+H8AAAAAAAD4fwAAAAAAAPh/AAAAAAAA+H8AAAAAAAD4fwAAAAAAAPh/AAAAAAAA+H8AAAAAAAD4fwAAAAAAAPh/AAAAAAAA+H8AAAAAAAD4fwAAAAAAAPh/AAAAAAAA+H8AAAAAAAD4fwAAAAAAAPh/AAAAAAAA+H8AAAAAAAD4fwAAAAAAAPh/\",\"dtype\":\"float64\",\"order\":\"little\",\"shape\":[36]},\"Name\":[\"N/A\",\"N/A\",\"N/A\",\"N/A\",\"N/A\",\"N/A\",\"N/A\",\"N/A\",\"N/A\",\"N/A\",\"N/A\",\"N/A\",\"N/A\",\"N/A\",\"N/A\",\"N/A\",\"N/A\",\"N/A\",\"N/A\",\"N/A\",\"N/A\",\"N/A\",\"N/A\",\"N/A\",\"N/A\",\"N/A\",\"N/A\",\"N/A\",\"N/A\",\"N/A\",\"N/A\",\"N/A\",\"N/A\",\"N/A\",\"N/A\",\"N/A\"],\"Process ID\":[1,0,0,1,1,0,0,1,1,0,0,1,1,0,0,1,1,0,0,1,1,0,0,1,1,0,0,1,1,0,0,1,1,0,1,0],\"Process_ID\":[1,0,0,1,1,0,0,1,1,0,0,1,1,0,0,1,1,0,0,1,1,0,0,1,1,0,0,1,1,0,0,1,1,0,1,0],\"Timestamp (ms)\":{\"__ndarray__\":\"AAAAAAAAAACyxRRzoZPAP8V/zJxMUWBAIgIHv+ZRYEAL5mCMH1JgQEE5Cr6dUmBAsnU3SrdTYEAqM0UwWVRgQPMHv3dfVGBAd+iLx/dUYEAEz3QVqlVgQMNuph93VmBA5b5/PoNWYEAv20w2rFdgQNo0KPb/WGBAD66oO15bYEAJ9roLZ1tgQN/kgpQgXWBApztDBeZfYEBWwXTTeGRgQPJOKlqEZGBASVzGyaZnYED5tBRF9WxgQJnQQ2u8dWBAGl0Zesh1YEDq/5OevXtgQEir9SBzhmBAu4s9+MGWYEBt3AbTzZZgQJKVB5feomBASPAGnGC3YEAUMO4WWdhgQCUJn4lk2GBAa92XjCDvYECYlFTqjfVgQLMyLoiR9WBA\",\"dtype\":\"float64\",\"order\":\"little\",\"shape\":[36]},\"Timestamp_left_parenthesis_ms_right_parenthesis\":{\"__ndarray__\":\"AAAAAAAAAACyxRRzoZPAP8V/zJxMUWBAIgIHv+ZRYEAL5mCMH1JgQEE5Cr6dUmBAsnU3SrdTYEAqM0UwWVRgQPMHv3dfVGBAd+iLx/dUYEAEz3QVqlVgQMNuph93VmBA5b5/PoNWYEAv20w2rFdgQNo0KPb/WGBAD66oO15bYEAJ9roLZ1tgQN/kgpQgXWBApztDBeZfYEBWwXTTeGRgQPJOKlqEZGBASVzGyaZnYED5tBRF9WxgQJnQQ2u8dWBAGl0Zesh1YEDq/5OevXtgQEir9SBzhmBAu4s9+MGWYEBt3AbTzZZgQJKVB5feomBASPAGnGC3YEAUMO4WWdhgQCUJn4lk2GBAa92XjCDvYECYlFTqjfVgQLMyLoiR9WBA\",\"dtype\":\"float64\",\"order\":\"little\",\"shape\":[36]},\"Timestamp_left_parenthesis_ns_right_parenthesis\":{\"__ndarray__\":\"AAAAAAAAAACy9sdIFZ7/QBTtceiQH59BChYL5bYgn0HFMXg8IyGfQQTwoO4TIp9B9ZcG8Swkn0H+fBm9YSWfQeLUHbdtJZ9BfdISOpAmn0F6s7xQ5CefQfIp1mVrKZ9B0xcNhIIpn0Fwx/HvuCufQQ/gOfVALp9BPlM6VMUyn0GWsVcj1jKfQRpJQ0wgNp9BoKS5cmk7n0FiCRKVIkSfQWQCGpE4RJ9Btd+KFzNKn0HO5qowUlSfQbdwd0kQZZ9BnLAiSSdln0F2uZ5DhHCfQZqTNUfxhJ9BrCPDJwykn0EdbijEIqSfQUHvgB4mu59B/BuZvEPin0FSP2JWkxCgQRXvTkGeEKBBZYSUpkwmoEGGkU3LbSygQdIuQz5xLKBB\",\"dtype\":\"float64\",\"order\":\"little\",\"shape\":[36]},\"event_type\":[\"ProgramBegin\",\"ProgramBegin\",\"MpiSend\",\"MpiRecv\",\"MpiSend\",\"MpiRecv\",\"MpiSend\",\"MpiRecv\",\"MpiSend\",\"MpiRecv\",\"MpiSend\",\"MpiRecv\",\"MpiSend\",\"MpiRecv\",\"MpiSend\",\"MpiRecv\",\"MpiSend\",\"MpiRecv\",\"MpiSend\",\"MpiRecv\",\"MpiSend\",\"MpiRecv\",\"MpiSend\",\"MpiRecv\",\"MpiSend\",\"MpiRecv\",\"MpiSend\",\"MpiRecv\",\"MpiSend\",\"MpiRecv\",\"MpiSend\",\"MpiRecv\",\"MpiSend\",\"MpiRecv\",\"ProgramEnd\",\"ProgramEnd\"],\"humanized_timestamp\":[\"0ns\",\"130\\u03bcs\",\"131ms\",\"131ms\",\"131ms\",\"131ms\",\"131ms\",\"131ms\",\"131ms\",\"131ms\",\"131ms\",\"131ms\",\"131ms\",\"131ms\",\"131ms\",\"131ms\",\"131ms\",\"131ms\",\"131ms\",\"131ms\",\"131ms\",\"131ms\",\"131ms\",\"132ms\",\"132ms\",\"132ms\",\"132ms\",\"133ms\",\"133ms\",\"133ms\",\"134ms\",\"135ms\",\"135ms\",\"135ms\",\"136ms\",\"136ms\"]},\"selected\":{\"id\":\"41885\"},\"selection_policy\":{\"id\":\"41911\"}},\"id\":\"41884\",\"type\":\"ColumnDataSource\"},{\"attributes\":{\"fill_color\":{\"field\":\"fill_color\",\"transform\":{\"id\":\"41864\"}},\"height\":{\"field\":\"height\"},\"line_color\":{\"value\":\"white\"},\"line_width\":{\"value\":0.2},\"width\":{\"field\":\"width\"},\"x\":{\"field\":\"x\"},\"y\":{\"field\":\"y\"}},\"id\":\"41868\",\"type\":\"Rect\"}],\"root_ids\":[\"41811\",\"42044\"]},\"title\":\"Bokeh Application\",\"version\":\"2.4.2\"}};\n",
       "    var render_items = [{\"docid\":\"2056bad7-c5c6-4131-a0ac-23d254eb2e53\",\"root_ids\":[\"41811\"],\"roots\":{\"41811\":\"24d4cf1a-25b0-49f7-8884-d69f02f700f2\"}}];\n",
       "    root.Bokeh.embed.embed_items_notebook(docs_json, render_items);\n",
       "  }\n",
       "  if (root.Bokeh !== undefined && root.Bokeh.Panel !== undefined) {\n",
       "    embed_document(root);\n",
       "  } else {\n",
       "    var attempts = 0;\n",
       "    var timer = setInterval(function(root) {\n",
       "      if (root.Bokeh !== undefined && root.Bokeh.Panel !== undefined) {\n",
       "        clearInterval(timer);\n",
       "        embed_document(root);\n",
       "      } else if (document.readyState == \"complete\") {\n",
       "        attempts++;\n",
       "        if (attempts > 200) {\n",
       "          clearInterval(timer);\n",
       "          console.log(\"Bokeh: ERROR: Unable to run BokehJS code because BokehJS library is missing\");\n",
       "        }\n",
       "      }\n",
       "    }, 25, root)\n",
       "  }\n",
       "})(window);</script>"
      ],
      "text/plain": [
       ":DynamicMap   []\n",
       "   :Overlay\n",
       "      .Rectangles.I :Rectangles   [Timestamp (ms),y0,Matching Timestamp,y1]   (Event Type,Timestamp (ns),Name,Process ID,Inc Time,y,humanized_inc_time)\n",
       "      .Points.I     :Points   [Timestamp (ms),Process ID]   (Event Type,Timestamp (ns),Name,Inc Time,Matching Timestamp,event_type,humanized_timestamp)\n",
       "      .Curve.I      :Curve   [x]   (y)"
      ]
     },
     "execution_count": 102,
     "metadata": {
      "application/vnd.holoviews_exec.v0+json": {
       "id": "41811"
      }
     },
     "output_type": "execute_result"
    }
   ],
   "source": [
    "# Timeline view\n",
    "from pipit.vis import timeline\n",
    "timeline(trace, segments=False, points=True)"
   ]
  },
  {
   "cell_type": "code",
   "execution_count": 100,
   "metadata": {
    "scrolled": true
   },
   "outputs": [
    {
     "data": {
      "text/html": [
       "<style>\n",
       "        .container { width:90% !important; }\n",
       "        div.bk-tooltip > div.bk > div.bk:not(:last-child) {\n",
       "            display:none !important;\n",
       "        }\n",
       "        div.bk { cursor: default !important; }\n",
       "        .bk.bk-tooltip-row-label {\n",
       "            color: black;\n",
       "            font-weight: bold;\n",
       "        }\n",
       "        .bk.bk-tooltip-row-value {\n",
       "            font-family: monospace;\n",
       "        }\n",
       "        </style>"
      ],
      "text/plain": [
       "<IPython.core.display.HTML object>"
      ]
     },
     "metadata": {},
     "output_type": "display_data"
    },
    {
     "data": {},
     "metadata": {},
     "output_type": "display_data"
    },
    {
     "data": {
      "application/vnd.holoviews_exec.v0+json": "",
      "text/html": [
       "<div id='39466'>\n",
       "\n",
       "\n",
       "\n",
       "\n",
       "\n",
       "  <div class=\"bk-root\" id=\"67fe020c-3b04-486d-912f-e4cc2fe8af97\" data-root-id=\"39466\"></div>\n",
       "</div>\n",
       "<script type=\"application/javascript\">(function(root) {\n",
       "  function embed_document(root) {\n",
       "    var docs_json = {\"7c50f30c-884c-4e55-81da-10b324cf8513\":{\"defs\":[{\"extends\":null,\"module\":null,\"name\":\"ReactiveHTML1\",\"overrides\":[],\"properties\":[]},{\"extends\":null,\"module\":null,\"name\":\"FlexBox1\",\"overrides\":[],\"properties\":[{\"default\":\"flex-start\",\"kind\":null,\"name\":\"align_content\"},{\"default\":\"flex-start\",\"kind\":null,\"name\":\"align_items\"},{\"default\":\"row\",\"kind\":null,\"name\":\"flex_direction\"},{\"default\":\"wrap\",\"kind\":null,\"name\":\"flex_wrap\"},{\"default\":\"flex-start\",\"kind\":null,\"name\":\"justify_content\"}]},{\"extends\":null,\"module\":null,\"name\":\"GridStack1\",\"overrides\":[],\"properties\":[{\"default\":\"warn\",\"kind\":null,\"name\":\"mode\"},{\"default\":null,\"kind\":null,\"name\":\"ncols\"},{\"default\":null,\"kind\":null,\"name\":\"nrows\"},{\"default\":true,\"kind\":null,\"name\":\"allow_resize\"},{\"default\":true,\"kind\":null,\"name\":\"allow_drag\"},{\"default\":[],\"kind\":null,\"name\":\"state\"}]},{\"extends\":null,\"module\":null,\"name\":\"click1\",\"overrides\":[],\"properties\":[{\"default\":\"\",\"kind\":null,\"name\":\"terminal_output\"},{\"default\":\"\",\"kind\":null,\"name\":\"debug_name\"},{\"default\":0,\"kind\":null,\"name\":\"clears\"}]},{\"extends\":null,\"module\":null,\"name\":\"TemplateActions1\",\"overrides\":[],\"properties\":[{\"default\":0,\"kind\":null,\"name\":\"open_modal\"},{\"default\":0,\"kind\":null,\"name\":\"close_modal\"}]},{\"extends\":null,\"module\":null,\"name\":\"MaterialTemplateActions1\",\"overrides\":[],\"properties\":[{\"default\":0,\"kind\":null,\"name\":\"open_modal\"},{\"default\":0,\"kind\":null,\"name\":\"close_modal\"}]}],\"roots\":{\"references\":[{\"attributes\":{\"fill_alpha\":1,\"fill_color\":\"#30a2da\",\"hatch_alpha\":0.1,\"hatch_color\":\"#30a2da\",\"line_alpha\":1,\"x\":{\"field\":\"x\"},\"y\":{\"field\":\"y\"}},\"id\":\"39520\",\"type\":\"Patch\"},{\"attributes\":{\"coordinates\":null,\"data_source\":{\"id\":\"39507\"},\"glyph\":{\"id\":\"39510\"},\"group\":null,\"hover_glyph\":null,\"muted_glyph\":{\"id\":\"39512\"},\"nonselection_glyph\":{\"id\":\"39511\"},\"selection_glyph\":{\"id\":\"39515\"},\"view\":{\"id\":\"39514\"}},\"id\":\"39513\",\"type\":\"GlyphRenderer\"},{\"attributes\":{\"children\":[{\"id\":\"39467\"},{\"id\":\"39471\"},{\"id\":\"39633\"}],\"margin\":[0,0,0,0],\"name\":\"Row253235\",\"tags\":[\"embedded\"]},\"id\":\"39466\",\"type\":\"Row\"},{\"attributes\":{},\"id\":\"39490\",\"type\":\"WheelZoomTool\"},{\"attributes\":{\"data\":{\"x\":{\"__ndarray__\":\"AAAAAAAAAAAAAAAAAADwPwAAAAAAAABAAAAAAAAACEAAAAAAAAAQQAAAAAAAABRAAAAAAAAAGEAAAAAAAAAcQAAAAAAAACBAAAAAAAAAIkAAAAAAAAAkQAAAAAAAACZAAAAAAAAAKEAAAAAAAAAqQAAAAAAAACxAAAAAAAAALkAAAAAAAAAwQAAAAAAAADFAAAAAAAAAMkAAAAAAAAAzQAAAAAAAADRAAAAAAAAANUAAAAAAAAA2QAAAAAAAADdAAAAAAAAAOEAAAAAAAAA5QAAAAAAAADpAAAAAAAAAO0AAAAAAAAA8QAAAAAAAAD1AAAAAAAAAPkAAAAAAAAA/QAAAAAAAAEBAAAAAAACAQEAAAAAAAABBQAAAAAAAgEFAAAAAAAAAQkAAAAAAAIBCQAAAAAAAAENAAAAAAACAQ0AAAAAAAABEQAAAAAAAgERAAAAAAAAARUAAAAAAAIBFQAAAAAAAAEZAAAAAAACARkAAAAAAAABHQAAAAAAAgEdAAAAAAAAASEAAAAAAAIBIQAAAAAAAAElAAAAAAACASUAAAAAAAABKQAAAAAAAgEpAAAAAAAAAS0AAAAAAAIBLQAAAAAAAAExAAAAAAACATEAAAAAAAABNQAAAAAAAgE1AAAAAAAAATkAAAAAAAIBOQAAAAAAAAE9AAAAAAACAT0AAAAAAAABQQAAAAAAAQFBAAAAAAACAUEAAAAAAAMBQQAAAAAAAAFFAAAAAAABAUUAAAAAAAIBRQAAAAAAAwFFAAAAAAAAAUkAAAAAAAEBSQAAAAAAAgFJAAAAAAADAUkAAAAAAAABTQAAAAAAAQFNAAAAAAACAU0AAAAAAAMBTQAAAAAAAAFRAAAAAAABAVEAAAAAAAIBUQAAAAAAAwFRAAAAAAAAAVUAAAAAAAEBVQAAAAAAAgFVAAAAAAADAVUAAAAAAAABWQAAAAAAAQFZAAAAAAACAVkAAAAAAAMBWQAAAAAAAAFdAAAAAAABAV0AAAAAAAIBXQAAAAAAAwFdAAAAAAAAAWEAAAAAAAEBYQAAAAAAAgFhAAAAAAADAWEA=\",\"dtype\":\"float64\",\"order\":\"little\",\"shape\":[100]},\"y\":{\"__ndarray__\":\"+VelNNNTM0C75YGEpDszQB+sgWhW5zNArL+UEofEM0Dm3OBsHbQzQJ7q0ujYyDNA8wrJiTyKNEBe47DMfi81QK94L01S3zRAalRnW2E+NUAo/LYfYoA0QNQz3hTQ+jRA/MD8wIlJNUDiFqybij41QLrkUBY2NTVAhTmfbQNJNEAYpEF3DCIzQMy/iZbsUDNAFALUQ8ogM0DDPFRmTe8zQBJbwi/n0DRA9Z/buV/wNUBMY07Xkek2QKqBh2jRezdAgi2YBlmkOECqYfJOLsg4QDKPAEBypjhAiF+DApLhOEBXvBinSK44QM0nluCN7TdAFLEn34xSOEB77+L6ua04QGd0WP+t8DhArCAl3w1LOUDWi6sgtLk5QA23Y9tiSzhAxEXHUNNXOEAw4A2qRk44QKNyYLwxTThAZqfPiGPTN0AtNbMKvBY3QEAOstpzvDdA1ea4+tG3NkAIFqLu7dY1QCCjn7oZVzdAETelwSBKN0A0oEs3lDk3QDMpJSY0ZzdAGgeNXfvfOECzLYuShLQ4QOp7eqW2DTlAcC/WyTviOUDKvZZyM544QMR6LUW5TDlAH/NQg9BuOkBQFVbEo2Y7QGF0N2ad/jxAQbclU5KxPEDkETx4BG89QFLq71/Qij1ABqU9h6kXPkDsudfyJqk9QFEkO15+BD5AEFPhM7ykPUAAgChIA6o+QFcevjw7nT9Aj/NImiqWPkA4SShc8gU/QGXsslZ0PUBAvlpJVPKKQEBvEZPdtwk/QMl/FFdmij5AkUDTJsSUPUCIhDnLMis+QKrHZLYCFj5AH4ECd3HDPkA/i7sKy0k+QMSuQJOtVD5AM1BcVJJKPEDWkw+jJ3M/QC+8rM6kvT5AESb6SRvYPUBsjHHP0Lo/QIjVw8L6qz9AZzLwz8oAQECIC9LUgqg/QJUvnlmyAEBAFjITNywLQUD4sca9csRAQMLeQKN+hEFAbM8LQj/VQUDMdsvasL1BQIjKuf9DtEFAeCaFesDUQUCOOil8S45BQKtiSrl2QkFAiW/7aqnFQECI8jrHFGhAQNcsoJEgZkBAIAbrIxtrQEA=\",\"dtype\":\"float64\",\"order\":\"little\",\"shape\":[100]}},\"selected\":{\"id\":\"39508\"},\"selection_policy\":{\"id\":\"39532\"}},\"id\":\"39507\",\"type\":\"ColumnDataSource\"},{\"attributes\":{\"axis_label\":\"Time\",\"coordinates\":null,\"formatter\":{\"id\":\"39502\"},\"group\":null,\"major_label_policy\":{\"id\":\"39503\"},\"ticker\":{\"id\":\"39481\"}},\"id\":\"39480\",\"type\":\"LinearAxis\"},{\"attributes\":{},\"id\":\"39481\",\"type\":\"BasicTicker\"},{\"attributes\":{},\"id\":\"39506\",\"type\":\"AllLabels\"},{\"attributes\":{},\"id\":\"39502\",\"type\":\"BasicTickFormatter\"},{\"attributes\":{\"axis\":{\"id\":\"39480\"},\"coordinates\":null,\"grid_line_color\":null,\"group\":null,\"ticker\":null},\"id\":\"39483\",\"type\":\"Grid\"},{\"attributes\":{\"overlay\":{\"id\":\"39493\"}},\"id\":\"39491\",\"type\":\"BoxZoomTool\"},{\"attributes\":{},\"id\":\"39532\",\"type\":\"UnionRenderers\"},{\"attributes\":{\"end\":99.0,\"reset_end\":99.0,\"reset_start\":0.0,\"tags\":[[[\"x\",\"x\",null]]]},\"id\":\"39468\",\"type\":\"Range1d\"},{\"attributes\":{\"below\":[{\"id\":\"39480\"}],\"center\":[{\"id\":\"39483\"},{\"id\":\"39487\"}],\"height\":300,\"left\":[{\"id\":\"39484\"}],\"margin\":[5,5,5,5],\"min_border_bottom\":10,\"min_border_left\":10,\"min_border_right\":10,\"min_border_top\":10,\"renderers\":[{\"id\":\"39513\"},{\"id\":\"39522\"}],\"sizing_mode\":\"fixed\",\"title\":{\"id\":\"39472\"},\"toolbar\":{\"id\":\"39494\"},\"width\":800,\"x_range\":{\"id\":\"39468\"},\"x_scale\":{\"id\":\"39476\"},\"y_range\":{\"id\":\"39469\"},\"y_scale\":{\"id\":\"39478\"}},\"id\":\"39471\",\"subtype\":\"Figure\",\"type\":\"Plot\"},{\"attributes\":{\"axis\":{\"id\":\"39484\"},\"coordinates\":null,\"dimension\":1,\"grid_line_color\":null,\"group\":null,\"ticker\":null},\"id\":\"39487\",\"type\":\"Grid\"},{\"attributes\":{\"data\":{\"x\":{\"__ndarray__\":\"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\",\"dtype\":\"float64\",\"order\":\"little\",\"shape\":[200]},\"y\":{\"__ndarray__\":\"AAAAAAAAAAAAAAAAAAAAAAAAAAAAAAAAAAAAAAAAAAAAAAAAAAAAAAAAAAAAAAAAAAAAAAAAAAAAAAAAAAAAAAAAAAAAAAAAAAAAAAAAAAAAAAAAAAAAAAAAAAAAAAAAAAAAAAAAAAAAAAAAAAAAAAAAAAAAAAAAAAAAAAAAAAAAAAAAAAAAAAAAAAAAAAAAAAAAAAAAAAAAAAAAAAAAAAAAAAAAAAAAAAAAAAAAAAAAAAAAAAAAAAAAAAAAAAAAAAAAAAAAAAAAAAAAAAAAAAAAAAAAAAAAAAAAAAAAAAAAAAAAAAAAAAAAAAAAAAAAAAAAAAAAAAAAAAAAAAAAAAAAAAAAAAAAAAAAAAAAAAAAAAAAAAAAAAAAAAAAAAAAAAAAAAAAAAAAAAAAAAAAAAAAAAAAAAAAAAAAAAAAAAAAAAAAAAAAAAAAAAAAAAAAAAAAAAAAAAAAAAAAAAAAAAAAAAAAAAAAAAAAAAAAAAAAAAAAAAAAAAAAAAAAAAAAAAAAAAAAAAAAAAAAAAAAAAAAAAAAAAAAAAAAAAAAAAAAAAAAAAAAAAAAAAAAAAAAAAAAAAAAAAAAAAAAAAAAAAAAAAAAAAAAAAAAAAAAAAAAAAAAAAAAAAAAAAAAAAAAAAAAAAAAAAAAAAAAAAAAAAAAAAAAAAAAAAAAAAAAAAAAAAAAAAAAAAAAAAAAAAAAAAAAAAAAAAAAAAAAAAAAAAAAAAAAAAAAAAAAAAAAAAAAAAAAAAAAAAAAAAAAAAAAAAAAAAAAAAAAAAAAAAAAAAAAAAAAAAAAAAAAAAAAAAAAAAAAAAAAAAAAAAAAAAAAAAAAAAAAAAAAAAAAAAAAAAAAAAAAAAAAAAAAAAAAAAAAAAAAAAAAAAAAAAAAAAAAAAAAAAAAAAAAAAAAAAAAAAAAAAAAAAAAAAAAAAAAAAAAAAAAAAAAAAAAAAAAAAAAAAAAAAAAAAAAAAAAAAAAAAAAAAAAAAAAAAAAAAAAAAAAAAAAAAAAAAAAAAAAAAAAAAAAAAAAAAAAAAAAAAAAAAAAAAAAAAAAAAAAAAAAAAAgBusjG2tAQNcsoJEgZkBAiPI6xxRoQECJb/tqqcVAQKtiSrl2QkFAjjopfEuOQUB4JoV6wNRBQIjKuf9DtEFAzHbL2rC9QUBszwtCP9VBQMLeQKN+hEFA+LHGvXLEQEAWMhM3LAtBQJUvnlmyAEBAiAvS1IKoP0BnMvDPygBAQIjVw8L6qz9AbIxxz9C6P0ARJvpJG9g9QC+8rM6kvT5A1pMPoydzP0AzUFxUkko8QMSuQJOtVD5AP4u7CstJPkAfgQJ3ccM+QKrHZLYCFj5AiIQ5yzIrPkCRQNMmxJQ9QMl/FFdmij5AbxGT3bcJP0C+WklU8opAQGXsslZ0PUBAOEkoXPIFP0CP80iaKpY+QFcevjw7nT9AAIAoSAOqPkAQU+EzvKQ9QFEkO15+BD5A7LnX8iapPUAGpT2HqRc+QFLq71/Qij1A5BE8eARvPUBBtyVTkrE8QGF0N2ad/jxAUBVWxKNmO0Af81CD0G46QMR6LUW5TDlAyr2WcjOeOEBwL9bJO+I5QOp7eqW2DTlAsy2LkoS0OEAaB41d+984QDMpJSY0ZzdANKBLN5Q5N0ARN6XBIEo3QCCjn7oZVzdACBai7u3WNUDV5rj60bc2QEAOstpzvDdALTWzCrwWN0Bmp8+IY9M3QKNyYLwxTThAMOANqkZOOEDERcdQ01c4QA23Y9tiSzhA1ourILS5OUCsICXfDUs5QGd0WP+t8DhAe+/i+rmtOEAUsSffjFI4QM0nluCN7TdAV7wYp0iuOECIX4MCkuE4QDKPAEBypjhAqmHyTi7IOECCLZgGWaQ4QKqBh2jRezdATGNO15HpNkD1n9u5X/A1QBJbwi/n0DRAwzxUZk3vM0AUAtRDyiAzQMy/iZbsUDNAGKRBdwwiM0CFOZ9tA0k0QLrkUBY2NTVA4hasm4o+NUD8wPzAiUk1QNQz3hTQ+jRAKPy2H2KANEBqVGdbYT41QK94L01S3zRAXuOwzH4vNUDzCsmJPIo0QJ7q0ujYyDNA5tzgbB20M0Csv5QSh8QzQB+sgWhW5zNAu+WBhKQ7M0D5V6U001MzQA==\",\"dtype\":\"float64\",\"order\":\"little\",\"shape\":[200]}},\"selected\":{\"id\":\"39517\"},\"selection_policy\":{\"id\":\"39534\"}},\"id\":\"39516\",\"type\":\"ColumnDataSource\"},{\"attributes\":{},\"id\":\"39489\",\"type\":\"PanTool\"},{\"attributes\":{\"source\":{\"id\":\"39516\"}},\"id\":\"39523\",\"type\":\"CDSView\"},{\"attributes\":{},\"id\":\"39508\",\"type\":\"Selection\"},{\"attributes\":{\"tools\":[{\"id\":\"39470\"},{\"id\":\"39488\"},{\"id\":\"39489\"},{\"id\":\"39490\"},{\"id\":\"39491\"},{\"id\":\"39492\"}]},\"id\":\"39494\",\"type\":\"Toolbar\"},{\"attributes\":{},\"id\":\"39503\",\"type\":\"AllLabels\"},{\"attributes\":{\"line_alpha\":0.2,\"line_color\":\"#30a2da\",\"line_width\":2,\"x\":{\"field\":\"x\"},\"y\":{\"field\":\"y\"}},\"id\":\"39512\",\"type\":\"Line\"},{\"attributes\":{\"margin\":[5,5,5,5],\"name\":\"HSpacer253240\",\"sizing_mode\":\"stretch_width\"},\"id\":\"39633\",\"type\":\"Spacer\"},{\"attributes\":{},\"id\":\"39492\",\"type\":\"ResetTool\"},{\"attributes\":{\"source\":{\"id\":\"39507\"}},\"id\":\"39514\",\"type\":\"CDSView\"},{\"attributes\":{},\"id\":\"39488\",\"type\":\"SaveTool\"},{\"attributes\":{\"axis_label\":\"% utilization\",\"coordinates\":null,\"formatter\":{\"id\":\"39505\"},\"group\":null,\"major_label_policy\":{\"id\":\"39506\"},\"ticker\":{\"id\":\"39485\"}},\"id\":\"39484\",\"type\":\"LinearAxis\"},{\"attributes\":{\"line_color\":\"#30a2da\",\"line_width\":2,\"x\":{\"field\":\"x\"},\"y\":{\"field\":\"y\"}},\"id\":\"39510\",\"type\":\"Line\"},{\"attributes\":{\"bottom_units\":\"screen\",\"coordinates\":null,\"fill_alpha\":0.5,\"fill_color\":\"lightgrey\",\"group\":null,\"left_units\":\"screen\",\"level\":\"overlay\",\"line_alpha\":1.0,\"line_color\":\"black\",\"line_dash\":[4,4],\"line_width\":2,\"right_units\":\"screen\",\"syncable\":false,\"top_units\":\"screen\"},\"id\":\"39493\",\"type\":\"BoxAnnotation\"},{\"attributes\":{\"margin\":[5,5,5,5],\"name\":\"HSpacer253239\",\"sizing_mode\":\"stretch_width\"},\"id\":\"39467\",\"type\":\"Spacer\"},{\"attributes\":{\"fill_color\":\"#30a2da\",\"hatch_color\":\"#30a2da\",\"x\":{\"field\":\"x\"},\"y\":{\"field\":\"y\"}},\"id\":\"39524\",\"type\":\"Patch\"},{\"attributes\":{\"callback\":null,\"mode\":\"vline\",\"renderers\":[{\"id\":\"39513\"}],\"tooltips\":[[\"Time\",\"@x\"],[\"Utilization\",\"@y{0.}%\"]]},\"id\":\"39470\",\"type\":\"HoverTool\"},{\"attributes\":{\"line_alpha\":0.1,\"line_color\":\"#30a2da\",\"line_width\":2,\"x\":{\"field\":\"x\"},\"y\":{\"field\":\"y\"}},\"id\":\"39511\",\"type\":\"Line\"},{\"attributes\":{},\"id\":\"39478\",\"type\":\"LinearScale\"},{\"attributes\":{},\"id\":\"39534\",\"type\":\"UnionRenderers\"},{\"attributes\":{},\"id\":\"39485\",\"type\":\"BasicTicker\"},{\"attributes\":{\"end\":37.319783646981634,\"reset_end\":37.319783646981634,\"reset_start\":0.0,\"tags\":[[[\"y\",\"y\",null]]]},\"id\":\"39469\",\"type\":\"Range1d\"},{\"attributes\":{\"fill_alpha\":0.2,\"fill_color\":\"#30a2da\",\"hatch_alpha\":0.2,\"hatch_color\":\"#30a2da\",\"line_alpha\":0.2,\"x\":{\"field\":\"x\"},\"y\":{\"field\":\"y\"}},\"id\":\"39521\",\"type\":\"Patch\"},{\"attributes\":{\"coordinates\":null,\"data_source\":{\"id\":\"39516\"},\"glyph\":{\"id\":\"39519\"},\"group\":null,\"hover_glyph\":null,\"muted_glyph\":{\"id\":\"39521\"},\"nonselection_glyph\":{\"id\":\"39520\"},\"selection_glyph\":{\"id\":\"39524\"},\"view\":{\"id\":\"39523\"}},\"id\":\"39522\",\"type\":\"GlyphRenderer\"},{\"attributes\":{},\"id\":\"39517\",\"type\":\"Selection\"},{\"attributes\":{},\"id\":\"39476\",\"type\":\"LinearScale\"},{\"attributes\":{},\"id\":\"39505\",\"type\":\"BasicTickFormatter\"},{\"attributes\":{\"coordinates\":null,\"group\":null,\"text\":\"% CPU utilization over time (process 0)\",\"text_color\":\"black\",\"text_font_size\":\"10pt\"},\"id\":\"39472\",\"type\":\"Title\"},{\"attributes\":{\"fill_color\":\"#30a2da\",\"hatch_color\":\"#30a2da\",\"x\":{\"field\":\"x\"},\"y\":{\"field\":\"y\"}},\"id\":\"39519\",\"type\":\"Patch\"},{\"attributes\":{\"line_color\":\"#30a2da\",\"line_width\":2,\"x\":{\"field\":\"x\"},\"y\":{\"field\":\"y\"}},\"id\":\"39515\",\"type\":\"Line\"}],\"root_ids\":[\"39466\"]},\"title\":\"Bokeh Application\",\"version\":\"2.4.2\"}};\n",
       "    var render_items = [{\"docid\":\"7c50f30c-884c-4e55-81da-10b324cf8513\",\"root_ids\":[\"39466\"],\"roots\":{\"39466\":\"67fe020c-3b04-486d-912f-e4cc2fe8af97\"}}];\n",
       "    root.Bokeh.embed.embed_items_notebook(docs_json, render_items);\n",
       "  }\n",
       "  if (root.Bokeh !== undefined && root.Bokeh.Panel !== undefined) {\n",
       "    embed_document(root);\n",
       "  } else {\n",
       "    var attempts = 0;\n",
       "    var timer = setInterval(function(root) {\n",
       "      if (root.Bokeh !== undefined && root.Bokeh.Panel !== undefined) {\n",
       "        clearInterval(timer);\n",
       "        embed_document(root);\n",
       "      } else if (document.readyState == \"complete\") {\n",
       "        attempts++;\n",
       "        if (attempts > 200) {\n",
       "          clearInterval(timer);\n",
       "          console.log(\"Bokeh: ERROR: Unable to run BokehJS code because BokehJS library is missing\");\n",
       "        }\n",
       "      }\n",
       "    }, 25, root)\n",
       "  }\n",
       "})(window);</script>"
      ],
      "text/plain": [
       ":Overlay\n",
       "   .Curve.I :Curve   [x]   (y)\n",
       "   .Area.I  :Area   [x]   (y)"
      ]
     },
     "execution_count": 100,
     "metadata": {
      "application/vnd.holoviews_exec.v0+json": {
       "id": "39466"
      }
     },
     "output_type": "execute_result"
    }
   ],
   "source": [
    "# Utilization view\n",
    "from pipit.vis import utilization\n",
    "utilization(trace)"
   ]
  },
  {
   "cell_type": "code",
   "execution_count": 123,
   "metadata": {
    "scrolled": true
   },
   "outputs": [
    {
     "data": {
      "text/html": [
       "<style>\n",
       "        .container { width:90% !important; }\n",
       "        div.bk-tooltip > div.bk > div.bk:not(:last-child) {\n",
       "            display:none !important;\n",
       "        }\n",
       "        div.bk { cursor: default !important; }\n",
       "        .bk.bk-tooltip-row-label {\n",
       "            color: black;\n",
       "            font-weight: bold;\n",
       "        }\n",
       "        .bk.bk-tooltip-row-value {\n",
       "            font-family: monospace;\n",
       "        }\n",
       "        </style>"
      ],
      "text/plain": [
       "<IPython.core.display.HTML object>"
      ]
     },
     "metadata": {},
     "output_type": "display_data"
    },
    {
     "data": {},
     "metadata": {},
     "output_type": "display_data"
    },
    {
     "data": {
      "application/vnd.holoviews_exec.v0+json": "",
      "text/html": [
       "<div id='46051'>\n",
       "\n",
       "\n",
       "\n",
       "\n",
       "\n",
       "  <div class=\"bk-root\" id=\"cea443ba-e865-493e-9128-6201c1e58dfc\" data-root-id=\"46051\"></div>\n",
       "</div>\n",
       "<script type=\"application/javascript\">(function(root) {\n",
       "  function embed_document(root) {\n",
       "    var docs_json = {\"6de66d64-dc33-49db-92e8-61d7fd805339\":{\"defs\":[{\"extends\":null,\"module\":null,\"name\":\"ReactiveHTML1\",\"overrides\":[],\"properties\":[]},{\"extends\":null,\"module\":null,\"name\":\"FlexBox1\",\"overrides\":[],\"properties\":[{\"default\":\"flex-start\",\"kind\":null,\"name\":\"align_content\"},{\"default\":\"flex-start\",\"kind\":null,\"name\":\"align_items\"},{\"default\":\"row\",\"kind\":null,\"name\":\"flex_direction\"},{\"default\":\"wrap\",\"kind\":null,\"name\":\"flex_wrap\"},{\"default\":\"flex-start\",\"kind\":null,\"name\":\"justify_content\"}]},{\"extends\":null,\"module\":null,\"name\":\"GridStack1\",\"overrides\":[],\"properties\":[{\"default\":\"warn\",\"kind\":null,\"name\":\"mode\"},{\"default\":null,\"kind\":null,\"name\":\"ncols\"},{\"default\":null,\"kind\":null,\"name\":\"nrows\"},{\"default\":true,\"kind\":null,\"name\":\"allow_resize\"},{\"default\":true,\"kind\":null,\"name\":\"allow_drag\"},{\"default\":[],\"kind\":null,\"name\":\"state\"}]},{\"extends\":null,\"module\":null,\"name\":\"click1\",\"overrides\":[],\"properties\":[{\"default\":\"\",\"kind\":null,\"name\":\"terminal_output\"},{\"default\":\"\",\"kind\":null,\"name\":\"debug_name\"},{\"default\":0,\"kind\":null,\"name\":\"clears\"}]},{\"extends\":null,\"module\":null,\"name\":\"TemplateActions1\",\"overrides\":[],\"properties\":[{\"default\":0,\"kind\":null,\"name\":\"open_modal\"},{\"default\":0,\"kind\":null,\"name\":\"close_modal\"}]},{\"extends\":null,\"module\":null,\"name\":\"MaterialTemplateActions1\",\"overrides\":[],\"properties\":[{\"default\":0,\"kind\":null,\"name\":\"open_modal\"},{\"default\":0,\"kind\":null,\"name\":\"close_modal\"}]}],\"roots\":{\"references\":[{\"attributes\":{\"data\":{\"Gender\":[\"N/A\",\"N/A\",\"N/A\",\"N/A\",\"N/A\",\"N/A\",\"N/A\",\"N/A\",\"N/A\",\"N/A\",\"N/A\",\"N/A\",\"N/A\",\"N/A\",\"N/A\",\"N/A\",\"MPI_Finalize\",\"MPI_Finalize\",\"MPI_Finalize\",\"MPI_Finalize\",\"MPI_Finalize\",\"MPI_Finalize\",\"MPI_Finalize\",\"MPI_Finalize\",\"MPI_Finalize\",\"MPI_Finalize\",\"MPI_Finalize\",\"MPI_Finalize\",\"MPI_Finalize\",\"MPI_Finalize\",\"MPI_Finalize\",\"MPI_Finalize\",\"MPI_Finalize\",\"MPI_Finalize\",\"MPI_Recv\",\"MPI_Recv\",\"MPI_Recv\",\"MPI_Recv\",\"MPI_Recv\",\"MPI_Recv\",\"MPI_Recv\",\"MPI_Recv\",\"MPI_Recv\",\"MPI_Recv\",\"MPI_Recv\",\"MPI_Recv\",\"MPI_Recv\",\"MPI_Recv\",\"MPI_Recv\",\"MPI_Recv\",\"MPI_Recv\",\"MPI_Recv\",\"MPI_Recv\",\"MPI_Send\",\"MPI_Send\",\"MPI_Send\",\"MPI_Send\",\"MPI_Send\",\"MPI_Send\",\"MPI_Send\",\"MPI_Send\",\"MPI_Send\",\"MPI_Send\",\"MPI_Send\",\"MPI_Send\",\"MPI_Send\",\"MPI_Send\",\"MPI_Send\",\"MPI_Send\",\"MPI_Send\",\"MPI_Send\",\"MPI_Send\",\"MPI_Send\",\"MPI_Init\",\"MPI_Init\",\"MPI_Init\",\"MPI_Init\",\"MPI_Init\",\"MPI_Init\",\"MPI_Init\",\"MPI_Init\",\"MPI_Init\",\"MPI_Init\",\"MPI_Init\"],\"bins\":[\"0\",\"59\",\"55\",\"54\",\"52\",\"50\",\"41\",\"40\",\"38\",\"37\",\"36\",\"33\",\"21\",\"61\",\"6\",\"10\",\"43\",\"41\",\"37\",\"9\",\"6\",\"47\",\"48\",\"38\",\"53\",\"8\",\"22\",\"21\",\"20\",\"59\",\"2\",\"60\",\"15\",\"55\",\"55\",\"49\",\"2\",\"47\",\"45\",\"44\",\"56\",\"52\",\"11\",\"8\",\"18\",\"20\",\"21\",\"23\",\"27\",\"61\",\"32\",\"29\",\"10\",\"33\",\"16\",\"37\",\"58\",\"57\",\"35\",\"55\",\"10\",\"42\",\"44\",\"54\",\"2\",\"38\",\"4\",\"49\",\"46\",\"29\",\"48\",\"3\",\"30\",\"60\",\"18\",\"59\",\"33\",\"34\",\"56\",\"49\",\"55\",\"44\",\"48\",\"41\"],\"bottom\":{\"__ndarray__\":\"AAAAAAAAAAAAAAAAAAAAAAAAAAAAAAAAAAAAAAAAAAAAAAAAAAAAAAAAAAAAAAAAAAAAAAAAAAAAAAAAAAAAAAAAAAAAAAAAAAAAAAAAAAAAAAAAAAAAAAAAAAAAAAAAAAAAAAAAAAAAAAAAAAAAAAAAAAAAAAAAAAAAAAAAAAAAAAAAAAAAAAAAAAAAAABAAAAAAAAAEEAAAAAAAAAAAAAAAAAAABhAAAAAAAAAAAAAAAAAAAAAAAAAAAAAAPA/AAAAAAAAAAAAAAAAAAAAAAAAAAAAAAAAAAAAAAAAEEAAAAAAAAAAAAAAAAAAABBAAAAAAAAAAAAAAAAAAAAAAAAAAAAAAAAAAAAAAAAAEEAAAAAAAAAgQAAAAAAAAAAAAAAAAAAA8D8AAAAAAADwPwAAAAAAAAAAAAAAAAAAAAAAAAAAAAAAAAAAAAAAABBAAAAAAAAAAAAAAAAAAADwPwAAAAAAAAAAAAAAAAAAEEAAAAAAAAAgQAAAAAAAAAAAAAAAAAAAAAAAAAAAAAAAQAAAAAAAAAAAAAAAAAAAAAAAAAAAAAAUQAAAAAAAAPA/AAAAAAAAAAAAAAAAAAAUQAAAAAAAAAAAAAAAAAAAAAAAAAAAAAAAAAAAAAAAACRAAAAAAAAAHEAAAAAAAAAAAAAAAAAAAABAAAAAAAAA8D8AAAAAAAAQQAAAAAAAABBAAAAAAAAAAAAAAAAAAADwPwAAAAAAAAAAAAAAAAAACEAAAAAAAAAIQAAAAAAAAAAAAAAAAAAAAAAAAAAAAAAQQAAAAAAAAAhAAAAAAAAAFEAAAAAAAAAcQAAAAAAAAAAAAAAAAAAAEEAAAAAAAAAAQAAAAAAAAChAAAAAAAAAHEAAAAAAAAAYQAAAAAAAABRA\",\"dtype\":\"float64\",\"order\":\"little\",\"shape\":[84]},\"top\":{\"__ndarray__\":\"AAAAAAAAEEAAAAAAAAAQQAAAAAAAABBAAAAAAAAA8D8AAAAAAAAQQAAAAAAAABBAAAAAAAAAAEAAAAAAAADwPwAAAAAAAPA/AAAAAAAAEEAAAAAAAAAgQAAAAAAAAPA/AAAAAAAAEEAAAAAAAAAAQAAAAAAAABhAAAAAAAAAFEAAAAAAAAAAQAAAAAAAABRAAAAAAAAAFEAAAAAAAAAAQAAAAAAAABxAAAAAAAAA8D8AAAAAAAAIQAAAAAAAABBAAAAAAAAAAEAAAAAAAADwPwAAAAAAAPA/AAAAAAAAIEAAAAAAAAAQQAAAAAAAABRAAAAAAAAA8D8AAAAAAAAQQAAAAAAAAABAAAAAAAAAIEAAAAAAAAAkQAAAAAAAAPA/AAAAAAAAEEAAAAAAAAAQQAAAAAAAAAhAAAAAAAAAAEAAAAAAAAAQQAAAAAAAABRAAAAAAAAACEAAAAAAAAAIQAAAAAAAAAhAAAAAAAAAKEAAAAAAAAAkQAAAAAAAAAhAAAAAAAAACEAAAAAAAAAkQAAAAAAAAPA/AAAAAAAACEAAAAAAAAAcQAAAAAAAABxAAAAAAAAAEEAAAAAAAAAkQAAAAAAAAAhAAAAAAAAAHEAAAAAAAADwPwAAAAAAAChAAAAAAAAAKEAAAAAAAAAQQAAAAAAAABxAAAAAAAAAAEAAAAAAAAAgQAAAAAAAABxAAAAAAAAA8D8AAAAAAAAAQAAAAAAAABBAAAAAAAAAFEAAAAAAAAAYQAAAAAAAAAhAAAAAAAAA8D8AAAAAAAAcQAAAAAAAABhAAAAAAAAAIEAAAAAAAAAkQAAAAAAAAAhAAAAAAAAAGEAAAAAAAAAIQAAAAAAAADBAAAAAAAAAIEAAAAAAAAAgQAAAAAAAACBA\",\"dtype\":\"float64\",\"order\":\"little\",\"shape\":[84]}},\"selected\":{\"id\":\"46085\"},\"selection_policy\":{\"id\":\"46099\"}},\"id\":\"46084\",\"type\":\"ColumnDataSource\"},{\"attributes\":{\"margin\":[5,5,5,5],\"name\":\"HSpacer303566\",\"sizing_mode\":\"stretch_width\"},\"id\":\"46052\",\"type\":\"Spacer\"},{\"attributes\":{\"end\":17.5,\"reset_end\":17.5,\"reset_start\":0.0,\"tags\":[[[\"Count\",\"Count\",null]]]},\"id\":\"46054\",\"type\":\"Range1d\"},{\"attributes\":{},\"id\":\"46085\",\"type\":\"Selection\"},{\"attributes\":{\"bottom_units\":\"screen\",\"coordinates\":null,\"fill_alpha\":0.5,\"fill_color\":\"lightgrey\",\"group\":null,\"left_units\":\"screen\",\"level\":\"overlay\",\"line_alpha\":1.0,\"line_color\":\"black\",\"line_dash\":[4,4],\"line_width\":2,\"right_units\":\"screen\",\"syncable\":false,\"top_units\":\"screen\"},\"id\":\"46076\",\"type\":\"BoxAnnotation\"},{\"attributes\":{},\"id\":\"46099\",\"type\":\"UnionRenderers\"},{\"attributes\":{\"factors\":[\"0\",\"2\",\"3\",\"4\",\"6\",\"8\",\"9\",\"10\",\"11\",\"15\",\"16\",\"18\",\"20\",\"21\",\"22\",\"23\",\"27\",\"29\",\"30\",\"32\",\"33\",\"34\",\"35\",\"36\",\"37\",\"38\",\"40\",\"41\",\"42\",\"43\",\"44\",\"45\",\"46\",\"47\",\"48\",\"49\",\"50\",\"52\",\"53\",\"54\",\"55\",\"56\",\"57\",\"58\",\"59\",\"60\",\"61\"],\"tags\":[[[\"bins\",\"bins\",null]]]},\"id\":\"46053\",\"type\":\"FactorRange\"},{\"attributes\":{\"axis_label\":\"Time interval\",\"coordinates\":null,\"formatter\":{\"id\":\"46097\"},\"group\":null,\"major_label_policy\":{\"id\":\"46098\"},\"ticker\":{\"id\":\"46065\"}},\"id\":\"46064\",\"type\":\"CategoricalAxis\"},{\"attributes\":{\"coordinates\":null,\"group\":null,\"items\":[{\"id\":\"46103\"}],\"label_text_font_size\":\"8pt\",\"location\":\"top\",\"spacing\":0},\"id\":\"46102\",\"type\":\"Legend\"},{\"attributes\":{\"overlay\":{\"id\":\"46076\"}},\"id\":\"46074\",\"type\":\"BoxZoomTool\"},{\"attributes\":{},\"id\":\"46095\",\"type\":\"AllLabels\"},{\"attributes\":{\"bottom\":{\"field\":\"bottom\"},\"fill_alpha\":{\"value\":0.2},\"fill_color\":{\"field\":\"Gender\",\"transform\":{\"id\":\"46083\"}},\"hatch_alpha\":{\"value\":0.2},\"hatch_color\":{\"field\":\"Gender\",\"transform\":{\"id\":\"46083\"}},\"line_alpha\":{\"value\":0.2},\"line_color\":{\"value\":\"white\"},\"line_width\":{\"value\":0.2},\"top\":{\"field\":\"top\"},\"width\":{\"value\":0.8},\"x\":{\"field\":\"bins\"}},\"id\":\"46089\",\"type\":\"VBar\"},{\"attributes\":{},\"id\":\"46075\",\"type\":\"ResetTool\"},{\"attributes\":{\"factors\":[\"N/A\",\"MPI_Init\",\"MPI_Recv\",\"MPI_Send\",\"MPI_Finalize\"],\"palette\":[\"rgb(164,108,138)\",\"rgb(132,141,178)\",\"rgb(131,105,147)\",\"rgb(141,188,141)\",\"rgb(112,198,205)\"]},\"id\":\"46083\",\"type\":\"CategoricalColorMapper\"},{\"attributes\":{},\"id\":\"46062\",\"type\":\"LinearScale\"},{\"attributes\":{},\"id\":\"46097\",\"type\":\"CategoricalTickFormatter\"},{\"attributes\":{\"axis_label\":\"Time contribution (ms)\",\"coordinates\":null,\"formatter\":{\"id\":\"46094\"},\"group\":null,\"major_label_policy\":{\"id\":\"46095\"},\"ticker\":{\"id\":\"46068\"}},\"id\":\"46067\",\"type\":\"LinearAxis\"},{\"attributes\":{\"label\":{\"field\":\"Gender\"},\"renderers\":[{\"id\":\"46090\"}]},\"id\":\"46103\",\"type\":\"LegendItem\"},{\"attributes\":{\"source\":{\"id\":\"46084\"}},\"id\":\"46091\",\"type\":\"CDSView\"},{\"attributes\":{\"children\":[{\"id\":\"46052\"},{\"id\":\"46055\"},{\"id\":\"46131\"}],\"margin\":[0,0,0,0],\"name\":\"Row303562\",\"tags\":[\"embedded\"]},\"id\":\"46051\",\"type\":\"Row\"},{\"attributes\":{\"axis\":{\"id\":\"46064\"},\"coordinates\":null,\"grid_line_color\":null,\"group\":null,\"ticker\":null},\"id\":\"46066\",\"type\":\"Grid\"},{\"attributes\":{\"bottom\":{\"field\":\"bottom\"},\"fill_alpha\":{\"value\":0.1},\"fill_color\":{\"field\":\"Gender\",\"transform\":{\"id\":\"46083\"}},\"hatch_alpha\":{\"value\":0.1},\"hatch_color\":{\"field\":\"Gender\",\"transform\":{\"id\":\"46083\"}},\"line_alpha\":{\"value\":0.1},\"line_color\":{\"value\":\"white\"},\"line_width\":{\"value\":0.2},\"top\":{\"field\":\"top\"},\"width\":{\"value\":0.8},\"x\":{\"field\":\"bins\"}},\"id\":\"46088\",\"type\":\"VBar\"},{\"attributes\":{\"bottom\":{\"field\":\"bottom\"},\"fill_color\":{\"field\":\"Gender\",\"transform\":{\"id\":\"46083\"}},\"hatch_color\":{\"field\":\"Gender\",\"transform\":{\"id\":\"46083\"}},\"line_color\":{\"value\":\"white\"},\"line_width\":{\"value\":0.2},\"top\":{\"field\":\"top\"},\"width\":{\"value\":0.8},\"x\":{\"field\":\"bins\"}},\"id\":\"46087\",\"type\":\"VBar\"},{\"attributes\":{\"tools\":[{\"id\":\"46071\"},{\"id\":\"46072\"},{\"id\":\"46073\"},{\"id\":\"46074\"},{\"id\":\"46075\"}]},\"id\":\"46077\",\"type\":\"Toolbar\"},{\"attributes\":{\"bottom\":{\"field\":\"bottom\"},\"fill_alpha\":{\"value\":1.0},\"fill_color\":{\"field\":\"Gender\",\"transform\":{\"id\":\"46083\"}},\"hatch_alpha\":{\"value\":1.0},\"hatch_color\":{\"field\":\"Gender\",\"transform\":{\"id\":\"46083\"}},\"hatch_scale\":{\"value\":12.0},\"hatch_weight\":{\"value\":1.0},\"line_alpha\":{\"value\":1.0},\"line_cap\":{\"value\":\"butt\"},\"line_color\":{\"value\":\"white\"},\"line_dash\":{\"value\":[]},\"line_dash_offset\":{\"value\":0},\"line_join\":{\"value\":\"bevel\"},\"line_width\":{\"value\":0.2},\"top\":{\"field\":\"top\"},\"width\":{\"value\":0.8},\"x\":{\"field\":\"bins\"}},\"id\":\"46104\",\"type\":\"VBar\"},{\"attributes\":{\"coordinates\":null,\"data_source\":{\"id\":\"46084\"},\"glyph\":{\"id\":\"46087\"},\"group\":null,\"hover_glyph\":null,\"muted_glyph\":{\"id\":\"46089\"},\"nonselection_glyph\":{\"id\":\"46088\"},\"selection_glyph\":{\"id\":\"46104\"},\"view\":{\"id\":\"46091\"}},\"id\":\"46090\",\"type\":\"GlyphRenderer\"},{\"attributes\":{\"below\":[{\"id\":\"46064\"}],\"center\":[{\"id\":\"46066\"},{\"id\":\"46070\"},{\"id\":\"46102\"}],\"height\":300,\"left\":[{\"id\":\"46067\"}],\"margin\":[5,5,5,5],\"min_border_bottom\":10,\"min_border_left\":10,\"min_border_right\":10,\"min_border_top\":10,\"renderers\":[{\"id\":\"46090\"}],\"right\":[{\"id\":\"46102\"}],\"sizing_mode\":\"fixed\",\"title\":{\"id\":\"46056\"},\"toolbar\":{\"id\":\"46077\"},\"toolbar_location\":\"above\",\"width\":800,\"x_range\":{\"id\":\"46053\"},\"x_scale\":{\"id\":\"46060\"},\"y_range\":{\"id\":\"46054\"},\"y_scale\":{\"id\":\"46062\"}},\"id\":\"46055\",\"subtype\":\"Figure\",\"type\":\"Plot\"},{\"attributes\":{},\"id\":\"46094\",\"type\":\"BasicTickFormatter\"},{\"attributes\":{},\"id\":\"46073\",\"type\":\"WheelZoomTool\"},{\"attributes\":{},\"id\":\"46098\",\"type\":\"AllLabels\"},{\"attributes\":{},\"id\":\"46065\",\"type\":\"CategoricalTicker\"},{\"attributes\":{\"axis\":{\"id\":\"46067\"},\"coordinates\":null,\"dimension\":1,\"grid_line_color\":null,\"group\":null,\"ticker\":null,\"visible\":false},\"id\":\"46070\",\"type\":\"Grid\"},{\"attributes\":{\"margin\":[5,5,5,5],\"name\":\"HSpacer303567\",\"sizing_mode\":\"stretch_width\"},\"id\":\"46131\",\"type\":\"Spacer\"},{\"attributes\":{},\"id\":\"46071\",\"type\":\"SaveTool\"},{\"attributes\":{},\"id\":\"46068\",\"type\":\"BasicTicker\"},{\"attributes\":{},\"id\":\"46072\",\"type\":\"PanTool\"},{\"attributes\":{},\"id\":\"46060\",\"type\":\"CategoricalScale\"},{\"attributes\":{\"coordinates\":null,\"group\":null,\"text\":\"Exclusive time per function per time interval\",\"text_color\":\"black\",\"text_font_size\":\"10pt\"},\"id\":\"46056\",\"type\":\"Title\"}],\"root_ids\":[\"46051\"]},\"title\":\"Bokeh Application\",\"version\":\"2.4.2\"}};\n",
       "    var render_items = [{\"docid\":\"6de66d64-dc33-49db-92e8-61d7fd805339\",\"root_ids\":[\"46051\"],\"roots\":{\"46051\":\"cea443ba-e865-493e-9128-6201c1e58dfc\"}}];\n",
       "    root.Bokeh.embed.embed_items_notebook(docs_json, render_items);\n",
       "  }\n",
       "  if (root.Bokeh !== undefined && root.Bokeh.Panel !== undefined) {\n",
       "    embed_document(root);\n",
       "  } else {\n",
       "    var attempts = 0;\n",
       "    var timer = setInterval(function(root) {\n",
       "      if (root.Bokeh !== undefined && root.Bokeh.Panel !== undefined) {\n",
       "        clearInterval(timer);\n",
       "        embed_document(root);\n",
       "      } else if (document.readyState == \"complete\") {\n",
       "        attempts++;\n",
       "        if (attempts > 200) {\n",
       "          clearInterval(timer);\n",
       "          console.log(\"Bokeh: ERROR: Unable to run BokehJS code because BokehJS library is missing\");\n",
       "        }\n",
       "      }\n",
       "    }, 25, root)\n",
       "  }\n",
       "})(window);</script>"
      ],
      "text/plain": [
       ":Bars   [bins,Gender]   (Count)"
      ]
     },
     "execution_count": 123,
     "metadata": {
      "application/vnd.holoviews_exec.v0+json": {
       "id": "46051"
      }
     },
     "output_type": "execute_result"
    }
   ],
   "source": [
    "# Time profile view\n",
    "from pipit.vis import time_profile\n",
    "time_profile(trace)"
   ]
  },
  {
   "cell_type": "code",
   "execution_count": 133,
   "metadata": {},
   "outputs": [
    {
     "data": {
      "text/html": [
       "<style>\n",
       "        .container { width:90% !important; }\n",
       "        div.bk-tooltip > div.bk > div.bk:not(:last-child) {\n",
       "            display:none !important;\n",
       "        }\n",
       "        div.bk { cursor: default !important; }\n",
       "        .bk.bk-tooltip-row-label {\n",
       "            color: black;\n",
       "            font-weight: bold;\n",
       "        }\n",
       "        .bk.bk-tooltip-row-value {\n",
       "            font-family: monospace;\n",
       "        }\n",
       "        </style>"
      ],
      "text/plain": [
       "<IPython.core.display.HTML object>"
      ]
     },
     "metadata": {},
     "output_type": "display_data"
    },
    {
     "data": {},
     "metadata": {},
     "output_type": "display_data"
    },
    {
     "data": {
      "application/vnd.holoviews_exec.v0+json": "",
      "text/html": [
       "<div id='47380'>\n",
       "\n",
       "\n",
       "\n",
       "\n",
       "\n",
       "  <div class=\"bk-root\" id=\"032d3899-8277-4f3d-a3c7-47917fdb9210\" data-root-id=\"47380\"></div>\n",
       "</div>\n",
       "<script type=\"application/javascript\">(function(root) {\n",
       "  function embed_document(root) {\n",
       "    var docs_json = {\"e4a10426-dacf-4326-8f4b-4da6104e6659\":{\"defs\":[{\"extends\":null,\"module\":null,\"name\":\"ReactiveHTML1\",\"overrides\":[],\"properties\":[]},{\"extends\":null,\"module\":null,\"name\":\"FlexBox1\",\"overrides\":[],\"properties\":[{\"default\":\"flex-start\",\"kind\":null,\"name\":\"align_content\"},{\"default\":\"flex-start\",\"kind\":null,\"name\":\"align_items\"},{\"default\":\"row\",\"kind\":null,\"name\":\"flex_direction\"},{\"default\":\"wrap\",\"kind\":null,\"name\":\"flex_wrap\"},{\"default\":\"flex-start\",\"kind\":null,\"name\":\"justify_content\"}]},{\"extends\":null,\"module\":null,\"name\":\"GridStack1\",\"overrides\":[],\"properties\":[{\"default\":\"warn\",\"kind\":null,\"name\":\"mode\"},{\"default\":null,\"kind\":null,\"name\":\"ncols\"},{\"default\":null,\"kind\":null,\"name\":\"nrows\"},{\"default\":true,\"kind\":null,\"name\":\"allow_resize\"},{\"default\":true,\"kind\":null,\"name\":\"allow_drag\"},{\"default\":[],\"kind\":null,\"name\":\"state\"}]},{\"extends\":null,\"module\":null,\"name\":\"click1\",\"overrides\":[],\"properties\":[{\"default\":\"\",\"kind\":null,\"name\":\"terminal_output\"},{\"default\":\"\",\"kind\":null,\"name\":\"debug_name\"},{\"default\":0,\"kind\":null,\"name\":\"clears\"}]},{\"extends\":null,\"module\":null,\"name\":\"TemplateActions1\",\"overrides\":[],\"properties\":[{\"default\":0,\"kind\":null,\"name\":\"open_modal\"},{\"default\":0,\"kind\":null,\"name\":\"close_modal\"}]},{\"extends\":null,\"module\":null,\"name\":\"MaterialTemplateActions1\",\"overrides\":[],\"properties\":[{\"default\":0,\"kind\":null,\"name\":\"open_modal\"},{\"default\":0,\"kind\":null,\"name\":\"close_modal\"}]}],\"roots\":{\"references\":[{\"attributes\":{\"callback\":null,\"point_policy\":\"follow_mouse\",\"renderers\":[{\"id\":\"47414\"}],\"tooltips\":[[\"Name\",\"@{Name}\"],[\"Total time\",\"@{Exc_Time}\"],[\"Process ID\",\"@{Process_ID}\"]]},\"id\":\"47384\",\"type\":\"HoverTool\"},{\"attributes\":{},\"id\":\"47421\",\"type\":\"BasicTickFormatter\"},{\"attributes\":{\"source\":{\"id\":\"47408\"}},\"id\":\"47415\",\"type\":\"CDSView\"},{\"attributes\":{\"factors\":[\"0\",\"1\"],\"tags\":[[[\"Process ID\",\"Process ID\",null]]]},\"id\":\"47383\",\"type\":\"FactorRange\"},{\"attributes\":{\"fill_alpha\":{\"value\":1.0},\"fill_color\":{\"field\":\"Name\",\"transform\":{\"id\":\"47407\"}},\"hatch_alpha\":{\"value\":1.0},\"hatch_color\":{\"field\":\"Name\",\"transform\":{\"id\":\"47407\"}},\"hatch_scale\":{\"value\":12.0},\"hatch_weight\":{\"value\":1.0},\"height\":{\"value\":0.8},\"left\":{\"field\":\"bottom\"},\"line_alpha\":{\"value\":1.0},\"line_cap\":{\"value\":\"butt\"},\"line_color\":{\"value\":\"white\"},\"line_dash\":{\"value\":[]},\"line_dash_offset\":{\"value\":0},\"line_join\":{\"value\":\"bevel\"},\"line_width\":{\"value\":0.2},\"right\":{\"field\":\"top\"},\"y\":{\"field\":\"Process_ID\"}},\"id\":\"47427\",\"type\":\"HBar\"},{\"attributes\":{\"end\":134268960.21300375,\"reset_end\":134268960.21300375,\"reset_start\":0.0,\"tags\":[[[\"Exc Time\",\"Exc Time\",null]]]},\"id\":\"47382\",\"type\":\"Range1d\"},{\"attributes\":{\"coordinates\":null,\"data_source\":{\"id\":\"47408\"},\"glyph\":{\"id\":\"47411\"},\"group\":null,\"hover_glyph\":null,\"muted_glyph\":{\"id\":\"47413\"},\"nonselection_glyph\":{\"id\":\"47412\"},\"selection_glyph\":{\"id\":\"47427\"},\"view\":{\"id\":\"47415\"}},\"id\":\"47414\",\"type\":\"GlyphRenderer\"},{\"attributes\":{},\"id\":\"47399\",\"type\":\"CategoricalTicker\"},{\"attributes\":{},\"id\":\"47419\",\"type\":\"AllLabels\"},{\"attributes\":{\"axis\":{\"id\":\"47394\"},\"coordinates\":null,\"grid_line_color\":null,\"group\":null,\"ticker\":null},\"id\":\"47397\",\"type\":\"Grid\"},{\"attributes\":{\"dimensions\":\"width\"},\"id\":\"47401\",\"type\":\"PanTool\"},{\"attributes\":{\"margin\":[5,5,5,5],\"name\":\"HSpacer315396\",\"sizing_mode\":\"stretch_width\"},\"id\":\"47456\",\"type\":\"Spacer\"},{\"attributes\":{},\"id\":\"47395\",\"type\":\"BasicTicker\"},{\"attributes\":{\"fill_color\":{\"field\":\"Name\",\"transform\":{\"id\":\"47407\"}},\"hatch_color\":{\"field\":\"Name\",\"transform\":{\"id\":\"47407\"}},\"height\":{\"value\":0.8},\"left\":{\"field\":\"bottom\"},\"line_color\":{\"value\":\"white\"},\"line_width\":{\"value\":0.2},\"right\":{\"field\":\"top\"},\"y\":{\"field\":\"Process_ID\"}},\"id\":\"47411\",\"type\":\"HBar\"},{\"attributes\":{\"data\":{\"Exc_Time\":{\"__ndarray__\":\"4R0mCngTn0HVXw+t9Q2fQYDIBujv3TZBgHtSrOlOLkGASLKCoSpAQcBAIGXw1TZBAMwdcmkIBUEAgBk7njLXQAAAAAAAAAAAAAAAAAAAAAA=\",\"dtype\":\"float64\",\"order\":\"little\",\"shape\":[10]},\"Name\":[\"MPI_Init\",\"MPI_Init\",\"MPI_Recv\",\"MPI_Recv\",\"MPI_Send\",\"MPI_Send\",\"MPI_Finalize\",\"MPI_Finalize\",\"N/A\",\"N/A\"],\"Process_ID\":[\"0\",\"1\",\"0\",\"1\",\"0\",\"1\",\"0\",\"1\",\"0\",\"1\"],\"bottom\":{\"__ndarray__\":\"AAAAAAAAAAAAAAAAAAAAAOEdJgp4E59B1V8PrfUNn0EDOcbJ726fQcwEaICTSp9BR8vb1UTwn0HPhfxB66WfQS3alArJ+p9BZzfga16nn0E=\",\"dtype\":\"float64\",\"order\":\"little\",\"shape\":[10]},\"top\":{\"__ndarray__\":\"4R0mCngTn0HVXw+t9Q2fQQM5xsnvbp9BzARogJNKn0FHy9vVRPCfQc+F/EHrpZ9BLdqUCsn6n0FnN+BrXqefQS3alArJ+p9BZzfga16nn0E=\",\"dtype\":\"float64\",\"order\":\"little\",\"shape\":[10]}},\"selected\":{\"id\":\"47409\"},\"selection_policy\":{\"id\":\"47423\"}},\"id\":\"47408\",\"type\":\"ColumnDataSource\"},{\"attributes\":{},\"id\":\"47423\",\"type\":\"UnionRenderers\"},{\"attributes\":{},\"id\":\"47418\",\"type\":\"CategoricalTickFormatter\"},{\"attributes\":{},\"id\":\"47409\",\"type\":\"Selection\"},{\"attributes\":{\"factors\":[\"MPI_Init\",\"MPI_Recv\",\"MPI_Send\",\"MPI_Finalize\"],\"palette\":[\"rgb(164,108,138)\",\"rgb(132,141,178)\",\"rgb(131,105,147)\",\"rgb(141,188,141)\"]},\"id\":\"47407\",\"type\":\"CategoricalColorMapper\"},{\"attributes\":{\"label\":{\"field\":\"Name\"},\"renderers\":[{\"id\":\"47414\"}]},\"id\":\"47426\",\"type\":\"LegendItem\"},{\"attributes\":{},\"id\":\"47390\",\"type\":\"LinearScale\"},{\"attributes\":{},\"id\":\"47392\",\"type\":\"CategoricalScale\"},{\"attributes\":{\"dimensions\":\"width\"},\"id\":\"47402\",\"type\":\"WheelZoomTool\"},{\"attributes\":{\"fill_alpha\":{\"value\":0.2},\"fill_color\":{\"field\":\"Name\",\"transform\":{\"id\":\"47407\"}},\"hatch_alpha\":{\"value\":0.2},\"hatch_color\":{\"field\":\"Name\",\"transform\":{\"id\":\"47407\"}},\"height\":{\"value\":0.8},\"left\":{\"field\":\"bottom\"},\"line_alpha\":{\"value\":0.2},\"line_color\":{\"value\":\"white\"},\"line_width\":{\"value\":0.2},\"right\":{\"field\":\"top\"},\"y\":{\"field\":\"Process_ID\"}},\"id\":\"47413\",\"type\":\"HBar\"},{\"attributes\":{},\"id\":\"47422\",\"type\":\"AllLabels\"},{\"attributes\":{\"axis_label\":\"Process ID\",\"coordinates\":null,\"formatter\":{\"id\":\"47418\"},\"group\":null,\"major_label_policy\":{\"id\":\"47419\"},\"ticker\":{\"id\":\"47399\"}},\"id\":\"47398\",\"type\":\"CategoricalAxis\"},{\"attributes\":{\"coordinates\":null,\"group\":null,\"items\":[{\"id\":\"47426\"}],\"label_text_font_size\":\"8pt\",\"location\":\"top\",\"spacing\":0},\"id\":\"47425\",\"type\":\"Legend\"},{\"attributes\":{\"below\":[{\"id\":\"47394\"}],\"center\":[{\"id\":\"47397\"},{\"id\":\"47400\"},{\"id\":\"47425\"}],\"height\":180,\"left\":[{\"id\":\"47398\"}],\"margin\":[5,5,5,5],\"min_border_bottom\":10,\"min_border_left\":10,\"min_border_right\":10,\"min_border_top\":10,\"renderers\":[{\"id\":\"47414\"}],\"right\":[{\"id\":\"47425\"}],\"sizing_mode\":\"fixed\",\"title\":{\"id\":\"47386\"},\"toolbar\":{\"id\":\"47403\"},\"toolbar_location\":\"above\",\"width\":800,\"x_range\":{\"id\":\"47382\"},\"x_scale\":{\"id\":\"47390\"},\"y_range\":{\"id\":\"47383\"},\"y_scale\":{\"id\":\"47392\"}},\"id\":\"47385\",\"subtype\":\"Figure\",\"type\":\"Plot\"},{\"attributes\":{\"active_drag\":{\"id\":\"47401\"},\"active_scroll\":{\"id\":\"47402\"},\"tools\":[{\"id\":\"47384\"},{\"id\":\"47401\"},{\"id\":\"47402\"}]},\"id\":\"47403\",\"type\":\"Toolbar\"},{\"attributes\":{\"margin\":[5,5,5,5],\"name\":\"HSpacer315395\",\"sizing_mode\":\"stretch_width\"},\"id\":\"47381\",\"type\":\"Spacer\"},{\"attributes\":{\"coordinates\":null,\"group\":null,\"text\":\"Total exc time per function per process\",\"text_color\":\"black\",\"text_font_size\":\"10pt\"},\"id\":\"47386\",\"type\":\"Title\"},{\"attributes\":{\"axis_label\":\"Exc Time\",\"coordinates\":null,\"formatter\":{\"id\":\"47421\"},\"group\":null,\"major_label_policy\":{\"id\":\"47422\"},\"ticker\":{\"id\":\"47395\"}},\"id\":\"47394\",\"type\":\"LinearAxis\"},{\"attributes\":{\"children\":[{\"id\":\"47381\"},{\"id\":\"47385\"},{\"id\":\"47456\"}],\"margin\":[0,0,0,0],\"name\":\"Row315391\",\"tags\":[\"embedded\"]},\"id\":\"47380\",\"type\":\"Row\"},{\"attributes\":{\"axis\":{\"id\":\"47398\"},\"coordinates\":null,\"dimension\":1,\"grid_line_color\":null,\"group\":null,\"ticker\":null,\"visible\":false},\"id\":\"47400\",\"type\":\"Grid\"},{\"attributes\":{\"fill_alpha\":{\"value\":0.1},\"fill_color\":{\"field\":\"Name\",\"transform\":{\"id\":\"47407\"}},\"hatch_alpha\":{\"value\":0.1},\"hatch_color\":{\"field\":\"Name\",\"transform\":{\"id\":\"47407\"}},\"height\":{\"value\":0.8},\"left\":{\"field\":\"bottom\"},\"line_alpha\":{\"value\":0.1},\"line_color\":{\"value\":\"white\"},\"line_width\":{\"value\":0.2},\"right\":{\"field\":\"top\"},\"y\":{\"field\":\"Process_ID\"}},\"id\":\"47412\",\"type\":\"HBar\"}],\"root_ids\":[\"47380\"]},\"title\":\"Bokeh Application\",\"version\":\"2.4.2\"}};\n",
       "    var render_items = [{\"docid\":\"e4a10426-dacf-4326-8f4b-4da6104e6659\",\"root_ids\":[\"47380\"],\"roots\":{\"47380\":\"032d3899-8277-4f3d-a3c7-47917fdb9210\"}}];\n",
       "    root.Bokeh.embed.embed_items_notebook(docs_json, render_items);\n",
       "  }\n",
       "  if (root.Bokeh !== undefined && root.Bokeh.Panel !== undefined) {\n",
       "    embed_document(root);\n",
       "  } else {\n",
       "    var attempts = 0;\n",
       "    var timer = setInterval(function(root) {\n",
       "      if (root.Bokeh !== undefined && root.Bokeh.Panel !== undefined) {\n",
       "        clearInterval(timer);\n",
       "        embed_document(root);\n",
       "      } else if (document.readyState == \"complete\") {\n",
       "        attempts++;\n",
       "        if (attempts > 200) {\n",
       "          clearInterval(timer);\n",
       "          console.log(\"Bokeh: ERROR: Unable to run BokehJS code because BokehJS library is missing\");\n",
       "        }\n",
       "      }\n",
       "    }, 25, root)\n",
       "  }\n",
       "})(window);</script>"
      ],
      "text/plain": [
       ":Bars   [Process ID,Name]   (Exc Time)"
      ]
     },
     "execution_count": 133,
     "metadata": {
      "application/vnd.holoviews_exec.v0+json": {
       "id": "47380"
      }
     },
     "output_type": "execute_result"
    }
   ],
   "source": [
    "# Summary view\n",
    "from pipit.vis import summary\n",
    "summary(trace)"
   ]
  },
  {
   "cell_type": "code",
   "execution_count": null,
   "metadata": {},
   "outputs": [],
   "source": [
    "# Communication heatmap view\n",
    "from pipit.vis import comm_heatmap\n",
    "comm_heatmap(trace)"
   ]
  },
  {
   "cell_type": "code",
   "execution_count": null,
   "metadata": {},
   "outputs": [],
   "source": [
    "# Communication graph view\n",
    "from pipit.vis import comm_graph\n",
    "comm_graph(trace)"
   ]
  },
  {
   "cell_type": "code",
   "execution_count": null,
   "metadata": {},
   "outputs": [],
   "source": [
    "# Communication over time view\n",
    "from pipit.vis import comm_over_time\n",
    "comm_over_time(trace)"
   ]
  },
  {
   "cell_type": "code",
   "execution_count": null,
   "metadata": {},
   "outputs": [],
   "source": [
    "# Communication summary\n",
    "from pipit.vis import comm_sum\n",
    "comm_sum(trace)"
   ]
  },
  {
   "cell_type": "code",
   "execution_count": null,
   "metadata": {},
   "outputs": [],
   "source": [
    "# Function summary\n",
    "from pipit.vis import function_sum\n",
    "function_sum(trace)"
   ]
  }
 ],
 "metadata": {
  "kernelspec": {
   "display_name": "Python 3 (ipykernel)",
   "language": "python",
   "name": "python3"
  },
  "language_info": {
   "codemirror_mode": {
    "name": "ipython",
    "version": 3
   },
   "file_extension": ".py",
   "mimetype": "text/x-python",
   "name": "python",
   "nbconvert_exporter": "python",
   "pygments_lexer": "ipython3",
   "version": "3.10.4"
  },
  "vscode": {
   "interpreter": {
    "hash": "53f1b643324a9d1a40adb1143c48f338c9da0643d653eb78aa54e35cd5dbd8dd"
   }
  }
 },
 "nbformat": 4,
 "nbformat_minor": 4
}
