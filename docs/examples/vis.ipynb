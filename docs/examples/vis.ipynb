{
 "cells": [
  {
   "cell_type": "code",
   "execution_count": null,
   "id": "e5841460",
   "metadata": {},
   "outputs": [],
   "source": [
    "%load_ext autoreload\n",
    "%autoreload 2\n",
    "import sys\n",
    "\n",
    "sys.path.append(\"../../\")"
   ]
  },
  {
   "cell_type": "code",
   "execution_count": null,
   "id": "da5ebec2",
   "metadata": {},
   "outputs": [],
   "source": [
    "import pipit as pp"
   ]
  },
  {
   "cell_type": "code",
   "execution_count": null,
   "id": "7070057d",
   "metadata": {},
   "outputs": [],
   "source": [
    "ping_pong = pp.Trace.from_otf2(\"../../pipit/tests/data/ping-pong-otf2\")\n",
    "ping_pong"
   ]
  },
  {
   "cell_type": "code",
   "execution_count": null,
   "id": "2476f1f3-a6cf-49f2-8e3e-0e004f088504",
   "metadata": {},
   "outputs": [],
   "source": [
    "ping_pong.plot_comm_matrix()"
   ]
  },
  {
   "cell_type": "code",
   "execution_count": null,
   "id": "a4aff933",
   "metadata": {},
   "outputs": [],
   "source": [
    "ping_pong.plot_message_histogram()"
   ]
  },
  {
   "cell_type": "code",
   "execution_count": null,
   "id": "d7318b31-b9bf-4a28-ac44-b75614d2ddf4",
   "metadata": {},
   "outputs": [],
   "source": [
    "ping_pong.plot_timeline()"
   ]
  }
 ],
 "metadata": {
  "kernelspec": {
   "display_name": "Python 3 (ipykernel)",
   "language": "python",
   "name": "python3"
  },
  "language_info": {
   "codemirror_mode": {
    "name": "ipython",
    "version": 3
   },
   "file_extension": ".py",
   "mimetype": "text/x-python",
   "name": "python",
   "nbconvert_exporter": "python",
   "pygments_lexer": "ipython3",
   "version": "3.11.6"
  }
 },
 "nbformat": 4,
 "nbformat_minor": 5
}
