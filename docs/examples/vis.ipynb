{
 "cells": [
  {
   "cell_type": "code",
   "execution_count": null,
   "metadata": {},
   "outputs": [],
   "source": [
    "# Set up notebook for development\n",
    "%load_ext autoreload\n",
    "%autoreload 2\n",
    "\n",
    "# Set up paths\n",
    "import sys\n",
    "sys.path.append(\"/home/linuxbrew/.linuxbrew/Cellar/otf2/3.0/lib/python3.10/site-packages\")\n",
    "sys.path.append(\"../../.\")\n",
    "del sys.path[0]\n",
    "\n",
    "import pipit as pp\n",
    "import pandas as pd"
   ]
  },
  {
   "cell_type": "code",
   "execution_count": null,
   "metadata": {
    "tags": []
   },
   "outputs": [],
   "source": [
    "# Load sample trace into Pipit\n",
    "dirname = \"C:/Users/Rakrish/Downloads/pingPong.pkl\"\n",
    "trace = pp.Trace(None, pd.read_pickle(dirname, compression=\"zip\"))\n",
    "trace.events.rename(columns={\"Event\": \"Event Type\", \"Location ID\": \"Process ID\"}, inplace=True)\n",
    "trace.events.drop(columns=[\"Location Type\", \"Location Group ID\", \"Location Group Type\"], inplace=True)\n",
    "trace.events.replace(\"Enter\", \"Entry\", inplace=True)\n",
    "trace.events.replace(\"Leave\", \"Exit\", inplace=True)\n",
    "trace.create_cct()"
   ]
  },
  {
   "cell_type": "code",
   "execution_count": null,
   "metadata": {},
   "outputs": [],
   "source": [
    "trace.init_vis(server=False)"
   ]
  },
  {
   "cell_type": "code",
   "execution_count": null,
   "metadata": {
    "tags": []
   },
   "outputs": [],
   "source": [
    "trace.vis.timeline()"
   ]
  },
  {
   "cell_type": "code",
   "execution_count": null,
   "metadata": {
    "scrolled": true
   },
   "outputs": [],
   "source": [
    "trace.vis.function_summary()"
   ]
  },
  {
   "cell_type": "code",
   "execution_count": null,
   "metadata": {},
   "outputs": [],
   "source": [
    "trace.vis.process_summary()"
   ]
  },
  {
   "cell_type": "code",
   "execution_count": null,
   "metadata": {
    "tags": []
   },
   "outputs": [],
   "source": [
    "trace.vis.utilization()"
   ]
  },
  {
   "cell_type": "code",
   "execution_count": null,
   "metadata": {
    "scrolled": true
   },
   "outputs": [],
   "source": [
    "trace.vis.comm_heatmap()"
   ]
  },
  {
   "cell_type": "code",
   "execution_count": null,
   "metadata": {
    "scrolled": true
   },
   "outputs": [],
   "source": [
    "trace.vis.time_profile()"
   ]
  },
  {
   "cell_type": "code",
   "execution_count": null,
   "metadata": {},
   "outputs": [],
   "source": [
    "trace.vis.comm_summary()"
   ]
  }
 ],
 "metadata": {
  "kernelspec": {
   "display_name": "Python 3 (ipykernel)",
   "language": "python",
   "name": "python3"
  },
  "language_info": {
   "codemirror_mode": {
    "name": "ipython",
    "version": 3
   },
   "file_extension": ".py",
   "mimetype": "text/x-python",
   "name": "python",
   "nbconvert_exporter": "python",
   "pygments_lexer": "ipython3",
   "version": "3.10.4"
  },
  "vscode": {
   "interpreter": {
    "hash": "53f1b643324a9d1a40adb1143c48f338c9da0643d653eb78aa54e35cd5dbd8dd"
   }
  }
 },
 "nbformat": 4,
 "nbformat_minor": 4
}
