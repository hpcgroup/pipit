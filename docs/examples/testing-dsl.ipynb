{
 "cells": [
  {
   "cell_type": "code",
   "execution_count": 1,
   "id": "8227bf9b-a386-4cb0-9eba-a7e258bf1d00",
   "metadata": {},
   "outputs": [],
   "source": [
    "%load_ext autoreload \n",
    "%autoreload 2"
   ]
  },
  {
   "cell_type": "code",
   "execution_count": 2,
   "id": "7c95d344-9406-4c66-978a-e7032df0967b",
   "metadata": {},
   "outputs": [],
   "source": [
    "import sys\n",
    "sys.path.append(\"../..\")"
   ]
  },
  {
   "cell_type": "code",
   "execution_count": 3,
   "id": "a8ea89f2-3d70-486c-9901-aeb4900169cb",
   "metadata": {},
   "outputs": [],
   "source": [
    "import pandas as pd\n",
    "import numpy as np\n",
    "import pipit as pp"
   ]
  },
  {
   "cell_type": "code",
   "execution_count": 4,
   "id": "589e87fd-d8d1-4ddf-a426-b911410379c4",
   "metadata": {},
   "outputs": [
    {
     "data": {
      "text/html": [
       "<div>\n",
       "<style scoped>\n",
       "    .dataframe tbody tr th:only-of-type {\n",
       "        vertical-align: middle;\n",
       "    }\n",
       "\n",
       "    .dataframe tbody tr th {\n",
       "        vertical-align: top;\n",
       "    }\n",
       "\n",
       "    .dataframe thead th {\n",
       "        text-align: right;\n",
       "    }\n",
       "</style>\n",
       "<table border=\"1\" class=\"dataframe\">\n",
       "  <thead>\n",
       "    <tr style=\"text-align: right;\">\n",
       "      <th></th>\n",
       "      <th>Timestamp (ns)</th>\n",
       "      <th>Name</th>\n",
       "      <th>Event Type</th>\n",
       "      <th>Process</th>\n",
       "      <th>Thread</th>\n",
       "      <th>idx</th>\n",
       "    </tr>\n",
       "  </thead>\n",
       "  <tbody>\n",
       "    <tr>\n",
       "      <th>0</th>\n",
       "      <td>0.000000e+00</td>\n",
       "      <td>ProgramBegin</td>\n",
       "      <td>Instant</td>\n",
       "      <td>1</td>\n",
       "      <td>0</td>\n",
       "      <td>0</td>\n",
       "    </tr>\n",
       "    <tr>\n",
       "      <th>1</th>\n",
       "      <td>3.008309e+04</td>\n",
       "      <td>int main(int, char**)</td>\n",
       "      <td>Enter</td>\n",
       "      <td>1</td>\n",
       "      <td>0</td>\n",
       "      <td>1</td>\n",
       "    </tr>\n",
       "    <tr>\n",
       "      <th>2</th>\n",
       "      <td>4.028833e+04</td>\n",
       "      <td>MPI_Init</td>\n",
       "      <td>Enter</td>\n",
       "      <td>1</td>\n",
       "      <td>0</td>\n",
       "      <td>2</td>\n",
       "    </tr>\n",
       "    <tr>\n",
       "      <th>3</th>\n",
       "      <td>3.077309e+05</td>\n",
       "      <td>ProgramBegin</td>\n",
       "      <td>Instant</td>\n",
       "      <td>0</td>\n",
       "      <td>0</td>\n",
       "      <td>0</td>\n",
       "    </tr>\n",
       "    <tr>\n",
       "      <th>4</th>\n",
       "      <td>3.369797e+05</td>\n",
       "      <td>int main(int, char**)</td>\n",
       "      <td>Enter</td>\n",
       "      <td>0</td>\n",
       "      <td>0</td>\n",
       "      <td>1</td>\n",
       "    </tr>\n",
       "    <tr>\n",
       "      <th>...</th>\n",
       "      <td>...</td>\n",
       "      <td>...</td>\n",
       "      <td>...</td>\n",
       "      <td>...</td>\n",
       "      <td>...</td>\n",
       "      <td>...</td>\n",
       "    </tr>\n",
       "    <tr>\n",
       "      <th>115</th>\n",
       "      <td>1.995748e+08</td>\n",
       "      <td>MPI_Finalize</td>\n",
       "      <td>Leave</td>\n",
       "      <td>1</td>\n",
       "      <td>0</td>\n",
       "      <td>57</td>\n",
       "    </tr>\n",
       "    <tr>\n",
       "      <th>116</th>\n",
       "      <td>1.995752e+08</td>\n",
       "      <td>int main(int, char**)</td>\n",
       "      <td>Leave</td>\n",
       "      <td>0</td>\n",
       "      <td>0</td>\n",
       "      <td>58</td>\n",
       "    </tr>\n",
       "    <tr>\n",
       "      <th>117</th>\n",
       "      <td>1.995768e+08</td>\n",
       "      <td>int main(int, char**)</td>\n",
       "      <td>Leave</td>\n",
       "      <td>1</td>\n",
       "      <td>0</td>\n",
       "      <td>58</td>\n",
       "    </tr>\n",
       "    <tr>\n",
       "      <th>118</th>\n",
       "      <td>1.996033e+08</td>\n",
       "      <td>ProgramEnd</td>\n",
       "      <td>Instant</td>\n",
       "      <td>0</td>\n",
       "      <td>0</td>\n",
       "      <td>59</td>\n",
       "    </tr>\n",
       "    <tr>\n",
       "      <th>119</th>\n",
       "      <td>1.996045e+08</td>\n",
       "      <td>ProgramEnd</td>\n",
       "      <td>Instant</td>\n",
       "      <td>1</td>\n",
       "      <td>0</td>\n",
       "      <td>59</td>\n",
       "    </tr>\n",
       "  </tbody>\n",
       "</table>\n",
       "<p>120 rows × 6 columns</p>\n",
       "</div>"
      ],
      "text/plain": [
       "     Timestamp (ns)                   Name Event Type  Process Thread  idx\n",
       "0      0.000000e+00           ProgramBegin    Instant        1      0    0\n",
       "1      3.008309e+04  int main(int, char**)      Enter        1      0    1\n",
       "2      4.028833e+04               MPI_Init      Enter        1      0    2\n",
       "3      3.077309e+05           ProgramBegin    Instant        0      0    0\n",
       "4      3.369797e+05  int main(int, char**)      Enter        0      0    1\n",
       "..              ...                    ...        ...      ...    ...  ...\n",
       "115    1.995748e+08           MPI_Finalize      Leave        1      0   57\n",
       "116    1.995752e+08  int main(int, char**)      Leave        0      0   58\n",
       "117    1.995768e+08  int main(int, char**)      Leave        1      0   58\n",
       "118    1.996033e+08             ProgramEnd    Instant        0      0   59\n",
       "119    1.996045e+08             ProgramEnd    Instant        1      0   59\n",
       "\n",
       "[120 rows x 6 columns]"
      ]
     },
     "execution_count": 4,
     "metadata": {},
     "output_type": "execute_result"
    }
   ],
   "source": [
    "trace = pp.Trace.from_otf2(\"../../pipit/tests/data/ping-pong-otf2/\")\n",
    "pandas_df = trace.events[[\"Timestamp (ns)\", \"Name\", \"Event Type\", \"Process\", \"Thread\"]].copy()\n",
    "pandas_df[\"Process\"] = pandas_df[\"Process\"].astype(int)\n",
    "# stream = pandas_df.groupby([\"Process\", \"Thread\"]).ngroup()\n",
    "# sindex = pandas_df.groupby(['Process', 'Thread']).cumcount()\n",
    "# pandas_df[\"idx\"] = list(zip(stream, sindex))\n",
    "# stream = pandas_df.groupby([\"Process\"]).ngroup()\n",
    "idx = pandas_df.groupby(['Process']).cumcount()\n",
    "pandas_df[\"idx\"] = idx\n",
    "pandas_df"
   ]
  },
  {
   "cell_type": "code",
   "execution_count": 15,
   "id": "0cd98b63-aa0a-4384-8362-48b2c5752007",
   "metadata": {},
   "outputs": [
    {
     "data": {
      "text/plain": [
       "'pandas'"
      ]
     },
     "execution_count": 15,
     "metadata": {},
     "output_type": "execute_result"
    }
   ],
   "source": [
    "pp.set_option(\"backend\", \"pandas\")\n",
    "pp.get_option(\"backend\")"
   ]
  },
  {
   "cell_type": "code",
   "execution_count": 31,
   "id": "7f64889f-9263-4943-be99-1f3222f52dfa",
   "metadata": {},
   "outputs": [
    {
     "name": "stdout",
     "output_type": "stream",
     "text": [
      ":TraceDataset   (0 events)\n"
     ]
    }
   ],
   "source": [
    "ds = pp.dsl.create_dataset()\n",
    "ds.show()"
   ]
  },
  {
   "cell_type": "code",
   "execution_count": 32,
   "id": "7d6ab84d-fd14-4803-9935-479b0ca79a0f",
   "metadata": {},
   "outputs": [
    {
     "data": {
      "text/plain": [
       ":Event   {'rank': 1, 'idx': 0, 'thread': 0, 'timestamp': 0.0, 'event_type': 'Instant', 'name': 'ProgramBegin'}"
      ]
     },
     "execution_count": 32,
     "metadata": {},
     "output_type": "execute_result"
    }
   ],
   "source": [
    "# simulating a reader\n",
    "row = pandas_df.iloc[0]\n",
    "evt = pp.dsl.Event(\n",
    "    rank=row[\"Process\"],\n",
    "    idx=row[\"idx\"],\n",
    "    thread=row[\"Thread\"],\n",
    "    timestamp=row[\"Timestamp (ns)\"],\n",
    "    event_type=row[\"Event Type\"],\n",
    "    name=row[\"Name\"],\n",
    ")\n",
    "evt"
   ]
  },
  {
   "cell_type": "code",
   "execution_count": 33,
   "id": "01f0c73d-43b3-4c01-bd1f-283896364ab5",
   "metadata": {},
   "outputs": [
    {
     "data": {
      "text/plain": [
       "{}"
      ]
     },
     "execution_count": 33,
     "metadata": {},
     "output_type": "execute_result"
    }
   ],
   "source": [
    "ds.buffer"
   ]
  },
  {
   "cell_type": "code",
   "execution_count": 34,
   "id": "892566f1-878a-41e6-a9b3-8bd48edca6e2",
   "metadata": {},
   "outputs": [
    {
     "data": {
      "text/plain": [
       "{1: [{'idx': 0,\n",
       "   'thread': 0,\n",
       "   'timestamp': 0.0,\n",
       "   'event_type': 'Instant',\n",
       "   'name': 'ProgramBegin'}]}"
      ]
     },
     "execution_count": 34,
     "metadata": {},
     "output_type": "execute_result"
    }
   ],
   "source": [
    "ds.push_event(evt)\n",
    "# ds.flush()\n",
    "# ds.show()\n",
    "ds.buffer"
   ]
  },
  {
   "cell_type": "code",
   "execution_count": 40,
   "id": "304833af-74bb-4c04-b086-48a9d24b1ff0",
   "metadata": {},
   "outputs": [
    {
     "name": "stdout",
     "output_type": "stream",
     "text": [
      "+--------+-------+----------+-------------+--------------+--------------+\n",
      "|   rank |   idx |   thread |   timestamp | event_type   | name         |\n",
      "|--------+-------+----------+-------------+--------------+--------------|\n",
      "|      1 |     0 |        0 |           0 | Instant      | ProgramBegin |\n",
      "+--------+-------+----------+-------------+--------------+--------------+\n",
      ":TraceDataset   (1 events)\n"
     ]
    }
   ],
   "source": [
    "ds.flush()\n",
    "ds.show()"
   ]
  },
  {
   "cell_type": "code",
   "execution_count": 29,
   "id": "c64447cf-176d-44ad-9abe-c4cb8345ee86",
   "metadata": {},
   "outputs": [
    {
     "data": {
      "text/html": [
       "<div>\n",
       "<style scoped>\n",
       "    .dataframe tbody tr th:only-of-type {\n",
       "        vertical-align: middle;\n",
       "    }\n",
       "\n",
       "    .dataframe tbody tr th {\n",
       "        vertical-align: top;\n",
       "    }\n",
       "\n",
       "    .dataframe thead th {\n",
       "        text-align: right;\n",
       "    }\n",
       "</style>\n",
       "<table border=\"1\" class=\"dataframe\">\n",
       "  <thead>\n",
       "    <tr style=\"text-align: right;\">\n",
       "      <th></th>\n",
       "      <th>thread</th>\n",
       "      <th>timestamp</th>\n",
       "      <th>event_type</th>\n",
       "      <th>name</th>\n",
       "    </tr>\n",
       "    <tr>\n",
       "      <th>idx</th>\n",
       "      <th></th>\n",
       "      <th></th>\n",
       "      <th></th>\n",
       "      <th></th>\n",
       "    </tr>\n",
       "  </thead>\n",
       "  <tbody>\n",
       "    <tr>\n",
       "      <th>0</th>\n",
       "      <td>0</td>\n",
       "      <td>0.0</td>\n",
       "      <td>Instant</td>\n",
       "      <td>ProgramBegin</td>\n",
       "    </tr>\n",
       "    <tr>\n",
       "      <th>0</th>\n",
       "      <td>0</td>\n",
       "      <td>0.0</td>\n",
       "      <td>Instant</td>\n",
       "      <td>ProgramBegin</td>\n",
       "    </tr>\n",
       "  </tbody>\n",
       "</table>\n",
       "</div>"
      ],
      "text/plain": [
       "     thread  timestamp event_type          name\n",
       "idx                                            \n",
       "0         0        0.0    Instant  ProgramBegin\n",
       "0         0        0.0    Instant  ProgramBegin"
      ]
     },
     "execution_count": 29,
     "metadata": {},
     "output_type": "execute_result"
    }
   ],
   "source": [
    "ds.data[1]"
   ]
  },
  {
   "cell_type": "code",
   "execution_count": 22,
   "id": "247fc792-2d1c-4bf6-8168-0edb7eaa9536",
   "metadata": {},
   "outputs": [
    {
     "name": "stdout",
     "output_type": "stream",
     "text": [
      "+--------+-------+----------+-------------+--------------+--------------+\n",
      "|   rank |   idx |   thread |   timestamp | event_type   | name         |\n",
      "|--------+-------+----------+-------------+--------------+--------------|\n",
      "|      1 |     0 |        0 |           0 | Instant      | ProgramBegin |\n",
      "|      1 |     0 |        0 |           0 | Instant      | ProgramBegin |\n",
      "+--------+-------+----------+-------------+--------------+--------------+\n",
      ":TraceDataset   (2 events)\n"
     ]
    }
   ],
   "source": [
    "ds.flush()\n",
    "ds.show()"
   ]
  },
  {
   "cell_type": "code",
   "execution_count": 10,
   "id": "80f9f7ec-ee1e-49de-95a9-a869c40116d1",
   "metadata": {},
   "outputs": [
    {
     "name": "stdout",
     "output_type": "stream",
     "text": [
      "+-------+--------+----------+--------------------+--------------+-----------------------+\n",
      "| idx   | rank   | thread   | timestamp          | event_type   | name                  |\n",
      "|-------+--------+----------+--------------------+--------------+-----------------------|\n",
      "| 0     | 1      | 0        | 0.0                | Instant      | ProgramBegin          |\n",
      "| 0     | 1      | 0        | 0.0                | Instant      | ProgramBegin          |\n",
      "| 0     | 1      | 0        | 0.0                | Instant      | ProgramBegin          |\n",
      "| 1     | 1      | 0        | 30083.086937435106 | Enter        | int main(int, char**) |\n",
      "| 2     | 1      | 0        | 40288.33150186851  | Enter        | MPI_Init              |\n",
      "| ...   | ...    | ...      | ...                | ...          | ...                   |\n",
      "| 57    | 1      | 0        | 199574793.63126454 | Leave        | MPI_Finalize          |\n",
      "| 58    | 0      | 0        | 199575243.23094556 | Leave        | int main(int, char**) |\n",
      "| 58    | 1      | 0        | 199576798.2158296  | Leave        | int main(int, char**) |\n",
      "| 59    | 0      | 0        | 199603304.5511645  | Instant      | ProgramEnd            |\n",
      "| 59    | 1      | 0        | 199604459.57369962 | Instant      | ProgramEnd            |\n",
      "+-------+--------+----------+--------------------+--------------+-----------------------+\n",
      ":TraceDataset   (182 events)\n"
     ]
    }
   ],
   "source": [
    "for i in range(1, len(pandas_df)):\n",
    "    row = pandas_df.iloc[i]\n",
    "    evt = pp.dsl.Event(\n",
    "        rank=row[\"Process\"],\n",
    "        idx=row[\"idx\"],\n",
    "        thread=row[\"Thread\"],\n",
    "        timestamp=row[\"Timestamp (ns)\"],\n",
    "        event_type=row[\"Event Type\"],\n",
    "        name=row[\"Name\"],\n",
    "    )\n",
    "    ds.push_event(evt)\n",
    "\n",
    "ds.flush()\n",
    "ds.show()"
   ]
  },
  {
   "cell_type": "code",
   "execution_count": 11,
   "id": "81d954e9-e27e-4434-98d5-b3c560f1051d",
   "metadata": {},
   "outputs": [
    {
     "name": "stdout",
     "output_type": "stream",
     "text": [
      "+-------+--------+----------+--------------------+--------------+-----------------------+\n",
      "| idx   | rank   | thread   | timestamp          | event_type   | name                  |\n",
      "|-------+--------+----------+--------------------+--------------+-----------------------|\n",
      "| 0     | 1      | 0        | 0.0                | Instant      | ProgramBegin          |\n",
      "| 0     | 1      | 0        | 0.0                | Instant      | ProgramBegin          |\n",
      "| 0     | 1      | 0        | 0.0                | Instant      | ProgramBegin          |\n",
      "| 1     | 1      | 0        | 30083.086937435106 | Enter        | int main(int, char**) |\n",
      "| 2     | 1      | 0        | 40288.33150186851  | Enter        | MPI_Init              |\n",
      "| ...   | ...    | ...      | ...                | ...          | ...                   |\n",
      "| 57    | 1      | 0        | 199574793.63126454 | Leave        | MPI_Finalize          |\n",
      "| 58    | 0      | 0        | 199575243.23094556 | Leave        | int main(int, char**) |\n",
      "| 58    | 1      | 0        | 199576798.2158296  | Leave        | int main(int, char**) |\n",
      "| 59    | 0      | 0        | 199603304.5511645  | Instant      | ProgramEnd            |\n",
      "| 59    | 1      | 0        | 199604459.57369962 | Instant      | ProgramEnd            |\n",
      "+-------+--------+----------+--------------------+--------------+-----------------------+\n",
      ":TraceDataset   (182 events)\n"
     ]
    }
   ],
   "source": [
    "ds.show()"
   ]
  },
  {
   "cell_type": "code",
   "execution_count": 165,
   "id": "8334f1a2-2a3b-4314-89b2-c5390f83673c",
   "metadata": {},
   "outputs": [
    {
     "data": {
      "text/plain": [
       ":Event   {'rank': 1, 'idx': 57, 'thread': 0, 'timestamp': 199574793.63126454, 'event_type': 'Leave', 'name': 'MPI_Finalize'}"
      ]
     },
     "execution_count": 165,
     "metadata": {},
     "output_type": "execute_result"
    }
   ],
   "source": [
    "ds.loc[1, 57]"
   ]
  },
  {
   "cell_type": "code",
   "execution_count": 167,
   "id": "32cbbd3a-29e1-4f05-b391-10d71167bfd8",
   "metadata": {},
   "outputs": [
    {
     "name": "stdout",
     "output_type": "stream",
     "text": [
      "+--------+-------+----------+-------------+--------------+--------------+\n",
      "|   rank |   idx |   thread |   timestamp | event_type   | name         |\n",
      "|--------+-------+----------+-------------+--------------+--------------|\n",
      "|      1 |    50 |        0 | 1.97951e+08 | Enter        | MPI_Recv     |\n",
      "|      1 |    51 |        0 | 1.98502e+08 | Instant      | MpiRecv      |\n",
      "|      1 |    52 |        0 | 1.98503e+08 | Leave        | MPI_Recv     |\n",
      "|      1 |    53 |        0 | 1.98503e+08 | Enter        | MPI_Send     |\n",
      "|      1 |    54 |        0 | 1.98504e+08 | Instant      | MpiSend      |\n",
      "|      1 |    55 |        0 | 1.9932e+08  | Leave        | MPI_Send     |\n",
      "|      1 |    56 |        0 | 1.9953e+08  | Enter        | MPI_Finalize |\n",
      "|      1 |    57 |        0 | 1.99575e+08 | Leave        | MPI_Finalize |\n",
      "+--------+-------+----------+-------------+--------------+--------------+\n",
      ":TraceDataset   (8 events)\n"
     ]
    }
   ],
   "source": [
    "ds.loc[1, 50:57].show()"
   ]
  },
  {
   "cell_type": "code",
   "execution_count": 172,
   "id": "94d5b72a-d9db-48ec-8232-30800dd93028",
   "metadata": {},
   "outputs": [
    {
     "name": "stdout",
     "output_type": "stream",
     "text": [
      "+--------+-------+----------+--------------------+--------------+-----------------------+\n",
      "| rank   | idx   | thread   | timestamp          | event_type   | name                  |\n",
      "|--------+-------+----------+--------------------+--------------+-----------------------|\n",
      "| 1      | 0     | 0        | 0.0                | Instant      | ProgramBegin          |\n",
      "| 1      | 1     | 0        | 30083.086937435106 | Enter        | int main(int, char**) |\n",
      "| 1      | 2     | 0        | 40288.33150186851  | Enter        | MPI_Init              |\n",
      "| 0      | 0     | 0        | 307730.9358165928  | Instant      | ProgramBegin          |\n",
      "| 0      | 1     | 0        | 336979.73374932166 | Enter        | int main(int, char**) |\n",
      "| ...    | ...   | ...      | ...                | ...          | ...                   |\n",
      "| 1      | 57    | 0        | 199574793.63126454 | Leave        | MPI_Finalize          |\n",
      "| 0      | 58    | 0        | 199575243.23094556 | Leave        | int main(int, char**) |\n",
      "| 1      | 58    | 0        | 199576798.2158296  | Leave        | int main(int, char**) |\n",
      "| 0      | 59    | 0        | 199603304.5511645  | Instant      | ProgramEnd            |\n",
      "| 1      | 59    | 0        | 199604459.57369962 | Instant      | ProgramEnd            |\n",
      "+--------+-------+----------+--------------------+--------------+-----------------------+\n",
      ":TraceDataset   (120 events)\n"
     ]
    }
   ],
   "source": [
    "ds.loc[0:2, :].show()"
   ]
  },
  {
   "cell_type": "code",
   "execution_count": 174,
   "id": "b00ed4f3-7c6c-47a1-98e0-2468a916bb8a",
   "metadata": {},
   "outputs": [
    {
     "name": "stdout",
     "output_type": "stream",
     "text": [
      "+--------+-------+----------+------------------+--------------+----------+\n",
      "|   rank |   idx |   thread |        timestamp | event_type   | name     |\n",
      "|--------+-------+----------+------------------+--------------+----------|\n",
      "|      1 |     2 |        0 |  40288.3         | Enter        | MPI_Init |\n",
      "|      0 |     2 |        0 | 346055           | Enter        | MPI_Init |\n",
      "|      0 |     3 |        0 |      1.93643e+08 | Leave        | MPI_Init |\n",
      "|      1 |     3 |        0 |      1.93644e+08 | Leave        | MPI_Init |\n",
      "+--------+-------+----------+------------------+--------------+----------+\n",
      ":TraceDataset   (4 events)\n"
     ]
    }
   ],
   "source": [
    "ds.filter(\"name == 'MPI_Init'\").show()"
   ]
  },
  {
   "cell_type": "code",
   "execution_count": 175,
   "id": "1a715e08-31a9-418e-9989-b6980eb892a2",
   "metadata": {},
   "outputs": [
    {
     "name": "stdout",
     "output_type": "stream",
     "text": [
      "+--------+-------+----------+--------------------+--------------+----------+\n",
      "| rank   | idx   | thread   | timestamp          | event_type   | name     |\n",
      "|--------+-------+----------+--------------------+--------------+----------|\n",
      "| 1      | 2     | 0        | 40288.33150186851  | Enter        | MPI_Init |\n",
      "| 0      | 2     | 0        | 346054.77444467926 | Enter        | MPI_Init |\n",
      "| 0      | 3     | 0        | 193643138.1741584  | Leave        | MPI_Init |\n",
      "| 1      | 3     | 0        | 193643835.4832178  | Leave        | MPI_Init |\n",
      "| 0      | 8     | 0        | 193668225.07270837 | Enter        | MPI_Send |\n",
      "| ...    | ...   | ...      | ...                | ...          | ...      |\n",
      "| 1      | 53    | 0        | 198503365.13620108 | Enter        | MPI_Send |\n",
      "| 0      | 52    | 0        | 198506398.7408429  | Leave        | MPI_Send |\n",
      "| 0      | 53    | 0        | 198506691.79201505 | Enter        | MPI_Recv |\n",
      "| 1      | 55    | 0        | 199319910.70381415 | Leave        | MPI_Send |\n",
      "| 0      | 55    | 0        | 199320512.07918367 | Leave        | MPI_Recv |\n",
      "+--------+-------+----------+--------------------+--------------+----------+\n",
      ":TraceDataset   (68 events)\n"
     ]
    }
   ],
   "source": [
    "ds.filter(\"name in ('MPI_Init', 'MPI_Send', 'MPI_Recv')\").show()"
   ]
  },
  {
   "cell_type": "code",
   "execution_count": 151,
   "id": "c90ffb49-3d72-41ef-b018-5832b6b92b1c",
   "metadata": {},
   "outputs": [
    {
     "name": "stdout",
     "output_type": "stream",
     "text": [
      "+--------+-------+----------+--------------------+--------------+-----------------------+\n",
      "| rank   | idx   | thread   | timestamp          | event_type   | name                  |\n",
      "|--------+-------+----------+--------------------+--------------+-----------------------|\n",
      "| 0      | 0     | 0        | 307730.9358165928  | Instant      | ProgramBegin          |\n",
      "| 0      | 1     | 0        | 336979.73374932166 | Enter        | int main(int, char**) |\n",
      "| 0      | 2     | 0        | 346054.77444467926 | Enter        | MPI_Init              |\n",
      "| 0      | 3     | 0        | 193643138.1741584  | Leave        | MPI_Init              |\n",
      "| 1      | 3     | 0        | 193643835.4832178  | Leave        | MPI_Init              |\n",
      "| ...    | ...   | ...      | ...                | ...          | ...                   |\n",
      "| 1      | 57    | 0        | 199574793.63126454 | Leave        | MPI_Finalize          |\n",
      "| 0      | 58    | 0        | 199575243.23094556 | Leave        | int main(int, char**) |\n",
      "| 1      | 58    | 0        | 199576798.2158296  | Leave        | int main(int, char**) |\n",
      "| 0      | 59    | 0        | 199603304.5511645  | Instant      | ProgramEnd            |\n",
      "| 1      | 59    | 0        | 199604459.57369962 | Instant      | ProgramEnd            |\n",
      "+--------+-------+----------+--------------------+--------------+-----------------------+\n",
      ":TraceDataset   (117 events)\n"
     ]
    }
   ],
   "source": [
    "ds.filter(\"timestamp > 1e5\").show()"
   ]
  },
  {
   "cell_type": "code",
   "execution_count": 152,
   "id": "2d0e6cff-26cd-4d17-8fc9-c07993f4cccd",
   "metadata": {},
   "outputs": [
    {
     "name": "stdout",
     "output_type": "stream",
     "text": [
      "+--------+-------+----------+------------------+--------------+----------+\n",
      "|   rank |   idx |   thread |        timestamp | event_type   | name     |\n",
      "|--------+-------+----------+------------------+--------------+----------|\n",
      "|      1 |     2 |        0 |  40288.3         | Enter        | MPI_Init |\n",
      "|      0 |     2 |        0 | 346055           | Enter        | MPI_Init |\n",
      "|      0 |     3 |        0 |      1.93643e+08 | Leave        | MPI_Init |\n",
      "|      1 |     3 |        0 |      1.93644e+08 | Leave        | MPI_Init |\n",
      "+--------+-------+----------+------------------+--------------+----------+\n",
      ":TraceDataset   (4 events)\n"
     ]
    }
   ],
   "source": [
    "ds.filter(\"name == 'MPI_Init'\").show()"
   ]
  },
  {
   "cell_type": "code",
   "execution_count": 153,
   "id": "d95b8466-f968-4f14-be23-36b4d0fc0a57",
   "metadata": {},
   "outputs": [
    {
     "name": "stdout",
     "output_type": "stream",
     "text": [
      "+--------+-------+----------+--------------------+--------------+-----------------------+\n",
      "| rank   | idx   | thread   | timestamp          | event_type   | name                  |\n",
      "|--------+-------+----------+--------------------+--------------+-----------------------|\n",
      "| 1      | 1     | 0        | 30083.086937435106 | Enter        | int main(int, char**) |\n",
      "| 1      | 2     | 0        | 40288.33150186851  | Enter        | MPI_Init              |\n",
      "| 0      | 1     | 0        | 336979.73374932166 | Enter        | int main(int, char**) |\n",
      "| 0      | 2     | 0        | 346054.77444467926 | Enter        | MPI_Init              |\n",
      "| 0      | 4     | 0        | 193651646.20379105 | Enter        | MPI_Comm_size         |\n",
      "| ...    | ...   | ...      | ...                | ...          | ...                   |\n",
      "| 1      | 50    | 0        | 197951492.98251072 | Enter        | MPI_Recv              |\n",
      "| 1      | 53    | 0        | 198503365.13620108 | Enter        | MPI_Send              |\n",
      "| 0      | 53    | 0        | 198506691.79201505 | Enter        | MPI_Recv              |\n",
      "| 0      | 56    | 0        | 199514778.2785141  | Enter        | MPI_Finalize          |\n",
      "| 1      | 56    | 0        | 199529686.66029385 | Enter        | MPI_Finalize          |\n",
      "+--------+-------+----------+--------------------+--------------+-----------------------+\n",
      ":TraceDataset   (42 events)\n"
     ]
    }
   ],
   "source": [
    "ds.filter(\"event_type == 'Enter'\").show()"
   ]
  },
  {
   "cell_type": "code",
   "execution_count": 163,
   "id": "bde46135-a390-4809-9f29-293ecd89c500",
   "metadata": {},
   "outputs": [
    {
     "name": "stdout",
     "output_type": "stream",
     "text": [
      "+--------+-------+----------+--------------------+--------------+----------+\n",
      "| rank   | idx   | thread   | timestamp          | event_type   | name     |\n",
      "|--------+-------+----------+--------------------+--------------+----------|\n",
      "| 0      | 8     | 0        | 193668225.07270837 | Enter        | MPI_Send |\n",
      "| 1      | 8     | 0        | 193677292.95417315 | Enter        | MPI_Recv |\n",
      "| 0      | 10    | 0        | 193685930.32723847 | Leave        | MPI_Send |\n",
      "| 0      | 11    | 0        | 193687379.3555098  | Enter        | MPI_Recv |\n",
      "| 1      | 10    | 0        | 193696357.50795117 | Leave        | MPI_Recv |\n",
      "| ...    | ...   | ...      | ...                | ...          | ...      |\n",
      "| 1      | 53    | 0        | 198503365.13620108 | Enter        | MPI_Send |\n",
      "| 0      | 52    | 0        | 198506398.7408429  | Leave        | MPI_Send |\n",
      "| 0      | 53    | 0        | 198506691.79201505 | Enter        | MPI_Recv |\n",
      "| 1      | 55    | 0        | 199319910.70381415 | Leave        | MPI_Send |\n",
      "| 0      | 55    | 0        | 199320512.07918367 | Leave        | MPI_Recv |\n",
      "+--------+-------+----------+--------------------+--------------+----------+\n",
      ":TraceDataset   (64 events)\n"
     ]
    }
   ],
   "source": [
    "ds.filter(\"name in ('MPI_Send', 'MPI_Recv')\").show()"
   ]
  },
  {
   "cell_type": "code",
   "execution_count": 178,
   "id": "89657050-ac24-4f69-8724-f531a63435f7",
   "metadata": {},
   "outputs": [
    {
     "data": {
      "text/plain": [
       "idx\n",
       "0     6.154619e+05\n",
       "1     6.739595e+05\n",
       "2     6.921095e+05\n",
       "3     3.872863e+08\n",
       "4     3.873033e+08\n",
       "5     3.873063e+08\n",
       "6     3.873113e+08\n",
       "7     3.873136e+08\n",
       "8     3.873365e+08\n",
       "9     3.873452e+08\n",
       "10    3.873719e+08\n",
       "11    3.873748e+08\n",
       "12    3.874314e+08\n",
       "13    3.874377e+08\n",
       "14    3.874877e+08\n",
       "15    3.874888e+08\n",
       "16    3.875291e+08\n",
       "17    3.875297e+08\n",
       "18    3.875685e+08\n",
       "19    3.875690e+08\n",
       "20    3.876511e+08\n",
       "21    3.876519e+08\n",
       "22    3.877099e+08\n",
       "23    3.877104e+08\n",
       "24    3.877793e+08\n",
       "25    3.877800e+08\n",
       "26    3.878841e+08\n",
       "27    3.878850e+08\n",
       "28    3.879919e+08\n",
       "29    3.879923e+08\n",
       "30    3.881000e+08\n",
       "31    3.881009e+08\n",
       "32    3.884106e+08\n",
       "33    3.884114e+08\n",
       "34    3.886056e+08\n",
       "35    3.886063e+08\n",
       "36    3.888175e+08\n",
       "37    3.888184e+08\n",
       "38    3.893508e+08\n",
       "39    3.893523e+08\n",
       "40    3.898230e+08\n",
       "41    3.898235e+08\n",
       "42    3.902633e+08\n",
       "43    3.902644e+08\n",
       "44    3.914360e+08\n",
       "45    3.914377e+08\n",
       "46    3.922796e+08\n",
       "47    3.922801e+08\n",
       "48    3.931679e+08\n",
       "49    3.931689e+08\n",
       "50    3.952265e+08\n",
       "51    3.952283e+08\n",
       "52    3.970128e+08\n",
       "53    3.970134e+08\n",
       "54    3.986399e+08\n",
       "55    3.986410e+08\n",
       "56    3.990296e+08\n",
       "57    3.991473e+08\n",
       "58    3.991505e+08\n",
       "59    3.992066e+08\n",
       "Name: timestamp, dtype: float64"
      ]
     },
     "execution_count": 178,
     "metadata": {},
     "output_type": "execute_result"
    }
   ],
   "source": [
    "ds.data[0].eval(\"timestamp * 2\")"
   ]
  },
  {
   "cell_type": "code",
   "execution_count": 5,
   "id": "7e533124-b47e-423a-8cd6-34bc592975ce",
   "metadata": {},
   "outputs": [
    {
     "name": "stderr",
     "output_type": "stream",
     "text": [
      "24/02/23 07:23:58 WARN Utils: Your hostname, FEIG5S9893 resolves to a loopback address: 127.0.1.1; using 172.27.119.109 instead (on interface eth0)\n",
      "24/02/23 07:23:58 WARN Utils: Set SPARK_LOCAL_IP if you need to bind to another address\n",
      "Setting default log level to \"WARN\".\n",
      "To adjust logging level use sc.setLogLevel(newLevel). For SparkR, use setLogLevel(newLevel).\n",
      "24/02/23 07:24:00 WARN NativeCodeLoader: Unable to load native-hadoop library for your platform... using builtin-java classes where applicable\n",
      "24/02/23 07:24:01 WARN Utils: Service 'SparkUI' could not bind on port 4040. Attempting port 4041.\n"
     ]
    }
   ],
   "source": [
    "from pyspark.sql import SparkSession\n",
    "spark = SparkSession.builder.getOrCreate()"
   ]
  },
  {
   "cell_type": "code",
   "execution_count": 6,
   "id": "418d40b7-b46b-4eb7-b001-2468a7524eac",
   "metadata": {},
   "outputs": [
    {
     "name": "stderr",
     "output_type": "stream",
     "text": [
      "                                                                                \r"
     ]
    },
    {
     "name": "stdout",
     "output_type": "stream",
     "text": [
      "+--------------------+--------------------+----------+-------+------+\n",
      "|      Timestamp (ns)|                Name|Event Type|Process|Thread|\n",
      "+--------------------+--------------------+----------+-------+------+\n",
      "|                 0.0|        ProgramBegin|   Instant|      1|     0|\n",
      "|  30083.086937435106|int main(int, cha...|     Enter|      1|     0|\n",
      "|   40288.33150186851|            MPI_Init|     Enter|      1|     0|\n",
      "|   307730.9358165928|        ProgramBegin|   Instant|      0|     0|\n",
      "|  336979.73374932166|int main(int, cha...|     Enter|      0|     0|\n",
      "|  346054.77444467926|            MPI_Init|     Enter|      0|     0|\n",
      "| 1.936431381741584E8|            MPI_Init|     Leave|      0|     0|\n",
      "| 1.936438354832178E8|            MPI_Init|     Leave|      1|     0|\n",
      "|1.9365164620379105E8|       MPI_Comm_size|     Enter|      0|     0|\n",
      "|1.9365271483827707E8|       MPI_Comm_size|     Enter|      1|     0|\n",
      "|1.9365316300611198E8|       MPI_Comm_size|     Leave|      0|     0|\n",
      "|1.9365416291198432E8|       MPI_Comm_size|     Leave|      1|     0|\n",
      "|1.9365565441835713E8|       MPI_Comm_rank|     Enter|      0|     0|\n",
      "|1.9365628013511068E8|       MPI_Comm_rank|     Enter|      1|     0|\n",
      "|  1.93656794167867E8|       MPI_Comm_rank|     Leave|      0|     0|\n",
      "| 1.936573463831865E8|       MPI_Comm_rank|     Leave|      1|     0|\n",
      "|1.9366822507270837E8|            MPI_Send|     Enter|      0|     0|\n",
      "| 1.936725845668554E8|             MpiSend|   Instant|      0|     0|\n",
      "|1.9367729295417315E8|            MPI_Recv|     Enter|      1|     0|\n",
      "|1.9368593032723847E8|            MPI_Send|     Leave|      0|     0|\n",
      "+--------------------+--------------------+----------+-------+------+\n",
      "only showing top 20 rows\n",
      "\n"
     ]
    }
   ],
   "source": [
    "df = spark.createDataFrame(pandas_df)\n",
    "df.show()"
   ]
  },
  {
   "cell_type": "code",
   "execution_count": 7,
   "id": "8e41b209-72ce-406c-a1a9-bc26fec4b46c",
   "metadata": {},
   "outputs": [],
   "source": [
    "# # Filter rows where \"Event Type\" is \"Enter\"\n",
    "# filtered_df = df.filter(col(\"Event Type\") == \"Enter\")\n",
    "\n",
    "# # Group by \"Name\" and \"Process\", then sum\n",
    "# grouped_df = filtered_df.groupby([\"Name\", \"Process\"]).sum()\n",
    "\n",
    "# # Group by \"Name\" and calculate the mean\n",
    "# result_df = grouped_df.groupby(\"Name\").mean()\n",
    "\n",
    "# # Show the result\n",
    "# result_df.show()"
   ]
  },
  {
   "cell_type": "code",
   "execution_count": 8,
   "id": "dc03ff84-a325-4b95-98de-8fd0eaaaf50f",
   "metadata": {},
   "outputs": [],
   "source": [
    "from pyspark.sql import functions as F"
   ]
  },
  {
   "cell_type": "code",
   "execution_count": 9,
   "id": "46760cdf-ead2-4b7f-84ec-93065143157d",
   "metadata": {},
   "outputs": [
    {
     "data": {
      "text/plain": [
       "Column<'(Name > 5)'>"
      ]
     },
     "execution_count": 9,
     "metadata": {},
     "output_type": "execute_result"
    }
   ],
   "source": [
    "F.col(\"Name\") > 5"
   ]
  },
  {
   "cell_type": "code",
   "execution_count": 10,
   "id": "befd97be-72d2-47d7-9bb1-85eaf1158b76",
   "metadata": {},
   "outputs": [],
   "source": [
    "# from pipit.dsl import functions as FF\n",
    "# FF.col(\"Name\")"
   ]
  },
  {
   "cell_type": "code",
   "execution_count": null,
   "id": "80b29723-6e66-4f6e-8a76-9dae6b3f4ce1",
   "metadata": {},
   "outputs": [],
   "source": []
  },
  {
   "cell_type": "code",
   "execution_count": 11,
   "id": "82b47390-f7fe-4950-9f54-bdd5a525d73c",
   "metadata": {},
   "outputs": [
    {
     "data": {
      "text/html": [
       "<div><style>\n",
       ".dataframe > thead > tr,\n",
       ".dataframe > tbody > tr {\n",
       "  text-align: right;\n",
       "  white-space: pre-wrap;\n",
       "}\n",
       "</style>\n",
       "<small>shape: (60, 5)</small><table border=\"1\" class=\"dataframe\"><thead><tr><th>Timestamp (ns)</th><th>Name</th><th>Event Type</th><th>Process</th><th>Thread</th></tr><tr><td>f64</td><td>cat</td><td>cat</td><td>i64</td><td>i64</td></tr></thead><tbody><tr><td>307730.935817</td><td>&quot;ProgramBegin&quot;</td><td>&quot;Instant&quot;</td><td>0</td><td>0</td></tr><tr><td>336979.733749</td><td>&quot;int main(int, …</td><td>&quot;Enter&quot;</td><td>0</td><td>0</td></tr><tr><td>346054.774445</td><td>&quot;MPI_Init&quot;</td><td>&quot;Enter&quot;</td><td>0</td><td>0</td></tr><tr><td>1.9364e8</td><td>&quot;MPI_Init&quot;</td><td>&quot;Leave&quot;</td><td>0</td><td>0</td></tr><tr><td>1.9365e8</td><td>&quot;MPI_Comm_size&quot;</td><td>&quot;Enter&quot;</td><td>0</td><td>0</td></tr><tr><td>1.9365e8</td><td>&quot;MPI_Comm_size&quot;</td><td>&quot;Leave&quot;</td><td>0</td><td>0</td></tr><tr><td>1.9366e8</td><td>&quot;MPI_Comm_rank&quot;</td><td>&quot;Enter&quot;</td><td>0</td><td>0</td></tr><tr><td>1.9366e8</td><td>&quot;MPI_Comm_rank&quot;</td><td>&quot;Leave&quot;</td><td>0</td><td>0</td></tr><tr><td>1.9367e8</td><td>&quot;MPI_Send&quot;</td><td>&quot;Enter&quot;</td><td>0</td><td>0</td></tr><tr><td>1.9367e8</td><td>&quot;MpiSend&quot;</td><td>&quot;Instant&quot;</td><td>0</td><td>0</td></tr><tr><td>1.9369e8</td><td>&quot;MPI_Send&quot;</td><td>&quot;Leave&quot;</td><td>0</td><td>0</td></tr><tr><td>1.9369e8</td><td>&quot;MPI_Recv&quot;</td><td>&quot;Enter&quot;</td><td>0</td><td>0</td></tr><tr><td>&hellip;</td><td>&hellip;</td><td>&hellip;</td><td>&hellip;</td><td>&hellip;</td></tr><tr><td>1.9658e8</td><td>&quot;MpiRecv&quot;</td><td>&quot;Instant&quot;</td><td>0</td><td>0</td></tr><tr><td>1.9658e8</td><td>&quot;MPI_Recv&quot;</td><td>&quot;Leave&quot;</td><td>0</td><td>0</td></tr><tr><td>1.9761e8</td><td>&quot;MPI_Send&quot;</td><td>&quot;Enter&quot;</td><td>0</td><td>0</td></tr><tr><td>1.9761e8</td><td>&quot;MpiSend&quot;</td><td>&quot;Instant&quot;</td><td>0</td><td>0</td></tr><tr><td>1.9851e8</td><td>&quot;MPI_Send&quot;</td><td>&quot;Leave&quot;</td><td>0</td><td>0</td></tr><tr><td>1.9851e8</td><td>&quot;MPI_Recv&quot;</td><td>&quot;Enter&quot;</td><td>0</td><td>0</td></tr><tr><td>1.9932e8</td><td>&quot;MpiRecv&quot;</td><td>&quot;Instant&quot;</td><td>0</td><td>0</td></tr><tr><td>1.9932e8</td><td>&quot;MPI_Recv&quot;</td><td>&quot;Leave&quot;</td><td>0</td><td>0</td></tr><tr><td>1.9951e8</td><td>&quot;MPI_Finalize&quot;</td><td>&quot;Enter&quot;</td><td>0</td><td>0</td></tr><tr><td>1.9957e8</td><td>&quot;MPI_Finalize&quot;</td><td>&quot;Leave&quot;</td><td>0</td><td>0</td></tr><tr><td>1.9958e8</td><td>&quot;int main(int, …</td><td>&quot;Leave&quot;</td><td>0</td><td>0</td></tr><tr><td>1.9960e8</td><td>&quot;ProgramEnd&quot;</td><td>&quot;Instant&quot;</td><td>0</td><td>0</td></tr></tbody></table></div>"
      ],
      "text/plain": [
       "shape: (60, 5)\n",
       "┌────────────────┬───────────────────────┬────────────┬─────────┬────────┐\n",
       "│ Timestamp (ns) ┆ Name                  ┆ Event Type ┆ Process ┆ Thread │\n",
       "│ ---            ┆ ---                   ┆ ---        ┆ ---     ┆ ---    │\n",
       "│ f64            ┆ cat                   ┆ cat        ┆ i64     ┆ i64    │\n",
       "╞════════════════╪═══════════════════════╪════════════╪═════════╪════════╡\n",
       "│ 307730.935817  ┆ ProgramBegin          ┆ Instant    ┆ 0       ┆ 0      │\n",
       "│ 336979.733749  ┆ int main(int, char**) ┆ Enter      ┆ 0       ┆ 0      │\n",
       "│ 346054.774445  ┆ MPI_Init              ┆ Enter      ┆ 0       ┆ 0      │\n",
       "│ 1.9364e8       ┆ MPI_Init              ┆ Leave      ┆ 0       ┆ 0      │\n",
       "│ …              ┆ …                     ┆ …          ┆ …       ┆ …      │\n",
       "│ 1.9951e8       ┆ MPI_Finalize          ┆ Enter      ┆ 0       ┆ 0      │\n",
       "│ 1.9957e8       ┆ MPI_Finalize          ┆ Leave      ┆ 0       ┆ 0      │\n",
       "│ 1.9958e8       ┆ int main(int, char**) ┆ Leave      ┆ 0       ┆ 0      │\n",
       "│ 1.9960e8       ┆ ProgramEnd            ┆ Instant    ┆ 0       ┆ 0      │\n",
       "└────────────────┴───────────────────────┴────────────┴─────────┴────────┘"
      ]
     },
     "execution_count": 11,
     "metadata": {},
     "output_type": "execute_result"
    }
   ],
   "source": [
    "import polars as pl\n",
    "\n",
    "polars_df = pl.from_pandas(pandas_df)\n",
    "\n",
    "polars_df.filter(pl.col(\"Process\") == 0)"
   ]
  },
  {
   "cell_type": "code",
   "execution_count": 12,
   "id": "332e4d51-05aa-4f0c-bf4c-fbb126ebfa48",
   "metadata": {},
   "outputs": [
    {
     "data": {
      "text/plain": [
       "Column<'Process'>"
      ]
     },
     "execution_count": 12,
     "metadata": {},
     "output_type": "execute_result"
    }
   ],
   "source": [
    "F.col(\"Process\")"
   ]
  },
  {
   "cell_type": "code",
   "execution_count": 13,
   "id": "b231ee0c-63e1-487a-9345-b8d3b9e1030e",
   "metadata": {},
   "outputs": [
    {
     "data": {
      "text/plain": [
       "Column<'sum((Process + Process))'>"
      ]
     },
     "execution_count": 13,
     "metadata": {},
     "output_type": "execute_result"
    }
   ],
   "source": [
    "F.sum(F.col(\"Process\") + F.col(\"Process\"))"
   ]
  },
  {
   "cell_type": "code",
   "execution_count": 14,
   "id": "561ee564-9f02-4492-ac10-c4c42a617674",
   "metadata": {},
   "outputs": [
    {
     "data": {
      "text/html": [
       "[(col(\"Process\")) + (col(\"Process\"))]"
      ],
      "text/plain": [
       "<polars.expr.expr.Expr at 0x7f7fa8f18370>"
      ]
     },
     "execution_count": 14,
     "metadata": {},
     "output_type": "execute_result"
    }
   ],
   "source": [
    "pl.col(\"Process\") + pl.col(\"Process\")"
   ]
  },
  {
   "cell_type": "code",
   "execution_count": 15,
   "id": "5830e0a6-513f-4d44-9c27-b8a0bc6ac63a",
   "metadata": {},
   "outputs": [
    {
     "data": {
      "text/plain": [
       "polars.expr.expr.Expr"
      ]
     },
     "execution_count": 15,
     "metadata": {},
     "output_type": "execute_result"
    }
   ],
   "source": [
    "type(pl.col(\"Process\"))"
   ]
  },
  {
   "cell_type": "code",
   "execution_count": 3,
   "id": "93ff366e-5066-48f0-a6b7-25db5ba1a377",
   "metadata": {},
   "outputs": [],
   "source": [
    "!jt -t gruvboxl"
   ]
  },
  {
   "cell_type": "code",
   "execution_count": null,
   "id": "4a2e12aa-677e-4a5f-b88e-0c524feb28ba",
   "metadata": {},
   "outputs": [],
   "source": []
  },
  {
   "cell_type": "code",
   "execution_count": 167,
   "id": "644f5a77-e1f7-4472-aab9-10d77af3e89d",
   "metadata": {},
   "outputs": [
    {
     "data": {
      "text/plain": [
       "'pandas'"
      ]
     },
     "execution_count": 167,
     "metadata": {},
     "output_type": "execute_result"
    }
   ],
   "source": [
    "pp.set_option(\"backend\", \"pandas\")\n",
    "pp.get_option(\"backend\")"
   ]
  },
  {
   "cell_type": "code",
   "execution_count": 181,
   "id": "0ae199ef-b182-4bcf-b863-d97e37a40af9",
   "metadata": {},
   "outputs": [
    {
     "name": "stdout",
     "output_type": "stream",
     "text": [
      ":TraceDataset   [('process', 'thread')]   (0 events)\n"
     ]
    }
   ],
   "source": [
    "ds = pp.create_dataset(streams=[(\"process\", \"thread\")])\n",
    "ds.show()"
   ]
  },
  {
   "cell_type": "code",
   "execution_count": 182,
   "id": "aa085f75-83cb-41bc-b201-2d60c59e0246",
   "metadata": {},
   "outputs": [
    {
     "data": {
      "text/plain": [
       ":Event {'index': (1, 0), 'process': 1, 'thread': 0, 'timestamp': 0.0, 'event_type': 'Instant', 'name': 'ProgramBegin'}"
      ]
     },
     "execution_count": 182,
     "metadata": {},
     "output_type": "execute_result"
    }
   ],
   "source": []
  },
  {
   "cell_type": "code",
   "execution_count": 183,
   "id": "24725100-f701-469c-b4b4-baee930a5511",
   "metadata": {},
   "outputs": [
    {
     "name": "stdout",
     "output_type": "stream",
     "text": [
      "+---------+-----------+----------+-------------+--------------+--------------+\n",
      "| index   |   process |   thread |   timestamp | event_type   | name         |\n",
      "|---------+-----------+----------+-------------+--------------+--------------|\n",
      "| (1, 0)  |         1 |        0 |           0 | Instant      | ProgramBegin |\n",
      "+---------+-----------+----------+-------------+--------------+--------------+\n",
      ":TraceDataset   [('process', 'thread')]   (1 events)\n"
     ]
    }
   ],
   "source": [
    "ds.push_event(evt)\n",
    "ds.flush()\n",
    "ds.show()"
   ]
  },
  {
   "cell_type": "code",
   "execution_count": 184,
   "id": "3a25be67-34c0-4e1d-96bb-fd094f24bd1f",
   "metadata": {},
   "outputs": [
    {
     "name": "stdout",
     "output_type": "stream",
     "text": [
      "+---------+-----------+----------+--------------------+--------------+-----------------------+\n",
      "| index   | process   | thread   | timestamp          | event_type   | name                  |\n",
      "|---------+-----------+----------+--------------------+--------------+-----------------------|\n",
      "| (1, 0)  | 1         | 0        | 0.0                | Instant      | ProgramBegin          |\n",
      "| (1, 1)  | 1         | 0        | 30083.086937435106 | Enter        | int main(int, char**) |\n",
      "| (1, 2)  | 1         | 0        | 40288.33150186851  | Enter        | MPI_Init              |\n",
      "| (0, 0)  | 0         | 0        | 307730.9358165928  | Instant      | ProgramBegin          |\n",
      "| (0, 1)  | 0         | 0        | 336979.73374932166 | Enter        | int main(int, char**) |\n",
      "| (0, 2)  | 0         | 0        | 346054.77444467926 | Enter        | MPI_Init              |\n",
      "| ...     | ...       | ...      | ...                | ...          | ...                   |\n",
      "| (0, 57) | 0         | 0        | 199573648.15437022 | Leave        | MPI_Finalize          |\n",
      "| (1, 57) | 1         | 0        | 199574793.63126454 | Leave        | MPI_Finalize          |\n",
      "| (0, 58) | 0         | 0        | 199575243.23094556 | Leave        | int main(int, char**) |\n",
      "| (1, 58) | 1         | 0        | 199576798.2158296  | Leave        | int main(int, char**) |\n",
      "| (0, 59) | 0         | 0        | 199603304.5511645  | Instant      | ProgramEnd            |\n",
      "| (1, 59) | 1         | 0        | 199604459.57369962 | Instant      | ProgramEnd            |\n",
      "+---------+-----------+----------+--------------------+--------------+-----------------------+\n",
      ":TraceDataset   [('process', 'thread')]   (120 events)\n"
     ]
    }
   ],
   "source": []
  },
  {
   "cell_type": "code",
   "execution_count": 185,
   "id": "2776e231-2a2c-4cd8-b000-0a828f8aa99b",
   "metadata": {},
   "outputs": [
    {
     "data": {
      "text/plain": [
       ":TraceDataset   [('process', 'thread')]   (60 events)"
      ]
     },
     "execution_count": 185,
     "metadata": {},
     "output_type": "execute_result"
    }
   ],
   "source": [
    "ds.filter(\"process == 0\")"
   ]
  },
  {
   "cell_type": "code",
   "execution_count": 186,
   "id": "c8a7099f-c446-4800-b55a-c263b742a814",
   "metadata": {},
   "outputs": [
    {
     "name": "stdout",
     "output_type": "stream",
     "text": [
      "+---------+-----------+----------+--------------------+--------------+-----------------------+\n",
      "| index   | process   | thread   | timestamp          | event_type   | name                  |\n",
      "|---------+-----------+----------+--------------------+--------------+-----------------------|\n",
      "| (0, 0)  | 0         | 0        | 307730.9358165928  | Instant      | ProgramBegin          |\n",
      "| (0, 1)  | 0         | 0        | 336979.73374932166 | Enter        | int main(int, char**) |\n",
      "| (0, 2)  | 0         | 0        | 346054.77444467926 | Enter        | MPI_Init              |\n",
      "| (0, 3)  | 0         | 0        | 193643138.1741584  | Leave        | MPI_Init              |\n",
      "| (0, 4)  | 0         | 0        | 193651646.20379105 | Enter        | MPI_Comm_size         |\n",
      "| (0, 5)  | 0         | 0        | 193653163.00611198 | Leave        | MPI_Comm_size         |\n",
      "| ...     | ...       | ...      | ...                | ...          | ...                   |\n",
      "| (0, 54) | 0         | 0        | 199319973.70504335 | Instant      | MpiRecv               |\n",
      "| (0, 55) | 0         | 0        | 199320512.07918367 | Leave        | MPI_Recv              |\n",
      "| (0, 56) | 0         | 0        | 199514778.2785141  | Enter        | MPI_Finalize          |\n",
      "| (0, 57) | 0         | 0        | 199573648.15437022 | Leave        | MPI_Finalize          |\n",
      "| (0, 58) | 0         | 0        | 199575243.23094556 | Leave        | int main(int, char**) |\n",
      "| (0, 59) | 0         | 0        | 199603304.5511645  | Instant      | ProgramEnd            |\n",
      "+---------+-----------+----------+--------------------+--------------+-----------------------+\n",
      ":TraceDataset   [('process', 'thread')]   (60 events)\n"
     ]
    }
   ],
   "source": [
    "ds.filter(\"process == 0\").show()"
   ]
  },
  {
   "cell_type": "code",
   "execution_count": 187,
   "id": "a21f8da4-bf39-4045-b867-e011dce8c5fb",
   "metadata": {},
   "outputs": [
    {
     "name": "stdout",
     "output_type": "stream",
     "text": [
      "+---------+-----------+----------+--------------------+--------------+-----------------------+\n",
      "| index   | process   | thread   | timestamp          | event_type   | name                  |\n",
      "|---------+-----------+----------+--------------------+--------------+-----------------------|\n",
      "| (0, 3)  | 0         | 0        | 193643138.1741584  | Leave        | MPI_Init              |\n",
      "| (1, 3)  | 1         | 0        | 193643835.4832178  | Leave        | MPI_Init              |\n",
      "| (0, 4)  | 0         | 0        | 193651646.20379105 | Enter        | MPI_Comm_size         |\n",
      "| (1, 4)  | 1         | 0        | 193652714.83827707 | Enter        | MPI_Comm_size         |\n",
      "| (0, 5)  | 0         | 0        | 193653163.00611198 | Leave        | MPI_Comm_size         |\n",
      "| (1, 5)  | 1         | 0        | 193654162.91198432 | Leave        | MPI_Comm_size         |\n",
      "| ...     | ...       | ...      | ...                | ...          | ...                   |\n",
      "| (0, 57) | 0         | 0        | 199573648.15437022 | Leave        | MPI_Finalize          |\n",
      "| (1, 57) | 1         | 0        | 199574793.63126454 | Leave        | MPI_Finalize          |\n",
      "| (0, 58) | 0         | 0        | 199575243.23094556 | Leave        | int main(int, char**) |\n",
      "| (1, 58) | 1         | 0        | 199576798.2158296  | Leave        | int main(int, char**) |\n",
      "| (0, 59) | 0         | 0        | 199603304.5511645  | Instant      | ProgramEnd            |\n",
      "| (1, 59) | 1         | 0        | 199604459.57369962 | Instant      | ProgramEnd            |\n",
      "+---------+-----------+----------+--------------------+--------------+-----------------------+\n",
      ":TraceDataset   [('process', 'thread')]   (114 events)\n"
     ]
    }
   ],
   "source": [
    "ds.filter(\"timestamp > 1e8\").show()"
   ]
  },
  {
   "cell_type": "code",
   "execution_count": 188,
   "id": "b17a269a-614c-4bf5-87c8-c9efd5d3b9e5",
   "metadata": {},
   "outputs": [
    {
     "name": "stdout",
     "output_type": "stream",
     "text": [
      "+---------+-----------+----------+--------------------+--------------+-----------------------+\n",
      "| index   | process   | thread   | timestamp          | event_type   | name                  |\n",
      "|---------+-----------+----------+--------------------+--------------+-----------------------|\n",
      "| (1, 1)  | 1         | 0        | 30083.086937435106 | Enter        | int main(int, char**) |\n",
      "| (1, 2)  | 1         | 0        | 40288.33150186851  | Enter        | MPI_Init              |\n",
      "| (0, 1)  | 0         | 0        | 336979.73374932166 | Enter        | int main(int, char**) |\n",
      "| (0, 2)  | 0         | 0        | 346054.77444467926 | Enter        | MPI_Init              |\n",
      "| (0, 4)  | 0         | 0        | 193651646.20379105 | Enter        | MPI_Comm_size         |\n",
      "| (1, 4)  | 1         | 0        | 193652714.83827707 | Enter        | MPI_Comm_size         |\n",
      "| ...     | ...       | ...      | ...                | ...          | ...                   |\n",
      "| (0, 50) | 0         | 0        | 197613248.45135725 | Enter        | MPI_Send              |\n",
      "| (1, 50) | 1         | 0        | 197951492.98251072 | Enter        | MPI_Recv              |\n",
      "| (1, 53) | 1         | 0        | 198503365.13620108 | Enter        | MPI_Send              |\n",
      "| (0, 53) | 0         | 0        | 198506691.79201505 | Enter        | MPI_Recv              |\n",
      "| (0, 56) | 0         | 0        | 199514778.2785141  | Enter        | MPI_Finalize          |\n",
      "| (1, 56) | 1         | 0        | 199529686.66029385 | Enter        | MPI_Finalize          |\n",
      "+---------+-----------+----------+--------------------+--------------+-----------------------+\n",
      ":TraceDataset   [('process', 'thread')]   (42 events)\n"
     ]
    }
   ],
   "source": [
    "ds.filter(\"event_type == 'Enter'\").show()"
   ]
  },
  {
   "cell_type": "code",
   "execution_count": 189,
   "id": "f029f767-1bc9-4445-a6a6-d3ca9ce9b0e8",
   "metadata": {},
   "outputs": [
    {
     "name": "stdout",
     "output_type": "stream",
     "text": [
      "+---------+-----------+----------+--------------------+--------------+-----------------------+\n",
      "| index   | process   | thread   | timestamp          | event_type   | name                  |\n",
      "|---------+-----------+----------+--------------------+--------------+-----------------------|\n",
      "| (1, 0)  | 1         | 0        | 0.0                | Instant      | ProgramBegin          |\n",
      "| (1, 1)  | 1         | 0        | 30083.086937435106 | Enter        | int main(int, char**) |\n",
      "| (1, 2)  | 1         | 0        | 40288.33150186851  | Enter        | MPI_Init              |\n",
      "| (1, 3)  | 1         | 0        | 193643835.4832178  | Leave        | MPI_Init              |\n",
      "| (1, 4)  | 1         | 0        | 193652714.83827707 | Enter        | MPI_Comm_size         |\n",
      "| (1, 5)  | 1         | 0        | 193654162.91198432 | Leave        | MPI_Comm_size         |\n",
      "| ...     | ...       | ...      | ...                | ...          | ...                   |\n",
      "| (1, 54) | 1         | 0        | 198503650.55086058 | Instant      | MpiSend               |\n",
      "| (1, 55) | 1         | 0        | 199319910.70381415 | Leave        | MPI_Send              |\n",
      "| (1, 56) | 1         | 0        | 199529686.66029385 | Enter        | MPI_Finalize          |\n",
      "| (1, 57) | 1         | 0        | 199574793.63126454 | Leave        | MPI_Finalize          |\n",
      "| (1, 58) | 1         | 0        | 199576798.2158296  | Leave        | int main(int, char**) |\n",
      "| (1, 59) | 1         | 0        | 199604459.57369962 | Instant      | ProgramEnd            |\n",
      "+---------+-----------+----------+--------------------+--------------+-----------------------+\n",
      ":TraceDataset   [('process', 'thread')]   (60 events)\n"
     ]
    }
   ],
   "source": [
    "ds.filter(\"process > thread\").show()"
   ]
  },
  {
   "cell_type": "code",
   "execution_count": 190,
   "id": "cdc8241c-77f5-4cd0-ac7c-6e739215b976",
   "metadata": {},
   "outputs": [
    {
     "data": {
      "text/plain": [
       "[('process', 'thread')]"
      ]
     },
     "execution_count": 190,
     "metadata": {},
     "output_type": "execute_result"
    }
   ],
   "source": [
    "ds.streams"
   ]
  },
  {
   "cell_type": "code",
   "execution_count": 206,
   "id": "1a7d7e24-89cd-4179-8840-cf985f324465",
   "metadata": {},
   "outputs": [
    {
     "data": {
      "text/plain": [
       ":Event {'index': (1, 59), 'process': 1, 'thread': 0, 'timestamp': 199604459.57369962, 'event_type': 'Instant', 'name': 'ProgramEnd'}"
      ]
     },
     "execution_count": 206,
     "metadata": {},
     "output_type": "execute_result"
    }
   ],
   "source": [
    "ds.loc[1, 59]"
   ]
  },
  {
   "cell_type": "code",
   "execution_count": 207,
   "id": "5630103a-993a-4a61-b27c-92381b051ce7",
   "metadata": {},
   "outputs": [
    {
     "ename": "IndexError",
     "evalue": "single positional indexer is out-of-bounds",
     "output_type": "error",
     "traceback": [
      "\u001b[0;31m---------------------------------------------------------------------------\u001b[0m",
      "\u001b[0;31mIndexError\u001b[0m                                Traceback (most recent call last)",
      "Cell \u001b[0;32mIn[207], line 1\u001b[0m\n\u001b[0;32m----> 1\u001b[0m \u001b[43mds\u001b[49m\u001b[38;5;241;43m.\u001b[39;49m\u001b[43mloc\u001b[49m\u001b[43m[\u001b[49m\u001b[43m:\u001b[49m\u001b[43m,\u001b[49m\u001b[43m \u001b[49m\u001b[38;5;241;43m59\u001b[39;49m\u001b[43m]\u001b[49m\n",
      "File \u001b[0;32m~/pipit/docs/examples/../../pipit/dsl/_pandas.py:13\u001b[0m, in \u001b[0;36mPandasLocIndexer.__getitem__\u001b[0;34m(self, key)\u001b[0m\n\u001b[1;32m     10\u001b[0m \u001b[38;5;28;01mif\u001b[39;00m \u001b[38;5;129;01mnot\u001b[39;00m \u001b[38;5;28mlen\u001b[39m(key) \u001b[38;5;241m==\u001b[39m \u001b[38;5;241m2\u001b[39m:\n\u001b[1;32m     11\u001b[0m     \u001b[38;5;28;01mraise\u001b[39;00m \u001b[38;5;167;01mValueError\u001b[39;00m(\u001b[38;5;124m\"\u001b[39m\u001b[38;5;124mPandasLocIndexer only supports two-level indexing\u001b[39m\u001b[38;5;124m\"\u001b[39m)\n\u001b[0;32m---> 13\u001b[0m \u001b[38;5;28;01mreturn\u001b[39;00m Event(\u001b[38;5;241m*\u001b[39m\u001b[38;5;241m*\u001b[39m\u001b[38;5;28;43mself\u001b[39;49m\u001b[38;5;241;43m.\u001b[39;49m\u001b[43mds\u001b[49m\u001b[38;5;241;43m.\u001b[39;49m\u001b[43mdata\u001b[49m\u001b[43m[\u001b[49m\u001b[38;5;28;43mself\u001b[39;49m\u001b[38;5;241;43m.\u001b[39;49m\u001b[43mds\u001b[49m\u001b[38;5;241;43m.\u001b[39;49m\u001b[43mdata\u001b[49m\u001b[43m[\u001b[49m\u001b[38;5;124;43m\"\u001b[39;49m\u001b[38;5;124;43mindex\u001b[39;49m\u001b[38;5;124;43m\"\u001b[39;49m\u001b[43m]\u001b[49m\u001b[43m \u001b[49m\u001b[38;5;241;43m==\u001b[39;49m\u001b[43m \u001b[49m\u001b[43mkey\u001b[49m\u001b[43m]\u001b[49m\u001b[38;5;241;43m.\u001b[39;49m\u001b[43miloc\u001b[49m\u001b[43m[\u001b[49m\u001b[38;5;241;43m0\u001b[39;49m\u001b[43m]\u001b[49m\u001b[38;5;241m.\u001b[39mto_dict())\n",
      "File \u001b[0;32m~/.local/lib/python3.8/site-packages/pandas/core/indexing.py:1103\u001b[0m, in \u001b[0;36m_LocationIndexer.__getitem__\u001b[0;34m(self, key)\u001b[0m\n\u001b[1;32m   1100\u001b[0m axis \u001b[38;5;241m=\u001b[39m \u001b[38;5;28mself\u001b[39m\u001b[38;5;241m.\u001b[39maxis \u001b[38;5;129;01mor\u001b[39;00m \u001b[38;5;241m0\u001b[39m\n\u001b[1;32m   1102\u001b[0m maybe_callable \u001b[38;5;241m=\u001b[39m com\u001b[38;5;241m.\u001b[39mapply_if_callable(key, \u001b[38;5;28mself\u001b[39m\u001b[38;5;241m.\u001b[39mobj)\n\u001b[0;32m-> 1103\u001b[0m \u001b[38;5;28;01mreturn\u001b[39;00m \u001b[38;5;28;43mself\u001b[39;49m\u001b[38;5;241;43m.\u001b[39;49m\u001b[43m_getitem_axis\u001b[49m\u001b[43m(\u001b[49m\u001b[43mmaybe_callable\u001b[49m\u001b[43m,\u001b[49m\u001b[43m \u001b[49m\u001b[43maxis\u001b[49m\u001b[38;5;241;43m=\u001b[39;49m\u001b[43maxis\u001b[49m\u001b[43m)\u001b[49m\n",
      "File \u001b[0;32m~/.local/lib/python3.8/site-packages/pandas/core/indexing.py:1656\u001b[0m, in \u001b[0;36m_iLocIndexer._getitem_axis\u001b[0;34m(self, key, axis)\u001b[0m\n\u001b[1;32m   1653\u001b[0m     \u001b[38;5;28;01mraise\u001b[39;00m \u001b[38;5;167;01mTypeError\u001b[39;00m(\u001b[38;5;124m\"\u001b[39m\u001b[38;5;124mCannot index by location index with a non-integer key\u001b[39m\u001b[38;5;124m\"\u001b[39m)\n\u001b[1;32m   1655\u001b[0m \u001b[38;5;66;03m# validate the location\u001b[39;00m\n\u001b[0;32m-> 1656\u001b[0m \u001b[38;5;28;43mself\u001b[39;49m\u001b[38;5;241;43m.\u001b[39;49m\u001b[43m_validate_integer\u001b[49m\u001b[43m(\u001b[49m\u001b[43mkey\u001b[49m\u001b[43m,\u001b[49m\u001b[43m \u001b[49m\u001b[43maxis\u001b[49m\u001b[43m)\u001b[49m\n\u001b[1;32m   1658\u001b[0m \u001b[38;5;28;01mreturn\u001b[39;00m \u001b[38;5;28mself\u001b[39m\u001b[38;5;241m.\u001b[39mobj\u001b[38;5;241m.\u001b[39m_ixs(key, axis\u001b[38;5;241m=\u001b[39maxis)\n",
      "File \u001b[0;32m~/.local/lib/python3.8/site-packages/pandas/core/indexing.py:1589\u001b[0m, in \u001b[0;36m_iLocIndexer._validate_integer\u001b[0;34m(self, key, axis)\u001b[0m\n\u001b[1;32m   1587\u001b[0m len_axis \u001b[38;5;241m=\u001b[39m \u001b[38;5;28mlen\u001b[39m(\u001b[38;5;28mself\u001b[39m\u001b[38;5;241m.\u001b[39mobj\u001b[38;5;241m.\u001b[39m_get_axis(axis))\n\u001b[1;32m   1588\u001b[0m \u001b[38;5;28;01mif\u001b[39;00m key \u001b[38;5;241m>\u001b[39m\u001b[38;5;241m=\u001b[39m len_axis \u001b[38;5;129;01mor\u001b[39;00m key \u001b[38;5;241m<\u001b[39m \u001b[38;5;241m-\u001b[39mlen_axis:\n\u001b[0;32m-> 1589\u001b[0m     \u001b[38;5;28;01mraise\u001b[39;00m \u001b[38;5;167;01mIndexError\u001b[39;00m(\u001b[38;5;124m\"\u001b[39m\u001b[38;5;124msingle positional indexer is out-of-bounds\u001b[39m\u001b[38;5;124m\"\u001b[39m)\n",
      "\u001b[0;31mIndexError\u001b[0m: single positional indexer is out-of-bounds"
     ]
    }
   ],
   "source": [
    "ds.loc[:, 59]"
   ]
  },
  {
   "cell_type": "code",
   "execution_count": null,
   "id": "41a8a7bc-f36c-422e-8112-50baa73b7679",
   "metadata": {},
   "outputs": [],
   "source": [
    "from pipit.dsl._pandas import PandasInterface\n",
    "from pipit.dsl.event import Event\n",
    "from pipit.dsl.expr import Column\n",
    "\n",
    "ds = PandasInterface()"
   ]
  },
  {
   "cell_type": "code",
   "execution_count": null,
   "id": "9d86ff20-1e2a-4ddd-8be4-6dc920c95595",
   "metadata": {},
   "outputs": [],
   "source": [
    "ds.show()"
   ]
  },
  {
   "cell_type": "code",
   "execution_count": null,
   "id": "758fe965-9a2d-4784-afcb-ff7cfd0b0d76",
   "metadata": {},
   "outputs": [],
   "source": []
  },
  {
   "cell_type": "code",
   "execution_count": null,
   "id": "442e7108-7e6b-41b0-ba7d-0223df5971e3",
   "metadata": {},
   "outputs": [],
   "source": [
    "ds.push_event(evt)"
   ]
  },
  {
   "cell_type": "code",
   "execution_count": null,
   "id": "c28b4093-a877-4a95-9f87-c8664a8111a5",
   "metadata": {},
   "outputs": [],
   "source": [
    "ds.flush()\n",
    "ds.show()"
   ]
  },
  {
   "cell_type": "code",
   "execution_count": null,
   "id": "89ee11d6-ec30-4f91-95ab-0b1d4fb47090",
   "metadata": {},
   "outputs": [],
   "source": []
  },
  {
   "cell_type": "code",
   "execution_count": null,
   "id": "8c6cbfd8-9ee9-44fd-8fe6-a63b8bdaae7a",
   "metadata": {
    "scrolled": true
   },
   "outputs": [],
   "source": [
    "ds.flush()\n",
    "ds.show()"
   ]
  },
  {
   "cell_type": "code",
   "execution_count": null,
   "id": "f8ed98f9-5364-403a-b3f9-551bf8138052",
   "metadata": {
    "scrolled": true
   },
   "outputs": [],
   "source": [
    "ds.filter(\"process == 0\").show()"
   ]
  }
 ],
 "metadata": {
  "kernelspec": {
   "display_name": "Python 3 (ipykernel)",
   "language": "python",
   "name": "python3"
  },
  "language_info": {
   "codemirror_mode": {
    "name": "ipython",
    "version": 3
   },
   "file_extension": ".py",
   "mimetype": "text/x-python",
   "name": "python",
   "nbconvert_exporter": "python",
   "pygments_lexer": "ipython3",
   "version": "3.8.10"
  }
 },
 "nbformat": 4,
 "nbformat_minor": 5
}
