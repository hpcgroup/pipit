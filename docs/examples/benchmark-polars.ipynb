{
 "cells": [
  {
   "cell_type": "code",
   "execution_count": 1,
   "id": "b6d95b53-1fd8-4bb2-8f57-05c7907fd259",
   "metadata": {},
   "outputs": [],
   "source": [
    "%load_ext autoreload\n",
    "%autoreload 2"
   ]
  },
  {
   "cell_type": "code",
   "execution_count": 2,
   "id": "0d10e7c8-6acb-436e-8095-f445dfa503cb",
   "metadata": {},
   "outputs": [],
   "source": [
    "import sys\n",
    "sys.path.append(\"../..\")"
   ]
  },
  {
   "cell_type": "code",
   "execution_count": 3,
   "id": "9dbdea35-4b97-46af-bcf5-de24a08427da",
   "metadata": {},
   "outputs": [],
   "source": [
    "import pipit as pp\n",
    "import pandas as pd\n",
    "import numpy as np\n",
    "import polars as pl"
   ]
  },
  {
   "cell_type": "code",
   "execution_count": 4,
   "id": "c8ba68d7-97c5-4de9-8d60-c23676831ace",
   "metadata": {},
   "outputs": [
    {
     "data": {
      "text/html": [
       "<div>\n",
       "<style scoped>\n",
       "    .dataframe tbody tr th:only-of-type {\n",
       "        vertical-align: middle;\n",
       "    }\n",
       "\n",
       "    .dataframe tbody tr th {\n",
       "        vertical-align: top;\n",
       "    }\n",
       "\n",
       "    .dataframe thead th {\n",
       "        text-align: right;\n",
       "    }\n",
       "</style>\n",
       "<table border=\"1\" class=\"dataframe\">\n",
       "  <thead>\n",
       "    <tr style=\"text-align: right;\">\n",
       "      <th></th>\n",
       "      <th>Timestamp (ns)</th>\n",
       "      <th>Event Type</th>\n",
       "      <th>Name</th>\n",
       "      <th>Thread</th>\n",
       "      <th>Process</th>\n",
       "      <th>Attributes</th>\n",
       "    </tr>\n",
       "  </thead>\n",
       "  <tbody>\n",
       "    <tr>\n",
       "      <th>0</th>\n",
       "      <td>0.000000e+00</td>\n",
       "      <td>Instant</td>\n",
       "      <td>ProgramBegin</td>\n",
       "      <td>0</td>\n",
       "      <td>6</td>\n",
       "      <td>{'attributes': {'Attribute 2': 35468}, 'progra...</td>\n",
       "    </tr>\n",
       "    <tr>\n",
       "      <th>1</th>\n",
       "      <td>4.868378e+01</td>\n",
       "      <td>Instant</td>\n",
       "      <td>ProgramBegin</td>\n",
       "      <td>0</td>\n",
       "      <td>7</td>\n",
       "      <td>{'attributes': {'Attribute 2': 35471}, 'progra...</td>\n",
       "    </tr>\n",
       "    <tr>\n",
       "      <th>2</th>\n",
       "      <td>2.539193e+02</td>\n",
       "      <td>Instant</td>\n",
       "      <td>ProgramBegin</td>\n",
       "      <td>0</td>\n",
       "      <td>5</td>\n",
       "      <td>{'attributes': {'Attribute 2': 35465}, 'progra...</td>\n",
       "    </tr>\n",
       "    <tr>\n",
       "      <th>3</th>\n",
       "      <td>3.035577e+02</td>\n",
       "      <td>Instant</td>\n",
       "      <td>ProgramBegin</td>\n",
       "      <td>0</td>\n",
       "      <td>4</td>\n",
       "      <td>{'attributes': {'Attribute 2': 35462}, 'progra...</td>\n",
       "    </tr>\n",
       "    <tr>\n",
       "      <th>4</th>\n",
       "      <td>4.946367e+04</td>\n",
       "      <td>Instant</td>\n",
       "      <td>ProgramBegin</td>\n",
       "      <td>0</td>\n",
       "      <td>3</td>\n",
       "      <td>{'attributes': {'Attribute 2': 35460}, 'progra...</td>\n",
       "    </tr>\n",
       "    <tr>\n",
       "      <th>...</th>\n",
       "      <td>...</td>\n",
       "      <td>...</td>\n",
       "      <td>...</td>\n",
       "      <td>...</td>\n",
       "      <td>...</td>\n",
       "      <td>...</td>\n",
       "    </tr>\n",
       "    <tr>\n",
       "      <th>95611</th>\n",
       "      <td>1.748975e+09</td>\n",
       "      <td>Instant</td>\n",
       "      <td>MeasurementOnOff</td>\n",
       "      <td>0</td>\n",
       "      <td>4</td>\n",
       "      <td>{'measurement_mode': 'MeasurementMode.OFF'}</td>\n",
       "    </tr>\n",
       "    <tr>\n",
       "      <th>95612</th>\n",
       "      <td>1.749001e+09</td>\n",
       "      <td>Leave</td>\n",
       "      <td>run</td>\n",
       "      <td>0</td>\n",
       "      <td>12</td>\n",
       "      <td>None</td>\n",
       "    </tr>\n",
       "    <tr>\n",
       "      <th>95613</th>\n",
       "      <td>1.749008e+09</td>\n",
       "      <td>Instant</td>\n",
       "      <td>MeasurementOnOff</td>\n",
       "      <td>0</td>\n",
       "      <td>12</td>\n",
       "      <td>{'measurement_mode': 'MeasurementMode.OFF'}</td>\n",
       "    </tr>\n",
       "    <tr>\n",
       "      <th>95614</th>\n",
       "      <td>1.749750e+09</td>\n",
       "      <td>Leave</td>\n",
       "      <td>run</td>\n",
       "      <td>0</td>\n",
       "      <td>0</td>\n",
       "      <td>None</td>\n",
       "    </tr>\n",
       "    <tr>\n",
       "      <th>95615</th>\n",
       "      <td>1.749759e+09</td>\n",
       "      <td>Instant</td>\n",
       "      <td>MeasurementOnOff</td>\n",
       "      <td>0</td>\n",
       "      <td>0</td>\n",
       "      <td>{'measurement_mode': 'MeasurementMode.OFF'}</td>\n",
       "    </tr>\n",
       "  </tbody>\n",
       "</table>\n",
       "<p>95616 rows × 6 columns</p>\n",
       "</div>"
      ],
      "text/plain": [
       "       Timestamp (ns) Event Type              Name Thread Process  \\\n",
       "0        0.000000e+00    Instant      ProgramBegin      0       6   \n",
       "1        4.868378e+01    Instant      ProgramBegin      0       7   \n",
       "2        2.539193e+02    Instant      ProgramBegin      0       5   \n",
       "3        3.035577e+02    Instant      ProgramBegin      0       4   \n",
       "4        4.946367e+04    Instant      ProgramBegin      0       3   \n",
       "...               ...        ...               ...    ...     ...   \n",
       "95611    1.748975e+09    Instant  MeasurementOnOff      0       4   \n",
       "95612    1.749001e+09      Leave               run      0      12   \n",
       "95613    1.749008e+09    Instant  MeasurementOnOff      0      12   \n",
       "95614    1.749750e+09      Leave               run      0       0   \n",
       "95615    1.749759e+09    Instant  MeasurementOnOff      0       0   \n",
       "\n",
       "                                              Attributes  \n",
       "0      {'attributes': {'Attribute 2': 35468}, 'progra...  \n",
       "1      {'attributes': {'Attribute 2': 35471}, 'progra...  \n",
       "2      {'attributes': {'Attribute 2': 35465}, 'progra...  \n",
       "3      {'attributes': {'Attribute 2': 35462}, 'progra...  \n",
       "4      {'attributes': {'Attribute 2': 35460}, 'progra...  \n",
       "...                                                  ...  \n",
       "95611        {'measurement_mode': 'MeasurementMode.OFF'}  \n",
       "95612                                               None  \n",
       "95613        {'measurement_mode': 'MeasurementMode.OFF'}  \n",
       "95614                                               None  \n",
       "95615        {'measurement_mode': 'MeasurementMode.OFF'}  \n",
       "\n",
       "[95616 rows x 6 columns]"
      ]
     },
     "execution_count": 4,
     "metadata": {},
     "output_type": "execute_result"
    }
   ],
   "source": [
    "# avoid the reader for now\n",
    "trace = pp.Trace.from_otf2(\"/home/rakrish/Downloads/tortuga-otf2-16/\")\n",
    "trace.events"
   ]
  },
  {
   "cell_type": "code",
   "execution_count": 5,
   "id": "a6a15bc5-f188-4a33-9216-d3d7c57092f3",
   "metadata": {},
   "outputs": [
    {
     "name": "stdout",
     "output_type": "stream",
     "text": [
      "Column [Thread] cast to int\n",
      "Column [Process] cast to int\n"
     ]
    }
   ],
   "source": [
    "pol_trace = pp.PolarsTrace(trace.events)"
   ]
  },
  {
   "cell_type": "code",
   "execution_count": 23,
   "id": "fe64818e-f245-4335-a8d9-90db43696e18",
   "metadata": {},
   "outputs": [
    {
     "name": "stdout",
     "output_type": "stream",
     "text": [
      "779 µs ± 17.9 µs per loop (mean ± std. dev. of 7 runs, 1,000 loops each)\n"
     ]
    }
   ],
   "source": [
    "%%timeit\n",
    "trace.events[(trace.events[\"Event Type\"] == \"Enter\") & (trace.events[\"Process\"] == 0)];"
   ]
  },
  {
   "cell_type": "code",
   "execution_count": 24,
   "id": "dae217c9-2396-4a97-997a-403f4bf33da1",
   "metadata": {},
   "outputs": [
    {
     "name": "stdout",
     "output_type": "stream",
     "text": [
      "783 µs ± 16 µs per loop (mean ± std. dev. of 7 runs, 1,000 loops each)\n"
     ]
    }
   ],
   "source": [
    "%%timeit\n",
    "pol_trace.events.filter((pl.col(\"Event Type\") == \"Enter\") & (pl.col(\"Process\") == 0));"
   ]
  },
  {
   "cell_type": "code",
   "execution_count": 6,
   "id": "15ee944a-1b59-473e-865f-566a06880762",
   "metadata": {},
   "outputs": [
    {
     "name": "stdout",
     "output_type": "stream",
     "text": [
      "90.2 ms ± 402 µs per loop (mean ± std. dev. of 7 runs, 10 loops each)\n"
     ]
    }
   ],
   "source": [
    "%%timeit\n",
    "trace._match_events()"
   ]
  },
  {
   "cell_type": "code",
   "execution_count": 7,
   "id": "76b96ebf-62df-4d17-aa6e-563d321f5350",
   "metadata": {},
   "outputs": [
    {
     "name": "stdout",
     "output_type": "stream",
     "text": [
      "34 ms ± 378 µs per loop (mean ± std. dev. of 7 runs, 10 loops each)\n"
     ]
    }
   ],
   "source": [
    "%%timeit\n",
    "pol_trace._match_events()"
   ]
  },
  {
   "cell_type": "code",
   "execution_count": 8,
   "id": "cf2c56a7-252d-48cb-82df-2edd99d5799c",
   "metadata": {},
   "outputs": [
    {
     "name": "stdout",
     "output_type": "stream",
     "text": [
      "207 ms ± 6.98 ms per loop (mean ± std. dev. of 7 runs, 10 loops each)\n"
     ]
    }
   ],
   "source": [
    "%%timeit\n",
    "trace._match_caller_callee()"
   ]
  },
  {
   "cell_type": "code",
   "execution_count": 9,
   "id": "379e27d7-3e16-4ce4-887d-9e66a5831da1",
   "metadata": {},
   "outputs": [
    {
     "name": "stdout",
     "output_type": "stream",
     "text": [
      "47.5 ms ± 4.08 ms per loop (mean ± std. dev. of 7 runs, 10 loops each)\n"
     ]
    }
   ],
   "source": [
    "%%timeit\n",
    "pol_trace._match_caller_callee()"
   ]
  },
  {
   "cell_type": "code",
   "execution_count": 10,
   "id": "01d04ad6-f984-4589-a376-de02fefee44e",
   "metadata": {},
   "outputs": [
    {
     "name": "stdout",
     "output_type": "stream",
     "text": [
      "8.17 ms ± 178 µs per loop (mean ± std. dev. of 7 runs, 100 loops each)\n"
     ]
    }
   ],
   "source": [
    "%%timeit\n",
    "trace.calc_inc_metrics()"
   ]
  },
  {
   "cell_type": "code",
   "execution_count": 11,
   "id": "0e3d4853-c60e-451f-831c-33024c532980",
   "metadata": {},
   "outputs": [
    {
     "name": "stdout",
     "output_type": "stream",
     "text": [
      "15.3 ms ± 164 µs per loop (mean ± std. dev. of 7 runs, 100 loops each)\n"
     ]
    }
   ],
   "source": [
    "%%timeit\n",
    "pol_trace.calc_inc_metrics(ignore=True)"
   ]
  },
  {
   "cell_type": "code",
   "execution_count": 12,
   "id": "155a3f17-1928-4c5d-9dbc-95efa5cbd99b",
   "metadata": {},
   "outputs": [],
   "source": [
    "pol_trace.calc_inc_metrics(ignore=False)"
   ]
  },
  {
   "cell_type": "code",
   "execution_count": 13,
   "id": "b7ab076e-b9f8-402b-aaca-5da3aa08049a",
   "metadata": {},
   "outputs": [
    {
     "name": "stdout",
     "output_type": "stream",
     "text": [
      "223 ms ± 1.43 ms per loop (mean ± std. dev. of 7 runs, 1 loop each)\n"
     ]
    }
   ],
   "source": [
    "%%timeit\n",
    "trace.calc_exc_metrics()"
   ]
  },
  {
   "cell_type": "code",
   "execution_count": 14,
   "id": "5367d0c1-3db7-45b7-b9f5-e69fd2aca32b",
   "metadata": {},
   "outputs": [
    {
     "name": "stdout",
     "output_type": "stream",
     "text": [
      "2.86 ms ± 90.6 µs per loop (mean ± std. dev. of 7 runs, 100 loops each)\n"
     ]
    }
   ],
   "source": [
    "%%timeit\n",
    "pol_trace.calc_exc_metrics()"
   ]
  },
  {
   "cell_type": "code",
   "execution_count": 15,
   "id": "d5591f1f-7fcd-404e-b12a-b9ab61c15d42",
   "metadata": {},
   "outputs": [
    {
     "name": "stdout",
     "output_type": "stream",
     "text": [
      "12.6 ms ± 433 µs per loop (mean ± std. dev. of 7 runs, 100 loops each)\n"
     ]
    }
   ],
   "source": [
    "%%timeit\n",
    "trace.comm_matrix();"
   ]
  },
  {
   "cell_type": "code",
   "execution_count": 16,
   "id": "118f969f-3ba4-4587-926b-27c5d5d66595",
   "metadata": {},
   "outputs": [
    {
     "name": "stdout",
     "output_type": "stream",
     "text": [
      "2.76 ms ± 37.5 µs per loop (mean ± std. dev. of 7 runs, 100 loops each)\n"
     ]
    }
   ],
   "source": [
    "%%timeit\n",
    "pol_trace.comm_matrix();"
   ]
  },
  {
   "cell_type": "code",
   "execution_count": 25,
   "id": "5e75efc1-d1db-4a2b-96e0-6b0b5732aace",
   "metadata": {},
   "outputs": [
    {
     "name": "stdout",
     "output_type": "stream",
     "text": [
      "4.98 ms ± 107 µs per loop (mean ± std. dev. of 7 runs, 100 loops each)\n"
     ]
    }
   ],
   "source": [
    "%%timeit\n",
    "trace.message_histogram()"
   ]
  },
  {
   "cell_type": "code",
   "execution_count": 26,
   "id": "542231b5-950f-4cdd-a6c8-b1be753c08e8",
   "metadata": {},
   "outputs": [
    {
     "name": "stdout",
     "output_type": "stream",
     "text": [
      "2.92 ms ± 98.6 µs per loop (mean ± std. dev. of 7 runs, 100 loops each)\n"
     ]
    }
   ],
   "source": [
    "%%timeit\n",
    "pol_trace.message_histogram()"
   ]
  }
 ],
 "metadata": {
  "kernelspec": {
   "display_name": "Python 3 (ipykernel)",
   "language": "python",
   "name": "python3"
  },
  "language_info": {
   "codemirror_mode": {
    "name": "ipython",
    "version": 3
   },
   "file_extension": ".py",
   "mimetype": "text/x-python",
   "name": "python",
   "nbconvert_exporter": "python",
   "pygments_lexer": "ipython3",
   "version": "3.11.6"
  }
 },
 "nbformat": 4,
 "nbformat_minor": 5
}
