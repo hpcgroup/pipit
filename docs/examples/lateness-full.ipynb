{
 "cells": [
  {
   "cell_type": "code",
   "execution_count": 1,
   "id": "f84eac67-d886-41ba-ab54-7ada7fb8a6ce",
   "metadata": {},
   "outputs": [],
   "source": [
    "%load_ext autoreload\n",
    "%autoreload 2\n",
    "\n",
    "import sys\n",
    "sys.path.append(\"../../\")    # modify the path based on your notebook location"
   ]
  },
  {
   "cell_type": "code",
   "execution_count": 5,
   "id": "dfd1ea22-a9e3-4005-9146-50ccfa4ff8d0",
   "metadata": {},
   "outputs": [],
   "source": [
    "import pipit as pp\n",
    "import pandas as pd\n",
    "from pipit.partitions import Event, Partition"
   ]
  },
  {
   "cell_type": "code",
   "execution_count": null,
   "id": "15775d5e-5482-4caa-be17-2870d2f98196",
   "metadata": {},
   "outputs": [],
   "source": [
    "trace = pp.Trace.from_otf2(\"/home/rakrish/trace-data/sw4lite-32/\")\n",
    "trace._match_mpi()"
   ]
  },
  {
   "cell_type": "code",
   "execution_count": null,
   "id": "d8edc95b-ca1e-4b39-b03a-5a995fac5ad4",
   "metadata": {},
   "outputs": [],
   "source": [
    "trace.events"
   ]
  },
  {
   "cell_type": "code",
   "execution_count": null,
   "id": "02e47ace-5f57-430c-aa92-984fa8605a5b",
   "metadata": {},
   "outputs": [],
   "source": [
    "# Create event graph (linked list)\n",
    "\n",
    "# Visualise Event Graph\n",
    "#from graphviz import Digraph\n",
    "\n",
    "# Function to create a DOT representation of linked lists\n",
    "def linked_lists_to_dot(start_event_ids, dict):\n",
    "    dot = Digraph(comment='Process Event Graph')\n",
    "\n",
    "    for i, se in enumerate(start_event_ids):\n",
    "        current_node = dict[se]\n",
    "        while current_node:\n",
    "            dot.node(f\"{current_node.event_id}_{current_node.event_name}\", str(current_node.event_name) + \":\" + str(current_node.event_id))\n",
    "            if current_node.get_next_event():\n",
    "                dot.edge(f\"{current_node.event_id}_{current_node.event_name}\", f\"{current_node.get_next_event().event_id}_{current_node.get_next_event().event_name}\")\n",
    "\n",
    "            if current_node.event_name == 'MpiSend' and current_node.has_matching_event():\n",
    "                dot.edge(f\"{current_node.event_id}_{current_node.event_name}\", f\"{current_node.get_matching_event().event_id}_{current_node.get_matching_event().event_name}\")\n",
    "            current_node = current_node.get_next_event()\n",
    "\n",
    "    return dot\n",
    "\n",
    "# Create a DOT representation\n",
    "#dot_representation = linked_lists_to_dot(start_event_ids, event_dict)\n",
    "#dot_representation.attr(rankdir='LR')  \n",
    "# Display the DOT representation in a Jupyter Notebook (optional)\n",
    "#dot_representation"
   ]
  },
  {
   "cell_type": "code",
   "execution_count": null,
   "id": "7b8b4ab2-cf42-410a-bbd6-427e1542ed5a",
   "metadata": {},
   "outputs": [],
   "source": [
    "# Create partition graph (i.e. merge send-receives and SCC)\n",
    "start_partition_ids, partition_dict = get_partition_graph(trace)\n",
    "print (start_partition_ids)\n",
    "\n",
    "\n",
    "for paritition_id, partition in partition_dict.items():\n",
    "    print (f\"{partition.partition_id} - {partition.event_dict}\")\n"
   ]
  },
  {
   "cell_type": "code",
   "execution_count": null,
   "id": "84382ba1-8eff-40b0-bef8-e2e8c4b44913",
   "metadata": {},
   "outputs": [],
   "source": [
    "# Display initial partition graph (before SCC)\n",
    "\n",
    "from graphviz import Digraph\n",
    "\n",
    "# Function to create a DOT representation of linked lists\n",
    "def visualise(start_ids, partition_dict, dot=None):\n",
    "    visited = []\n",
    "    def visualise_recursive(start_ids, partition_dict, dot):\n",
    "        nonlocal visited\n",
    "        if dot is None:\n",
    "            dot = Digraph(comment='Partition Graph')\n",
    "\n",
    "        for i, sp in enumerate(start_ids):\n",
    "            current_partition = partition_dict[sp]\n",
    "            if current_partition.partition_id in visited:\n",
    "                return dot\n",
    "            dot.node(f\"{current_partition.partition_id}\", str(current_partition.partition_id))\n",
    "            visited.append(current_partition.partition_id)\n",
    "            children_ids = current_partition.get_children()\n",
    "            for child_id in children_ids:\n",
    "                child_partition = partition_dict[child_id]\n",
    "                dot = visualise_recursive([child_id], partition_dict, dot)\n",
    "                dot.edge(f\"{current_partition.partition_id}\", f\"{child_partition.partition_id}\")\n",
    "        return dot\n",
    "    return visualise_recursive(start_ids, partition_dict, dot)\n",
    "\n",
    " # Sample linked lists\n",
    "\n",
    "# Create a DOT representation\n",
    "dot_representation = visualise(start_partition_ids, partition_dict)\n",
    "dot_representation.attr(rankdir='LR')  \n",
    "# Display the DOT representation in a Jupyter Notebook (optional)\n",
    "dot_representation"
   ]
  },
  {
   "cell_type": "code",
   "execution_count": null,
   "id": "875af71c-9279-4cf2-b4b8-9c9391ac3922",
   "metadata": {},
   "outputs": [],
   "source": [
    "# merge SCC\n",
    "\n",
    "components = Partition.tarjan_strongly_connected(partition_dict)\n",
    "print (components)"
   ]
  },
  {
   "cell_type": "code",
   "execution_count": null,
   "id": "3f3cd66f-5dba-4cbd-991a-2db6ca43e834",
   "metadata": {},
   "outputs": [],
   "source": [
    "partition_dict = Partition.merge_strongly_connected_components(partition_dict, components)\n",
    "for sid in start_partition_ids:\n",
    "    if sid not in partition_dict:\n",
    "        print (\"Something is wrong\")"
   ]
  },
  {
   "cell_type": "code",
   "execution_count": null,
   "id": "86d161cc-0765-4aa6-ab17-922a0b8dabad",
   "metadata": {},
   "outputs": [],
   "source": [
    "dot_representation = visualise(start_partition_ids, partition_dict)\n",
    "dot_representation.attr(rankdir='LR') \n",
    "dot_representation"
   ]
  },
  {
   "cell_type": "code",
   "execution_count": null,
   "id": "3bb1cc22-a22e-4b0a-93ea-17628c276159",
   "metadata": {},
   "outputs": [],
   "source": [
    "# Leap partitions\n",
    "def print_leaps(dag):\n",
    "    for i, leap in enumerate(dag.leaps):\n",
    "        if len(leap.partitions_ids) < 1:\n",
    "            continue\n",
    "        print('Leap', i)\n",
    "        print('  ', leap.partitions_ids)"
   ]
  },
  {
   "cell_type": "code",
   "execution_count": null,
   "id": "f68d775b-7a1b-41d5-8a52-b7057850abcd",
   "metadata": {},
   "outputs": [],
   "source": [
    "# Create leaps\n",
    "from pipit.partitions.leap import Partition_DAG, Leap\n",
    "\n",
    "unique_processes = trace.events['Process'].unique()\n",
    "\n",
    "# root_partitions = []\n",
    "# for root_id in start_partition_ids:\n",
    "#     root_partitions.append(partition_dict[root_id])\n",
    "#     print(root_id)\n",
    "#     print(partition_dict[root_id].partition_id)\n",
    "\n",
    "print(\"Creating partition DAG\")\n",
    "\n",
    "dag = Partition_DAG(root_partitions, partition_dict, set(unique_processes))\n",
    "\n",
    "print(\"Creating dag\")\n",
    "\n",
    "dag.create_dag()\n",
    "\n",
    "print(\"calculating distance\") \n",
    "\n",
    "dag.calculate_distance()\n",
    "\n",
    "pring(\"creating leaps\")\n",
    "\n",
    "# dag.create_leaps()\n"
   ]
  },
  {
   "cell_type": "code",
   "execution_count": null,
   "id": "7329f7d5-70a1-44f0-b8d6-1b883d5aa3e0",
   "metadata": {},
   "outputs": [],
   "source": [
    "# Leaps before completion\n",
    "print_leaps(dag)"
   ]
  },
  {
   "cell_type": "code",
   "execution_count": null,
   "id": "94527251-7d6b-485b-b543-d11b9d359cef",
   "metadata": {},
   "outputs": [],
   "source": [
    "# Complete leaps\n",
    "dag.complete_leaps(force_merge=False)"
   ]
  },
  {
   "cell_type": "code",
   "execution_count": null,
   "id": "e8490b57-d4d3-484d-9627-3c6b10ee2d85",
   "metadata": {},
   "outputs": [],
   "source": [
    "# Leaps after completion\n",
    "print_leaps(dag)"
   ]
  },
  {
   "cell_type": "code",
   "execution_count": null,
   "id": "6e690cbf-c8ab-482f-8111-e5bb14739b6b",
   "metadata": {},
   "outputs": [],
   "source": [
    "# Global/local step assignment\n",
    "dag.global_step_assignment()"
   ]
  },
  {
   "cell_type": "code",
   "execution_count": null,
   "id": "0966c0ef-61b1-41d5-bc37-82673e1f777d",
   "metadata": {},
   "outputs": [],
   "source": [
    "dag.calculate_lateness()\n",
    "dag.calculate_differential_lateness()\n",
    "\n",
    "# quick fix for now - this won't be needed once all operations are taken into account\n",
    "df = dag.global_step_df\n",
    "df.loc[df['EventName'] == 'ProgramBegin', 'Lateness'] = 0.0\n",
    "df.loc[df['EventName'] == 'ProgramBegin', 'DiffLateness'] = 0.0\n",
    "\n",
    "display(dag.global_step_df.head(10))"
   ]
  },
  {
   "cell_type": "code",
   "execution_count": null,
   "id": "3c53ec5c-f9e8-4220-9932-17171dcdf551",
   "metadata": {},
   "outputs": [],
   "source": [
    "def lateness_vis(df, coloring_field: str = 'EventName'):\n",
    "    from bokeh.transform import linear_cmap\n",
    "    from bokeh.models import ColumnDataSource, HoverTool\n",
    "    import bokeh\n",
    "    from bokeh.plotting import figure, show, output_notebook\n",
    "    from bokeh.models import ColumnDataSource\n",
    "    from bokeh.transform import factor_cmap, dodge\n",
    "    from bokeh.palettes import Spectral5\n",
    "\n",
    "    output_notebook()\n",
    "\n",
    "    p = figure(title = \"Trace\", sizing_mode=\"stretch_width\", height=200, tools=\"hover\") \n",
    "    source = ColumnDataSource(df)\n",
    "    p.y_range.flipped = True  # Flip the y-axis\n",
    "    # index_cmap = factor_cmap('EventName', \n",
    "    #                          palette=Spectral5, \n",
    "    #                          factors=sorted(df['EventName'].unique()))\n",
    "\n",
    "    \n",
    "    if coloring_field == 'EventName':\n",
    "        index_cmap = factor_cmap('EventName', \n",
    "                                palette=Spectral5, \n",
    "                                factors=sorted(df['EventName'].unique()))\n",
    "\n",
    "    else:\n",
    "        metric = df[coloring_field]\n",
    "        # average = metric.mean()\n",
    "        # std_dev = metric.std()\n",
    "        # high = average\n",
    "        # high = average + (std_dev / 16)\n",
    "        # low = average -  std_dev\n",
    "        # low = max(low, 0)\n",
    "\n",
    "        high = df[coloring_field].max()\n",
    "        low = df[coloring_field].min()\n",
    "        # pallete = bokeh.palettes.cividis(100)\n",
    "        # pallete = bokeh.palettes.Plasma256\n",
    "        # pallete = bokeh.palettes.Turbo256\n",
    "        pallete = bokeh.palettes.RdYlGn11\n",
    "        # pallete = bokeh.palettes.Greys256[::-1]\n",
    "        index_cmap = linear_cmap(coloring_field, low=low, high=high, palette=pallete)\n",
    "        # print('min', df[coloring_field].min())\n",
    "        # print('max', df[coloring_field].max())\n",
    "        # print('low',low)\n",
    "        # print('high',high)\n",
    "\n",
    "    hover = HoverTool(tooltips=[(\"Process\", \"@Process\"), (\"Step\", \"@Step\"), (\"Lateness\", \"@Lateness\")])\n",
    "    p.add_tools(hover)  \n",
    "\n",
    "\n",
    "    p.hbar(source=source,\n",
    "        y=\"Process\",\n",
    "        right=dodge(\"Step\", 1),\n",
    "        left=\"Step\",\n",
    "        height=0.5,\n",
    "        line_color=\"black\",\n",
    "        fill_color=index_cmap)\n",
    "\n",
    "    p.segment(source=source,\n",
    "            y0=\"Process\",\n",
    "            x1=dodge(\"Matching Step\", 0.5),\n",
    "            x0=dodge(\"Step\", 0.5),\n",
    "            y1=\"Matching Process\", \n",
    "            color=\"black\")\n",
    "    p.yaxis.ticker = bokeh.models.FixedTicker(ticks=list(df['Process'].unique()))\n",
    "\n",
    "\n",
    "    show(p) "
   ]
  },
  {
   "cell_type": "code",
   "execution_count": null,
   "id": "0a99462f-0f92-4f92-9e53-d6bdaa1a9863",
   "metadata": {},
   "outputs": [],
   "source": [
    "lateness_vis(df)"
   ]
  },
  {
   "cell_type": "code",
   "execution_count": null,
   "id": "6d4518c4-faa0-4a08-824d-28158336177b",
   "metadata": {},
   "outputs": [],
   "source": [
    "lateness_vis(df, coloring_field='Lateness')"
   ]
  },
  {
   "cell_type": "code",
   "execution_count": null,
   "id": "ad97cccf-71e0-43a7-8f04-98594732d9b5",
   "metadata": {},
   "outputs": [],
   "source": [
    "lateness_vis(df, coloring_field='DiffLateness')"
   ]
  }
 ],
 "metadata": {
  "kernelspec": {
   "display_name": "Python 3 (ipykernel)",
   "language": "python",
   "name": "python3"
  },
  "language_info": {
   "codemirror_mode": {
    "name": "ipython",
    "version": 3
   },
   "file_extension": ".py",
   "mimetype": "text/x-python",
   "name": "python",
   "nbconvert_exporter": "python",
   "pygments_lexer": "ipython3",
   "version": "3.9.19"
  }
 },
 "nbformat": 4,
 "nbformat_minor": 5
}
