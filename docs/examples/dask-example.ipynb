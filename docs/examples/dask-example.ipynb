{
 "cells": [
  {
   "cell_type": "code",
   "execution_count": null,
   "id": "f49ce93e",
   "metadata": {},
   "outputs": [],
   "source": [
    "%load_ext autoreload\n",
    "%autoreload 2"
   ]
  },
  {
   "cell_type": "code",
   "execution_count": null,
   "id": "d35bf24d",
   "metadata": {},
   "outputs": [],
   "source": [
    "import sys\n",
    "sys.path.append(\"../../\")"
   ]
  },
  {
   "cell_type": "code",
   "execution_count": null,
   "id": "18c2db88",
   "metadata": {},
   "outputs": [],
   "source": [
    "from dask.distributed import Client\n",
    "client = Client()\n",
    "client"
   ]
  },
  {
   "cell_type": "code",
   "execution_count": null,
   "id": "b9efe21c",
   "metadata": {},
   "outputs": [],
   "source": [
    "import pipit as pp\n",
    "trace = pp.Trace.from_parquet(\"/home/rakrish/amg_16.parquet/\")"
   ]
  },
  {
   "cell_type": "code",
   "execution_count": null,
   "id": "03d1f9ba",
   "metadata": {},
   "outputs": [],
   "source": [
    "trace.events"
   ]
  },
  {
   "cell_type": "code",
   "execution_count": null,
   "id": "316a5f08",
   "metadata": {},
   "outputs": [],
   "source": [
    "trace.events.visualize()"
   ]
  },
  {
   "cell_type": "code",
   "execution_count": null,
   "id": "98885e0e",
   "metadata": {},
   "outputs": [],
   "source": [
    "trace._match_events()\n",
    "trace.events.visualize()"
   ]
  },
  {
   "cell_type": "code",
   "execution_count": null,
   "id": "f6b7f813",
   "metadata": {},
   "outputs": [],
   "source": [
    "trace._match_caller_callee()\n",
    "trace.events.visualize()"
   ]
  },
  {
   "cell_type": "code",
   "execution_count": null,
   "id": "4ebf9d74",
   "metadata": {},
   "outputs": [],
   "source": [
    "trace.events.compute()"
   ]
  }
 ],
 "metadata": {
  "kernelspec": {
   "display_name": "Python 3 (ipykernel)",
   "language": "python",
   "name": "python3"
  },
  "language_info": {
   "codemirror_mode": {
    "name": "ipython",
    "version": 3
   },
   "file_extension": ".py",
   "mimetype": "text/x-python",
   "name": "python",
   "nbconvert_exporter": "python",
   "pygments_lexer": "ipython3",
   "version": "3.8.10"
  }
 },
 "nbformat": 4,
 "nbformat_minor": 5
}
